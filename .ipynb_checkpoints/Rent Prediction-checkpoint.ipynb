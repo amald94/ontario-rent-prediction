{
 "cells": [
  {
   "cell_type": "markdown",
   "metadata": {},
   "source": [
    "<img src=\"https://i.ibb.co/wShF3QK/toronto-154805.jpg\"/>"
   ]
  },
  {
   "cell_type": "markdown",
   "metadata": {},
   "source": [
    "# Ontario house rent prediction\n",
    "***\n",
    "### Can you suggest house rent in ontario cities to new comers ?\n",
    "\n",
    "**House rent in ontario especially in GTA gets even harder at scale**, considering the new immigrants in ontario, based on their preference lets try to predict prices in different cities.\n",
    "\n",
    "**Kijiji**, Kijiji is an online classified advertising service that operates as a centralized network of online communities, organized by city and urban region, for posting local advertisements. \n",
    "\n",
    "In this project I scraped some datas from kijiji to build a dataset for training my ML model, which will help new comers to get an overall idea about the rent in a city based on their input. lets say if someone wants to move to Mississauga in a private room or shared basis, this model will predict the expected range of rent in the city based on the input.\n",
    "\n",
    "**Recommendation**, City Recommendation will also be developed within this project to give the user some suggestions on cheapest nearby city to look for house rentals. -> Future Work :))\n",
    "\n",
    "\n",
    "### Dataset Features\n",
    "\n",
    "Since the dataset is scraped from kijiji website, I made some features that I think is relevent to this project and I tried to keep it minimal as possible.\n",
    "\n",
    "- **Title**: Title of the advertisement\n",
    "- **Description** : Description of the advertisement\n",
    "- **Features** : Features of the advertisement. ( furnished or not, pet friendly or not etc)\n",
    "- **Location** : Location of the property\n",
    "- **Price** : Rent in CAD\n",
    "- **Ddate Posted** : Posted date of the advertisement\n",
    "- **URL** : advertisement url\n"
   ]
  },
  {
   "cell_type": "markdown",
   "metadata": {},
   "source": [
    "# Import Packages"
   ]
  },
  {
   "cell_type": "code",
   "execution_count": 1,
   "metadata": {},
   "outputs": [],
   "source": [
    "import time\n",
    "import numpy as np\n",
    "import pandas as pd\n",
    "import matplotlib.pyplot as plt\n",
    "import seaborn as sns\n",
    "from scipy.sparse import csr_matrix, hstack\n",
    "from sklearn.feature_extraction.text import CountVectorizer, TfidfVectorizer\n",
    "from sklearn.preprocessing import LabelBinarizer\n",
    "from bs4 import BeautifulSoup\n",
    "import warnings\n",
    "import re\n",
    "warnings.filterwarnings('ignore')\n",
    "%matplotlib inline"
   ]
  },
  {
   "cell_type": "code",
   "execution_count": 2,
   "metadata": {},
   "outputs": [],
   "source": [
    "dataset = pd.read_csv('kijiji.csv')"
   ]
  },
  {
   "cell_type": "code",
   "execution_count": 3,
   "metadata": {},
   "outputs": [
    {
     "name": "stdout",
     "output_type": "stream",
     "text": [
      "<class 'pandas.core.frame.DataFrame'>\n",
      "RangeIndex: 3729 entries, 0 to 3728\n",
      "Data columns (total 7 columns):\n",
      "Title           3728 non-null object\n",
      "Price           3729 non-null object\n",
      "Description     3729 non-null object\n",
      "Location        3728 non-null object\n",
      "Ddate Posted    3688 non-null object\n",
      "Features        3727 non-null object\n",
      "URL             0 non-null float64\n",
      "dtypes: float64(1), object(6)\n",
      "memory usage: 204.0+ KB\n"
     ]
    }
   ],
   "source": [
    "dataset.info()"
   ]
  },
  {
   "cell_type": "code",
   "execution_count": 4,
   "metadata": {},
   "outputs": [
    {
     "data": {
      "text/plain": [
       "Index(['Title', 'Price', 'Description', 'Location', 'Ddate Posted', 'Features',\n",
       "       'URL'],\n",
       "      dtype='object')"
      ]
     },
     "execution_count": 4,
     "metadata": {},
     "output_type": "execute_result"
    }
   ],
   "source": [
    "dataset.columns"
   ]
  },
  {
   "cell_type": "code",
   "execution_count": 5,
   "metadata": {},
   "outputs": [
    {
     "data": {
      "text/html": [
       "<style  type=\"text/css\" >\n",
       "</style>  \n",
       "<table id=\"T_b3147c66_d0f8_11e9_88e9_d85de2a71249\" > \n",
       "<thead>    <tr> \n",
       "        <th class=\"blank level0\" ></th> \n",
       "        <th class=\"col_heading level0 col0\" >Title</th> \n",
       "        <th class=\"col_heading level0 col1\" >Price</th> \n",
       "        <th class=\"col_heading level0 col2\" >Description</th> \n",
       "        <th class=\"col_heading level0 col3\" >Location</th> \n",
       "        <th class=\"col_heading level0 col4\" >Ddate Posted</th> \n",
       "        <th class=\"col_heading level0 col5\" >Features</th> \n",
       "        <th class=\"col_heading level0 col6\" >URL</th> \n",
       "    </tr></thead> \n",
       "<tbody>    <tr> \n",
       "        <th id=\"T_b3147c66_d0f8_11e9_88e9_d85de2a71249level0_row0\" class=\"row_heading level0 row0\" >0</th> \n",
       "        <td id=\"T_b3147c66_d0f8_11e9_88e9_d85de2a71249row0_col0\" class=\"data row0 col0\" >One Bedroom Suites Cherryhill Village  for Rent - 301 Oxford...</td> \n",
       "        <td id=\"T_b3147c66_d0f8_11e9_88e9_d85de2a71249row0_col1\" class=\"data row0 col1\" >$1,145.00</td> \n",
       "        <td id=\"T_b3147c66_d0f8_11e9_88e9_d85de2a71249row0_col2\" class=\"data row0 col2\" >[<div class=\"descriptionContainer-3544745383\"><h3 class=\"title-1536205785\">Description</h3><div><p>Proximate to Western University, dining options, and the mall, with a pool and health club, Cherryhill Village is located at Oxford Street and Platts Lane in the University Heights neighbourhood.</p><p><strong><u>Pets:</u></strong></p><p>Cherryhill Village is 100% pet friendly </p><p><strong><u>Neighbourhood Features:</u></strong></p><ul> <li>Walk Score: 72, walkable </li> <li>Transit Score: 56, public transit nearby</li> <li>Bike: very bikeable</li></ul><p>Inquire today or visit minto.com to learn more.</p><p>*Prices and specifications subject to change without notice. Errors and Omissions excepted.</p><br/><strong>Amenities</strong><br/><ul><li>24 Hour Emergency Service</li><li>Bicycle Storage </li><li>Carpeted floors</li><li>Elevators</li><li>Family Friendly </li><li>Fitness room</li><li>Fridge</li><li>Gardening Plots</li><li>Green Space</li><li>Hot tub</li><li>In-Building Laundry</li><li>Indoor pool</li><li>Laundry facilities</li><li>Near Clinics or Hospitals </li><li>Near Parks and Trails</li><li>Newly Renovated</li><li>Onsite Pharmacy</li><li>Outdoor BBQ Area </li><li>Outdoor Exercise Stations</li><li>Outdoor parking</li><li>Outdoor pool</li><li>Parks nearby</li><li>Pedestrian Friendly</li><li>Pet Friendly </li><li>Picnic Area</li><li>Playground</li><li>Public transit</li><li>Resident Lounge</li><li>Sauna</li><li>Schools nearby</li><li>Security Controlled Access</li><li>Shopping nearby</li><li>Shuffle Board</li><li>Social room</li><li>Storage Space</li><li>Stove</li><li>Tennis Court</li><li>Walk-in Closets (Select Suites)</li><li>Wheelchair access</li><li>Woodworking Shop</li></ul></div></div>]</td> \n",
       "        <td id=\"T_b3147c66_d0f8_11e9_88e9_d85de2a71249row0_col3\" class=\"data row0 col3\" ><span class=\"address-3617944557\" itemprop=\"address\" itemscope=\"\" itemtype=\"http://schema.org/PostalAddress\">301 Oxford St. W, London, ON, N6H 1S6</span></td> \n",
       "        <td id=\"T_b3147c66_d0f8_11e9_88e9_d85de2a71249row0_col4\" class=\"data row0 col4\" ><time datetime=\"2019-09-04T17:54:00.000Z\" title=\"September 4, 2019 5:54 PM\">about 2 hours ago</time></td> \n",
       "        <td id=\"T_b3147c66_d0f8_11e9_88e9_d85de2a71249row0_col5\" class=\"data row0 col5\" >Unit TypeApartment : Bedrooms1 : Bathrooms1 : Pet FriendlyYes : Size (sqft)0 : FurnishedNo : </td> \n",
       "        <td id=\"T_b3147c66_d0f8_11e9_88e9_d85de2a71249row0_col6\" class=\"data row0 col6\" >nan</td> \n",
       "    </tr></tbody> \n",
       "</table> "
      ],
      "text/plain": [
       "<pandas.io.formats.style.Styler at 0x7fc3ee9ae2b0>"
      ]
     },
     "execution_count": 5,
     "metadata": {},
     "output_type": "execute_result"
    }
   ],
   "source": [
    "dataset.head(1).style"
   ]
  },
  {
   "cell_type": "markdown",
   "metadata": {},
   "source": [
    "## Data Cleaning\n",
    "***\n",
    "\n",
    "Since we have a raw data it has to be processed to remove unwanted characters and html tags in each columns. We will be doing that first.\n"
   ]
  },
  {
   "cell_type": "code",
   "execution_count": 6,
   "metadata": {},
   "outputs": [
    {
     "data": {
      "text/html": [
       "<div>\n",
       "<style>\n",
       "    .dataframe thead tr:only-child th {\n",
       "        text-align: right;\n",
       "    }\n",
       "\n",
       "    .dataframe thead th {\n",
       "        text-align: left;\n",
       "    }\n",
       "\n",
       "    .dataframe tbody tr th {\n",
       "        vertical-align: top;\n",
       "    }\n",
       "</style>\n",
       "<table border=\"1\" class=\"dataframe\">\n",
       "  <thead>\n",
       "    <tr style=\"text-align: right;\">\n",
       "      <th></th>\n",
       "      <th>Title</th>\n",
       "      <th>Price</th>\n",
       "      <th>Description</th>\n",
       "      <th>Location</th>\n",
       "      <th>Ddate Posted</th>\n",
       "      <th>Features</th>\n",
       "      <th>URL</th>\n",
       "    </tr>\n",
       "  </thead>\n",
       "  <tbody>\n",
       "    <tr>\n",
       "      <th>0</th>\n",
       "      <td>One Bedroom Suites Cherryhill Village  for Ren...</td>\n",
       "      <td>$1,145.00</td>\n",
       "      <td>[&lt;div class=\"descriptionContainer-3544745383\"&gt;...</td>\n",
       "      <td>&lt;span class=\"address-3617944557\" itemprop=\"add...</td>\n",
       "      <td>&lt;time datetime=\"2019-09-04T17:54:00.000Z\" titl...</td>\n",
       "      <td>Unit TypeApartment : Bedrooms1 : Bathrooms1 : ...</td>\n",
       "      <td>NaN</td>\n",
       "    </tr>\n",
       "    <tr>\n",
       "      <th>1</th>\n",
       "      <td>Upgraded 2 bedroom apartment for rent in Owen ...</td>\n",
       "      <td>$1,625.00</td>\n",
       "      <td>[&lt;div class=\"descriptionContainer-3544745383\"&gt;...</td>\n",
       "      <td>&lt;span class=\"address-3617944557\" itemprop=\"add...</td>\n",
       "      <td>&lt;time datetime=\"2019-08-29T00:09:19.000Z\" titl...</td>\n",
       "      <td>Unit TypeApartment : Bedrooms2 : Bathrooms1 : ...</td>\n",
       "      <td>NaN</td>\n",
       "    </tr>\n",
       "    <tr>\n",
       "      <th>2</th>\n",
       "      <td>Well furnished room in a super clean house in ...</td>\n",
       "      <td>$800.00</td>\n",
       "      <td>[&lt;div class=\"descriptionContainer-3544745383\"&gt;...</td>\n",
       "      <td>&lt;span class=\"address-3617944557\" itemprop=\"add...</td>\n",
       "      <td>&lt;time datetime=\"2019-09-01T19:26:36.000Z\" titl...</td>\n",
       "      <td>Furnished : YesPet Friendly : No</td>\n",
       "      <td>NaN</td>\n",
       "    </tr>\n",
       "    <tr>\n",
       "      <th>3</th>\n",
       "      <td>Cambridge - Secure Outdoor Parking (Vehicles, ...</td>\n",
       "      <td>$55.00</td>\n",
       "      <td>[&lt;div class=\"descriptionContainer-3544745383\"&gt;...</td>\n",
       "      <td>&lt;span class=\"address-3617944557\" itemprop=\"add...</td>\n",
       "      <td>&lt;time datetime=\"2019-09-02T22:55:50.000Z\" titl...</td>\n",
       "      <td>More Info : Parking</td>\n",
       "      <td>NaN</td>\n",
       "    </tr>\n",
       "    <tr>\n",
       "      <th>4</th>\n",
       "      <td>MAIN FLOOR 1 BEDROOM APT IN AN 11 PLEX</td>\n",
       "      <td>$850.00</td>\n",
       "      <td>[&lt;div class=\"descriptionContainer-3544745383\"&gt;...</td>\n",
       "      <td>&lt;span class=\"address-3617944557\" itemprop=\"add...</td>\n",
       "      <td>&lt;time datetime=\"2019-09-01T00:55:07.000Z\" titl...</td>\n",
       "      <td>Unit TypeApartment : Bedrooms1 : Bathrooms1 : ...</td>\n",
       "      <td>NaN</td>\n",
       "    </tr>\n",
       "  </tbody>\n",
       "</table>\n",
       "</div>"
      ],
      "text/plain": [
       "                                               Title      Price  \\\n",
       "0  One Bedroom Suites Cherryhill Village  for Ren...  $1,145.00   \n",
       "1  Upgraded 2 bedroom apartment for rent in Owen ...  $1,625.00   \n",
       "2  Well furnished room in a super clean house in ...    $800.00   \n",
       "3  Cambridge - Secure Outdoor Parking (Vehicles, ...     $55.00   \n",
       "4             MAIN FLOOR 1 BEDROOM APT IN AN 11 PLEX    $850.00   \n",
       "\n",
       "                                         Description  \\\n",
       "0  [<div class=\"descriptionContainer-3544745383\">...   \n",
       "1  [<div class=\"descriptionContainer-3544745383\">...   \n",
       "2  [<div class=\"descriptionContainer-3544745383\">...   \n",
       "3  [<div class=\"descriptionContainer-3544745383\">...   \n",
       "4  [<div class=\"descriptionContainer-3544745383\">...   \n",
       "\n",
       "                                            Location  \\\n",
       "0  <span class=\"address-3617944557\" itemprop=\"add...   \n",
       "1  <span class=\"address-3617944557\" itemprop=\"add...   \n",
       "2  <span class=\"address-3617944557\" itemprop=\"add...   \n",
       "3  <span class=\"address-3617944557\" itemprop=\"add...   \n",
       "4  <span class=\"address-3617944557\" itemprop=\"add...   \n",
       "\n",
       "                                        Ddate Posted  \\\n",
       "0  <time datetime=\"2019-09-04T17:54:00.000Z\" titl...   \n",
       "1  <time datetime=\"2019-08-29T00:09:19.000Z\" titl...   \n",
       "2  <time datetime=\"2019-09-01T19:26:36.000Z\" titl...   \n",
       "3  <time datetime=\"2019-09-02T22:55:50.000Z\" titl...   \n",
       "4  <time datetime=\"2019-09-01T00:55:07.000Z\" titl...   \n",
       "\n",
       "                                            Features  URL  \n",
       "0  Unit TypeApartment : Bedrooms1 : Bathrooms1 : ...  NaN  \n",
       "1  Unit TypeApartment : Bedrooms2 : Bathrooms1 : ...  NaN  \n",
       "2                   Furnished : YesPet Friendly : No  NaN  \n",
       "3                                More Info : Parking  NaN  \n",
       "4  Unit TypeApartment : Bedrooms1 : Bathrooms1 : ...  NaN  "
      ]
     },
     "execution_count": 6,
     "metadata": {},
     "output_type": "execute_result"
    }
   ],
   "source": [
    "dataset.head()"
   ]
  },
  {
   "cell_type": "code",
   "execution_count": 7,
   "metadata": {},
   "outputs": [
    {
     "data": {
      "text/plain": [
       "Title              1\n",
       "Price              0\n",
       "Description        0\n",
       "Location           1\n",
       "Ddate Posted      41\n",
       "Features           2\n",
       "URL             3729\n",
       "dtype: int64"
      ]
     },
     "execution_count": 7,
     "metadata": {},
     "output_type": "execute_result"
    }
   ],
   "source": [
    "#let's check missing values in the dataset\n",
    "dataset.isnull().sum()"
   ]
  },
  {
   "cell_type": "markdown",
   "metadata": {},
   "source": [
    "### Price column"
   ]
  },
  {
   "cell_type": "code",
   "execution_count": 8,
   "metadata": {},
   "outputs": [],
   "source": [
    "#lets remove $ symbol from the price column\n",
    "# for any advertisement with \" please contact \" we will be replacing it with 0\n",
    "\n",
    "def fixPriceColumn(price):\n",
    "    try:\n",
    "        rent = re.sub('[^0-9.]+', '', price)\n",
    "        return(int(float(rent)))\n",
    "    except:\n",
    "        return 0"
   ]
  },
  {
   "cell_type": "code",
   "execution_count": 9,
   "metadata": {},
   "outputs": [],
   "source": [
    "dataset['Price'] = dataset['Price'].apply(fixPriceColumn)"
   ]
  },
  {
   "cell_type": "code",
   "execution_count": 10,
   "metadata": {},
   "outputs": [
    {
     "data": {
      "text/plain": [
       "(410, 7)"
      ]
     },
     "execution_count": 10,
     "metadata": {},
     "output_type": "execute_result"
    }
   ],
   "source": [
    "dataset[dataset['Price'] == 0].shape"
   ]
  },
  {
   "cell_type": "code",
   "execution_count": 11,
   "metadata": {},
   "outputs": [
    {
     "data": {
      "text/plain": [
       "(3319, 7)"
      ]
     },
     "execution_count": 11,
     "metadata": {},
     "output_type": "execute_result"
    }
   ],
   "source": [
    "# We have 410 items with rent of $0 out of 4000 advertisements. Let's take them out. \n",
    "dataset = dataset[dataset['Price'] != 0]\n",
    "dataset.shape"
   ]
  },
  {
   "cell_type": "markdown",
   "metadata": {},
   "source": [
    "### Description column"
   ]
  },
  {
   "cell_type": "markdown",
   "metadata": {},
   "source": [
    "We have 3 kinds of list descriptions <br>\n",
    "<pre>1.One with seperate list of Amenities as an unordered list.</pre> \n",
    "<pre>2.One with description in a Paragraph tag</pre> \n",
    "<pre>3.One with desciption within the div tag</pre>\n",
    "We will have to consider these while extracting the text data from the html tags.<br>\n",
    "We will be using BeautifulSoup library to make it easy.<br>"
   ]
  },
  {
   "cell_type": "code",
   "execution_count": 12,
   "metadata": {},
   "outputs": [],
   "source": [
    "# a function to get the data from html tags\n",
    "def cleanDescription(description):\n",
    "    soup = BeautifulSoup(description, \"html.parser\")\n",
    "    desc = []\n",
    "    try:\n",
    "        if len([link.get_text() for link in soup.select(\"ul > li\")]) != 0:\n",
    "            desc += [link.get_text() for link in soup.select(\"div > p\")]\n",
    "            desc += [link.get_text() for link in soup.select(\"ul > li\")]\n",
    "            return removeSymbols(str(desc))\n",
    "        elif len([link.get_text() for link in soup.select(\"div > p\")]) != 0:\n",
    "            desc += [link.get_text() for link in soup.select(\"div > p\")]\n",
    "            return removeSymbols(str(desc))\n",
    "        else:\n",
    "            desc += [link.get_text() for link in soup.select(\"div\")]\n",
    "            #in this case we have to remove Description heading from the final text\n",
    "            return removeSymbols(str(desc)[13:])\n",
    "    except:\n",
    "        return removeSymbols(str(desc))"
   ]
  },
  {
   "cell_type": "code",
   "execution_count": 13,
   "metadata": {},
   "outputs": [],
   "source": [
    "def removeSymbols(text):\n",
    "    return re.sub('[^A-Za-z0-9]+', ' ', text)"
   ]
  },
  {
   "cell_type": "code",
   "execution_count": 14,
   "metadata": {},
   "outputs": [],
   "source": [
    "dataset['Description'] = dataset['Description'].apply(cleanDescription)"
   ]
  },
  {
   "cell_type": "code",
   "execution_count": 15,
   "metadata": {},
   "outputs": [
    {
     "data": {
      "text/html": [
       "<div>\n",
       "<style>\n",
       "    .dataframe thead tr:only-child th {\n",
       "        text-align: right;\n",
       "    }\n",
       "\n",
       "    .dataframe thead th {\n",
       "        text-align: left;\n",
       "    }\n",
       "\n",
       "    .dataframe tbody tr th {\n",
       "        vertical-align: top;\n",
       "    }\n",
       "</style>\n",
       "<table border=\"1\" class=\"dataframe\">\n",
       "  <thead>\n",
       "    <tr style=\"text-align: right;\">\n",
       "      <th></th>\n",
       "      <th>Title</th>\n",
       "      <th>Price</th>\n",
       "      <th>Description</th>\n",
       "      <th>Location</th>\n",
       "      <th>Ddate Posted</th>\n",
       "      <th>Features</th>\n",
       "      <th>URL</th>\n",
       "    </tr>\n",
       "  </thead>\n",
       "  <tbody>\n",
       "    <tr>\n",
       "      <th>0</th>\n",
       "      <td>One Bedroom Suites Cherryhill Village  for Ren...</td>\n",
       "      <td>1145</td>\n",
       "      <td>Proximate to Western University dining option...</td>\n",
       "      <td>&lt;span class=\"address-3617944557\" itemprop=\"add...</td>\n",
       "      <td>&lt;time datetime=\"2019-09-04T17:54:00.000Z\" titl...</td>\n",
       "      <td>Unit TypeApartment : Bedrooms1 : Bathrooms1 : ...</td>\n",
       "      <td>NaN</td>\n",
       "    </tr>\n",
       "    <tr>\n",
       "      <th>1</th>\n",
       "      <td>Upgraded 2 bedroom apartment for rent in Owen ...</td>\n",
       "      <td>1625</td>\n",
       "      <td>Fantastic 2 bedroom apartment GREAT VALUE Uti...</td>\n",
       "      <td>&lt;span class=\"address-3617944557\" itemprop=\"add...</td>\n",
       "      <td>&lt;time datetime=\"2019-08-29T00:09:19.000Z\" titl...</td>\n",
       "      <td>Unit TypeApartment : Bedrooms2 : Bathrooms1 : ...</td>\n",
       "      <td>NaN</td>\n",
       "    </tr>\n",
       "    <tr>\n",
       "      <th>2</th>\n",
       "      <td>Well furnished room in a super clean house in ...</td>\n",
       "      <td>800</td>\n",
       "      <td>I have one bed room available in my house not...</td>\n",
       "      <td>&lt;span class=\"address-3617944557\" itemprop=\"add...</td>\n",
       "      <td>&lt;time datetime=\"2019-09-01T19:26:36.000Z\" titl...</td>\n",
       "      <td>Furnished : YesPet Friendly : No</td>\n",
       "      <td>NaN</td>\n",
       "    </tr>\n",
       "    <tr>\n",
       "      <th>3</th>\n",
       "      <td>Cambridge - Secure Outdoor Parking (Vehicles, ...</td>\n",
       "      <td>55</td>\n",
       "      <td>Canam Self Storage has a secure state of the ...</td>\n",
       "      <td>&lt;span class=\"address-3617944557\" itemprop=\"add...</td>\n",
       "      <td>&lt;time datetime=\"2019-09-02T22:55:50.000Z\" titl...</td>\n",
       "      <td>More Info : Parking</td>\n",
       "      <td>NaN</td>\n",
       "    </tr>\n",
       "    <tr>\n",
       "      <th>4</th>\n",
       "      <td>MAIN FLOOR 1 BEDROOM APT IN AN 11 PLEX</td>\n",
       "      <td>850</td>\n",
       "      <td>Available for Oct 1st is a 1 bedroom apt in a...</td>\n",
       "      <td>&lt;span class=\"address-3617944557\" itemprop=\"add...</td>\n",
       "      <td>&lt;time datetime=\"2019-09-01T00:55:07.000Z\" titl...</td>\n",
       "      <td>Unit TypeApartment : Bedrooms1 : Bathrooms1 : ...</td>\n",
       "      <td>NaN</td>\n",
       "    </tr>\n",
       "  </tbody>\n",
       "</table>\n",
       "</div>"
      ],
      "text/plain": [
       "                                               Title  Price  \\\n",
       "0  One Bedroom Suites Cherryhill Village  for Ren...   1145   \n",
       "1  Upgraded 2 bedroom apartment for rent in Owen ...   1625   \n",
       "2  Well furnished room in a super clean house in ...    800   \n",
       "3  Cambridge - Secure Outdoor Parking (Vehicles, ...     55   \n",
       "4             MAIN FLOOR 1 BEDROOM APT IN AN 11 PLEX    850   \n",
       "\n",
       "                                         Description  \\\n",
       "0   Proximate to Western University dining option...   \n",
       "1   Fantastic 2 bedroom apartment GREAT VALUE Uti...   \n",
       "2   I have one bed room available in my house not...   \n",
       "3   Canam Self Storage has a secure state of the ...   \n",
       "4   Available for Oct 1st is a 1 bedroom apt in a...   \n",
       "\n",
       "                                            Location  \\\n",
       "0  <span class=\"address-3617944557\" itemprop=\"add...   \n",
       "1  <span class=\"address-3617944557\" itemprop=\"add...   \n",
       "2  <span class=\"address-3617944557\" itemprop=\"add...   \n",
       "3  <span class=\"address-3617944557\" itemprop=\"add...   \n",
       "4  <span class=\"address-3617944557\" itemprop=\"add...   \n",
       "\n",
       "                                        Ddate Posted  \\\n",
       "0  <time datetime=\"2019-09-04T17:54:00.000Z\" titl...   \n",
       "1  <time datetime=\"2019-08-29T00:09:19.000Z\" titl...   \n",
       "2  <time datetime=\"2019-09-01T19:26:36.000Z\" titl...   \n",
       "3  <time datetime=\"2019-09-02T22:55:50.000Z\" titl...   \n",
       "4  <time datetime=\"2019-09-01T00:55:07.000Z\" titl...   \n",
       "\n",
       "                                            Features  URL  \n",
       "0  Unit TypeApartment : Bedrooms1 : Bathrooms1 : ...  NaN  \n",
       "1  Unit TypeApartment : Bedrooms2 : Bathrooms1 : ...  NaN  \n",
       "2                   Furnished : YesPet Friendly : No  NaN  \n",
       "3                                More Info : Parking  NaN  \n",
       "4  Unit TypeApartment : Bedrooms1 : Bathrooms1 : ...  NaN  "
      ]
     },
     "execution_count": 15,
     "metadata": {},
     "output_type": "execute_result"
    }
   ],
   "source": [
    "dataset.head()"
   ]
  },
  {
   "cell_type": "code",
   "execution_count": 16,
   "metadata": {},
   "outputs": [
    {
     "data": {
      "text/html": [
       "<div>\n",
       "<style>\n",
       "    .dataframe thead tr:only-child th {\n",
       "        text-align: right;\n",
       "    }\n",
       "\n",
       "    .dataframe thead th {\n",
       "        text-align: left;\n",
       "    }\n",
       "\n",
       "    .dataframe tbody tr th {\n",
       "        vertical-align: top;\n",
       "    }\n",
       "</style>\n",
       "<table border=\"1\" class=\"dataframe\">\n",
       "  <thead>\n",
       "    <tr style=\"text-align: right;\">\n",
       "      <th></th>\n",
       "      <th>Title</th>\n",
       "      <th>Price</th>\n",
       "      <th>Description</th>\n",
       "      <th>Location</th>\n",
       "      <th>Ddate Posted</th>\n",
       "      <th>Features</th>\n",
       "      <th>URL</th>\n",
       "    </tr>\n",
       "  </thead>\n",
       "  <tbody>\n",
       "  </tbody>\n",
       "</table>\n",
       "</div>"
      ],
      "text/plain": [
       "Empty DataFrame\n",
       "Columns: [Title, Price, Description, Location, Ddate Posted, Features, URL]\n",
       "Index: []"
      ]
     },
     "execution_count": 16,
     "metadata": {},
     "output_type": "execute_result"
    }
   ],
   "source": [
    "#let's check if we have any empty descriptions\n",
    "dataset[dataset['Description'].str.split(\" \").str.len() == 0]"
   ]
  },
  {
   "cell_type": "markdown",
   "metadata": {},
   "source": [
    "### Location column"
   ]
  },
  {
   "cell_type": "code",
   "execution_count": 17,
   "metadata": {},
   "outputs": [
    {
     "data": {
      "text/plain": [
       "'<span class=\"address-3617944557\" itemprop=\"address\" itemscope=\"\" itemtype=\"http://schema.org/PostalAddress\">301 Oxford St. W, London, ON, N6H 1S6</span>'"
      ]
     },
     "execution_count": 17,
     "metadata": {},
     "output_type": "execute_result"
    }
   ],
   "source": [
    "# the data we have, we have to extract address and postal code from this\n",
    "dataset['Location'][0]"
   ]
  },
  {
   "cell_type": "code",
   "execution_count": 18,
   "metadata": {},
   "outputs": [],
   "source": [
    "def getAddress(address):\n",
    "    soup = BeautifulSoup(address, \"html.parser\")\n",
    "    add = \"\"\n",
    "    postal = \"\"\n",
    "    regex = '[A^a-zA-Z]{1}[0-9]{1}[A^a-zA-Z]{1}[0-9]{1}[A^a-zA-Z]{1}[0-9]{1}'\n",
    "    try:\n",
    "        givenAddress = str([link.get_text() for link in soup.select(\"span\")])\n",
    "        givenAddress = removeSymbols(givenAddress)\n",
    "        postalAddress = givenAddress.replace(\" \",\"\")\n",
    "        postal = re.search(regex,postalAddress)\n",
    "        return givenAddress,postal.group(0)\n",
    "    except:\n",
    "        return givenAddress,postal"
   ]
  },
  {
   "cell_type": "code",
   "execution_count": 19,
   "metadata": {},
   "outputs": [],
   "source": [
    "dataset['Location'],dataset['Postal Code'] = zip(*dataset['Location'].apply(getAddress))"
   ]
  },
  {
   "cell_type": "code",
   "execution_count": 20,
   "metadata": {},
   "outputs": [
    {
     "data": {
      "text/html": [
       "<div>\n",
       "<style>\n",
       "    .dataframe thead tr:only-child th {\n",
       "        text-align: right;\n",
       "    }\n",
       "\n",
       "    .dataframe thead th {\n",
       "        text-align: left;\n",
       "    }\n",
       "\n",
       "    .dataframe tbody tr th {\n",
       "        vertical-align: top;\n",
       "    }\n",
       "</style>\n",
       "<table border=\"1\" class=\"dataframe\">\n",
       "  <thead>\n",
       "    <tr style=\"text-align: right;\">\n",
       "      <th></th>\n",
       "      <th>Title</th>\n",
       "      <th>Price</th>\n",
       "      <th>Description</th>\n",
       "      <th>Location</th>\n",
       "      <th>Ddate Posted</th>\n",
       "      <th>Features</th>\n",
       "      <th>URL</th>\n",
       "      <th>Postal Code</th>\n",
       "    </tr>\n",
       "  </thead>\n",
       "  <tbody>\n",
       "    <tr>\n",
       "      <th>0</th>\n",
       "      <td>One Bedroom Suites Cherryhill Village  for Ren...</td>\n",
       "      <td>1145</td>\n",
       "      <td>Proximate to Western University dining option...</td>\n",
       "      <td>301 Oxford St W London ON N6H 1S6</td>\n",
       "      <td>&lt;time datetime=\"2019-09-04T17:54:00.000Z\" titl...</td>\n",
       "      <td>Unit TypeApartment : Bedrooms1 : Bathrooms1 : ...</td>\n",
       "      <td>NaN</td>\n",
       "      <td>N6H1S6</td>\n",
       "    </tr>\n",
       "    <tr>\n",
       "      <th>1</th>\n",
       "      <td>Upgraded 2 bedroom apartment for rent in Owen ...</td>\n",
       "      <td>1625</td>\n",
       "      <td>Fantastic 2 bedroom apartment GREAT VALUE Uti...</td>\n",
       "      <td>755 Tenth Street West Owen Sound ON N4K 6J7</td>\n",
       "      <td>&lt;time datetime=\"2019-08-29T00:09:19.000Z\" titl...</td>\n",
       "      <td>Unit TypeApartment : Bedrooms2 : Bathrooms1 : ...</td>\n",
       "      <td>NaN</td>\n",
       "      <td>N4K6J7</td>\n",
       "    </tr>\n",
       "    <tr>\n",
       "      <th>2</th>\n",
       "      <td>Well furnished room in a super clean house in ...</td>\n",
       "      <td>800</td>\n",
       "      <td>I have one bed room available in my house not...</td>\n",
       "      <td>31 Portstewart Crescent Brampton ON L6X 0R6 C...</td>\n",
       "      <td>&lt;time datetime=\"2019-09-01T19:26:36.000Z\" titl...</td>\n",
       "      <td>Furnished : YesPet Friendly : No</td>\n",
       "      <td>NaN</td>\n",
       "      <td>L6X0R6</td>\n",
       "    </tr>\n",
       "    <tr>\n",
       "      <th>3</th>\n",
       "      <td>Cambridge - Secure Outdoor Parking (Vehicles, ...</td>\n",
       "      <td>55</td>\n",
       "      <td>Canam Self Storage has a secure state of the ...</td>\n",
       "      <td>111 Savage Dr Cambridge ON N1T 1S5 Canada</td>\n",
       "      <td>&lt;time datetime=\"2019-09-02T22:55:50.000Z\" titl...</td>\n",
       "      <td>More Info : Parking</td>\n",
       "      <td>NaN</td>\n",
       "      <td>N1T1S5</td>\n",
       "    </tr>\n",
       "    <tr>\n",
       "      <th>4</th>\n",
       "      <td>MAIN FLOOR 1 BEDROOM APT IN AN 11 PLEX</td>\n",
       "      <td>850</td>\n",
       "      <td>Available for Oct 1st is a 1 bedroom apt in a...</td>\n",
       "      <td>507 St Raphael st Sudbury P3G1M3 ON</td>\n",
       "      <td>&lt;time datetime=\"2019-09-01T00:55:07.000Z\" titl...</td>\n",
       "      <td>Unit TypeApartment : Bedrooms1 : Bathrooms1 : ...</td>\n",
       "      <td>NaN</td>\n",
       "      <td>P3G1M3</td>\n",
       "    </tr>\n",
       "  </tbody>\n",
       "</table>\n",
       "</div>"
      ],
      "text/plain": [
       "                                               Title  Price  \\\n",
       "0  One Bedroom Suites Cherryhill Village  for Ren...   1145   \n",
       "1  Upgraded 2 bedroom apartment for rent in Owen ...   1625   \n",
       "2  Well furnished room in a super clean house in ...    800   \n",
       "3  Cambridge - Secure Outdoor Parking (Vehicles, ...     55   \n",
       "4             MAIN FLOOR 1 BEDROOM APT IN AN 11 PLEX    850   \n",
       "\n",
       "                                         Description  \\\n",
       "0   Proximate to Western University dining option...   \n",
       "1   Fantastic 2 bedroom apartment GREAT VALUE Uti...   \n",
       "2   I have one bed room available in my house not...   \n",
       "3   Canam Self Storage has a secure state of the ...   \n",
       "4   Available for Oct 1st is a 1 bedroom apt in a...   \n",
       "\n",
       "                                            Location  \\\n",
       "0                 301 Oxford St W London ON N6H 1S6    \n",
       "1       755 Tenth Street West Owen Sound ON N4K 6J7    \n",
       "2   31 Portstewart Crescent Brampton ON L6X 0R6 C...   \n",
       "3         111 Savage Dr Cambridge ON N1T 1S5 Canada    \n",
       "4               507 St Raphael st Sudbury P3G1M3 ON    \n",
       "\n",
       "                                        Ddate Posted  \\\n",
       "0  <time datetime=\"2019-09-04T17:54:00.000Z\" titl...   \n",
       "1  <time datetime=\"2019-08-29T00:09:19.000Z\" titl...   \n",
       "2  <time datetime=\"2019-09-01T19:26:36.000Z\" titl...   \n",
       "3  <time datetime=\"2019-09-02T22:55:50.000Z\" titl...   \n",
       "4  <time datetime=\"2019-09-01T00:55:07.000Z\" titl...   \n",
       "\n",
       "                                            Features  URL Postal Code  \n",
       "0  Unit TypeApartment : Bedrooms1 : Bathrooms1 : ...  NaN      N6H1S6  \n",
       "1  Unit TypeApartment : Bedrooms2 : Bathrooms1 : ...  NaN      N4K6J7  \n",
       "2                   Furnished : YesPet Friendly : No  NaN      L6X0R6  \n",
       "3                                More Info : Parking  NaN      N1T1S5  \n",
       "4  Unit TypeApartment : Bedrooms1 : Bathrooms1 : ...  NaN      P3G1M3  "
      ]
     },
     "execution_count": 20,
     "metadata": {},
     "output_type": "execute_result"
    }
   ],
   "source": [
    "dataset.head()"
   ]
  },
  {
   "cell_type": "markdown",
   "metadata": {},
   "source": [
    "### Date Posted Column"
   ]
  },
  {
   "cell_type": "code",
   "execution_count": 21,
   "metadata": {},
   "outputs": [],
   "source": [
    "## we have arround 30 missing values in date posted column due to some exception while scraping\n",
    "## we will be filling those values with the date I scraped the site. I.e Sep 4 2019\n",
    "dataset['Ddate Posted'].fillna(value = '2019-09-04', inplace=True)"
   ]
  },
  {
   "cell_type": "code",
   "execution_count": 22,
   "metadata": {},
   "outputs": [
    {
     "data": {
      "text/plain": [
       "'<time datetime=\"2019-08-19T15:27:44.000Z\" title=\"August 19, 2019 3:27 PM\">16 days ago</time>'"
      ]
     },
     "execution_count": 22,
     "metadata": {},
     "output_type": "execute_result"
    }
   ],
   "source": [
    "dataset['Ddate Posted'][550]"
   ]
  },
  {
   "cell_type": "code",
   "execution_count": 23,
   "metadata": {},
   "outputs": [],
   "source": [
    "def getDate(datePosted):\n",
    "    try:\n",
    "        date = str(datePosted[16:26])\n",
    "        return date\n",
    "    except:\n",
    "        print(datePosted)"
   ]
  },
  {
   "cell_type": "code",
   "execution_count": 25,
   "metadata": {},
   "outputs": [],
   "source": [
    "dataset['Date Posted'] = dataset['Ddate Posted'].apply(getDate)\n",
    "dataset.drop('Ddate Posted',inplace=True,axis=1)"
   ]
  },
  {
   "cell_type": "code",
   "execution_count": 26,
   "metadata": {},
   "outputs": [
    {
     "data": {
      "text/html": [
       "<div>\n",
       "<style>\n",
       "    .dataframe thead tr:only-child th {\n",
       "        text-align: right;\n",
       "    }\n",
       "\n",
       "    .dataframe thead th {\n",
       "        text-align: left;\n",
       "    }\n",
       "\n",
       "    .dataframe tbody tr th {\n",
       "        vertical-align: top;\n",
       "    }\n",
       "</style>\n",
       "<table border=\"1\" class=\"dataframe\">\n",
       "  <thead>\n",
       "    <tr style=\"text-align: right;\">\n",
       "      <th></th>\n",
       "      <th>Title</th>\n",
       "      <th>Price</th>\n",
       "      <th>Description</th>\n",
       "      <th>Location</th>\n",
       "      <th>Features</th>\n",
       "      <th>URL</th>\n",
       "      <th>Postal Code</th>\n",
       "      <th>Date Posted</th>\n",
       "    </tr>\n",
       "  </thead>\n",
       "  <tbody>\n",
       "    <tr>\n",
       "      <th>0</th>\n",
       "      <td>One Bedroom Suites Cherryhill Village  for Ren...</td>\n",
       "      <td>1145</td>\n",
       "      <td>Proximate to Western University dining option...</td>\n",
       "      <td>301 Oxford St W London ON N6H 1S6</td>\n",
       "      <td>Unit TypeApartment : Bedrooms1 : Bathrooms1 : ...</td>\n",
       "      <td>NaN</td>\n",
       "      <td>N6H1S6</td>\n",
       "      <td>2019-09-04</td>\n",
       "    </tr>\n",
       "    <tr>\n",
       "      <th>1</th>\n",
       "      <td>Upgraded 2 bedroom apartment for rent in Owen ...</td>\n",
       "      <td>1625</td>\n",
       "      <td>Fantastic 2 bedroom apartment GREAT VALUE Uti...</td>\n",
       "      <td>755 Tenth Street West Owen Sound ON N4K 6J7</td>\n",
       "      <td>Unit TypeApartment : Bedrooms2 : Bathrooms1 : ...</td>\n",
       "      <td>NaN</td>\n",
       "      <td>N4K6J7</td>\n",
       "      <td>2019-08-29</td>\n",
       "    </tr>\n",
       "    <tr>\n",
       "      <th>2</th>\n",
       "      <td>Well furnished room in a super clean house in ...</td>\n",
       "      <td>800</td>\n",
       "      <td>I have one bed room available in my house not...</td>\n",
       "      <td>31 Portstewart Crescent Brampton ON L6X 0R6 C...</td>\n",
       "      <td>Furnished : YesPet Friendly : No</td>\n",
       "      <td>NaN</td>\n",
       "      <td>L6X0R6</td>\n",
       "      <td>2019-09-01</td>\n",
       "    </tr>\n",
       "    <tr>\n",
       "      <th>3</th>\n",
       "      <td>Cambridge - Secure Outdoor Parking (Vehicles, ...</td>\n",
       "      <td>55</td>\n",
       "      <td>Canam Self Storage has a secure state of the ...</td>\n",
       "      <td>111 Savage Dr Cambridge ON N1T 1S5 Canada</td>\n",
       "      <td>More Info : Parking</td>\n",
       "      <td>NaN</td>\n",
       "      <td>N1T1S5</td>\n",
       "      <td>2019-09-02</td>\n",
       "    </tr>\n",
       "    <tr>\n",
       "      <th>4</th>\n",
       "      <td>MAIN FLOOR 1 BEDROOM APT IN AN 11 PLEX</td>\n",
       "      <td>850</td>\n",
       "      <td>Available for Oct 1st is a 1 bedroom apt in a...</td>\n",
       "      <td>507 St Raphael st Sudbury P3G1M3 ON</td>\n",
       "      <td>Unit TypeApartment : Bedrooms1 : Bathrooms1 : ...</td>\n",
       "      <td>NaN</td>\n",
       "      <td>P3G1M3</td>\n",
       "      <td>2019-09-01</td>\n",
       "    </tr>\n",
       "  </tbody>\n",
       "</table>\n",
       "</div>"
      ],
      "text/plain": [
       "                                               Title  Price  \\\n",
       "0  One Bedroom Suites Cherryhill Village  for Ren...   1145   \n",
       "1  Upgraded 2 bedroom apartment for rent in Owen ...   1625   \n",
       "2  Well furnished room in a super clean house in ...    800   \n",
       "3  Cambridge - Secure Outdoor Parking (Vehicles, ...     55   \n",
       "4             MAIN FLOOR 1 BEDROOM APT IN AN 11 PLEX    850   \n",
       "\n",
       "                                         Description  \\\n",
       "0   Proximate to Western University dining option...   \n",
       "1   Fantastic 2 bedroom apartment GREAT VALUE Uti...   \n",
       "2   I have one bed room available in my house not...   \n",
       "3   Canam Self Storage has a secure state of the ...   \n",
       "4   Available for Oct 1st is a 1 bedroom apt in a...   \n",
       "\n",
       "                                            Location  \\\n",
       "0                 301 Oxford St W London ON N6H 1S6    \n",
       "1       755 Tenth Street West Owen Sound ON N4K 6J7    \n",
       "2   31 Portstewart Crescent Brampton ON L6X 0R6 C...   \n",
       "3         111 Savage Dr Cambridge ON N1T 1S5 Canada    \n",
       "4               507 St Raphael st Sudbury P3G1M3 ON    \n",
       "\n",
       "                                            Features  URL Postal Code  \\\n",
       "0  Unit TypeApartment : Bedrooms1 : Bathrooms1 : ...  NaN      N6H1S6   \n",
       "1  Unit TypeApartment : Bedrooms2 : Bathrooms1 : ...  NaN      N4K6J7   \n",
       "2                   Furnished : YesPet Friendly : No  NaN      L6X0R6   \n",
       "3                                More Info : Parking  NaN      N1T1S5   \n",
       "4  Unit TypeApartment : Bedrooms1 : Bathrooms1 : ...  NaN      P3G1M3   \n",
       "\n",
       "  Date Posted  \n",
       "0  2019-09-04  \n",
       "1  2019-08-29  \n",
       "2  2019-09-01  \n",
       "3  2019-09-02  \n",
       "4  2019-09-01  "
      ]
     },
     "execution_count": 26,
     "metadata": {},
     "output_type": "execute_result"
    }
   ],
   "source": [
    "dataset.head()"
   ]
  },
  {
   "cell_type": "markdown",
   "metadata": {},
   "source": [
    "### Features Column"
   ]
  },
  {
   "cell_type": "code",
   "execution_count": 27,
   "metadata": {},
   "outputs": [
    {
     "data": {
      "text/plain": [
       "'Unit TypeApartment : Bedrooms1 : Bathrooms1 : Pet FriendlyYes : Size (sqft)0 : FurnishedNo : '"
      ]
     },
     "execution_count": 27,
     "metadata": {},
     "output_type": "execute_result"
    }
   ],
   "source": [
    "dataset['Features'][0]"
   ]
  },
  {
   "cell_type": "code",
   "execution_count": 28,
   "metadata": {},
   "outputs": [
    {
     "data": {
      "text/plain": [
       "'Unit TypeHouse : Bedrooms4 : Bathrooms3.5 : Parking Included3+ : Agreement Type1 Year : Move-In DateOctober 1, 2019 : Pet FriendlyLimited : Size (sqft)2,000 : FurnishedNo : Air ConditioningYes : Smoking PermittedNo : '"
      ]
     },
     "execution_count": 28,
     "metadata": {},
     "output_type": "execute_result"
    }
   ],
   "source": [
    "dataset['Features'][50]"
   ]
  },
  {
   "cell_type": "code",
   "execution_count": 29,
   "metadata": {},
   "outputs": [
    {
     "data": {
      "text/plain": [
       "'Furnished : YesPet Friendly : No'"
      ]
     },
     "execution_count": 29,
     "metadata": {},
     "output_type": "execute_result"
    }
   ],
   "source": [
    "dataset['Features'][500]"
   ]
  },
  {
   "cell_type": "code",
   "execution_count": 30,
   "metadata": {},
   "outputs": [
    {
     "data": {
      "text/plain": [
       "'Bedrooms : 2Bathrooms : 2Furnished : YesPet Friendly : No'"
      ]
     },
     "execution_count": 30,
     "metadata": {},
     "output_type": "execute_result"
    }
   ],
   "source": [
    "dataset['Features'][550]"
   ]
  },
  {
   "cell_type": "code",
   "execution_count": null,
   "metadata": {},
   "outputs": [],
   "source": []
  }
 ],
 "metadata": {
  "kernelspec": {
   "display_name": "Python 3",
   "language": "python",
   "name": "python3"
  },
  "language_info": {
   "codemirror_mode": {
    "name": "ipython",
    "version": 3
   },
   "file_extension": ".py",
   "mimetype": "text/x-python",
   "name": "python",
   "nbconvert_exporter": "python",
   "pygments_lexer": "ipython3",
   "version": "3.6.4"
  }
 },
 "nbformat": 4,
 "nbformat_minor": 2
}
