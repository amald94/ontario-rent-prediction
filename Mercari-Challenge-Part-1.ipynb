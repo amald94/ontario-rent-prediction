{
 "cells": [
  {
   "cell_type": "markdown",
   "metadata": {},
   "source": [
    "<img src=\"https://www.mercari.com/assets/img/help_center/us/ogp.png\"/>\n",
    "\n",
    "# Mercari Price Suggestion Challenge\n",
    "***\n",
    "### Can you automatically suggest product prices to online sellers?\n",
    "\n",
    "**Product pricing gets even harder at scale**, considering just how many products are sold online. Clothing has strong seasonal pricing trends and is heavily influenced by brand names, while electronics have fluctuating prices based on product specs.\n",
    "\n",
    "**Mercari**, Japan’s biggest community-powered shopping app, knows this problem deeply. They’d like to offer pricing suggestions to sellers, but this is tough because their sellers are enabled to put just about anything, or any bundle of things, on Mercari's marketplace.\n",
    "\n",
    "In this competition, Mercari’s challenging you to **build an algorithm that automatically suggests the right product prices**. You’ll be provided user-inputted text descriptions of their products, including details like product category name, brand name, and item condition.\n",
    "\n",
    "### Dataset Features\n",
    "\n",
    "- **ID**: the id of the listing\n",
    "- **Name:** the title of the listing\n",
    "- **Item Condition:** the condition of the items provided by the seller\n",
    "- **Category Name:** category of the listing\n",
    "- **Brand Name:** brand of the listing\n",
    "- **Shipping:** whether or not shipping cost was provided\n",
    "- **Item Description:** the full description of the item\n",
    "- **Price:** the price that the item was sold for. This is the target variable that you will predict. The unit is USD.\n",
    "\n",
    "**Work on supply and demand**\n",
    "\n",
    "**Source:** https://www.kaggle.com/c/mercari-price-suggestion-challenge"
   ]
  },
  {
   "cell_type": "markdown",
   "metadata": {},
   "source": [
    "<img src = \"https://cdn.dribbble.com/users/56196/screenshots/2281553/mobile-dribbble.gif\"/>"
   ]
  },
  {
   "cell_type": "markdown",
   "metadata": {},
   "source": [
    "# Representing and Mining Text\n",
    "***\n",
    "Since, text is the most **unstructured** form of all the available data, various types of noise are present in it and the data is not readily analyzable without any pre-processing. The entire process of cleaning and standardization of text, making it noise-free and ready for analysis is known as **text pre-processing**.\n",
    "\n",
    "### Fundamental Concepts \n",
    "\n",
    "The importance of constructing mining-friendly data representations; Representation of text for data mining. \n",
    "\n",
    "### Important Terminologies\n",
    "- **Document**: One piece of text. It could be a single sentence, a paragraph, or even a full page report. \n",
    "- **Tokens**: Also known as terms. It is simply just a word. So many tokens form a document. \n",
    "- **Corpus**: A collection of documents. \n",
    "- **Term Frequency (TF)**: Measures how often a term is in a single document\n",
    "- **Inverse Document Frequency (IDF)**: distribution of a term over a corpus\n",
    "\n",
    "### Pre-Processing Techniques\n",
    "- **Stop Word Removal:** stop words are terms that have little no meaning in a given text. Think of it as the \"noise\" of data. Such terms include the words, \"the\", \"a\", \"an\", \"to\", and etc...\n",
    "- **Bag of Words Representation: ** treats each word as a feature of the document\n",
    "\n",
    "- **TFIDF**: a common value representation of terms. It boosts or weighs words that have low occurences. For example, if the word \"play\" is common, then there is little to no boost. But if the word \"mercari\" is rare, then it has more boosts/weight. \n",
    "\n",
    "- **N-grams**: Sequences of adjacent words as terms. For example, since a word by itself may have little to no value, but if you were to put two words together and analyze it as a pair, then it might add more meaning. For example, \"iPhone\" VS \"iPhone Charger\"\n",
    "\n",
    "- **Stemming and Lemmatization**: Get the root meaning of the word\n",
    "\n",
    "- **Topic Models**: A type of model that represents a set of topics from a sequence of words. "
   ]
  },
  {
   "cell_type": "markdown",
   "metadata": {},
   "source": [
    "# Table of Content\n",
    "***\n",
    "### Define the Problem:\n",
    "\n",
    "- [What's the Business Goal?](#map_of_newyork)\n",
    "\n",
    "- [How will the solution be used?](#asian_white_geomap)\n",
    "\n",
    "- [How to frame the problem?](#black_hispanic_geomap)\n",
    "\n",
    "- [What metric are we optimizing?](#black_hispanic_geomap)\n",
    "\n",
    "### Descriptive Statistics:\n",
    "- [Observe Training Statistics](#correlation)\n",
    "\n",
    "- [Simple Data Inspection](#correlation)\n",
    "\n",
    "- [Missing Value Treatment](#correlation)\n",
    "\n",
    "\n",
    "### Exploratory Data Analysis:\n",
    "- [Price Distribution & Log Transformation](#correlation)\n",
    "\n",
    "- [Shipping Type Distribution](#race_economic)\n",
    "\n",
    "- [Category Distribution & Feature Engineering](#school_attendance)\n",
    "\n",
    "- [Brand Analysis](#student_performance)\n",
    "\n",
    "- [Length of Item Description VS Price](#math_test)\n",
    "\n",
    "\n",
    "### Text Processing:\n",
    "- [Normalizing Words (Stemming, Lowercase, Punctuation, Stop Words](#community_vs_noncommunity)\n",
    "\n",
    "### Feature Extraction with Text:\n",
    "- [Bag of Words Model](#community_vs_noncommunity)\n",
    "\n",
    "- [Word Tokens](#economic_need)\n",
    "\n",
    "- [Word Frequency Weights](#avg_school_income_comparison)\n",
    "\n",
    "- [CountVectorizer, TF-IDF, LabelBinarizer](#avg_school_income_comparison)\n",
    "\n",
    "- [Encoding Categorical Variables](#avg_school_income_comparison)\n",
    "\n",
    "\n",
    "# Define the Problem\n",
    "\n",
    "**A. Define the objective in business terms:** The objective is to come up with the right pricing algorithm that can we can use as a pricing recommendation to the users. \n",
    "\n",
    "**B. How will your solution be used?:** Allowing the users to see a suggest price before purchasing or selling will hopefully allow more transaction within Mercari's business. \n",
    "\n",
    "**C. How should you frame this problem?:** This problem can be solved using a supervised learning approach, and possible some unsupervised learning methods as well for clustering analysis. \n",
    "\n",
    "**D. How should performance be measured?:** Since its a regression problem, the evaluation metric that should be used is RMSE (Root Mean Squared Error). But in this case for the competition, we'll be using the RMSLE; which puts less penalty on large errors and focuses more on the smaller errors (since our main distribution in price is centered at around $10)\n",
    "\n",
    "** E. Are there any other data sets that you could use?:** To get a more accurate understanding and prediction for this problem, a potential dataset that we can gather would be more about the user. Features such as user location, user gender, and seasonality. "
   ]
  },
  {
   "cell_type": "markdown",
   "metadata": {},
   "source": [
    "# Import Packages"
   ]
  },
  {
   "cell_type": "code",
   "execution_count": null,
   "metadata": {},
   "outputs": [],
   "source": [
    "__author__ = \"Data Science Dream Job\"\n",
    "__copyright__ = \"Copyright 2018, Data Science Dream Job LLC\"\n",
    "__email__ = \"info@datasciencedreamjob.com\""
   ]
  },
  {
   "cell_type": "code",
   "execution_count": 1,
   "metadata": {
    "collapsed": true
   },
   "outputs": [],
   "source": [
    "import time\n",
    "import numpy as np\n",
    "import pandas as pd\n",
    "import matplotlib.pyplot as plt\n",
    "import seaborn as sns\n",
    "from scipy.sparse import csr_matrix, hstack\n",
    "from sklearn.feature_extraction.text import CountVectorizer, TfidfVectorizer\n",
    "from sklearn.preprocessing import LabelBinarizer"
   ]
  },
  {
   "cell_type": "markdown",
   "metadata": {},
   "source": [
    "## Training Set\n",
    "\n",
    "The training set has about 600,000 observations"
   ]
  },
  {
   "cell_type": "code",
   "execution_count": 2,
   "metadata": {
    "scrolled": true
   },
   "outputs": [
    {
     "data": {
      "text/html": [
       "<div>\n",
       "<style>\n",
       "    .dataframe thead tr:only-child th {\n",
       "        text-align: right;\n",
       "    }\n",
       "\n",
       "    .dataframe thead th {\n",
       "        text-align: left;\n",
       "    }\n",
       "\n",
       "    .dataframe tbody tr th {\n",
       "        vertical-align: top;\n",
       "    }\n",
       "</style>\n",
       "<table border=\"1\" class=\"dataframe\">\n",
       "  <thead>\n",
       "    <tr style=\"text-align: right;\">\n",
       "      <th></th>\n",
       "      <th>train_id</th>\n",
       "      <th>name</th>\n",
       "      <th>item_condition_id</th>\n",
       "      <th>category_name</th>\n",
       "      <th>brand_name</th>\n",
       "      <th>price</th>\n",
       "      <th>shipping</th>\n",
       "      <th>item_description</th>\n",
       "    </tr>\n",
       "  </thead>\n",
       "  <tbody>\n",
       "    <tr>\n",
       "      <th>0</th>\n",
       "      <td>0</td>\n",
       "      <td>MLB Cincinnati Reds T Shirt Size XL</td>\n",
       "      <td>3</td>\n",
       "      <td>Men/Tops/T-shirts</td>\n",
       "      <td>NaN</td>\n",
       "      <td>10.0</td>\n",
       "      <td>1</td>\n",
       "      <td>No description yet</td>\n",
       "    </tr>\n",
       "    <tr>\n",
       "      <th>1</th>\n",
       "      <td>1</td>\n",
       "      <td>Razer BlackWidow Chroma Keyboard</td>\n",
       "      <td>3</td>\n",
       "      <td>Electronics/Computers &amp; Tablets/Components &amp; P...</td>\n",
       "      <td>Razer</td>\n",
       "      <td>52.0</td>\n",
       "      <td>0</td>\n",
       "      <td>This keyboard is in great condition and works ...</td>\n",
       "    </tr>\n",
       "    <tr>\n",
       "      <th>2</th>\n",
       "      <td>2</td>\n",
       "      <td>AVA-VIV Blouse</td>\n",
       "      <td>1</td>\n",
       "      <td>Women/Tops &amp; Blouses/Blouse</td>\n",
       "      <td>Target</td>\n",
       "      <td>10.0</td>\n",
       "      <td>1</td>\n",
       "      <td>Adorable top with a hint of lace and a key hol...</td>\n",
       "    </tr>\n",
       "    <tr>\n",
       "      <th>3</th>\n",
       "      <td>3</td>\n",
       "      <td>Leather Horse Statues</td>\n",
       "      <td>1</td>\n",
       "      <td>Home/Home Décor/Home Décor Accents</td>\n",
       "      <td>NaN</td>\n",
       "      <td>35.0</td>\n",
       "      <td>1</td>\n",
       "      <td>New with tags. Leather horses. Retail for [rm]...</td>\n",
       "    </tr>\n",
       "    <tr>\n",
       "      <th>4</th>\n",
       "      <td>4</td>\n",
       "      <td>24K GOLD plated rose</td>\n",
       "      <td>1</td>\n",
       "      <td>Women/Jewelry/Necklaces</td>\n",
       "      <td>NaN</td>\n",
       "      <td>44.0</td>\n",
       "      <td>0</td>\n",
       "      <td>Complete with certificate of authenticity</td>\n",
       "    </tr>\n",
       "  </tbody>\n",
       "</table>\n",
       "</div>"
      ],
      "text/plain": [
       "   train_id                                 name  item_condition_id  \\\n",
       "0         0  MLB Cincinnati Reds T Shirt Size XL                  3   \n",
       "1         1     Razer BlackWidow Chroma Keyboard                  3   \n",
       "2         2                       AVA-VIV Blouse                  1   \n",
       "3         3                Leather Horse Statues                  1   \n",
       "4         4                 24K GOLD plated rose                  1   \n",
       "\n",
       "                                       category_name brand_name  price  \\\n",
       "0                                  Men/Tops/T-shirts        NaN   10.0   \n",
       "1  Electronics/Computers & Tablets/Components & P...      Razer   52.0   \n",
       "2                        Women/Tops & Blouses/Blouse     Target   10.0   \n",
       "3                 Home/Home Décor/Home Décor Accents        NaN   35.0   \n",
       "4                            Women/Jewelry/Necklaces        NaN   44.0   \n",
       "\n",
       "   shipping                                   item_description  \n",
       "0         1                                 No description yet  \n",
       "1         0  This keyboard is in great condition and works ...  \n",
       "2         1  Adorable top with a hint of lace and a key hol...  \n",
       "3         1  New with tags. Leather horses. Retail for [rm]...  \n",
       "4         0          Complete with certificate of authenticity  "
      ]
     },
     "execution_count": 2,
     "metadata": {},
     "output_type": "execute_result"
    }
   ],
   "source": [
    "# Observe the training set\n",
    "train = pd.read_csv('C:/Users/Randy/Desktop/training/train.tsv', sep = '\\t')\n",
    "train.head()"
   ]
  },
  {
   "cell_type": "code",
   "execution_count": 3,
   "metadata": {
    "scrolled": false
   },
   "outputs": [
    {
     "name": "stdout",
     "output_type": "stream",
     "text": [
      "The size of the training data is: (593376, 8)\n",
      "train_id               int64\n",
      "name                  object\n",
      "item_condition_id      int64\n",
      "category_name         object\n",
      "brand_name            object\n",
      "price                float64\n",
      "shipping               int64\n",
      "item_description      object\n",
      "dtype: object\n"
     ]
    }
   ],
   "source": [
    "print(\"The size of the training data is: \" + str(train.shape))\n",
    "print(train.dtypes)"
   ]
  },
  {
   "cell_type": "markdown",
   "metadata": {},
   "source": [
    "## Summary Statistics:\n",
    "- Most item price are at 10 Dollars\n",
    "- There are about 33k items with no descriptions\n",
    "- There are 3751 unique brands\n",
    "- Majority of the items are Women's Brand"
   ]
  },
  {
   "cell_type": "code",
   "execution_count": 4,
   "metadata": {
    "scrolled": false
   },
   "outputs": [
    {
     "data": {
      "text/html": [
       "<div>\n",
       "<style>\n",
       "    .dataframe thead tr:only-child th {\n",
       "        text-align: right;\n",
       "    }\n",
       "\n",
       "    .dataframe thead th {\n",
       "        text-align: left;\n",
       "    }\n",
       "\n",
       "    .dataframe tbody tr th {\n",
       "        vertical-align: top;\n",
       "    }\n",
       "</style>\n",
       "<table border=\"1\" class=\"dataframe\">\n",
       "  <thead>\n",
       "    <tr style=\"text-align: right;\">\n",
       "      <th></th>\n",
       "      <th>count</th>\n",
       "      <th>unique</th>\n",
       "      <th>top</th>\n",
       "      <th>freq</th>\n",
       "    </tr>\n",
       "  </thead>\n",
       "  <tbody>\n",
       "    <tr>\n",
       "      <th>train_id</th>\n",
       "      <td>593376</td>\n",
       "      <td>593376</td>\n",
       "      <td>593375</td>\n",
       "      <td>1</td>\n",
       "    </tr>\n",
       "    <tr>\n",
       "      <th>name</th>\n",
       "      <td>593376</td>\n",
       "      <td>518313</td>\n",
       "      <td>Bundle</td>\n",
       "      <td>901</td>\n",
       "    </tr>\n",
       "    <tr>\n",
       "      <th>item_condition_id</th>\n",
       "      <td>593376</td>\n",
       "      <td>5</td>\n",
       "      <td>1</td>\n",
       "      <td>256121</td>\n",
       "    </tr>\n",
       "    <tr>\n",
       "      <th>category_name</th>\n",
       "      <td>590835</td>\n",
       "      <td>1202</td>\n",
       "      <td>Women/Athletic Apparel/Pants, Tights, Leggings</td>\n",
       "      <td>23840</td>\n",
       "    </tr>\n",
       "    <tr>\n",
       "      <th>brand_name</th>\n",
       "      <td>340359</td>\n",
       "      <td>3751</td>\n",
       "      <td>PINK</td>\n",
       "      <td>21667</td>\n",
       "    </tr>\n",
       "    <tr>\n",
       "      <th>price</th>\n",
       "      <td>593376</td>\n",
       "      <td>642</td>\n",
       "      <td>10</td>\n",
       "      <td>39563</td>\n",
       "    </tr>\n",
       "    <tr>\n",
       "      <th>shipping</th>\n",
       "      <td>593376</td>\n",
       "      <td>2</td>\n",
       "      <td>0</td>\n",
       "      <td>328556</td>\n",
       "    </tr>\n",
       "    <tr>\n",
       "      <th>item_description</th>\n",
       "      <td>593375</td>\n",
       "      <td>523254</td>\n",
       "      <td>No description yet</td>\n",
       "      <td>33027</td>\n",
       "    </tr>\n",
       "  </tbody>\n",
       "</table>\n",
       "</div>"
      ],
      "text/plain": [
       "                    count  unique  \\\n",
       "train_id           593376  593376   \n",
       "name               593376  518313   \n",
       "item_condition_id  593376       5   \n",
       "category_name      590835    1202   \n",
       "brand_name         340359    3751   \n",
       "price              593376     642   \n",
       "shipping           593376       2   \n",
       "item_description   593375  523254   \n",
       "\n",
       "                                                              top    freq  \n",
       "train_id                                                   593375       1  \n",
       "name                                                       Bundle     901  \n",
       "item_condition_id                                               1  256121  \n",
       "category_name      Women/Athletic Apparel/Pants, Tights, Leggings   23840  \n",
       "brand_name                                                   PINK   21667  \n",
       "price                                                          10   39563  \n",
       "shipping                                                        0  328556  \n",
       "item_description                               No description yet   33027  "
      ]
     },
     "execution_count": 4,
     "metadata": {},
     "output_type": "execute_result"
    }
   ],
   "source": [
    "train.astype('object').describe().transpose()"
   ]
  },
  {
   "cell_type": "markdown",
   "metadata": {},
   "source": [
    "## Test Set\n",
    "The testing set has about 700,000 observations"
   ]
  },
  {
   "cell_type": "code",
   "execution_count": 5,
   "metadata": {
    "scrolled": true
   },
   "outputs": [
    {
     "data": {
      "text/html": [
       "<div>\n",
       "<style>\n",
       "    .dataframe thead tr:only-child th {\n",
       "        text-align: right;\n",
       "    }\n",
       "\n",
       "    .dataframe thead th {\n",
       "        text-align: left;\n",
       "    }\n",
       "\n",
       "    .dataframe tbody tr th {\n",
       "        vertical-align: top;\n",
       "    }\n",
       "</style>\n",
       "<table border=\"1\" class=\"dataframe\">\n",
       "  <thead>\n",
       "    <tr style=\"text-align: right;\">\n",
       "      <th></th>\n",
       "      <th>test_id</th>\n",
       "      <th>name</th>\n",
       "      <th>item_condition_id</th>\n",
       "      <th>category_name</th>\n",
       "      <th>brand_name</th>\n",
       "      <th>shipping</th>\n",
       "      <th>item_description</th>\n",
       "    </tr>\n",
       "  </thead>\n",
       "  <tbody>\n",
       "    <tr>\n",
       "      <th>0</th>\n",
       "      <td>0</td>\n",
       "      <td>Breast cancer \"I fight like a girl\" ring</td>\n",
       "      <td>1</td>\n",
       "      <td>Women/Jewelry/Rings</td>\n",
       "      <td>NaN</td>\n",
       "      <td>1</td>\n",
       "      <td>Size 7</td>\n",
       "    </tr>\n",
       "    <tr>\n",
       "      <th>1</th>\n",
       "      <td>1</td>\n",
       "      <td>25 pcs NEW 7.5\"x12\" Kraft Bubble Mailers</td>\n",
       "      <td>1</td>\n",
       "      <td>Other/Office supplies/Shipping Supplies</td>\n",
       "      <td>NaN</td>\n",
       "      <td>1</td>\n",
       "      <td>25 pcs NEW 7.5\"x12\" Kraft Bubble Mailers Lined...</td>\n",
       "    </tr>\n",
       "    <tr>\n",
       "      <th>2</th>\n",
       "      <td>2</td>\n",
       "      <td>Coach bag</td>\n",
       "      <td>1</td>\n",
       "      <td>Vintage &amp; Collectibles/Bags and Purses/Handbag</td>\n",
       "      <td>Coach</td>\n",
       "      <td>1</td>\n",
       "      <td>Brand new coach bag. Bought for [rm] at a Coac...</td>\n",
       "    </tr>\n",
       "    <tr>\n",
       "      <th>3</th>\n",
       "      <td>3</td>\n",
       "      <td>Floral Kimono</td>\n",
       "      <td>2</td>\n",
       "      <td>Women/Sweaters/Cardigan</td>\n",
       "      <td>NaN</td>\n",
       "      <td>0</td>\n",
       "      <td>-floral kimono -never worn -lightweight and pe...</td>\n",
       "    </tr>\n",
       "    <tr>\n",
       "      <th>4</th>\n",
       "      <td>4</td>\n",
       "      <td>Life after Death</td>\n",
       "      <td>3</td>\n",
       "      <td>Other/Books/Religion &amp; Spirituality</td>\n",
       "      <td>NaN</td>\n",
       "      <td>1</td>\n",
       "      <td>Rediscovering life after the loss of a loved o...</td>\n",
       "    </tr>\n",
       "  </tbody>\n",
       "</table>\n",
       "</div>"
      ],
      "text/plain": [
       "   test_id                                      name  item_condition_id  \\\n",
       "0        0  Breast cancer \"I fight like a girl\" ring                  1   \n",
       "1        1  25 pcs NEW 7.5\"x12\" Kraft Bubble Mailers                  1   \n",
       "2        2                                 Coach bag                  1   \n",
       "3        3                             Floral Kimono                  2   \n",
       "4        4                          Life after Death                  3   \n",
       "\n",
       "                                    category_name brand_name  shipping  \\\n",
       "0                             Women/Jewelry/Rings        NaN         1   \n",
       "1         Other/Office supplies/Shipping Supplies        NaN         1   \n",
       "2  Vintage & Collectibles/Bags and Purses/Handbag      Coach         1   \n",
       "3                         Women/Sweaters/Cardigan        NaN         0   \n",
       "4             Other/Books/Religion & Spirituality        NaN         1   \n",
       "\n",
       "                                    item_description  \n",
       "0                                             Size 7  \n",
       "1  25 pcs NEW 7.5\"x12\" Kraft Bubble Mailers Lined...  \n",
       "2  Brand new coach bag. Bought for [rm] at a Coac...  \n",
       "3  -floral kimono -never worn -lightweight and pe...  \n",
       "4  Rediscovering life after the loss of a loved o...  "
      ]
     },
     "execution_count": 5,
     "metadata": {},
     "output_type": "execute_result"
    }
   ],
   "source": [
    "# Observe testing set\n",
    "test = pd.read_csv('C:/Users/Randy/Desktop/training/test.tsv', sep = '\\t',engine = 'python')\n",
    "test.head()"
   ]
  },
  {
   "cell_type": "code",
   "execution_count": 6,
   "metadata": {
    "scrolled": true
   },
   "outputs": [
    {
     "data": {
      "text/plain": [
       "(693359, 7)"
      ]
     },
     "execution_count": 6,
     "metadata": {},
     "output_type": "execute_result"
    }
   ],
   "source": [
    "test.shape"
   ]
  },
  {
   "cell_type": "markdown",
   "metadata": {},
   "source": [
    "# Reduce Training Size\n",
    "Sample only 10% of the training set for now... to save time"
   ]
  },
  {
   "cell_type": "code",
   "execution_count": 7,
   "metadata": {},
   "outputs": [
    {
     "data": {
      "text/plain": [
       "(178013, 8)"
      ]
     },
     "execution_count": 7,
     "metadata": {},
     "output_type": "execute_result"
    }
   ],
   "source": [
    "reduced_train = train.sample(frac=0.3).reset_index(drop=True)\n",
    "reduced_train.shape"
   ]
  },
  {
   "cell_type": "markdown",
   "metadata": {},
   "source": [
    "# Fast Data Cleaning"
   ]
  },
  {
   "cell_type": "code",
   "execution_count": 8,
   "metadata": {},
   "outputs": [
    {
     "data": {
      "text/plain": [
       "train_id                  0\n",
       "name                      0\n",
       "item_condition_id         0\n",
       "category_name          2541\n",
       "brand_name           253017\n",
       "price                     0\n",
       "shipping                  0\n",
       "item_description          1\n",
       "dtype: int64"
      ]
     },
     "execution_count": 8,
     "metadata": {},
     "output_type": "execute_result"
    }
   ],
   "source": [
    "# How many missing values do we have in our training set\n",
    "# Why is brand name missing? Do all items need a brand? \n",
    "train.isnull().sum()"
   ]
  },
  {
   "cell_type": "code",
   "execution_count": 9,
   "metadata": {
    "collapsed": true
   },
   "outputs": [],
   "source": [
    "# Create a function to impute missing values\n",
    "def fill_missing_value(data):\n",
    "    data['category_name'].fillna(value = 'Other', inplace=True)\n",
    "    data['brand_name'].fillna(value = 'uknown', inplace=True)\n",
    "    data['item_description'].fillna(value = 'No description yet', inplace=True)\n",
    "    \n",
    "    return data"
   ]
  },
  {
   "cell_type": "code",
   "execution_count": 10,
   "metadata": {},
   "outputs": [
    {
     "data": {
      "text/plain": [
       "train_id             0\n",
       "name                 0\n",
       "item_condition_id    0\n",
       "category_name        0\n",
       "brand_name           0\n",
       "price                0\n",
       "shipping             0\n",
       "item_description     0\n",
       "dtype: int64"
      ]
     },
     "execution_count": 10,
     "metadata": {},
     "output_type": "execute_result"
    }
   ],
   "source": [
    "train = fill_missing_value(train)\n",
    "train.isnull().sum()"
   ]
  },
  {
   "cell_type": "markdown",
   "metadata": {},
   "source": [
    "# Exploratory Data Analysis"
   ]
  },
  {
   "cell_type": "markdown",
   "metadata": {},
   "source": [
    "### Examine Target Value (Price)"
   ]
  },
  {
   "cell_type": "code",
   "execution_count": 11,
   "metadata": {
    "scrolled": true
   },
   "outputs": [
    {
     "data": {
      "text/plain": [
       "count    593376.000000\n",
       "mean         26.689003\n",
       "std          38.340061\n",
       "min           0.000000\n",
       "25%          10.000000\n",
       "50%          17.000000\n",
       "75%          29.000000\n",
       "max        2000.000000\n",
       "Name: price, dtype: float64"
      ]
     },
     "execution_count": 11,
     "metadata": {},
     "output_type": "execute_result"
    }
   ],
   "source": [
    "train.price.describe()"
   ]
  },
  {
   "cell_type": "markdown",
   "metadata": {},
   "source": [
    "# Price Distribution\n",
    "**Summary:**\n",
    "- The mean price in the dataset is **26 Dollars**\n",
    "- The median price in the dataset is **17 Dollars**\n",
    "- The max price in the dataset is **2000 Dollars**\n",
    "- Most item prices are at about **10 Dollars**"
   ]
  },
  {
   "cell_type": "markdown",
   "metadata": {},
   "source": [
    "**Why take log(price)?** \n",
    "\n",
    "Generally, the Root Mean Squared Error (RMSE) metric is used for regression tasks. But as price followed a long-tailed distribution (50% of the products were under $10), in order to make errors on low price product more relevant than for higher prices, the metric chosen for competition evaluation was Root Mean Squared Logarithmic Error (RMSLE). Thus, I applied the log transformation to the price target variable, to make this assumption available for model training.\n",
    "\n",
    "\n",
    "**Example:**\n",
    "\n",
    "**Step 1 Log Transformation:** np.log(train['price']+1)\n",
    "\n",
    "**Step 2 Predict with Log Transformation:** test_pred = model.predict(X_test)\n",
    "\n",
    "**Step 3 Convert back to original value by Exponential Transformation** Y_test = np.expm1(test_pred)"
   ]
  },
  {
   "cell_type": "code",
   "execution_count": 12,
   "metadata": {
    "scrolled": true
   },
   "outputs": [
    {
     "data": {
      "image/png": "[encoded data removed]",
      "text/plain": [
       "<matplotlib.figure.Figure at 0x1b91440c198>"
      ]
     },
     "metadata": {},
     "output_type": "display_data"
    }
   ],
   "source": [
    "# Plot Price Distribution\n",
    "plt.subplot(1, 2, 1)\n",
    "(train['price']).plot.hist(bins=50, figsize=(15, 6), edgecolor = 'white', range = [0, 250])\n",
    "plt.xlabel('price', fontsize=12)\n",
    "plt.title('Price Distribution', fontsize=12)\n",
    "\n",
    "#Plot Log Price Distribution\n",
    "plt.subplot(1, 2, 2)\n",
    "np.log(train['price']+1).plot.hist(bins=50, figsize=(15,6), edgecolor='white')\n",
    "plt.xlabel('log(price+1)', fontsize=12)\n",
    "plt.title('Log Price Distribution', fontsize=12)\n",
    "\n",
    "plt.show()"
   ]
  },
  {
   "cell_type": "markdown",
   "metadata": {},
   "source": [
    "## Remove Items with 0 Price\n"
   ]
  },
  {
   "cell_type": "code",
   "execution_count": 13,
   "metadata": {},
   "outputs": [
    {
     "data": {
      "text/html": [
       "<div>\n",
       "<style>\n",
       "    .dataframe thead tr:only-child th {\n",
       "        text-align: right;\n",
       "    }\n",
       "\n",
       "    .dataframe thead th {\n",
       "        text-align: left;\n",
       "    }\n",
       "\n",
       "    .dataframe tbody tr th {\n",
       "        vertical-align: top;\n",
       "    }\n",
       "</style>\n",
       "<table border=\"1\" class=\"dataframe\">\n",
       "  <thead>\n",
       "    <tr style=\"text-align: right;\">\n",
       "      <th></th>\n",
       "      <th>train_id</th>\n",
       "      <th>name</th>\n",
       "      <th>item_condition_id</th>\n",
       "      <th>category_name</th>\n",
       "      <th>brand_name</th>\n",
       "      <th>price</th>\n",
       "      <th>shipping</th>\n",
       "      <th>item_description</th>\n",
       "    </tr>\n",
       "  </thead>\n",
       "  <tbody>\n",
       "    <tr>\n",
       "      <th>1325</th>\n",
       "      <td>1325</td>\n",
       "      <td>Alabama Crimson Tide Quality Lanyard</td>\n",
       "      <td>1</td>\n",
       "      <td>Sports &amp; Outdoors/Fan Shop/NCAA</td>\n",
       "      <td>uknown</td>\n",
       "      <td>0.0</td>\n",
       "      <td>1</td>\n",
       "      <td>TOP QUALITY THICK LANYARD Reversible sides wit...</td>\n",
       "    </tr>\n",
       "    <tr>\n",
       "      <th>2544</th>\n",
       "      <td>2544</td>\n",
       "      <td>Levi leggings</td>\n",
       "      <td>3</td>\n",
       "      <td>Women/Jeans/Slim, Skinny</td>\n",
       "      <td>Levi's®</td>\n",
       "      <td>0.0</td>\n",
       "      <td>0</td>\n",
       "      <td>Light wash. Hardly worn. Size 24 but fits like...</td>\n",
       "    </tr>\n",
       "    <tr>\n",
       "      <th>2712</th>\n",
       "      <td>2712</td>\n",
       "      <td>Simple Red Lace Lingerie Top</td>\n",
       "      <td>3</td>\n",
       "      <td>Women/Underwear/G-Strings &amp; Thongs</td>\n",
       "      <td>uknown</td>\n",
       "      <td>0.0</td>\n",
       "      <td>0</td>\n",
       "      <td>Very simple but cute, a little form fitting as...</td>\n",
       "    </tr>\n",
       "    <tr>\n",
       "      <th>3576</th>\n",
       "      <td>3576</td>\n",
       "      <td>Turquoise 15 Pc Makeup Brush Set</td>\n",
       "      <td>1</td>\n",
       "      <td>Beauty/Tools &amp; Accessories/Makeup Brushes &amp; Tools</td>\n",
       "      <td>uknown</td>\n",
       "      <td>0.0</td>\n",
       "      <td>1</td>\n",
       "      <td>1 left!</td>\n",
       "    </tr>\n",
       "    <tr>\n",
       "      <th>3761</th>\n",
       "      <td>3761</td>\n",
       "      <td>Girls size 7/8</td>\n",
       "      <td>3</td>\n",
       "      <td>Kids/Girls (4+)/Tops &amp; T-Shirts</td>\n",
       "      <td>uknown</td>\n",
       "      <td>0.0</td>\n",
       "      <td>1</td>\n",
       "      <td>5 pair gap jean excellent used condition 3 chi...</td>\n",
       "    </tr>\n",
       "    <tr>\n",
       "      <th>5237</th>\n",
       "      <td>5237</td>\n",
       "      <td>Nursing Bra</td>\n",
       "      <td>3</td>\n",
       "      <td>Women/Underwear/Bras</td>\n",
       "      <td>Motherhood Maternity</td>\n",
       "      <td>0.0</td>\n",
       "      <td>0</td>\n",
       "      <td>Used a few times but was not able to nurse</td>\n",
       "    </tr>\n",
       "    <tr>\n",
       "      <th>6175</th>\n",
       "      <td>6175</td>\n",
       "      <td>Multi Listing Bundled Package, Thanks</td>\n",
       "      <td>2</td>\n",
       "      <td>Electronics/Media/DVD</td>\n",
       "      <td>uknown</td>\n",
       "      <td>0.0</td>\n",
       "      <td>1</td>\n",
       "      <td>1)Large Collection of Full Length Strawberry S...</td>\n",
       "    </tr>\n",
       "    <tr>\n",
       "      <th>7116</th>\n",
       "      <td>7116</td>\n",
       "      <td>Nike Dri-Fit High Power Speed Tights</td>\n",
       "      <td>1</td>\n",
       "      <td>Women/Athletic Apparel/Pants, Tights, Leggings</td>\n",
       "      <td>Nike</td>\n",
       "      <td>0.0</td>\n",
       "      <td>1</td>\n",
       "      <td>Bought at Nike store in New York, Brand New, N...</td>\n",
       "    </tr>\n",
       "    <tr>\n",
       "      <th>7622</th>\n",
       "      <td>7622</td>\n",
       "      <td>Hands free earpiece</td>\n",
       "      <td>1</td>\n",
       "      <td>Electronics/Cell Phones &amp; Accessories/Headsets</td>\n",
       "      <td>uknown</td>\n",
       "      <td>0.0</td>\n",
       "      <td>0</td>\n",
       "      <td>Wireless Bluetooth hands free used with Samsun...</td>\n",
       "    </tr>\n",
       "    <tr>\n",
       "      <th>10812</th>\n",
       "      <td>10812</td>\n",
       "      <td>Vampire candy bowl</td>\n",
       "      <td>1</td>\n",
       "      <td>Home/Seasonal Décor/Halloween</td>\n",
       "      <td>uknown</td>\n",
       "      <td>0.0</td>\n",
       "      <td>0</td>\n",
       "      <td>New good condition for halloween</td>\n",
       "    </tr>\n",
       "    <tr>\n",
       "      <th>12738</th>\n",
       "      <td>12738</td>\n",
       "      <td>Beautiful Janie and Jack loafers sz 4</td>\n",
       "      <td>2</td>\n",
       "      <td>Kids/Boys 2T-5T/Shoes</td>\n",
       "      <td>Janie and Jack</td>\n",
       "      <td>0.0</td>\n",
       "      <td>0</td>\n",
       "      <td>Like New</td>\n",
       "    </tr>\n",
       "    <tr>\n",
       "      <th>17617</th>\n",
       "      <td>17617</td>\n",
       "      <td>Coca Cola Stuffed Bears</td>\n",
       "      <td>3</td>\n",
       "      <td>Kids/Toys/Stuffed Animals &amp; Plush</td>\n",
       "      <td>uknown</td>\n",
       "      <td>0.0</td>\n",
       "      <td>0</td>\n",
       "      <td>Coca Cola plush adorable bears to start your c...</td>\n",
       "    </tr>\n",
       "    <tr>\n",
       "      <th>17831</th>\n",
       "      <td>17831</td>\n",
       "      <td>Holographic sequin bra</td>\n",
       "      <td>3</td>\n",
       "      <td>Women/Underwear/Bras</td>\n",
       "      <td>uknown</td>\n",
       "      <td>0.0</td>\n",
       "      <td>0</td>\n",
       "      <td>Holographic Sequin bra 36B No brand</td>\n",
       "    </tr>\n",
       "    <tr>\n",
       "      <th>18324</th>\n",
       "      <td>18324</td>\n",
       "      <td>Pura 11 oz straw cup, swirl pink</td>\n",
       "      <td>1</td>\n",
       "      <td>Other</td>\n",
       "      <td>uknown</td>\n",
       "      <td>0.0</td>\n",
       "      <td>1</td>\n",
       "      <td>100% plastic free straw bottle easily transiti...</td>\n",
       "    </tr>\n",
       "    <tr>\n",
       "      <th>19909</th>\n",
       "      <td>19909</td>\n",
       "      <td>Obey Floral Snapback Hat</td>\n",
       "      <td>2</td>\n",
       "      <td>Men/Men's Accessories/Hats</td>\n",
       "      <td>Obey</td>\n",
       "      <td>0.0</td>\n",
       "      <td>0</td>\n",
       "      <td>A friend sold me this hat although I don't wea...</td>\n",
       "    </tr>\n",
       "    <tr>\n",
       "      <th>20986</th>\n",
       "      <td>20986</td>\n",
       "      <td>Sale! Varied sizes - Rock N' Roll t</td>\n",
       "      <td>1</td>\n",
       "      <td>Women/Tops &amp; Blouses/T-Shirts</td>\n",
       "      <td>uknown</td>\n",
       "      <td>0.0</td>\n",
       "      <td>0</td>\n",
       "      <td>Really cute sleeveless tee! Perfect for that s...</td>\n",
       "    </tr>\n",
       "    <tr>\n",
       "      <th>22876</th>\n",
       "      <td>22876</td>\n",
       "      <td>Quay Australia Sunnies - Barely Worn</td>\n",
       "      <td>2</td>\n",
       "      <td>Women/Women's Accessories/Sunglasses</td>\n",
       "      <td>uknown</td>\n",
       "      <td>0.0</td>\n",
       "      <td>0</td>\n",
       "      <td>But directly from Quay Have worn 3 times Alway...</td>\n",
       "    </tr>\n",
       "    <tr>\n",
       "      <th>24288</th>\n",
       "      <td>24288</td>\n",
       "      <td>Fred Jackson Autographed Mini Helmet</td>\n",
       "      <td>2</td>\n",
       "      <td>Sports &amp; Outdoors/Fan Shop/NFL</td>\n",
       "      <td>uknown</td>\n",
       "      <td>0.0</td>\n",
       "      <td>1</td>\n",
       "      <td>Autographed by former Bills star running back ...</td>\n",
       "    </tr>\n",
       "    <tr>\n",
       "      <th>28091</th>\n",
       "      <td>28091</td>\n",
       "      <td>Jordan Cris Shoes Size 2</td>\n",
       "      <td>1</td>\n",
       "      <td>Kids/Boys 0-24 Mos/Shoes</td>\n",
       "      <td>Nike</td>\n",
       "      <td>0.0</td>\n",
       "      <td>1</td>\n",
       "      <td>Bought from another seller and too small</td>\n",
       "    </tr>\n",
       "    <tr>\n",
       "      <th>28701</th>\n",
       "      <td>28701</td>\n",
       "      <td>Lace Up Bodysuit * On Hold</td>\n",
       "      <td>2</td>\n",
       "      <td>Other</td>\n",
       "      <td>Nordstrom</td>\n",
       "      <td>0.0</td>\n",
       "      <td>0</td>\n",
       "      <td>From nordstroms. Literally worn once but was t...</td>\n",
       "    </tr>\n",
       "    <tr>\n",
       "      <th>29240</th>\n",
       "      <td>29240</td>\n",
       "      <td>Baby K'Tan Wrap Carrier</td>\n",
       "      <td>3</td>\n",
       "      <td>Kids/Gear/Backpacks &amp; Carriers</td>\n",
       "      <td>All</td>\n",
       "      <td>0.0</td>\n",
       "      <td>0</td>\n",
       "      <td>Super comfy infant carrier in color \"eggplant\"...</td>\n",
       "    </tr>\n",
       "    <tr>\n",
       "      <th>29702</th>\n",
       "      <td>29702</td>\n",
       "      <td>Old Navy White Polka Dot Shorts Size 16</td>\n",
       "      <td>2</td>\n",
       "      <td>Women/Athletic Apparel/Shorts</td>\n",
       "      <td>Old Navy</td>\n",
       "      <td>0.0</td>\n",
       "      <td>0</td>\n",
       "      <td>Old Navy white with small black polka dots wov...</td>\n",
       "    </tr>\n",
       "    <tr>\n",
       "      <th>29826</th>\n",
       "      <td>29826</td>\n",
       "      <td>Geo Mountains/ Triangles Pillow Set Of 2</td>\n",
       "      <td>1</td>\n",
       "      <td>Home/Home Décor/Decorative Pillows</td>\n",
       "      <td>uknown</td>\n",
       "      <td>0.0</td>\n",
       "      <td>0</td>\n",
       "      <td>Accent pillows liven up a room &amp; give it insta...</td>\n",
       "    </tr>\n",
       "    <tr>\n",
       "      <th>33056</th>\n",
       "      <td>33056</td>\n",
       "      <td>Viking compass leathercoinpurse guidance</td>\n",
       "      <td>1</td>\n",
       "      <td>Handmade/Bags and Purses/Pouch</td>\n",
       "      <td>uknown</td>\n",
       "      <td>0.0</td>\n",
       "      <td>1</td>\n",
       "      <td>Leather coin purse hand made by me with viking...</td>\n",
       "    </tr>\n",
       "    <tr>\n",
       "      <th>33176</th>\n",
       "      <td>33176</td>\n",
       "      <td>Bushnell Golf Watch</td>\n",
       "      <td>2</td>\n",
       "      <td>Sports &amp; Outdoors/Golf/Golf Apparel</td>\n",
       "      <td>Bushnell</td>\n",
       "      <td>0.0</td>\n",
       "      <td>0</td>\n",
       "      <td>Mens Bushnell Golf watch NWOT If you are a gol...</td>\n",
       "    </tr>\n",
       "    <tr>\n",
       "      <th>33624</th>\n",
       "      <td>33624</td>\n",
       "      <td>Michael Kors Medium Selma Dune</td>\n",
       "      <td>1</td>\n",
       "      <td>Women/Women's Handbags/Satchel</td>\n",
       "      <td>Michael Kors</td>\n",
       "      <td>0.0</td>\n",
       "      <td>0</td>\n",
       "      <td>Brand new Dark dune color Willing to create bu...</td>\n",
       "    </tr>\n",
       "    <tr>\n",
       "      <th>33862</th>\n",
       "      <td>33862</td>\n",
       "      <td>Sexy cocktail dress</td>\n",
       "      <td>2</td>\n",
       "      <td>Women/Dresses/Above Knee, Mini</td>\n",
       "      <td>uknown</td>\n",
       "      <td>0.0</td>\n",
       "      <td>1</td>\n",
       "      <td>Very short comes with a thong. It was advertis...</td>\n",
       "    </tr>\n",
       "    <tr>\n",
       "      <th>35216</th>\n",
       "      <td>35216</td>\n",
       "      <td>VS Bra</td>\n",
       "      <td>2</td>\n",
       "      <td>Women/Underwear/Bras</td>\n",
       "      <td>Victoria's Secret</td>\n",
       "      <td>0.0</td>\n",
       "      <td>0</td>\n",
       "      <td>34DD hot pink</td>\n",
       "    </tr>\n",
       "    <tr>\n",
       "      <th>38132</th>\n",
       "      <td>38132</td>\n",
       "      <td>Vlone T-shirt Palace Bape Supreme</td>\n",
       "      <td>2</td>\n",
       "      <td>Men/Tops/T-shirts</td>\n",
       "      <td>uknown</td>\n",
       "      <td>0.0</td>\n",
       "      <td>0</td>\n",
       "      <td>Very rare vlone serpent t shirt Worn once!! Pr...</td>\n",
       "    </tr>\n",
       "    <tr>\n",
       "      <th>39519</th>\n",
       "      <td>39519</td>\n",
       "      <td>Jordan shoe's Girls size 12c,used</td>\n",
       "      <td>3</td>\n",
       "      <td>Kids/Girls 2T-5T/Shoes</td>\n",
       "      <td>Nike</td>\n",
       "      <td>0.0</td>\n",
       "      <td>0</td>\n",
       "      <td>This is a used pair of Jordan shoe's girls siz...</td>\n",
       "    </tr>\n",
       "    <tr>\n",
       "      <th>...</th>\n",
       "      <td>...</td>\n",
       "      <td>...</td>\n",
       "      <td>...</td>\n",
       "      <td>...</td>\n",
       "      <td>...</td>\n",
       "      <td>...</td>\n",
       "      <td>...</td>\n",
       "      <td>...</td>\n",
       "    </tr>\n",
       "    <tr>\n",
       "      <th>534865</th>\n",
       "      <td>534865</td>\n",
       "      <td>Floral Embroidered Heels</td>\n",
       "      <td>1</td>\n",
       "      <td>Women/Shoes/Pumps</td>\n",
       "      <td>FOREVER 21</td>\n",
       "      <td>0.0</td>\n",
       "      <td>1</td>\n",
       "      <td>Bought them as a present for someone, ended up...</td>\n",
       "    </tr>\n",
       "    <tr>\n",
       "      <th>535205</th>\n",
       "      <td>535205</td>\n",
       "      <td>Bundled For brittDashipeesinger</td>\n",
       "      <td>3</td>\n",
       "      <td>Kids/Boys (4+)/Coats &amp; Jackets</td>\n",
       "      <td>Nike</td>\n",
       "      <td>0.0</td>\n",
       "      <td>0</td>\n",
       "      <td>Black hoodie Gray and orange hoodie Pink Ultim...</td>\n",
       "    </tr>\n",
       "    <tr>\n",
       "      <th>538552</th>\n",
       "      <td>538552</td>\n",
       "      <td>Jordan 13 Retro (Little Kids)</td>\n",
       "      <td>3</td>\n",
       "      <td>Kids/Boys 2T-5T/Shoes</td>\n",
       "      <td>uknown</td>\n",
       "      <td>0.0</td>\n",
       "      <td>1</td>\n",
       "      <td>Little kids 8c/ good condition/ light wear</td>\n",
       "    </tr>\n",
       "    <tr>\n",
       "      <th>542457</th>\n",
       "      <td>542457</td>\n",
       "      <td>New York Yankee Baseball Jersey</td>\n",
       "      <td>2</td>\n",
       "      <td>Sports &amp; Outdoors/Fan Shop/MLB</td>\n",
       "      <td>uknown</td>\n",
       "      <td>0.0</td>\n",
       "      <td>0</td>\n",
       "      <td>Bernie William Cool-base Jersey Condition 10/1...</td>\n",
       "    </tr>\n",
       "    <tr>\n",
       "      <th>548607</th>\n",
       "      <td>548607</td>\n",
       "      <td>Bare Minerals bronzer pallet</td>\n",
       "      <td>3</td>\n",
       "      <td>Beauty/Makeup/Face</td>\n",
       "      <td>bareMinerals</td>\n",
       "      <td>0.0</td>\n",
       "      <td>0</td>\n",
       "      <td>Very gently used bronzer trio. Love bare miner...</td>\n",
       "    </tr>\n",
       "    <tr>\n",
       "      <th>549129</th>\n",
       "      <td>549129</td>\n",
       "      <td>LOFT Dolman Sleeve Sweater</td>\n",
       "      <td>2</td>\n",
       "      <td>Women/Tops &amp; Blouses/Knit Top</td>\n",
       "      <td>LOFT</td>\n",
       "      <td>0.0</td>\n",
       "      <td>0</td>\n",
       "      <td>Gently worn. Size medium but can also fit a la...</td>\n",
       "    </tr>\n",
       "    <tr>\n",
       "      <th>549281</th>\n",
       "      <td>549281</td>\n",
       "      <td>MP4 Black Music Player</td>\n",
       "      <td>3</td>\n",
       "      <td>Electronics/TV, Audio &amp; Surveillance/Portable ...</td>\n",
       "      <td>uknown</td>\n",
       "      <td>0.0</td>\n",
       "      <td>1</td>\n",
       "      <td>MP4 Black Music Player There is NO charger inc...</td>\n",
       "    </tr>\n",
       "    <tr>\n",
       "      <th>550058</th>\n",
       "      <td>550058</td>\n",
       "      <td>Texan Jersey</td>\n",
       "      <td>2</td>\n",
       "      <td>Men/Athletic Apparel/Jerseys</td>\n",
       "      <td>Nike</td>\n",
       "      <td>0.0</td>\n",
       "      <td>1</td>\n",
       "      <td>Only worn once</td>\n",
       "    </tr>\n",
       "    <tr>\n",
       "      <th>551227</th>\n",
       "      <td>551227</td>\n",
       "      <td>Hot Topic The Strokes Tee</td>\n",
       "      <td>2</td>\n",
       "      <td>Women/Tops &amp; Blouses/T-Shirts</td>\n",
       "      <td>Hot Topic</td>\n",
       "      <td>0.0</td>\n",
       "      <td>0</td>\n",
       "      <td>Size small. Never worn. No flaws or damage</td>\n",
       "    </tr>\n",
       "    <tr>\n",
       "      <th>551897</th>\n",
       "      <td>551897</td>\n",
       "      <td>NBA 2K13 // PS3</td>\n",
       "      <td>3</td>\n",
       "      <td>Electronics/Video Games &amp; Consoles/Games</td>\n",
       "      <td>uknown</td>\n",
       "      <td>0.0</td>\n",
       "      <td>1</td>\n",
       "      <td>Price negotiable</td>\n",
       "    </tr>\n",
       "    <tr>\n",
       "      <th>552027</th>\n",
       "      <td>552027</td>\n",
       "      <td>Athleta - shorts</td>\n",
       "      <td>3</td>\n",
       "      <td>Women/Athletic Apparel/Shorts</td>\n",
       "      <td>Athleta</td>\n",
       "      <td>0.0</td>\n",
       "      <td>0</td>\n",
       "      <td>Dark brown. GUC. No flaw. Minor piling (pic4),...</td>\n",
       "    </tr>\n",
       "    <tr>\n",
       "      <th>552292</th>\n",
       "      <td>552292</td>\n",
       "      <td>Letter A Pillow</td>\n",
       "      <td>2</td>\n",
       "      <td>Home/Home Décor/Decorative Pillows</td>\n",
       "      <td>uknown</td>\n",
       "      <td>0.0</td>\n",
       "      <td>1</td>\n",
       "      <td>No description yet</td>\n",
       "    </tr>\n",
       "    <tr>\n",
       "      <th>552758</th>\n",
       "      <td>552758</td>\n",
       "      <td>Bag</td>\n",
       "      <td>2</td>\n",
       "      <td>Women/Women's Handbags/Totes &amp; Shoppers</td>\n",
       "      <td>Lululemon</td>\n",
       "      <td>0.0</td>\n",
       "      <td>0</td>\n",
       "      <td>Four lululemon shopping bags.</td>\n",
       "    </tr>\n",
       "    <tr>\n",
       "      <th>559276</th>\n",
       "      <td>559276</td>\n",
       "      <td>VS Push-up Bralette</td>\n",
       "      <td>2</td>\n",
       "      <td>Women/Underwear/Bras</td>\n",
       "      <td>PINK</td>\n",
       "      <td>0.0</td>\n",
       "      <td>0</td>\n",
       "      <td>Size Small, crosses in the back</td>\n",
       "    </tr>\n",
       "    <tr>\n",
       "      <th>563024</th>\n",
       "      <td>563024</td>\n",
       "      <td>Spanx Higher Power Short</td>\n",
       "      <td>1</td>\n",
       "      <td>Women/Underwear/Other</td>\n",
       "      <td>SPANX</td>\n",
       "      <td>0.0</td>\n",
       "      <td>0</td>\n",
       "      <td>Black</td>\n",
       "    </tr>\n",
       "    <tr>\n",
       "      <th>567066</th>\n",
       "      <td>567066</td>\n",
       "      <td>Go Pro Stick</td>\n",
       "      <td>2</td>\n",
       "      <td>Electronics/Cameras &amp; Photography/Camera &amp; Pho...</td>\n",
       "      <td>uknown</td>\n",
       "      <td>0.0</td>\n",
       "      <td>0</td>\n",
       "      <td>UK PRO Pole 38HD</td>\n",
       "    </tr>\n",
       "    <tr>\n",
       "      <th>569656</th>\n",
       "      <td>569656</td>\n",
       "      <td>CALVIN KLEIN FULL SET Bralette&amp;Boyshorts</td>\n",
       "      <td>1</td>\n",
       "      <td>Women/Athletic Apparel/Sports Bras</td>\n",
       "      <td>Calvin Klein</td>\n",
       "      <td>0.0</td>\n",
       "      <td>1</td>\n",
       "      <td>Brand: CALVIN KLEIN ( Yes this is ACTUAL Brand...</td>\n",
       "    </tr>\n",
       "    <tr>\n",
       "      <th>570652</th>\n",
       "      <td>570652</td>\n",
       "      <td>14kt Gold Hoops Earring Free Ship</td>\n",
       "      <td>1</td>\n",
       "      <td>Women/Jewelry/Earrings</td>\n",
       "      <td>uknown</td>\n",
       "      <td>0.0</td>\n",
       "      <td>1</td>\n",
       "      <td>Never worn. Got as a gift, I don't wear hoops.</td>\n",
       "    </tr>\n",
       "    <tr>\n",
       "      <th>572071</th>\n",
       "      <td>572071</td>\n",
       "      <td>iPad mini 2</td>\n",
       "      <td>5</td>\n",
       "      <td>Electronics/Computers &amp; Tablets/iPad/Tablet/eB...</td>\n",
       "      <td>Apple</td>\n",
       "      <td>0.0</td>\n",
       "      <td>0</td>\n",
       "      <td>Broken LCD (removed) iCloud locked</td>\n",
       "    </tr>\n",
       "    <tr>\n",
       "      <th>576714</th>\n",
       "      <td>576714</td>\n",
       "      <td>Nike Pro Tank top</td>\n",
       "      <td>2</td>\n",
       "      <td>Women/Athletic Apparel/Shirts &amp; Tops</td>\n",
       "      <td>Nike</td>\n",
       "      <td>0.0</td>\n",
       "      <td>0</td>\n",
       "      <td>Nike pro workout tank. Worn 3 times max. Paid ...</td>\n",
       "    </tr>\n",
       "    <tr>\n",
       "      <th>577510</th>\n",
       "      <td>577510</td>\n",
       "      <td>Mini Melissa</td>\n",
       "      <td>3</td>\n",
       "      <td>Kids/Girls 2T-5T/Shoes</td>\n",
       "      <td>uknown</td>\n",
       "      <td>0.0</td>\n",
       "      <td>0</td>\n",
       "      <td>Good condition</td>\n",
       "    </tr>\n",
       "    <tr>\n",
       "      <th>578186</th>\n",
       "      <td>578186</td>\n",
       "      <td>Abercrombie and Fitch winter jacket</td>\n",
       "      <td>3</td>\n",
       "      <td>Women/Coats &amp; Jackets/Puffer</td>\n",
       "      <td>Abercrombie &amp; Fitch</td>\n",
       "      <td>0.0</td>\n",
       "      <td>0</td>\n",
       "      <td>Bought this a few years ago and have too many ...</td>\n",
       "    </tr>\n",
       "    <tr>\n",
       "      <th>578937</th>\n",
       "      <td>578937</td>\n",
       "      <td>Baby Leggings</td>\n",
       "      <td>2</td>\n",
       "      <td>Kids/Girls 0-24 Mos/Bottoms</td>\n",
       "      <td>uknown</td>\n",
       "      <td>0.0</td>\n",
       "      <td>0</td>\n",
       "      <td>Baby girl donut leggings. Size 0-3months. Like...</td>\n",
       "    </tr>\n",
       "    <tr>\n",
       "      <th>581213</th>\n",
       "      <td>581213</td>\n",
       "      <td>Abercrombie &amp; Fitch Woman's Hoodie Small</td>\n",
       "      <td>3</td>\n",
       "      <td>Women/Sweaters/Hooded</td>\n",
       "      <td>Abercrombie &amp; Fitch</td>\n",
       "      <td>0.0</td>\n",
       "      <td>1</td>\n",
       "      <td>For sale is a pre owned Abercrombie &amp; Fitch wo...</td>\n",
       "    </tr>\n",
       "    <tr>\n",
       "      <th>581992</th>\n",
       "      <td>581992</td>\n",
       "      <td>Black Chive KCCO Hoodie zip up</td>\n",
       "      <td>3</td>\n",
       "      <td>Men/Sweats &amp; Hoodies/Hoodie</td>\n",
       "      <td>uknown</td>\n",
       "      <td>0.0</td>\n",
       "      <td>1</td>\n",
       "      <td>Size large men's black hoodie zip up Authentic...</td>\n",
       "    </tr>\n",
       "    <tr>\n",
       "      <th>582566</th>\n",
       "      <td>582566</td>\n",
       "      <td>Victoria Secret Designer Collection bra</td>\n",
       "      <td>1</td>\n",
       "      <td>Women/Underwear/Bras</td>\n",
       "      <td>Victoria's Secret</td>\n",
       "      <td>0.0</td>\n",
       "      <td>0</td>\n",
       "      <td>VSDC very sexy balconet bra. NWT. Cream color,...</td>\n",
       "    </tr>\n",
       "    <tr>\n",
       "      <th>584670</th>\n",
       "      <td>584670</td>\n",
       "      <td>Old navy girl dress 4t</td>\n",
       "      <td>2</td>\n",
       "      <td>Kids/Girls 2T-5T/Dresses</td>\n",
       "      <td>Old Navy</td>\n",
       "      <td>0.0</td>\n",
       "      <td>0</td>\n",
       "      <td>Like new</td>\n",
       "    </tr>\n",
       "    <tr>\n",
       "      <th>585941</th>\n",
       "      <td>585941</td>\n",
       "      <td>Boxycharm items free shipping</td>\n",
       "      <td>3</td>\n",
       "      <td>Beauty/Makeup/Makeup Sets</td>\n",
       "      <td>uknown</td>\n",
       "      <td>0.0</td>\n",
       "      <td>1</td>\n",
       "      <td>Moda brushes, temptu highlighter, winky lux ey...</td>\n",
       "    </tr>\n",
       "    <tr>\n",
       "      <th>591436</th>\n",
       "      <td>591436</td>\n",
       "      <td>Infant Carter's \"My First Thanksgiving\"</td>\n",
       "      <td>3</td>\n",
       "      <td>Kids/Boys 0-24 Mos/Tops &amp; T-Shirts</td>\n",
       "      <td>Carter's</td>\n",
       "      <td>0.0</td>\n",
       "      <td>0</td>\n",
       "      <td>Super Adorable! Onesie &amp; Pants Set Size 3 Mont...</td>\n",
       "    </tr>\n",
       "    <tr>\n",
       "      <th>592982</th>\n",
       "      <td>592982</td>\n",
       "      <td>Victoria's Secret Rose Gold Tote Bag!!!</td>\n",
       "      <td>2</td>\n",
       "      <td>Women/Women's Handbags/Totes &amp; Shoppers</td>\n",
       "      <td>Victoria's Secret</td>\n",
       "      <td>0.0</td>\n",
       "      <td>1</td>\n",
       "      <td>This Victoria's Secret tote bag my friend gave...</td>\n",
       "    </tr>\n",
       "  </tbody>\n",
       "</table>\n",
       "<p>311 rows × 8 columns</p>\n",
       "</div>"
      ],
      "text/plain": [
       "        train_id                                      name  item_condition_id  \\\n",
       "1325        1325      Alabama Crimson Tide Quality Lanyard                  1   \n",
       "2544        2544                             Levi leggings                  3   \n",
       "2712        2712              Simple Red Lace Lingerie Top                  3   \n",
       "3576        3576          Turquoise 15 Pc Makeup Brush Set                  1   \n",
       "3761        3761                            Girls size 7/8                  3   \n",
       "5237        5237                               Nursing Bra                  3   \n",
       "6175        6175     Multi Listing Bundled Package, Thanks                  2   \n",
       "7116        7116      Nike Dri-Fit High Power Speed Tights                  1   \n",
       "7622        7622                       Hands free earpiece                  1   \n",
       "10812      10812                        Vampire candy bowl                  1   \n",
       "12738      12738     Beautiful Janie and Jack loafers sz 4                  2   \n",
       "17617      17617                   Coca Cola Stuffed Bears                  3   \n",
       "17831      17831                    Holographic sequin bra                  3   \n",
       "18324      18324          Pura 11 oz straw cup, swirl pink                  1   \n",
       "19909      19909                  Obey Floral Snapback Hat                  2   \n",
       "20986      20986       Sale! Varied sizes - Rock N' Roll t                  1   \n",
       "22876      22876      Quay Australia Sunnies - Barely Worn                  2   \n",
       "24288      24288      Fred Jackson Autographed Mini Helmet                  2   \n",
       "28091      28091                  Jordan Cris Shoes Size 2                  1   \n",
       "28701      28701                Lace Up Bodysuit * On Hold                  2   \n",
       "29240      29240                   Baby K'Tan Wrap Carrier                  3   \n",
       "29702      29702   Old Navy White Polka Dot Shorts Size 16                  2   \n",
       "29826      29826  Geo Mountains/ Triangles Pillow Set Of 2                  1   \n",
       "33056      33056  Viking compass leathercoinpurse guidance                  1   \n",
       "33176      33176                       Bushnell Golf Watch                  2   \n",
       "33624      33624            Michael Kors Medium Selma Dune                  1   \n",
       "33862      33862                       Sexy cocktail dress                  2   \n",
       "35216      35216                                    VS Bra                  2   \n",
       "38132      38132         Vlone T-shirt Palace Bape Supreme                  2   \n",
       "39519      39519         Jordan shoe's Girls size 12c,used                  3   \n",
       "...          ...                                       ...                ...   \n",
       "534865    534865                  Floral Embroidered Heels                  1   \n",
       "535205    535205           Bundled For brittDashipeesinger                  3   \n",
       "538552    538552             Jordan 13 Retro (Little Kids)                  3   \n",
       "542457    542457           New York Yankee Baseball Jersey                  2   \n",
       "548607    548607              Bare Minerals bronzer pallet                  3   \n",
       "549129    549129                LOFT Dolman Sleeve Sweater                  2   \n",
       "549281    549281                    MP4 Black Music Player                  3   \n",
       "550058    550058                              Texan Jersey                  2   \n",
       "551227    551227                 Hot Topic The Strokes Tee                  2   \n",
       "551897    551897                           NBA 2K13 // PS3                  3   \n",
       "552027    552027                          Athleta - shorts                  3   \n",
       "552292    552292                           Letter A Pillow                  2   \n",
       "552758    552758                                       Bag                  2   \n",
       "559276    559276                       VS Push-up Bralette                  2   \n",
       "563024    563024                  Spanx Higher Power Short                  1   \n",
       "567066    567066                              Go Pro Stick                  2   \n",
       "569656    569656  CALVIN KLEIN FULL SET Bralette&Boyshorts                  1   \n",
       "570652    570652         14kt Gold Hoops Earring Free Ship                  1   \n",
       "572071    572071                               iPad mini 2                  5   \n",
       "576714    576714                         Nike Pro Tank top                  2   \n",
       "577510    577510                              Mini Melissa                  3   \n",
       "578186    578186       Abercrombie and Fitch winter jacket                  3   \n",
       "578937    578937                             Baby Leggings                  2   \n",
       "581213    581213  Abercrombie & Fitch Woman's Hoodie Small                  3   \n",
       "581992    581992            Black Chive KCCO Hoodie zip up                  3   \n",
       "582566    582566   Victoria Secret Designer Collection bra                  1   \n",
       "584670    584670                    Old navy girl dress 4t                  2   \n",
       "585941    585941             Boxycharm items free shipping                  3   \n",
       "591436    591436   Infant Carter's \"My First Thanksgiving\"                  3   \n",
       "592982    592982   Victoria's Secret Rose Gold Tote Bag!!!                  2   \n",
       "\n",
       "                                            category_name  \\\n",
       "1325                      Sports & Outdoors/Fan Shop/NCAA   \n",
       "2544                             Women/Jeans/Slim, Skinny   \n",
       "2712                   Women/Underwear/G-Strings & Thongs   \n",
       "3576    Beauty/Tools & Accessories/Makeup Brushes & Tools   \n",
       "3761                      Kids/Girls (4+)/Tops & T-Shirts   \n",
       "5237                                 Women/Underwear/Bras   \n",
       "6175                                Electronics/Media/DVD   \n",
       "7116       Women/Athletic Apparel/Pants, Tights, Leggings   \n",
       "7622       Electronics/Cell Phones & Accessories/Headsets   \n",
       "10812                       Home/Seasonal Décor/Halloween   \n",
       "12738                               Kids/Boys 2T-5T/Shoes   \n",
       "17617                   Kids/Toys/Stuffed Animals & Plush   \n",
       "17831                                Women/Underwear/Bras   \n",
       "18324                                               Other   \n",
       "19909                          Men/Men's Accessories/Hats   \n",
       "20986                       Women/Tops & Blouses/T-Shirts   \n",
       "22876                Women/Women's Accessories/Sunglasses   \n",
       "24288                      Sports & Outdoors/Fan Shop/NFL   \n",
       "28091                            Kids/Boys 0-24 Mos/Shoes   \n",
       "28701                                               Other   \n",
       "29240                      Kids/Gear/Backpacks & Carriers   \n",
       "29702                       Women/Athletic Apparel/Shorts   \n",
       "29826                  Home/Home Décor/Decorative Pillows   \n",
       "33056                      Handmade/Bags and Purses/Pouch   \n",
       "33176                 Sports & Outdoors/Golf/Golf Apparel   \n",
       "33624                      Women/Women's Handbags/Satchel   \n",
       "33862                      Women/Dresses/Above Knee, Mini   \n",
       "35216                                Women/Underwear/Bras   \n",
       "38132                                   Men/Tops/T-shirts   \n",
       "39519                              Kids/Girls 2T-5T/Shoes   \n",
       "...                                                   ...   \n",
       "534865                                  Women/Shoes/Pumps   \n",
       "535205                     Kids/Boys (4+)/Coats & Jackets   \n",
       "538552                              Kids/Boys 2T-5T/Shoes   \n",
       "542457                     Sports & Outdoors/Fan Shop/MLB   \n",
       "548607                                 Beauty/Makeup/Face   \n",
       "549129                      Women/Tops & Blouses/Knit Top   \n",
       "549281  Electronics/TV, Audio & Surveillance/Portable ...   \n",
       "550058                       Men/Athletic Apparel/Jerseys   \n",
       "551227                      Women/Tops & Blouses/T-Shirts   \n",
       "551897           Electronics/Video Games & Consoles/Games   \n",
       "552027                      Women/Athletic Apparel/Shorts   \n",
       "552292                 Home/Home Décor/Decorative Pillows   \n",
       "552758            Women/Women's Handbags/Totes & Shoppers   \n",
       "559276                               Women/Underwear/Bras   \n",
       "563024                              Women/Underwear/Other   \n",
       "567066  Electronics/Cameras & Photography/Camera & Pho...   \n",
       "569656                 Women/Athletic Apparel/Sports Bras   \n",
       "570652                             Women/Jewelry/Earrings   \n",
       "572071  Electronics/Computers & Tablets/iPad/Tablet/eB...   \n",
       "576714               Women/Athletic Apparel/Shirts & Tops   \n",
       "577510                             Kids/Girls 2T-5T/Shoes   \n",
       "578186                       Women/Coats & Jackets/Puffer   \n",
       "578937                        Kids/Girls 0-24 Mos/Bottoms   \n",
       "581213                              Women/Sweaters/Hooded   \n",
       "581992                        Men/Sweats & Hoodies/Hoodie   \n",
       "582566                               Women/Underwear/Bras   \n",
       "584670                           Kids/Girls 2T-5T/Dresses   \n",
       "585941                          Beauty/Makeup/Makeup Sets   \n",
       "591436                 Kids/Boys 0-24 Mos/Tops & T-Shirts   \n",
       "592982            Women/Women's Handbags/Totes & Shoppers   \n",
       "\n",
       "                  brand_name  price  shipping  \\\n",
       "1325                  uknown    0.0         1   \n",
       "2544                 Levi's®    0.0         0   \n",
       "2712                  uknown    0.0         0   \n",
       "3576                  uknown    0.0         1   \n",
       "3761                  uknown    0.0         1   \n",
       "5237    Motherhood Maternity    0.0         0   \n",
       "6175                  uknown    0.0         1   \n",
       "7116                    Nike    0.0         1   \n",
       "7622                  uknown    0.0         0   \n",
       "10812                 uknown    0.0         0   \n",
       "12738         Janie and Jack    0.0         0   \n",
       "17617                 uknown    0.0         0   \n",
       "17831                 uknown    0.0         0   \n",
       "18324                 uknown    0.0         1   \n",
       "19909                   Obey    0.0         0   \n",
       "20986                 uknown    0.0         0   \n",
       "22876                 uknown    0.0         0   \n",
       "24288                 uknown    0.0         1   \n",
       "28091                   Nike    0.0         1   \n",
       "28701              Nordstrom    0.0         0   \n",
       "29240                    All    0.0         0   \n",
       "29702               Old Navy    0.0         0   \n",
       "29826                 uknown    0.0         0   \n",
       "33056                 uknown    0.0         1   \n",
       "33176               Bushnell    0.0         0   \n",
       "33624           Michael Kors    0.0         0   \n",
       "33862                 uknown    0.0         1   \n",
       "35216      Victoria's Secret    0.0         0   \n",
       "38132                 uknown    0.0         0   \n",
       "39519                   Nike    0.0         0   \n",
       "...                      ...    ...       ...   \n",
       "534865            FOREVER 21    0.0         1   \n",
       "535205                  Nike    0.0         0   \n",
       "538552                uknown    0.0         1   \n",
       "542457                uknown    0.0         0   \n",
       "548607          bareMinerals    0.0         0   \n",
       "549129                  LOFT    0.0         0   \n",
       "549281                uknown    0.0         1   \n",
       "550058                  Nike    0.0         1   \n",
       "551227             Hot Topic    0.0         0   \n",
       "551897                uknown    0.0         1   \n",
       "552027               Athleta    0.0         0   \n",
       "552292                uknown    0.0         1   \n",
       "552758             Lululemon    0.0         0   \n",
       "559276                  PINK    0.0         0   \n",
       "563024                 SPANX    0.0         0   \n",
       "567066                uknown    0.0         0   \n",
       "569656          Calvin Klein    0.0         1   \n",
       "570652                uknown    0.0         1   \n",
       "572071                 Apple    0.0         0   \n",
       "576714                  Nike    0.0         0   \n",
       "577510                uknown    0.0         0   \n",
       "578186   Abercrombie & Fitch    0.0         0   \n",
       "578937                uknown    0.0         0   \n",
       "581213   Abercrombie & Fitch    0.0         1   \n",
       "581992                uknown    0.0         1   \n",
       "582566     Victoria's Secret    0.0         0   \n",
       "584670              Old Navy    0.0         0   \n",
       "585941                uknown    0.0         1   \n",
       "591436              Carter's    0.0         0   \n",
       "592982     Victoria's Secret    0.0         1   \n",
       "\n",
       "                                         item_description  \n",
       "1325    TOP QUALITY THICK LANYARD Reversible sides wit...  \n",
       "2544    Light wash. Hardly worn. Size 24 but fits like...  \n",
       "2712    Very simple but cute, a little form fitting as...  \n",
       "3576                                              1 left!  \n",
       "3761    5 pair gap jean excellent used condition 3 chi...  \n",
       "5237           Used a few times but was not able to nurse  \n",
       "6175    1)Large Collection of Full Length Strawberry S...  \n",
       "7116    Bought at Nike store in New York, Brand New, N...  \n",
       "7622    Wireless Bluetooth hands free used with Samsun...  \n",
       "10812                    New good condition for halloween  \n",
       "12738                                            Like New  \n",
       "17617   Coca Cola plush adorable bears to start your c...  \n",
       "17831                 Holographic Sequin bra 36B No brand  \n",
       "18324   100% plastic free straw bottle easily transiti...  \n",
       "19909   A friend sold me this hat although I don't wea...  \n",
       "20986   Really cute sleeveless tee! Perfect for that s...  \n",
       "22876   But directly from Quay Have worn 3 times Alway...  \n",
       "24288   Autographed by former Bills star running back ...  \n",
       "28091            Bought from another seller and too small  \n",
       "28701   From nordstroms. Literally worn once but was t...  \n",
       "29240   Super comfy infant carrier in color \"eggplant\"...  \n",
       "29702   Old Navy white with small black polka dots wov...  \n",
       "29826   Accent pillows liven up a room & give it insta...  \n",
       "33056   Leather coin purse hand made by me with viking...  \n",
       "33176   Mens Bushnell Golf watch NWOT If you are a gol...  \n",
       "33624   Brand new Dark dune color Willing to create bu...  \n",
       "33862   Very short comes with a thong. It was advertis...  \n",
       "35216                                       34DD hot pink  \n",
       "38132   Very rare vlone serpent t shirt Worn once!! Pr...  \n",
       "39519   This is a used pair of Jordan shoe's girls siz...  \n",
       "...                                                   ...  \n",
       "534865  Bought them as a present for someone, ended up...  \n",
       "535205  Black hoodie Gray and orange hoodie Pink Ultim...  \n",
       "538552         Little kids 8c/ good condition/ light wear  \n",
       "542457  Bernie William Cool-base Jersey Condition 10/1...  \n",
       "548607  Very gently used bronzer trio. Love bare miner...  \n",
       "549129  Gently worn. Size medium but can also fit a la...  \n",
       "549281  MP4 Black Music Player There is NO charger inc...  \n",
       "550058                                     Only worn once  \n",
       "551227         Size small. Never worn. No flaws or damage  \n",
       "551897                                   Price negotiable  \n",
       "552027  Dark brown. GUC. No flaw. Minor piling (pic4),...  \n",
       "552292                                 No description yet  \n",
       "552758                      Four lululemon shopping bags.  \n",
       "559276                    Size Small, crosses in the back  \n",
       "563024                                              Black  \n",
       "567066                                   UK PRO Pole 38HD  \n",
       "569656  Brand: CALVIN KLEIN ( Yes this is ACTUAL Brand...  \n",
       "570652     Never worn. Got as a gift, I don't wear hoops.  \n",
       "572071                 Broken LCD (removed) iCloud locked  \n",
       "576714  Nike pro workout tank. Worn 3 times max. Paid ...  \n",
       "577510                                     Good condition  \n",
       "578186  Bought this a few years ago and have too many ...  \n",
       "578937  Baby girl donut leggings. Size 0-3months. Like...  \n",
       "581213  For sale is a pre owned Abercrombie & Fitch wo...  \n",
       "581992  Size large men's black hoodie zip up Authentic...  \n",
       "582566  VSDC very sexy balconet bra. NWT. Cream color,...  \n",
       "584670                                           Like new  \n",
       "585941  Moda brushes, temptu highlighter, winky lux ey...  \n",
       "591436  Super Adorable! Onesie & Pants Set Size 3 Mont...  \n",
       "592982  This Victoria's Secret tote bag my friend gave...  \n",
       "\n",
       "[311 rows x 8 columns]"
      ]
     },
     "execution_count": 13,
     "metadata": {},
     "output_type": "execute_result"
    }
   ],
   "source": [
    "train[train.price==0]"
   ]
  },
  {
   "cell_type": "code",
   "execution_count": 14,
   "metadata": {},
   "outputs": [
    {
     "data": {
      "text/plain": [
       "(311, 8)"
      ]
     },
     "execution_count": 14,
     "metadata": {},
     "output_type": "execute_result"
    }
   ],
   "source": [
    "# We have 311 items with price of $0. Let's take them out because it looks like an error on their part. \n",
    "train[train.price==0].shape"
   ]
  },
  {
   "cell_type": "code",
   "execution_count": 15,
   "metadata": {},
   "outputs": [
    {
     "data": {
      "text/plain": [
       "(593065, 8)"
      ]
     },
     "execution_count": 15,
     "metadata": {},
     "output_type": "execute_result"
    }
   ],
   "source": [
    "# Remove items with price of $0 from our training set\n",
    "train = train[train.price != 0]\n",
    "train.shape"
   ]
  },
  {
   "cell_type": "markdown",
   "metadata": {
    "collapsed": true
   },
   "source": [
    "## Shipping Distribution"
   ]
  },
  {
   "cell_type": "code",
   "execution_count": 16,
   "metadata": {},
   "outputs": [
    {
     "data": {
      "text/plain": [
       "0    0.553671\n",
       "1    0.446329\n",
       "Name: shipping, dtype: float64"
      ]
     },
     "execution_count": 16,
     "metadata": {},
     "output_type": "execute_result"
    }
   ],
   "source": [
    "train['shipping'].value_counts() / len(train)"
   ]
  },
  {
   "cell_type": "markdown",
   "metadata": {},
   "source": [
    "## Price Distribution by Shipping Type"
   ]
  },
  {
   "cell_type": "markdown",
   "metadata": {},
   "source": [
    "Seems about right. Shipping does increase the price value and confirms our intiution. "
   ]
  },
  {
   "cell_type": "code",
   "execution_count": 17,
   "metadata": {},
   "outputs": [
    {
     "data": {
      "image/png": "[encoded data removed]",
      "text/plain": [
       "<matplotlib.figure.Figure at 0x1b91440c390>"
      ]
     },
     "metadata": {},
     "output_type": "display_data"
    }
   ],
   "source": [
    "shipping_fee_by_buyer = train.loc[train['shipping'] == 0, 'price']\n",
    "shipping_fee_by_seller = train.loc[train['shipping'] == 1, 'price']\n",
    "\n",
    "fig, ax = plt.subplots(figsize=(18,8))\n",
    "\n",
    "ax.hist(shipping_fee_by_seller, color='blue', alpha=1.0, bins=50, range = [0, 100],label='Price when Seller pays Shipping')\n",
    "ax.hist(shipping_fee_by_buyer, color='red', alpha=0.7, bins=50, range = [0, 100],label='Price when Buyer pays Shipping')\n",
    "\n",
    "plt.xlabel('price', fontsize=12)\n",
    "plt.ylabel('frequency', fontsize=12)\n",
    "plt.title('Price Distribution by Shipping Type', fontsize=15)\n",
    "plt.tick_params(labelsize=12)\n",
    "plt.legend()\n",
    "plt.show()"
   ]
  },
  {
   "cell_type": "markdown",
   "metadata": {},
   "source": [
    "# Average Price for Shipping Type"
   ]
  },
  {
   "cell_type": "code",
   "execution_count": 18,
   "metadata": {},
   "outputs": [
    {
     "name": "stdout",
     "output_type": "stream",
     "text": [
      "The average price is 22.52 if seller pays shipping\n",
      "The average price is 30.07 if buyer pays shipping\n"
     ]
    }
   ],
   "source": [
    "print('The average price is {}'.format(round(shipping_fee_by_seller.mean(), 2)), 'if seller pays shipping');\n",
    "print('The average price is {}'.format(round(shipping_fee_by_buyer.mean(), 2)), 'if buyer pays shipping')"
   ]
  },
  {
   "cell_type": "markdown",
   "metadata": {},
   "source": [
    "## Top 10 Categories"
   ]
  },
  {
   "cell_type": "code",
   "execution_count": 19,
   "metadata": {
    "scrolled": true
   },
   "outputs": [
    {
     "data": {
      "text/html": [
       "<div>\n",
       "<style>\n",
       "    .dataframe thead tr:only-child th {\n",
       "        text-align: right;\n",
       "    }\n",
       "\n",
       "    .dataframe thead th {\n",
       "        text-align: left;\n",
       "    }\n",
       "\n",
       "    .dataframe tbody tr th {\n",
       "        vertical-align: top;\n",
       "    }\n",
       "</style>\n",
       "<table border=\"1\" class=\"dataframe\">\n",
       "  <thead>\n",
       "    <tr style=\"text-align: right;\">\n",
       "      <th></th>\n",
       "      <th>index</th>\n",
       "      <th>category_name</th>\n",
       "    </tr>\n",
       "  </thead>\n",
       "  <tbody>\n",
       "    <tr>\n",
       "      <th>0</th>\n",
       "      <td>Women/Athletic Apparel/Pants, Tights, Leggings</td>\n",
       "      <td>23831</td>\n",
       "    </tr>\n",
       "    <tr>\n",
       "      <th>1</th>\n",
       "      <td>Women/Tops &amp; Blouses/T-Shirts</td>\n",
       "      <td>18556</td>\n",
       "    </tr>\n",
       "    <tr>\n",
       "      <th>2</th>\n",
       "      <td>Beauty/Makeup/Face</td>\n",
       "      <td>13726</td>\n",
       "    </tr>\n",
       "    <tr>\n",
       "      <th>3</th>\n",
       "      <td>Beauty/Makeup/Lips</td>\n",
       "      <td>11878</td>\n",
       "    </tr>\n",
       "    <tr>\n",
       "      <th>4</th>\n",
       "      <td>Electronics/Video Games &amp; Consoles/Games</td>\n",
       "      <td>10643</td>\n",
       "    </tr>\n",
       "    <tr>\n",
       "      <th>5</th>\n",
       "      <td>Beauty/Makeup/Eyes</td>\n",
       "      <td>10228</td>\n",
       "    </tr>\n",
       "    <tr>\n",
       "      <th>6</th>\n",
       "      <td>Electronics/Cell Phones &amp; Accessories/Cases, C...</td>\n",
       "      <td>9876</td>\n",
       "    </tr>\n",
       "    <tr>\n",
       "      <th>7</th>\n",
       "      <td>Women/Underwear/Bras</td>\n",
       "      <td>8577</td>\n",
       "    </tr>\n",
       "    <tr>\n",
       "      <th>8</th>\n",
       "      <td>Women/Tops &amp; Blouses/Tank, Cami</td>\n",
       "      <td>8165</td>\n",
       "    </tr>\n",
       "    <tr>\n",
       "      <th>9</th>\n",
       "      <td>Women/Tops &amp; Blouses/Blouse</td>\n",
       "      <td>8153</td>\n",
       "    </tr>\n",
       "  </tbody>\n",
       "</table>\n",
       "</div>"
      ],
      "text/plain": [
       "                                               index  category_name\n",
       "0     Women/Athletic Apparel/Pants, Tights, Leggings          23831\n",
       "1                      Women/Tops & Blouses/T-Shirts          18556\n",
       "2                                 Beauty/Makeup/Face          13726\n",
       "3                                 Beauty/Makeup/Lips          11878\n",
       "4           Electronics/Video Games & Consoles/Games          10643\n",
       "5                                 Beauty/Makeup/Eyes          10228\n",
       "6  Electronics/Cell Phones & Accessories/Cases, C...           9876\n",
       "7                               Women/Underwear/Bras           8577\n",
       "8                    Women/Tops & Blouses/Tank, Cami           8165\n",
       "9                        Women/Tops & Blouses/Blouse           8153"
      ]
     },
     "execution_count": 19,
     "metadata": {},
     "output_type": "execute_result"
    }
   ],
   "source": [
    "top_10_category = train['category_name'].value_counts()[:10].reset_index()\n",
    "top_10_category"
   ]
  },
  {
   "cell_type": "markdown",
   "metadata": {},
   "source": [
    "# Top 10 Categories Distribution"
   ]
  },
  {
   "cell_type": "code",
   "execution_count": 20,
   "metadata": {},
   "outputs": [
    {
     "data": {
      "image/png": "[encoded data removed]",
      "text/plain": [
       "<matplotlib.figure.Figure at 0x1b906548630>"
      ]
     },
     "metadata": {},
     "output_type": "display_data"
    }
   ],
   "source": [
    "top_10_category = train['category_name'].value_counts()[:10].reset_index()\n",
    "\n",
    "sns.set(style=\"whitegrid\")\n",
    "\n",
    "# Initialize the matplotlib figure\n",
    "f, ax = plt.subplots(figsize=(15, 10))\n",
    "\n",
    "# Plot the total items per category\n",
    "sns.set_color_codes(\"pastel\")\n",
    "sns.barplot(x=\"category_name\", y='index', data=top_10_category,\n",
    "            label=\"# Items\", color=\"g\")\n",
    "\n",
    "# Add a legend and informative axis label\n",
    "ax.set( ylabel=\"Item Category\", title='# Item Per Category',\n",
    "       xlabel=\"# of Items\")\n",
    "\n",
    "plt.show()"
   ]
  },
  {
   "cell_type": "markdown",
   "metadata": {},
   "source": [
    "## Create new Feature by Splitting Category\n",
    "\n",
    "There's a format in the category feature: **Root Category/Category/Subcategory**. In the given dataset also it is following the same trend so we need to split the category and save each of them in a separate column."
   ]
  },
  {
   "cell_type": "code",
   "execution_count": 21,
   "metadata": {
    "scrolled": true
   },
   "outputs": [],
   "source": [
    "# Feature Engineering (1): Creating new Category Features\n",
    "def transform_category_name(category_name):\n",
    "    try:\n",
    "        main, sub1, sub2= category_name.split('/')\n",
    "        return main, sub1, sub2\n",
    "    except:\n",
    "        return 'Other','Other','Other'"
   ]
  },
  {
   "cell_type": "code",
   "execution_count": 22,
   "metadata": {},
   "outputs": [
    {
     "data": {
      "text/html": [
       "<div>\n",
       "<style>\n",
       "    .dataframe thead tr:only-child th {\n",
       "        text-align: right;\n",
       "    }\n",
       "\n",
       "    .dataframe thead th {\n",
       "        text-align: left;\n",
       "    }\n",
       "\n",
       "    .dataframe tbody tr th {\n",
       "        vertical-align: top;\n",
       "    }\n",
       "</style>\n",
       "<table border=\"1\" class=\"dataframe\">\n",
       "  <thead>\n",
       "    <tr style=\"text-align: right;\">\n",
       "      <th></th>\n",
       "      <th>category_main</th>\n",
       "      <th>category_sub1</th>\n",
       "      <th>category_sub2</th>\n",
       "      <th>price</th>\n",
       "    </tr>\n",
       "  </thead>\n",
       "  <tbody>\n",
       "    <tr>\n",
       "      <th>0</th>\n",
       "      <td>Men</td>\n",
       "      <td>Tops</td>\n",
       "      <td>T-shirts</td>\n",
       "      <td>10.0</td>\n",
       "    </tr>\n",
       "    <tr>\n",
       "      <th>1</th>\n",
       "      <td>Electronics</td>\n",
       "      <td>Computers &amp; Tablets</td>\n",
       "      <td>Components &amp; Parts</td>\n",
       "      <td>52.0</td>\n",
       "    </tr>\n",
       "    <tr>\n",
       "      <th>2</th>\n",
       "      <td>Women</td>\n",
       "      <td>Tops &amp; Blouses</td>\n",
       "      <td>Blouse</td>\n",
       "      <td>10.0</td>\n",
       "    </tr>\n",
       "    <tr>\n",
       "      <th>3</th>\n",
       "      <td>Home</td>\n",
       "      <td>Home Décor</td>\n",
       "      <td>Home Décor Accents</td>\n",
       "      <td>35.0</td>\n",
       "    </tr>\n",
       "    <tr>\n",
       "      <th>4</th>\n",
       "      <td>Women</td>\n",
       "      <td>Jewelry</td>\n",
       "      <td>Necklaces</td>\n",
       "      <td>44.0</td>\n",
       "    </tr>\n",
       "  </tbody>\n",
       "</table>\n",
       "</div>"
      ],
      "text/plain": [
       "  category_main        category_sub1       category_sub2  price\n",
       "0           Men                 Tops            T-shirts   10.0\n",
       "1   Electronics  Computers & Tablets  Components & Parts   52.0\n",
       "2         Women       Tops & Blouses              Blouse   10.0\n",
       "3          Home           Home Décor  Home Décor Accents   35.0\n",
       "4         Women              Jewelry           Necklaces   44.0"
      ]
     },
     "execution_count": 22,
     "metadata": {},
     "output_type": "execute_result"
    }
   ],
   "source": [
    "train['category_main'], train['category_sub1'], train['category_sub2'] = zip(*train['category_name'].apply(transform_category_name))\n",
    "\n",
    "cat_train = train[['category_main','category_sub1','category_sub2', 'price']]\n",
    "\n",
    "cat_train.head()"
   ]
  },
  {
   "cell_type": "markdown",
   "metadata": {},
   "source": [
    "# Top 10 Main Category\n",
    "Women and beauty products make up the most of the items. This is interesting because it allows us to know who are users are, which we can then probably do some sort of targeted marketing..."
   ]
  },
  {
   "cell_type": "code",
   "execution_count": 23,
   "metadata": {
    "scrolled": true
   },
   "outputs": [
    {
     "data": {
      "image/png": "[encoded data removed]",
      "text/plain": [
       "<matplotlib.figure.Figure at 0x1b9196172b0>"
      ]
     },
     "metadata": {},
     "output_type": "display_data"
    }
   ],
   "source": [
    "plt.figure(figsize=(17,10))\n",
    "sns.countplot(y = train['category_main'], order = train['category_main'].value_counts().index, orient = 'v')\n",
    "plt.title('Top 10 Main Categories', fontsize = 25)\n",
    "plt.ylabel('Main Category', fontsize = 20)\n",
    "plt.xlabel('Number of Items')\n",
    "plt.show()"
   ]
  },
  {
   "cell_type": "markdown",
   "metadata": {},
   "source": [
    "# Ratio of Main Category \n",
    "Women takes up about 45 percent of the main category"
   ]
  },
  {
   "cell_type": "code",
   "execution_count": 24,
   "metadata": {
    "scrolled": true
   },
   "outputs": [
    {
     "data": {
      "text/plain": [
       "Women                     0.448060\n",
       "Beauty                    0.140431\n",
       "Kids                      0.115244\n",
       "Electronics               0.080880\n",
       "Men                       0.062993\n",
       "Home                      0.046059\n",
       "Other                     0.037964\n",
       "Vintage & Collectibles    0.031481\n",
       "Handmade                  0.020662\n",
       "Sports & Outdoors         0.016226\n",
       "Name: category_main, dtype: float64"
      ]
     },
     "execution_count": 24,
     "metadata": {},
     "output_type": "execute_result"
    }
   ],
   "source": [
    "# Look at the ratio of category for items\n",
    "train['category_main'].value_counts()/len(train)"
   ]
  },
  {
   "cell_type": "markdown",
   "metadata": {},
   "source": [
    "# Brand Analysis"
   ]
  },
  {
   "cell_type": "markdown",
   "metadata": {},
   "source": [
    "There is about 3750 unique brands "
   ]
  },
  {
   "cell_type": "code",
   "execution_count": 25,
   "metadata": {},
   "outputs": [
    {
     "data": {
      "text/plain": [
       "3751"
      ]
     },
     "execution_count": 25,
     "metadata": {},
     "output_type": "execute_result"
    }
   ],
   "source": [
    "# Amount of unique brand names\n",
    "train['brand_name'].nunique()"
   ]
  },
  {
   "cell_type": "code",
   "execution_count": 26,
   "metadata": {
    "scrolled": true
   },
   "outputs": [
    {
     "data": {
      "image/png": "[encoded data removed]",
      "text/plain": [
       "<matplotlib.figure.Figure at 0x1b9338359e8>"
      ]
     },
     "metadata": {},
     "output_type": "display_data"
    }
   ],
   "source": [
    "# Top 20 Brand Distribution\n",
    "b20 = train['brand_name'].value_counts()[1:20].reset_index().rename(columns={'index': 'brand_name', 'brand_name':'count'})\n",
    "ax = sns.barplot(x=\"brand_name\", y=\"count\", data=b20)\n",
    "ax.set_xticklabels(ax.get_xticklabels(),rotation=90)\n",
    "ax.set_title('Top 20 Brand Distribution', fontsize=15)\n",
    "plt.show()"
   ]
  },
  {
   "cell_type": "markdown",
   "metadata": {},
   "source": [
    "## Top 20 Expensive Brands"
   ]
  },
  {
   "cell_type": "code",
   "execution_count": 27,
   "metadata": {},
   "outputs": [
    {
     "data": {
      "image/png": "[encoded data removed]",
      "text/plain": [
       "<matplotlib.figure.Figure at 0x1b933889080>"
      ]
     },
     "metadata": {},
     "output_type": "display_data"
    }
   ],
   "source": [
    "top_20_exp_brand = pd.DataFrame(train.groupby(['brand_name'],as_index=True).std().price.sort_values(ascending=False)[0:20]).reset_index()\n",
    "ax = sns.barplot(x=\"brand_name\", y=\"price\", data=top_20_exp_brand)\n",
    "ax.set_xticklabels(ax.get_xticklabels(),rotation=90)\n",
    "ax.set_title('Top 20 Expensive Brand Distribution', fontsize=15)\n",
    "plt.show()"
   ]
  },
  {
   "cell_type": "markdown",
   "metadata": {},
   "source": [
    "# Length of Description VS Price"
   ]
  },
  {
   "cell_type": "markdown",
   "metadata": {},
   "source": [
    "Does the length of description have some affect on pricing? "
   ]
  },
  {
   "cell_type": "code",
   "execution_count": 28,
   "metadata": {
    "scrolled": false
   },
   "outputs": [
    {
     "name": "stderr",
     "output_type": "stream",
     "text": [
      "C:\\Users\\Randy\\Anaconda3\\lib\\site-packages\\ipykernel_launcher.py:4: SettingWithCopyWarning: \n",
      "A value is trying to be set on a copy of a slice from a DataFrame.\n",
      "Try using .loc[row_indexer,col_indexer] = value instead\n",
      "\n",
      "See the caveats in the documentation: http://pandas.pydata.org/pandas-docs/stable/indexing.html#indexing-view-versus-copy\n",
      "  after removing the cwd from sys.path.\n"
     ]
    },
    {
     "data": {
      "text/html": [
       "<div>\n",
       "<style>\n",
       "    .dataframe thead tr:only-child th {\n",
       "        text-align: right;\n",
       "    }\n",
       "\n",
       "    .dataframe thead th {\n",
       "        text-align: left;\n",
       "    }\n",
       "\n",
       "    .dataframe tbody tr th {\n",
       "        vertical-align: top;\n",
       "    }\n",
       "</style>\n",
       "<table border=\"1\" class=\"dataframe\">\n",
       "  <thead>\n",
       "    <tr style=\"text-align: right;\">\n",
       "      <th></th>\n",
       "      <th>name</th>\n",
       "      <th>item_description</th>\n",
       "      <th>price</th>\n",
       "      <th>count</th>\n",
       "    </tr>\n",
       "  </thead>\n",
       "  <tbody>\n",
       "    <tr>\n",
       "      <th>0</th>\n",
       "      <td>MLB Cincinnati Reds T Shirt Size XL</td>\n",
       "      <td>No description yet</td>\n",
       "      <td>10.0</td>\n",
       "      <td>18</td>\n",
       "    </tr>\n",
       "    <tr>\n",
       "      <th>1</th>\n",
       "      <td>Razer BlackWidow Chroma Keyboard</td>\n",
       "      <td>This keyboard is in great condition and works ...</td>\n",
       "      <td>52.0</td>\n",
       "      <td>188</td>\n",
       "    </tr>\n",
       "    <tr>\n",
       "      <th>2</th>\n",
       "      <td>AVA-VIV Blouse</td>\n",
       "      <td>Adorable top with a hint of lace and a key hol...</td>\n",
       "      <td>10.0</td>\n",
       "      <td>124</td>\n",
       "    </tr>\n",
       "    <tr>\n",
       "      <th>3</th>\n",
       "      <td>Leather Horse Statues</td>\n",
       "      <td>New with tags. Leather horses. Retail for [rm]...</td>\n",
       "      <td>35.0</td>\n",
       "      <td>173</td>\n",
       "    </tr>\n",
       "    <tr>\n",
       "      <th>4</th>\n",
       "      <td>24K GOLD plated rose</td>\n",
       "      <td>Complete with certificate of authenticity</td>\n",
       "      <td>44.0</td>\n",
       "      <td>41</td>\n",
       "    </tr>\n",
       "  </tbody>\n",
       "</table>\n",
       "</div>"
      ],
      "text/plain": [
       "                                  name  \\\n",
       "0  MLB Cincinnati Reds T Shirt Size XL   \n",
       "1     Razer BlackWidow Chroma Keyboard   \n",
       "2                       AVA-VIV Blouse   \n",
       "3                Leather Horse Statues   \n",
       "4                 24K GOLD plated rose   \n",
       "\n",
       "                                    item_description  price  count  \n",
       "0                                 No description yet   10.0     18  \n",
       "1  This keyboard is in great condition and works ...   52.0    188  \n",
       "2  Adorable top with a hint of lace and a key hol...   10.0    124  \n",
       "3  New with tags. Leather horses. Retail for [rm]...   35.0    173  \n",
       "4          Complete with certificate of authenticity   44.0     41  "
      ]
     },
     "execution_count": 28,
     "metadata": {},
     "output_type": "execute_result"
    }
   ],
   "source": [
    "train.item_description = train.item_description.astype(str)\n",
    "\n",
    "descr = train[['name','item_description', 'price']]\n",
    "descr['count'] = descr['item_description'].apply(lambda x : len(str(x)))\n",
    "descr.head()"
   ]
  },
  {
   "cell_type": "code",
   "execution_count": 29,
   "metadata": {},
   "outputs": [
    {
     "data": {
      "image/png": "[encoded data removed]",
      "text/plain": [
       "<matplotlib.figure.Figure at 0x1b9338750f0>"
      ]
     },
     "metadata": {},
     "output_type": "display_data"
    }
   ],
   "source": [
    "df = descr.groupby('count')['price'].mean().reset_index()\n",
    "sns.regplot(x=df[\"count\"], y=(df[\"price\"]))\n",
    "plt.xlabel(\"word count\")\n",
    "plt.show()"
   ]
  },
  {
   "cell_type": "markdown",
   "metadata": {},
   "source": [
    "# Text Processing\n",
    "***\n",
    "Let's normalize the words by:\n",
    "- Removing Punctuations\n",
    "- Removing Stop Words\n",
    "- Lowercasing the Words\n",
    "- Stemming the Words"
   ]
  },
  {
   "cell_type": "markdown",
   "metadata": {},
   "source": [
    "### List of Punctuations"
   ]
  },
  {
   "cell_type": "code",
   "execution_count": 30,
   "metadata": {},
   "outputs": [
    {
     "data": {
      "text/plain": [
       "'!\"#$%&\\'()*+,-./:;<=>?@[\\\\]^_`{|}~'"
      ]
     },
     "execution_count": 30,
     "metadata": {},
     "output_type": "execute_result"
    }
   ],
   "source": [
    "from string import punctuation\n",
    "punctuation"
   ]
  },
  {
   "cell_type": "code",
   "execution_count": 31,
   "metadata": {},
   "outputs": [
    {
     "data": {
      "text/plain": [
       "[('!', ''),\n",
       " ('\"', ''),\n",
       " ('#', ''),\n",
       " ('$', ''),\n",
       " ('%', ''),\n",
       " ('&', ''),\n",
       " (\"'\", ''),\n",
       " ('(', ''),\n",
       " (')', ''),\n",
       " ('*', ''),\n",
       " ('+', ''),\n",
       " (',', ''),\n",
       " ('-', ''),\n",
       " ('.', ''),\n",
       " ('/', ''),\n",
       " (':', ''),\n",
       " (';', ''),\n",
       " ('<', ''),\n",
       " ('=', ''),\n",
       " ('>', ''),\n",
       " ('?', ''),\n",
       " ('@', ''),\n",
       " ('[', ''),\n",
       " ('\\\\', ''),\n",
       " (']', ''),\n",
       " ('^', ''),\n",
       " ('_', ''),\n",
       " ('`', ''),\n",
       " ('{', ''),\n",
       " ('|', ''),\n",
       " ('}', ''),\n",
       " ('~', '')]"
      ]
     },
     "execution_count": 31,
     "metadata": {},
     "output_type": "execute_result"
    }
   ],
   "source": [
    "# Create a list of punctuation replacements\n",
    "punctuation_symbols = []\n",
    "for symbol in punctuation:\n",
    "    punctuation_symbols.append((symbol, ''))\n",
    "    \n",
    "punctuation_symbols"
   ]
  },
  {
   "cell_type": "markdown",
   "metadata": {},
   "source": [
    "### List of Stop Words"
   ]
  },
  {
   "cell_type": "code",
   "execution_count": 32,
   "metadata": {},
   "outputs": [
    {
     "data": {
      "text/plain": [
       "['i',\n",
       " 'me',\n",
       " 'my',\n",
       " 'myself',\n",
       " 'we',\n",
       " 'our',\n",
       " 'ours',\n",
       " 'ourselves',\n",
       " 'you',\n",
       " \"you're\",\n",
       " \"you've\",\n",
       " \"you'll\",\n",
       " \"you'd\",\n",
       " 'your',\n",
       " 'yours',\n",
       " 'yourself',\n",
       " 'yourselves',\n",
       " 'he',\n",
       " 'him',\n",
       " 'his',\n",
       " 'himself',\n",
       " 'she',\n",
       " \"she's\",\n",
       " 'her',\n",
       " 'hers',\n",
       " 'herself',\n",
       " 'it',\n",
       " \"it's\",\n",
       " 'its',\n",
       " 'itself',\n",
       " 'they',\n",
       " 'them',\n",
       " 'their',\n",
       " 'theirs',\n",
       " 'themselves',\n",
       " 'what',\n",
       " 'which',\n",
       " 'who',\n",
       " 'whom',\n",
       " 'this',\n",
       " 'that',\n",
       " \"that'll\",\n",
       " 'these',\n",
       " 'those',\n",
       " 'am',\n",
       " 'is',\n",
       " 'are',\n",
       " 'was',\n",
       " 'were',\n",
       " 'be',\n",
       " 'been',\n",
       " 'being',\n",
       " 'have',\n",
       " 'has',\n",
       " 'had',\n",
       " 'having',\n",
       " 'do',\n",
       " 'does',\n",
       " 'did',\n",
       " 'doing',\n",
       " 'a',\n",
       " 'an',\n",
       " 'the',\n",
       " 'and',\n",
       " 'but',\n",
       " 'if',\n",
       " 'or',\n",
       " 'because',\n",
       " 'as',\n",
       " 'until',\n",
       " 'while',\n",
       " 'of',\n",
       " 'at',\n",
       " 'by',\n",
       " 'for',\n",
       " 'with',\n",
       " 'about',\n",
       " 'against',\n",
       " 'between',\n",
       " 'into',\n",
       " 'through',\n",
       " 'during',\n",
       " 'before',\n",
       " 'after',\n",
       " 'above',\n",
       " 'below',\n",
       " 'to',\n",
       " 'from',\n",
       " 'up',\n",
       " 'down',\n",
       " 'in',\n",
       " 'out',\n",
       " 'on',\n",
       " 'off',\n",
       " 'over',\n",
       " 'under',\n",
       " 'again',\n",
       " 'further',\n",
       " 'then',\n",
       " 'once',\n",
       " 'here',\n",
       " 'there',\n",
       " 'when',\n",
       " 'where',\n",
       " 'why',\n",
       " 'how',\n",
       " 'all',\n",
       " 'any',\n",
       " 'both',\n",
       " 'each',\n",
       " 'few',\n",
       " 'more',\n",
       " 'most',\n",
       " 'other',\n",
       " 'some',\n",
       " 'such',\n",
       " 'no',\n",
       " 'nor',\n",
       " 'not',\n",
       " 'only',\n",
       " 'own',\n",
       " 'same',\n",
       " 'so',\n",
       " 'than',\n",
       " 'too',\n",
       " 'very',\n",
       " 's',\n",
       " 't',\n",
       " 'can',\n",
       " 'will',\n",
       " 'just',\n",
       " 'don',\n",
       " \"don't\",\n",
       " 'should',\n",
       " \"should've\",\n",
       " 'now',\n",
       " 'd',\n",
       " 'll',\n",
       " 'm',\n",
       " 'o',\n",
       " 're',\n",
       " 've',\n",
       " 'y',\n",
       " 'ain',\n",
       " 'aren',\n",
       " \"aren't\",\n",
       " 'couldn',\n",
       " \"couldn't\",\n",
       " 'didn',\n",
       " \"didn't\",\n",
       " 'doesn',\n",
       " \"doesn't\",\n",
       " 'hadn',\n",
       " \"hadn't\",\n",
       " 'hasn',\n",
       " \"hasn't\",\n",
       " 'haven',\n",
       " \"haven't\",\n",
       " 'isn',\n",
       " \"isn't\",\n",
       " 'ma',\n",
       " 'mightn',\n",
       " \"mightn't\",\n",
       " 'mustn',\n",
       " \"mustn't\",\n",
       " 'needn',\n",
       " \"needn't\",\n",
       " 'shan',\n",
       " \"shan't\",\n",
       " 'shouldn',\n",
       " \"shouldn't\",\n",
       " 'wasn',\n",
       " \"wasn't\",\n",
       " 'weren',\n",
       " \"weren't\",\n",
       " 'won',\n",
       " \"won't\",\n",
       " 'wouldn',\n",
       " \"wouldn't\"]"
      ]
     },
     "execution_count": 32,
     "metadata": {},
     "output_type": "execute_result"
    }
   ],
   "source": [
    "# Examine list of stop words\n",
    "from nltk.corpus import stopwords\n",
    "stop = stopwords.words('english')\n",
    "stop"
   ]
  },
  {
   "cell_type": "markdown",
   "metadata": {},
   "source": [
    "### Create Functions to Normalize the Words"
   ]
  },
  {
   "cell_type": "code",
   "execution_count": 33,
   "metadata": {
    "collapsed": true
   },
   "outputs": [],
   "source": [
    "import string\n",
    "\n",
    "# Create a function to remove punctuations\n",
    "def remove_punctuation(sentence: str) -> str:\n",
    "    return sentence.translate(str.maketrans('', '', string.punctuation))\n",
    "\n",
    "# Create a function to remove stop words\n",
    "def remove_stop_words(x):\n",
    "    x = ' '.join([i for i in x.lower().split(' ') if i not in stop])\n",
    "    return x\n",
    "\n",
    "# Create a function to lowercase the words\n",
    "def to_lower(x):\n",
    "    return x.lower()\n"
   ]
  },
  {
   "cell_type": "markdown",
   "metadata": {},
   "source": [
    "### Apply Normalizing Functions"
   ]
  },
  {
   "cell_type": "code",
   "execution_count": 34,
   "metadata": {
    "collapsed": true
   },
   "outputs": [],
   "source": [
    "# Stem the Words\n",
    "from nltk.stem.porter import PorterStemmer\n",
    "porter = PorterStemmer()\n",
    "train['item_description'] = train['item_description'].apply(porter.stem)\n",
    "\n",
    "train['item_description'] = train['item_description'].apply(remove_punctuation)\n",
    "train['item_description'] = train['item_description'].apply(remove_stop_words)\n",
    "train['item_description'] = train['item_description'].apply(to_lower)\n",
    "\n",
    "train['name'] = train['name'].apply(remove_punctuation)\n",
    "train['name'] = train['name'].apply(remove_stop_words)\n",
    "train['name'] = train['name'].apply(to_lower)"
   ]
  },
  {
   "cell_type": "markdown",
   "metadata": {},
   "source": [
    "# Feature Extraction with Text\n",
    "***"
   ]
  },
  {
   "cell_type": "markdown",
   "metadata": {},
   "source": [
    "**Feature Pre-Processing:**\n",
    "Sometimes you can't just fit a dataset into your model and expect good results. Each type of feature has their own way of preprocessing. Choice of preprocessing method also depends on the model we are trying to use.\n",
    "\n",
    "Since we're working with Text Features, we're going to do a lot of vectorization:\n",
    "- Tokenization: split each text into words (bag of words model)\n",
    "- Stemming: removing word inflections (getting the root word)\n",
    "- Vectorization: reducing text into a vector with different types of frequencies for each word (Count Values or TF-IDF Values)\n"
   ]
  },
  {
   "cell_type": "markdown",
   "metadata": {},
   "source": [
    "## Bag of Words\n",
    "When we vectorize these words, we're doing creating a feature for each word. Also known as, **Bag of Words**. **We lose word ordering**\n",
    "\n",
    "**Solution**: To preserve some ordering, we can introduce **n-grams** into our vectorization of words (problem: too many features)\n",
    "- one way to reduce dimensions of n-grams is to remove stop words (a, the, is)\n",
    "- **stop words**: we can remove these words becaues they are just there for grammatical structure with little to no meaning\n",
    "- **n-gram** with smaller frequencies can highlight and capture important parts of a document/text. This **preserves local ordering** and **can improve model performance**.\n",
    "\n"
   ]
  },
  {
   "cell_type": "code",
   "execution_count": 35,
   "metadata": {},
   "outputs": [
    {
     "data": {
      "text/plain": [
       "115                never worn brown leather strap wedges\n",
       "116                  boys lebron soldier 9s great condit\n",
       "117                                      description yet\n",
       "118    bombshell  eau sexy bombshell used bit lots pr...\n",
       "119    victorias secret pink black zip hoodie gently ...\n",
       "120    sweater like long sleeved shirt glows dark pur...\n",
       "121    tens 3000 back pain would great new without bo...\n",
       "122         sizes info clothes found individual postings\n",
       "123    white xl dress built bra strapless ties around...\n",
       "124    miss style name skinny size 26 inseam 32 miss ...\n",
       "Name: item_description, dtype: object"
      ]
     },
     "execution_count": 35,
     "metadata": {},
     "output_type": "execute_result"
    }
   ],
   "source": [
    "# Examine the normalize item description\n",
    "train['item_description'][115:125]"
   ]
  },
  {
   "cell_type": "code",
   "execution_count": 36,
   "metadata": {},
   "outputs": [
    {
     "name": "stdout",
     "output_type": "stream",
     "text": [
      "['sweater', 'like', 'long', 'sleeved', 'shirt', 'glows', 'dark', 'purchased', 'another', 'seller', 'didnt', 'fit', 'says', 'size', 'would', 'put']\n"
     ]
    }
   ],
   "source": [
    "#import nltk\n",
    "#nltk.download('punkt')\n",
    "from nltk.tokenize import word_tokenize\n",
    "\n",
    "text1 = train['item_description'][120]\n",
    "tokens = word_tokenize(text1)\n",
    "print(tokens)"
   ]
  },
  {
   "cell_type": "markdown",
   "metadata": {},
   "source": [
    "## Word Frequency Weights\n",
    "Each word in our feature space can have different frequency weights\n",
    "- Frequency Weight\n",
    "- TF-IDF Weight\n",
    "- Binary\n",
    "\n",
    "\n",
    "**CountVectorizer**: Returns an encoded vector with integer count for each word\n",
    "\n",
    "**TF-IDF(min_df, max_df, n-gram)**: Returns encoded vector with weighted count for each word (utilizes the word in the document in corresponsdence to the whole corpus, to keep it short, more emphasis on the rarity of a word).  This is good because we want to find frequent terms from that document that isn't so frequent within the whole document corpus.\n",
    "\n",
    "**LabelBinarizer**: Get's all the word and assigns it to its own column. 0 means it's there and 1 means not (example with brand names)\n",
    "\n",
    "**Why are we doing this again?**: Because some Machine Learning models don't recognize text as well. You're going to have to convert it into numbers \n"
   ]
  },
  {
   "cell_type": "markdown",
   "metadata": {},
   "source": [
    "# Feature Engineering\n",
    "***"
   ]
  },
  {
   "cell_type": "markdown",
   "metadata": {},
   "source": [
    "**BONUS** Extra Feature Engineering Ideas\n",
    "- Character Count\n",
    "- Word Count\n",
    "- Number of Unique Words\n",
    "- Average Post Length of Main Category\n",
    "- If brand yes/no feature\n",
    "- Etc..\n"
   ]
  },
  {
   "cell_type": "code",
   "execution_count": 37,
   "metadata": {},
   "outputs": [
    {
     "data": {
      "text/plain": [
       "Index(['train_id', 'name', 'item_condition_id', 'category_name', 'brand_name',\n",
       "       'price', 'shipping', 'item_description', 'category_main',\n",
       "       'category_sub1', 'category_sub2'],\n",
       "      dtype='object')"
      ]
     },
     "execution_count": 37,
     "metadata": {},
     "output_type": "execute_result"
    }
   ],
   "source": [
    "# Look at our features\n",
    "train.columns"
   ]
  },
  {
   "cell_type": "markdown",
   "metadata": {},
   "source": [
    "### Categorical Variables (Need to do Encoding):\n",
    "How should we encode these features?\n",
    "- name\n",
    "- brand_name\n",
    "- category_main, category_sub1, category_sub2\n",
    "- item_description\n",
    "- shipping\n",
    "- item_condition_id"
   ]
  },
  {
   "cell_type": "markdown",
   "metadata": {},
   "source": [
    "# CountVectorizer"
   ]
  },
  {
   "cell_type": "code",
   "execution_count": 38,
   "metadata": {},
   "outputs": [],
   "source": [
    "# CountVectorizer - name & categories\n",
    "cv = CountVectorizer(min_df=10)\n",
    "X_name = cv.fit_transform(train['name'])\n",
    "X_category_main = cv.fit_transform(train['category_main'])\n",
    "X_category_sub1 = cv.fit_transform(train['category_sub1'])\n",
    "X_category_sub2 = cv.fit_transform(train['category_sub2'])"
   ]
  },
  {
   "cell_type": "code",
   "execution_count": 39,
   "metadata": {},
   "outputs": [
    {
     "name": "stdout",
     "output_type": "stream",
     "text": [
      "Item Name Shape: (593065, 11463)\n",
      "Category Main Shape: (593065, 12)\n",
      "Category Sub1 Shape: (593065, 141)\n",
      "Category Sub2 Shape: (593065, 725)\n"
     ]
    }
   ],
   "source": [
    "print(\"Item Name Shape: \" + str(X_name.shape))\n",
    "print(\"Category Main Shape: \" + str(X_category_main.shape))\n",
    "print(\"Category Sub1 Shape: \" + str(X_category_sub1.shape))\n",
    "print(\"Category Sub2 Shape: \" + str(X_category_sub2.shape))"
   ]
  },
  {
   "cell_type": "markdown",
   "metadata": {},
   "source": [
    "# LabelBinarizer"
   ]
  },
  {
   "cell_type": "code",
   "execution_count": 40,
   "metadata": {},
   "outputs": [],
   "source": [
    "# Apply LabelBinarizer to \"brand_name\"\n",
    "lb = LabelBinarizer(sparse_output=True)\n",
    "X_brand = lb.fit_transform(train['brand_name'])"
   ]
  },
  {
   "cell_type": "code",
   "execution_count": 41,
   "metadata": {},
   "outputs": [
    {
     "name": "stdout",
     "output_type": "stream",
     "text": [
      "Item Brand Shape: (593065, 3751)\n"
     ]
    }
   ],
   "source": [
    "print(\"Item Brand Shape: \" + str(X_brand.shape))"
   ]
  },
  {
   "cell_type": "markdown",
   "metadata": {},
   "source": [
    "# Get_Dummies"
   ]
  },
  {
   "cell_type": "code",
   "execution_count": 42,
   "metadata": {},
   "outputs": [],
   "source": [
    "# Apply get_dummies to \"item_condition_id\" and \"shipping\" and then convert into a CSR Matrix\n",
    "X_dummies = csr_matrix(pd.get_dummies(train[['item_condition_id', 'shipping']], sparse=True).values)"
   ]
  },
  {
   "cell_type": "markdown",
   "metadata": {},
   "source": [
    "# TFIDF\n",
    "**Main Goal:** Measure hwo important a word or phrase is within a collection of documents. It essentially **weigh down** terms that appear frequently and **scale up** unique terms.\n",
    "\n",
    "**TF Term Frequency** how often a term occurs \n",
    "\n",
    "**IDF Inverse Document Frequency** how important a term is\n",
    "\n",
    "### Important Parameters\n",
    "1. ngram_range \n",
    "2. stop_words \n",
    "3. lowercase \n",
    "4. max_df - max threshold that will ignore a term that has a document frequency higher than the threshold\n",
    "5. min_df - min threshold that will ignore a term that has a document frequency lower than the threshold\n",
    "6. max_features - gets the assigned amount of features with highest amount of term frequencies (scores)\n"
   ]
  },
  {
   "cell_type": "code",
   "execution_count": 43,
   "metadata": {
    "collapsed": true
   },
   "outputs": [],
   "source": [
    "# Perform a TFIDF Transformation of the item description with the top 55000 features and has an n-gram range of 1-2\n",
    "tv = TfidfVectorizer(max_features=55000, ngram_range=(1, 2), stop_words='english')\n",
    "X_description = tv.fit_transform(train['item_description'])"
   ]
  },
  {
   "cell_type": "code",
   "execution_count": 44,
   "metadata": {},
   "outputs": [
    {
     "name": "stdout",
     "output_type": "stream",
     "text": [
      "Item Description Shape: (593065, 55000)\n"
     ]
    }
   ],
   "source": [
    "print(\"Item Description Shape: \" + str(X_description.shape))"
   ]
  },
  {
   "cell_type": "markdown",
   "metadata": {},
   "source": [
    "### Observing the TFIDF Weights"
   ]
  },
  {
   "cell_type": "code",
   "execution_count": 45,
   "metadata": {},
   "outputs": [
    {
     "data": {
      "text/html": [
       "<div>\n",
       "<style>\n",
       "    .dataframe thead tr:only-child th {\n",
       "        text-align: right;\n",
       "    }\n",
       "\n",
       "    .dataframe thead th {\n",
       "        text-align: left;\n",
       "    }\n",
       "\n",
       "    .dataframe tbody tr th {\n",
       "        vertical-align: top;\n",
       "    }\n",
       "</style>\n",
       "<table border=\"1\" class=\"dataframe\">\n",
       "  <thead>\n",
       "    <tr style=\"text-align: right;\">\n",
       "      <th></th>\n",
       "      <th>tfidf</th>\n",
       "    </tr>\n",
       "  </thead>\n",
       "  <tbody>\n",
       "    <tr>\n",
       "      <th>new</th>\n",
       "      <td>2.187323</td>\n",
       "    </tr>\n",
       "    <tr>\n",
       "      <th>size</th>\n",
       "      <td>2.349932</td>\n",
       "    </tr>\n",
       "    <tr>\n",
       "      <th>brand</th>\n",
       "      <td>2.762237</td>\n",
       "    </tr>\n",
       "    <tr>\n",
       "      <th>brand new</th>\n",
       "      <td>2.888055</td>\n",
       "    </tr>\n",
       "    <tr>\n",
       "      <th>condition</th>\n",
       "      <td>2.923590</td>\n",
       "    </tr>\n",
       "    <tr>\n",
       "      <th>free</th>\n",
       "      <td>2.932494</td>\n",
       "    </tr>\n",
       "    <tr>\n",
       "      <th>worn</th>\n",
       "      <td>3.107765</td>\n",
       "    </tr>\n",
       "    <tr>\n",
       "      <th>used</th>\n",
       "      <td>3.224175</td>\n",
       "    </tr>\n",
       "    <tr>\n",
       "      <th>shipping</th>\n",
       "      <td>3.229505</td>\n",
       "    </tr>\n",
       "    <tr>\n",
       "      <th>great</th>\n",
       "      <td>3.348573</td>\n",
       "    </tr>\n",
       "  </tbody>\n",
       "</table>\n",
       "</div>"
      ],
      "text/plain": [
       "              tfidf\n",
       "new        2.187323\n",
       "size       2.349932\n",
       "brand      2.762237\n",
       "brand new  2.888055\n",
       "condition  2.923590\n",
       "free       2.932494\n",
       "worn       3.107765\n",
       "used       3.224175\n",
       "shipping   3.229505\n",
       "great      3.348573"
      ]
     },
     "execution_count": 45,
     "metadata": {},
     "output_type": "execute_result"
    }
   ],
   "source": [
    "#  create a dictionary mapping the tokens to their tfidf values\n",
    "tfidf = dict(zip(tv.get_feature_names(), tv.idf_))\n",
    "tfidf = pd.DataFrame(columns=['tfidf']).from_dict(\n",
    "                    dict(tfidf), orient='index')\n",
    "tfidf.columns = ['tfidf']\n",
    "\n",
    "# Lowest TFIDF Scores\n",
    "tfidf.sort_values(by=['tfidf'], ascending=True).head(10)"
   ]
  },
  {
   "cell_type": "code",
   "execution_count": 46,
   "metadata": {},
   "outputs": [
    {
     "data": {
      "text/html": [
       "<div>\n",
       "<style>\n",
       "    .dataframe thead tr:only-child th {\n",
       "        text-align: right;\n",
       "    }\n",
       "\n",
       "    .dataframe thead th {\n",
       "        text-align: left;\n",
       "    }\n",
       "\n",
       "    .dataframe tbody tr th {\n",
       "        vertical-align: top;\n",
       "    }\n",
       "</style>\n",
       "<table border=\"1\" class=\"dataframe\">\n",
       "  <thead>\n",
       "    <tr style=\"text-align: right;\">\n",
       "      <th></th>\n",
       "      <th>tfidf</th>\n",
       "    </tr>\n",
       "  </thead>\n",
       "  <tbody>\n",
       "    <tr>\n",
       "      <th>printer hp</th>\n",
       "      <td>12.906767</td>\n",
       "    </tr>\n",
       "    <tr>\n",
       "      <th>beats beats</th>\n",
       "      <td>12.906767</td>\n",
       "    </tr>\n",
       "    <tr>\n",
       "      <th>china slim</th>\n",
       "      <td>12.347151</td>\n",
       "    </tr>\n",
       "    <tr>\n",
       "      <th>shipped containers</th>\n",
       "      <td>12.213619</td>\n",
       "    </tr>\n",
       "    <tr>\n",
       "      <th>ijust</th>\n",
       "      <td>12.213619</td>\n",
       "    </tr>\n",
       "    <tr>\n",
       "      <th>eliquid</th>\n",
       "      <td>12.095836</td>\n",
       "    </tr>\n",
       "    <tr>\n",
       "      <th>clips piece</th>\n",
       "      <td>12.095836</td>\n",
       "    </tr>\n",
       "    <tr>\n",
       "      <th>weft piece</th>\n",
       "      <td>12.095836</td>\n",
       "    </tr>\n",
       "    <tr>\n",
       "      <th>wide weft</th>\n",
       "      <td>12.095836</td>\n",
       "    </tr>\n",
       "    <tr>\n",
       "      <th>pairrm pairrm</th>\n",
       "      <td>12.095836</td>\n",
       "    </tr>\n",
       "  </tbody>\n",
       "</table>\n",
       "</div>"
      ],
      "text/plain": [
       "                        tfidf\n",
       "printer hp          12.906767\n",
       "beats beats         12.906767\n",
       "china slim          12.347151\n",
       "shipped containers  12.213619\n",
       "ijust               12.213619\n",
       "eliquid             12.095836\n",
       "clips piece         12.095836\n",
       "weft piece          12.095836\n",
       "wide weft           12.095836\n",
       "pairrm pairrm       12.095836"
      ]
     },
     "execution_count": 46,
     "metadata": {},
     "output_type": "execute_result"
    }
   ],
   "source": [
    "# HIghest TFIDF Scores\n",
    "tfidf.sort_values(by=['tfidf'], ascending=False).head(10)"
   ]
  },
  {
   "cell_type": "markdown",
   "metadata": {},
   "source": [
    "# Combine All Features Into One Merge"
   ]
  },
  {
   "cell_type": "code",
   "execution_count": 47,
   "metadata": {},
   "outputs": [],
   "source": [
    "# Combine everything together\n",
    "sparse_merge = hstack((X_dummies, X_description, X_brand, X_name, X_category_main, X_category_sub1, X_category_sub2)).tocsr()"
   ]
  },
  {
   "cell_type": "markdown",
   "metadata": {},
   "source": [
    "### To be continued..."
   ]
  },
  {
   "cell_type": "code",
   "execution_count": null,
   "metadata": {
    "collapsed": true
   },
   "outputs": [],
   "source": []
  }
 ],
 "metadata": {
  "kernelspec": {
   "display_name": "Python 3",
   "language": "python",
   "name": "python3"
  },
  "language_info": {
   "codemirror_mode": {
    "name": "ipython",
    "version": 3
   },
   "file_extension": ".py",
   "mimetype": "text/x-python",
   "name": "python",
   "nbconvert_exporter": "python",
   "pygments_lexer": "ipython3",
   "version": "3.6.4"
  }
 },
 "nbformat": 4,
 "nbformat_minor": 2
}
