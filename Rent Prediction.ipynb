{
 "cells": [
  {
   "cell_type": "markdown",
   "metadata": {},
   "source": [
    "<img src=\"https://i.ibb.co/wShF3QK/toronto-154805.jpg\"/>"
   ]
  },
  {
   "cell_type": "markdown",
   "metadata": {},
   "source": [
    "# Ontario house rent prediction\n",
    "***\n",
    "### Can you suggest house rent in ontario cities to new comers ?\n",
    "\n",
    "**House rent in ontario especially in GTA gets even harder at scale**, considering the new immigrants in ontario, based on their preference lets try to predict prices in different cities.\n",
    "\n",
    "**Kijiji**, Kijiji is an online classified advertising service that operates as a centralized network of online communities, organized by city and urban region, for posting local advertisements. \n",
    "\n",
    "In this project I scraped some datas from kijiji to build a dataset for training my ML model, which will help new comers to get an overall idea about the rent in a city based on their input. lets say if someone wants to move to Mississauga in a private room or shared basis, this model will predict the expected range of rent in the city based on the input.\n",
    "\n",
    "**Recommendation**, City Recommendation will also be developed within this project to give the user some suggestions on cheapest nearby city to look for house rentals. -> Future Work :))\n",
    "\n",
    "\n",
    "### Dataset Features\n",
    "\n",
    "Since the dataset is scraped from kijiji website, I made some features that I think is relevent to this project and I tried to keep it minimal as possible.\n",
    "\n",
    "- **Title**: Title of the advertisement\n",
    "- **Description** : Description of the advertisement\n",
    "- **Features** : Features of the advertisement. ( furnished or not, pet friendly or not etc)\n",
    "- **Location** : Location of the property\n",
    "- **Price** : Rent in CAD\n",
    "- **Ddate Posted** : Posted date of the advertisement\n",
    "- **URL** : advertisement url\n"
   ]
  },
  {
   "cell_type": "markdown",
   "metadata": {},
   "source": [
    "# Import Packages"
   ]
  },
  {
   "cell_type": "code",
   "execution_count": 12,
   "metadata": {},
   "outputs": [],
   "source": [
    "import time\n",
    "import numpy as np\n",
    "import pandas as pd\n",
    "import matplotlib.pyplot as plt\n",
    "import seaborn as sns\n",
    "from scipy.sparse import csr_matrix, hstack\n",
    "from sklearn.feature_extraction.text import CountVectorizer, TfidfVectorizer\n",
    "from sklearn.preprocessing import LabelBinarizer\n",
    "import warnings\n",
    "warnings.filterwarnings('ignore')\n",
    "%matplotlib inline"
   ]
  },
  {
   "cell_type": "code",
   "execution_count": 3,
   "metadata": {},
   "outputs": [],
   "source": [
    "dataset = pd.read_csv('kijiji.csv')"
   ]
  },
  {
   "cell_type": "code",
   "execution_count": 5,
   "metadata": {},
   "outputs": [
    {
     "name": "stdout",
     "output_type": "stream",
     "text": [
      "<class 'pandas.core.frame.DataFrame'>\n",
      "RangeIndex: 3729 entries, 0 to 3728\n",
      "Data columns (total 7 columns):\n",
      "Title           3728 non-null object\n",
      "Price           3729 non-null object\n",
      "Description     3729 non-null object\n",
      "Location        3728 non-null object\n",
      "Ddate Posted    3688 non-null object\n",
      "Features        3727 non-null object\n",
      "URL             0 non-null float64\n",
      "dtypes: float64(1), object(6)\n",
      "memory usage: 204.0+ KB\n"
     ]
    }
   ],
   "source": [
    "dataset.info()"
   ]
  },
  {
   "cell_type": "code",
   "execution_count": 6,
   "metadata": {},
   "outputs": [
    {
     "data": {
      "text/plain": [
       "Index(['Title', 'Price', 'Description', 'Location', 'Ddate Posted', 'Features',\n",
       "       'URL'],\n",
       "      dtype='object')"
      ]
     },
     "execution_count": 6,
     "metadata": {},
     "output_type": "execute_result"
    }
   ],
   "source": [
    "dataset.columns"
   ]
  },
  {
   "cell_type": "code",
   "execution_count": 10,
   "metadata": {},
   "outputs": [
    {
     "data": {
      "text/html": [
       "<style  type=\"text/css\" >\n",
       "</style>  \n",
       "<table id=\"T_1260ec4e_d0b4_11e9_88e9_d85de2a71249\" > \n",
       "<thead>    <tr> \n",
       "        <th class=\"blank level0\" ></th> \n",
       "        <th class=\"col_heading level0 col0\" >Title</th> \n",
       "        <th class=\"col_heading level0 col1\" >Price</th> \n",
       "        <th class=\"col_heading level0 col2\" >Description</th> \n",
       "        <th class=\"col_heading level0 col3\" >Location</th> \n",
       "        <th class=\"col_heading level0 col4\" >Ddate Posted</th> \n",
       "        <th class=\"col_heading level0 col5\" >Features</th> \n",
       "        <th class=\"col_heading level0 col6\" >URL</th> \n",
       "    </tr></thead> \n",
       "<tbody>    <tr> \n",
       "        <th id=\"T_1260ec4e_d0b4_11e9_88e9_d85de2a71249level0_row0\" class=\"row_heading level0 row0\" >0</th> \n",
       "        <td id=\"T_1260ec4e_d0b4_11e9_88e9_d85de2a71249row0_col0\" class=\"data row0 col0\" >One Bedroom Suites Cherryhill Village  for Rent - 301 Oxford...</td> \n",
       "        <td id=\"T_1260ec4e_d0b4_11e9_88e9_d85de2a71249row0_col1\" class=\"data row0 col1\" >$1,145.00</td> \n",
       "        <td id=\"T_1260ec4e_d0b4_11e9_88e9_d85de2a71249row0_col2\" class=\"data row0 col2\" >[<div class=\"descriptionContainer-3544745383\"><h3 class=\"title-1536205785\">Description</h3><div><p>Proximate to Western University, dining options, and the mall, with a pool and health club, Cherryhill Village is located at Oxford Street and Platts Lane in the University Heights neighbourhood.</p><p><strong><u>Pets:</u></strong></p><p>Cherryhill Village is 100% pet friendly </p><p><strong><u>Neighbourhood Features:</u></strong></p><ul> <li>Walk Score: 72, walkable </li> <li>Transit Score: 56, public transit nearby</li> <li>Bike: very bikeable</li></ul><p>Inquire today or visit minto.com to learn more.</p><p>*Prices and specifications subject to change without notice. Errors and Omissions excepted.</p><br/><strong>Amenities</strong><br/><ul><li>24 Hour Emergency Service</li><li>Bicycle Storage </li><li>Carpeted floors</li><li>Elevators</li><li>Family Friendly </li><li>Fitness room</li><li>Fridge</li><li>Gardening Plots</li><li>Green Space</li><li>Hot tub</li><li>In-Building Laundry</li><li>Indoor pool</li><li>Laundry facilities</li><li>Near Clinics or Hospitals </li><li>Near Parks and Trails</li><li>Newly Renovated</li><li>Onsite Pharmacy</li><li>Outdoor BBQ Area </li><li>Outdoor Exercise Stations</li><li>Outdoor parking</li><li>Outdoor pool</li><li>Parks nearby</li><li>Pedestrian Friendly</li><li>Pet Friendly </li><li>Picnic Area</li><li>Playground</li><li>Public transit</li><li>Resident Lounge</li><li>Sauna</li><li>Schools nearby</li><li>Security Controlled Access</li><li>Shopping nearby</li><li>Shuffle Board</li><li>Social room</li><li>Storage Space</li><li>Stove</li><li>Tennis Court</li><li>Walk-in Closets (Select Suites)</li><li>Wheelchair access</li><li>Woodworking Shop</li></ul></div></div>]</td> \n",
       "        <td id=\"T_1260ec4e_d0b4_11e9_88e9_d85de2a71249row0_col3\" class=\"data row0 col3\" ><span class=\"address-3617944557\" itemprop=\"address\" itemscope=\"\" itemtype=\"http://schema.org/PostalAddress\">301 Oxford St. W, London, ON, N6H 1S6</span></td> \n",
       "        <td id=\"T_1260ec4e_d0b4_11e9_88e9_d85de2a71249row0_col4\" class=\"data row0 col4\" ><time datetime=\"2019-09-04T17:54:00.000Z\" title=\"September 4, 2019 5:54 PM\">about 2 hours ago</time></td> \n",
       "        <td id=\"T_1260ec4e_d0b4_11e9_88e9_d85de2a71249row0_col5\" class=\"data row0 col5\" >Unit TypeApartment : Bedrooms1 : Bathrooms1 : Pet FriendlyYes : Size (sqft)0 : FurnishedNo : </td> \n",
       "        <td id=\"T_1260ec4e_d0b4_11e9_88e9_d85de2a71249row0_col6\" class=\"data row0 col6\" >nan</td> \n",
       "    </tr></tbody> \n",
       "</table> "
      ],
      "text/plain": [
       "<pandas.io.formats.style.Styler at 0x7f218ec47390>"
      ]
     },
     "execution_count": 10,
     "metadata": {},
     "output_type": "execute_result"
    }
   ],
   "source": [
    "dataset.head(1).style"
   ]
  },
  {
   "cell_type": "markdown",
   "metadata": {},
   "source": [
    "## Data Cleaning\n",
    "***\n",
    "\n",
    "Since we have a raw data it has to be processed to remove unwanted characters and html tags in each columns. We will be doing that first.\n"
   ]
  },
  {
   "cell_type": "code",
   "execution_count": null,
   "metadata": {},
   "outputs": [],
   "source": []
  }
 ],
 "metadata": {
  "kernelspec": {
   "display_name": "Python 3",
   "language": "python",
   "name": "python3"
  },
  "language_info": {
   "codemirror_mode": {
    "name": "ipython",
    "version": 3
   },
   "file_extension": ".py",
   "mimetype": "text/x-python",
   "name": "python",
   "nbconvert_exporter": "python",
   "pygments_lexer": "ipython3",
   "version": "3.6.4"
  }
 },
 "nbformat": 4,
 "nbformat_minor": 2
}
