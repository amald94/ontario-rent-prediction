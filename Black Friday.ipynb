{
 "cells": [
  {
   "cell_type": "markdown",
   "metadata": {},
   "source": [
    "### Import the libraries"
   ]
  },
  {
   "cell_type": "code",
   "execution_count": 1,
   "metadata": {},
   "outputs": [],
   "source": [
    "import pandas as pd\n",
    "import numpy as np\n",
    "import matplotlib.pyplot as plt\n",
    "import seaborn as sns\n",
    "import warnings\n",
    "%matplotlib inline\n",
    "warnings.filterwarnings('ignore')"
   ]
  },
  {
   "cell_type": "markdown",
   "metadata": {},
   "source": [
    "### Load the dataset and explore"
   ]
  },
  {
   "cell_type": "code",
   "execution_count": 2,
   "metadata": {},
   "outputs": [],
   "source": [
    "dataset = pd.read_excel('BlackFriday.xlsx')"
   ]
  },
  {
   "cell_type": "code",
   "execution_count": 139,
   "metadata": {},
   "outputs": [
    {
     "name": "stdout",
     "output_type": "stream",
     "text": [
      "<class 'pandas.core.frame.DataFrame'>\n",
      "Int64Index: 537554 entries, 0 to 537576\n",
      "Data columns (total 22 columns):\n",
      "User_ID                         537554 non-null int64\n",
      "Product_ID                      537554 non-null object\n",
      "Gender                          537554 non-null int64\n",
      "Age                             537554 non-null int64\n",
      "Occupation                      537554 non-null int64\n",
      "City_Category                   537554 non-null int64\n",
      "Marital_Status                  537554 non-null float64\n",
      "Product_Category_1              537554 non-null float64\n",
      "Product_Category_2              537554 non-null float64\n",
      "Product_Category_3              537554 non-null float64\n",
      "Purchase                        537554 non-null int64\n",
      "Stay_In_Current_City_Years_0    537554 non-null uint8\n",
      "Stay_In_Current_City_Years_1    537554 non-null uint8\n",
      "Stay_In_Current_City_Years_2    537554 non-null uint8\n",
      "Stay_In_Current_City_Years_3    537554 non-null uint8\n",
      "Stay_In_Current_City_Years_4    537554 non-null uint8\n",
      "Age_Count                       537554 non-null int64\n",
      "Occupation_Count                537554 non-null int64\n",
      "Product_Category_1_Count        537554 non-null int64\n",
      "Product_Category_2_Count        537554 non-null int64\n",
      "Product_Category_3_Count        537554 non-null int64\n",
      "Product_ID_Count                537554 non-null int64\n",
      "dtypes: float64(4), int64(12), object(1), uint8(5)\n",
      "memory usage: 96.4+ MB\n"
     ]
    }
   ],
   "source": [
    "dataset.info()"
   ]
  },
  {
   "cell_type": "code",
   "execution_count": 4,
   "metadata": {},
   "outputs": [
    {
     "data": {
      "text/html": [
       "<div>\n",
       "<style>\n",
       "    .dataframe thead tr:only-child th {\n",
       "        text-align: right;\n",
       "    }\n",
       "\n",
       "    .dataframe thead th {\n",
       "        text-align: left;\n",
       "    }\n",
       "\n",
       "    .dataframe tbody tr th {\n",
       "        vertical-align: top;\n",
       "    }\n",
       "</style>\n",
       "<table border=\"1\" class=\"dataframe\">\n",
       "  <thead>\n",
       "    <tr style=\"text-align: right;\">\n",
       "      <th></th>\n",
       "      <th>User_ID</th>\n",
       "      <th>Occupation</th>\n",
       "      <th>Marital_Status</th>\n",
       "      <th>Product_Category_1</th>\n",
       "      <th>Product_Category_2</th>\n",
       "      <th>Product_Category_3</th>\n",
       "      <th>Purchase</th>\n",
       "    </tr>\n",
       "  </thead>\n",
       "  <tbody>\n",
       "    <tr>\n",
       "      <th>count</th>\n",
       "      <td>5.375770e+05</td>\n",
       "      <td>537577.00000</td>\n",
       "      <td>537575.000000</td>\n",
       "      <td>537575.000000</td>\n",
       "      <td>370590.000000</td>\n",
       "      <td>164278.000000</td>\n",
       "      <td>537577.000000</td>\n",
       "    </tr>\n",
       "    <tr>\n",
       "      <th>mean</th>\n",
       "      <td>1.002992e+06</td>\n",
       "      <td>8.08271</td>\n",
       "      <td>0.408799</td>\n",
       "      <td>5.295553</td>\n",
       "      <td>9.842160</td>\n",
       "      <td>12.669840</td>\n",
       "      <td>9333.859853</td>\n",
       "    </tr>\n",
       "    <tr>\n",
       "      <th>std</th>\n",
       "      <td>1.714393e+03</td>\n",
       "      <td>6.52412</td>\n",
       "      <td>0.491612</td>\n",
       "      <td>3.750705</td>\n",
       "      <td>5.087257</td>\n",
       "      <td>4.124341</td>\n",
       "      <td>4981.022133</td>\n",
       "    </tr>\n",
       "    <tr>\n",
       "      <th>min</th>\n",
       "      <td>1.000001e+06</td>\n",
       "      <td>0.00000</td>\n",
       "      <td>0.000000</td>\n",
       "      <td>1.000000</td>\n",
       "      <td>2.000000</td>\n",
       "      <td>3.000000</td>\n",
       "      <td>185.000000</td>\n",
       "    </tr>\n",
       "    <tr>\n",
       "      <th>25%</th>\n",
       "      <td>1.001495e+06</td>\n",
       "      <td>2.00000</td>\n",
       "      <td>0.000000</td>\n",
       "      <td>1.000000</td>\n",
       "      <td>5.000000</td>\n",
       "      <td>9.000000</td>\n",
       "      <td>5866.000000</td>\n",
       "    </tr>\n",
       "    <tr>\n",
       "      <th>50%</th>\n",
       "      <td>1.003031e+06</td>\n",
       "      <td>7.00000</td>\n",
       "      <td>0.000000</td>\n",
       "      <td>5.000000</td>\n",
       "      <td>9.000000</td>\n",
       "      <td>14.000000</td>\n",
       "      <td>8062.000000</td>\n",
       "    </tr>\n",
       "    <tr>\n",
       "      <th>75%</th>\n",
       "      <td>1.004417e+06</td>\n",
       "      <td>14.00000</td>\n",
       "      <td>1.000000</td>\n",
       "      <td>8.000000</td>\n",
       "      <td>15.000000</td>\n",
       "      <td>16.000000</td>\n",
       "      <td>12073.000000</td>\n",
       "    </tr>\n",
       "    <tr>\n",
       "      <th>max</th>\n",
       "      <td>1.006040e+06</td>\n",
       "      <td>20.00000</td>\n",
       "      <td>1.000000</td>\n",
       "      <td>18.000000</td>\n",
       "      <td>18.000000</td>\n",
       "      <td>18.000000</td>\n",
       "      <td>23961.000000</td>\n",
       "    </tr>\n",
       "  </tbody>\n",
       "</table>\n",
       "</div>"
      ],
      "text/plain": [
       "            User_ID    Occupation  Marital_Status  Product_Category_1  \\\n",
       "count  5.375770e+05  537577.00000   537575.000000       537575.000000   \n",
       "mean   1.002992e+06       8.08271        0.408799            5.295553   \n",
       "std    1.714393e+03       6.52412        0.491612            3.750705   \n",
       "min    1.000001e+06       0.00000        0.000000            1.000000   \n",
       "25%    1.001495e+06       2.00000        0.000000            1.000000   \n",
       "50%    1.003031e+06       7.00000        0.000000            5.000000   \n",
       "75%    1.004417e+06      14.00000        1.000000            8.000000   \n",
       "max    1.006040e+06      20.00000        1.000000           18.000000   \n",
       "\n",
       "       Product_Category_2  Product_Category_3       Purchase  \n",
       "count       370590.000000       164278.000000  537577.000000  \n",
       "mean             9.842160           12.669840    9333.859853  \n",
       "std              5.087257            4.124341    4981.022133  \n",
       "min              2.000000            3.000000     185.000000  \n",
       "25%              5.000000            9.000000    5866.000000  \n",
       "50%              9.000000           14.000000    8062.000000  \n",
       "75%             15.000000           16.000000   12073.000000  \n",
       "max             18.000000           18.000000   23961.000000  "
      ]
     },
     "execution_count": 4,
     "metadata": {},
     "output_type": "execute_result"
    }
   ],
   "source": [
    "dataset.describe()"
   ]
  },
  {
   "cell_type": "code",
   "execution_count": 5,
   "metadata": {},
   "outputs": [
    {
     "data": {
      "text/html": [
       "<div>\n",
       "<style>\n",
       "    .dataframe thead tr:only-child th {\n",
       "        text-align: right;\n",
       "    }\n",
       "\n",
       "    .dataframe thead th {\n",
       "        text-align: left;\n",
       "    }\n",
       "\n",
       "    .dataframe tbody tr th {\n",
       "        vertical-align: top;\n",
       "    }\n",
       "</style>\n",
       "<table border=\"1\" class=\"dataframe\">\n",
       "  <thead>\n",
       "    <tr style=\"text-align: right;\">\n",
       "      <th></th>\n",
       "      <th>User_ID</th>\n",
       "      <th>Product_ID</th>\n",
       "      <th>Gender</th>\n",
       "      <th>Age</th>\n",
       "      <th>Occupation</th>\n",
       "      <th>City_Category</th>\n",
       "      <th>Stay_In_Current_City_Years</th>\n",
       "      <th>Marital_Status</th>\n",
       "      <th>Product_Category_1</th>\n",
       "      <th>Product_Category_2</th>\n",
       "      <th>Product_Category_3</th>\n",
       "      <th>Purchase</th>\n",
       "    </tr>\n",
       "  </thead>\n",
       "  <tbody>\n",
       "    <tr>\n",
       "      <th>0</th>\n",
       "      <td>1000001</td>\n",
       "      <td>P00069042</td>\n",
       "      <td>F</td>\n",
       "      <td>0-17</td>\n",
       "      <td>10</td>\n",
       "      <td>A</td>\n",
       "      <td>2</td>\n",
       "      <td>0.0</td>\n",
       "      <td>3.0</td>\n",
       "      <td>NaN</td>\n",
       "      <td>NaN</td>\n",
       "      <td>8370</td>\n",
       "    </tr>\n",
       "    <tr>\n",
       "      <th>1</th>\n",
       "      <td>1000001</td>\n",
       "      <td>P00248942</td>\n",
       "      <td>F</td>\n",
       "      <td>0-17</td>\n",
       "      <td>10</td>\n",
       "      <td>A</td>\n",
       "      <td>NaN</td>\n",
       "      <td>0.0</td>\n",
       "      <td>1.0</td>\n",
       "      <td>6.0</td>\n",
       "      <td>14.0</td>\n",
       "      <td>15200</td>\n",
       "    </tr>\n",
       "    <tr>\n",
       "      <th>2</th>\n",
       "      <td>1000001</td>\n",
       "      <td>P00087842</td>\n",
       "      <td>NaN</td>\n",
       "      <td>0-17</td>\n",
       "      <td>10</td>\n",
       "      <td>A</td>\n",
       "      <td>NaN</td>\n",
       "      <td>0.0</td>\n",
       "      <td>12.0</td>\n",
       "      <td>NaN</td>\n",
       "      <td>NaN</td>\n",
       "      <td>1422</td>\n",
       "    </tr>\n",
       "    <tr>\n",
       "      <th>3</th>\n",
       "      <td>1000001</td>\n",
       "      <td>P00085442</td>\n",
       "      <td>F</td>\n",
       "      <td>0-17</td>\n",
       "      <td>10</td>\n",
       "      <td>A</td>\n",
       "      <td>2</td>\n",
       "      <td>0.0</td>\n",
       "      <td>12.0</td>\n",
       "      <td>14.0</td>\n",
       "      <td>NaN</td>\n",
       "      <td>1057</td>\n",
       "    </tr>\n",
       "    <tr>\n",
       "      <th>4</th>\n",
       "      <td>1000002</td>\n",
       "      <td>P00285442</td>\n",
       "      <td>M</td>\n",
       "      <td>55+</td>\n",
       "      <td>16</td>\n",
       "      <td>C</td>\n",
       "      <td>4+</td>\n",
       "      <td>0.0</td>\n",
       "      <td>8.0</td>\n",
       "      <td>NaN</td>\n",
       "      <td>NaN</td>\n",
       "      <td>7969</td>\n",
       "    </tr>\n",
       "  </tbody>\n",
       "</table>\n",
       "</div>"
      ],
      "text/plain": [
       "   User_ID Product_ID Gender   Age  Occupation City_Category  \\\n",
       "0  1000001  P00069042      F  0-17          10             A   \n",
       "1  1000001  P00248942      F  0-17          10             A   \n",
       "2  1000001  P00087842    NaN  0-17          10             A   \n",
       "3  1000001  P00085442      F  0-17          10             A   \n",
       "4  1000002  P00285442      M   55+          16             C   \n",
       "\n",
       "  Stay_In_Current_City_Years  Marital_Status  Product_Category_1  \\\n",
       "0                          2             0.0                 3.0   \n",
       "1                        NaN             0.0                 1.0   \n",
       "2                        NaN             0.0                12.0   \n",
       "3                          2             0.0                12.0   \n",
       "4                         4+             0.0                 8.0   \n",
       "\n",
       "   Product_Category_2  Product_Category_3  Purchase  \n",
       "0                 NaN                 NaN      8370  \n",
       "1                 6.0                14.0     15200  \n",
       "2                 NaN                 NaN      1422  \n",
       "3                14.0                 NaN      1057  \n",
       "4                 NaN                 NaN      7969  "
      ]
     },
     "execution_count": 5,
     "metadata": {},
     "output_type": "execute_result"
    }
   ],
   "source": [
    "dataset.head()"
   ]
  },
  {
   "cell_type": "markdown",
   "metadata": {},
   "source": [
    "### Check for missing values\n"
   ]
  },
  {
   "cell_type": "code",
   "execution_count": 6,
   "metadata": {},
   "outputs": [
    {
     "data": {
      "text/plain": [
       "<matplotlib.axes._subplots.AxesSubplot at 0x7fb31b8d4668>"
      ]
     },
     "execution_count": 6,
     "metadata": {},
     "output_type": "execute_result"
    },
    {
     "data": {
      "image/png": "[encoded data removed]",
      "text/plain": [
       "<Figure size 432x288 with 1 Axes>"
      ]
     },
     "metadata": {},
     "output_type": "display_data"
    }
   ],
   "source": [
    "sns.heatmap(data=dataset.isnull(),yticklabels=False,cbar=False,cmap=\"YlGnBu\")"
   ]
  },
  {
   "cell_type": "markdown",
   "metadata": {},
   "source": [
    "In our dataset we have lot of missing values for the features <b>Product_Category_2</b> and <b>Product_Category_3 </b>. Let's look further into the dataset"
   ]
  },
  {
   "cell_type": "code",
   "execution_count": 7,
   "metadata": {},
   "outputs": [],
   "source": [
    "def percentMissing():\n",
    "    total = dataset.isnull().sum().sort_values(ascending=False)\n",
    "    percent = (dataset.isnull().sum()/dataset.isnull().count()).sort_values(ascending=False)\n",
    "    missing_data = pd.concat([total, percent], axis=1, keys=['Total', 'Percent'])\n",
    "    f, ax = plt.subplots(figsize=(15, 6))\n",
    "    plt.xticks(rotation='90')\n",
    "    sns.barplot(x=missing_data.index, y=missing_data['Percent'])\n",
    "    plt.xlabel('Features', fontsize=15)\n",
    "    plt.ylabel('Percent of missing values', fontsize=15)\n",
    "    plt.title('Percent missing data by feature', fontsize=15)\n",
    "    return missing_data[missing_data['Total']>0]"
   ]
  },
  {
   "cell_type": "code",
   "execution_count": 8,
   "metadata": {},
   "outputs": [
    {
     "data": {
      "text/html": [
       "<div>\n",
       "<style>\n",
       "    .dataframe thead tr:only-child th {\n",
       "        text-align: right;\n",
       "    }\n",
       "\n",
       "    .dataframe thead th {\n",
       "        text-align: left;\n",
       "    }\n",
       "\n",
       "    .dataframe tbody tr th {\n",
       "        vertical-align: top;\n",
       "    }\n",
       "</style>\n",
       "<table border=\"1\" class=\"dataframe\">\n",
       "  <thead>\n",
       "    <tr style=\"text-align: right;\">\n",
       "      <th></th>\n",
       "      <th>Total</th>\n",
       "      <th>Percent</th>\n",
       "    </tr>\n",
       "  </thead>\n",
       "  <tbody>\n",
       "    <tr>\n",
       "      <th>Product_Category_3</th>\n",
       "      <td>373299</td>\n",
       "      <td>0.694410</td>\n",
       "    </tr>\n",
       "    <tr>\n",
       "      <th>Product_Category_2</th>\n",
       "      <td>166987</td>\n",
       "      <td>0.310629</td>\n",
       "    </tr>\n",
       "    <tr>\n",
       "      <th>Stay_In_Current_City_Years</th>\n",
       "      <td>10</td>\n",
       "      <td>0.000019</td>\n",
       "    </tr>\n",
       "    <tr>\n",
       "      <th>Gender</th>\n",
       "      <td>9</td>\n",
       "      <td>0.000017</td>\n",
       "    </tr>\n",
       "    <tr>\n",
       "      <th>City_Category</th>\n",
       "      <td>4</td>\n",
       "      <td>0.000007</td>\n",
       "    </tr>\n",
       "    <tr>\n",
       "      <th>Product_Category_1</th>\n",
       "      <td>2</td>\n",
       "      <td>0.000004</td>\n",
       "    </tr>\n",
       "    <tr>\n",
       "      <th>Marital_Status</th>\n",
       "      <td>2</td>\n",
       "      <td>0.000004</td>\n",
       "    </tr>\n",
       "    <tr>\n",
       "      <th>Age</th>\n",
       "      <td>1</td>\n",
       "      <td>0.000002</td>\n",
       "    </tr>\n",
       "  </tbody>\n",
       "</table>\n",
       "</div>"
      ],
      "text/plain": [
       "                             Total   Percent\n",
       "Product_Category_3          373299  0.694410\n",
       "Product_Category_2          166987  0.310629\n",
       "Stay_In_Current_City_Years      10  0.000019\n",
       "Gender                           9  0.000017\n",
       "City_Category                    4  0.000007\n",
       "Product_Category_1               2  0.000004\n",
       "Marital_Status                   2  0.000004\n",
       "Age                              1  0.000002"
      ]
     },
     "execution_count": 8,
     "metadata": {},
     "output_type": "execute_result"
    },
    {
     "data": {
      "image/png": "[encoded data removed]",
      "text/plain": [
       "<Figure size 1080x432 with 1 Axes>"
      ]
     },
     "metadata": {},
     "output_type": "display_data"
    }
   ],
   "source": [
    "percentMissing()"
   ]
  },
  {
   "cell_type": "markdown",
   "metadata": {},
   "source": [
    "We can see that, <br><b> 69% of the Product_Category_3 </b> is missing followed by <b>Product_Category_2 with a value of 31%</b>.<br> \n",
    "Apart from that <b>Stay_In_Current_City_Years,Gender and City_Category</b> have a <b>10,9 and 4</b> missing values respectively."
   ]
  },
  {
   "cell_type": "markdown",
   "metadata": {},
   "source": [
    "### FILL MISSING VALUES"
   ]
  },
  {
   "cell_type": "code",
   "execution_count": 9,
   "metadata": {},
   "outputs": [],
   "source": [
    "# import Imputer from sklearn library to fill the missing values by taking mean values \n",
    "from sklearn.preprocessing import Imputer"
   ]
  },
  {
   "cell_type": "code",
   "execution_count": 10,
   "metadata": {},
   "outputs": [
    {
     "name": "stderr",
     "output_type": "stream",
     "text": [
      "/home/amald/anaconda3/lib/python3.6/site-packages/sklearn/utils/deprecation.py:58: DeprecationWarning: Class Imputer is deprecated; Imputer was deprecated in version 0.20 and will be removed in 0.22. Import impute.SimpleImputer from sklearn instead.\n",
      "  warnings.warn(msg, category=DeprecationWarning)\n"
     ]
    }
   ],
   "source": [
    "imputer = Imputer(missing_values='NaN', strategy='mean', axis=0)\n",
    "imputer = imputer.fit(dataset.iloc[:,8:11].values)\n",
    "dataset.iloc[:,8:11] = imputer.transform(dataset.iloc[:,8:11].values)"
   ]
  },
  {
   "cell_type": "code",
   "execution_count": 11,
   "metadata": {},
   "outputs": [
    {
     "data": {
      "text/html": [
       "<div>\n",
       "<style>\n",
       "    .dataframe thead tr:only-child th {\n",
       "        text-align: right;\n",
       "    }\n",
       "\n",
       "    .dataframe thead th {\n",
       "        text-align: left;\n",
       "    }\n",
       "\n",
       "    .dataframe tbody tr th {\n",
       "        vertical-align: top;\n",
       "    }\n",
       "</style>\n",
       "<table border=\"1\" class=\"dataframe\">\n",
       "  <thead>\n",
       "    <tr style=\"text-align: right;\">\n",
       "      <th></th>\n",
       "      <th>Total</th>\n",
       "      <th>Percent</th>\n",
       "    </tr>\n",
       "  </thead>\n",
       "  <tbody>\n",
       "    <tr>\n",
       "      <th>Stay_In_Current_City_Years</th>\n",
       "      <td>10</td>\n",
       "      <td>0.000019</td>\n",
       "    </tr>\n",
       "    <tr>\n",
       "      <th>Gender</th>\n",
       "      <td>9</td>\n",
       "      <td>0.000017</td>\n",
       "    </tr>\n",
       "    <tr>\n",
       "      <th>City_Category</th>\n",
       "      <td>4</td>\n",
       "      <td>0.000007</td>\n",
       "    </tr>\n",
       "    <tr>\n",
       "      <th>Marital_Status</th>\n",
       "      <td>2</td>\n",
       "      <td>0.000004</td>\n",
       "    </tr>\n",
       "    <tr>\n",
       "      <th>Age</th>\n",
       "      <td>1</td>\n",
       "      <td>0.000002</td>\n",
       "    </tr>\n",
       "  </tbody>\n",
       "</table>\n",
       "</div>"
      ],
      "text/plain": [
       "                            Total   Percent\n",
       "Stay_In_Current_City_Years     10  0.000019\n",
       "Gender                          9  0.000017\n",
       "City_Category                   4  0.000007\n",
       "Marital_Status                  2  0.000004\n",
       "Age                             1  0.000002"
      ]
     },
     "execution_count": 11,
     "metadata": {},
     "output_type": "execute_result"
    },
    {
     "data": {
      "image/png": "[encoded data removed]",
      "text/plain": [
       "<Figure size 1080x432 with 1 Axes>"
      ]
     },
     "metadata": {},
     "output_type": "display_data"
    }
   ],
   "source": [
    "percentMissing()"
   ]
  },
  {
   "cell_type": "markdown",
   "metadata": {},
   "source": [
    "Since rest of the missing value percent is less than 5% of the total dataset, we can just drop those rows as it will not make any difference"
   ]
  },
  {
   "cell_type": "code",
   "execution_count": 12,
   "metadata": {},
   "outputs": [],
   "source": [
    "# Will drop all rows that have any missing values.\n",
    "dataset.dropna(inplace=True)"
   ]
  },
  {
   "cell_type": "code",
   "execution_count": 13,
   "metadata": {},
   "outputs": [
    {
     "data": {
      "text/html": [
       "<div>\n",
       "<style>\n",
       "    .dataframe thead tr:only-child th {\n",
       "        text-align: right;\n",
       "    }\n",
       "\n",
       "    .dataframe thead th {\n",
       "        text-align: left;\n",
       "    }\n",
       "\n",
       "    .dataframe tbody tr th {\n",
       "        vertical-align: top;\n",
       "    }\n",
       "</style>\n",
       "<table border=\"1\" class=\"dataframe\">\n",
       "  <thead>\n",
       "    <tr style=\"text-align: right;\">\n",
       "      <th></th>\n",
       "      <th>Total</th>\n",
       "      <th>Percent</th>\n",
       "    </tr>\n",
       "  </thead>\n",
       "  <tbody>\n",
       "  </tbody>\n",
       "</table>\n",
       "</div>"
      ],
      "text/plain": [
       "Empty DataFrame\n",
       "Columns: [Total, Percent]\n",
       "Index: []"
      ]
     },
     "execution_count": 13,
     "metadata": {},
     "output_type": "execute_result"
    },
    {
     "data": {
      "image/png": "[encoded data removed]",
      "text/plain": [
       "<Figure size 1080x432 with 1 Axes>"
      ]
     },
     "metadata": {},
     "output_type": "display_data"
    }
   ],
   "source": [
    "percentMissing()"
   ]
  },
  {
   "cell_type": "markdown",
   "metadata": {},
   "source": [
    "Now we have fixed all the missing values in our dataset"
   ]
  },
  {
   "cell_type": "markdown",
   "metadata": {},
   "source": [
    "### CLEAN THE DATA"
   ]
  },
  {
   "cell_type": "markdown",
   "metadata": {},
   "source": [
    "We have some special characters like ( + ) in the columns like <b> Age , Stay_In_Current_City_Years.</b> This has to be removed before feeding the data to ML algorithm."
   ]
  },
  {
   "cell_type": "code",
   "execution_count": 14,
   "metadata": {},
   "outputs": [],
   "source": [
    "dataset['Age']=(dataset['Age'].str.strip('+'))\n",
    "dataset['Stay_In_Current_City_Years'].replace(regex=True,inplace=True,to_replace=r'\\D',value=r'')"
   ]
  },
  {
   "cell_type": "code",
   "execution_count": 15,
   "metadata": {},
   "outputs": [
    {
     "data": {
      "text/html": [
       "<div>\n",
       "<style>\n",
       "    .dataframe thead tr:only-child th {\n",
       "        text-align: right;\n",
       "    }\n",
       "\n",
       "    .dataframe thead th {\n",
       "        text-align: left;\n",
       "    }\n",
       "\n",
       "    .dataframe tbody tr th {\n",
       "        vertical-align: top;\n",
       "    }\n",
       "</style>\n",
       "<table border=\"1\" class=\"dataframe\">\n",
       "  <thead>\n",
       "    <tr style=\"text-align: right;\">\n",
       "      <th></th>\n",
       "      <th>User_ID</th>\n",
       "      <th>Product_ID</th>\n",
       "      <th>Gender</th>\n",
       "      <th>Age</th>\n",
       "      <th>Occupation</th>\n",
       "      <th>City_Category</th>\n",
       "      <th>Stay_In_Current_City_Years</th>\n",
       "      <th>Marital_Status</th>\n",
       "      <th>Product_Category_1</th>\n",
       "      <th>Product_Category_2</th>\n",
       "      <th>Product_Category_3</th>\n",
       "      <th>Purchase</th>\n",
       "    </tr>\n",
       "  </thead>\n",
       "  <tbody>\n",
       "    <tr>\n",
       "      <th>0</th>\n",
       "      <td>1000001</td>\n",
       "      <td>P00069042</td>\n",
       "      <td>F</td>\n",
       "      <td>0-17</td>\n",
       "      <td>10</td>\n",
       "      <td>A</td>\n",
       "      <td>2</td>\n",
       "      <td>0.0</td>\n",
       "      <td>3.0</td>\n",
       "      <td>9.84216</td>\n",
       "      <td>12.66984</td>\n",
       "      <td>8370</td>\n",
       "    </tr>\n",
       "    <tr>\n",
       "      <th>3</th>\n",
       "      <td>1000001</td>\n",
       "      <td>P00085442</td>\n",
       "      <td>F</td>\n",
       "      <td>0-17</td>\n",
       "      <td>10</td>\n",
       "      <td>A</td>\n",
       "      <td>2</td>\n",
       "      <td>0.0</td>\n",
       "      <td>12.0</td>\n",
       "      <td>14.00000</td>\n",
       "      <td>12.66984</td>\n",
       "      <td>1057</td>\n",
       "    </tr>\n",
       "    <tr>\n",
       "      <th>4</th>\n",
       "      <td>1000002</td>\n",
       "      <td>P00285442</td>\n",
       "      <td>M</td>\n",
       "      <td>55</td>\n",
       "      <td>16</td>\n",
       "      <td>C</td>\n",
       "      <td>4</td>\n",
       "      <td>0.0</td>\n",
       "      <td>8.0</td>\n",
       "      <td>9.84216</td>\n",
       "      <td>12.66984</td>\n",
       "      <td>7969</td>\n",
       "    </tr>\n",
       "    <tr>\n",
       "      <th>5</th>\n",
       "      <td>1000003</td>\n",
       "      <td>P00193542</td>\n",
       "      <td>M</td>\n",
       "      <td>26-35</td>\n",
       "      <td>15</td>\n",
       "      <td>A</td>\n",
       "      <td>3</td>\n",
       "      <td>0.0</td>\n",
       "      <td>1.0</td>\n",
       "      <td>2.00000</td>\n",
       "      <td>12.66984</td>\n",
       "      <td>15227</td>\n",
       "    </tr>\n",
       "    <tr>\n",
       "      <th>6</th>\n",
       "      <td>1000004</td>\n",
       "      <td>P00184942</td>\n",
       "      <td>M</td>\n",
       "      <td>46-50</td>\n",
       "      <td>7</td>\n",
       "      <td>B</td>\n",
       "      <td>2</td>\n",
       "      <td>1.0</td>\n",
       "      <td>1.0</td>\n",
       "      <td>8.00000</td>\n",
       "      <td>17.00000</td>\n",
       "      <td>19215</td>\n",
       "    </tr>\n",
       "  </tbody>\n",
       "</table>\n",
       "</div>"
      ],
      "text/plain": [
       "   User_ID Product_ID Gender    Age  Occupation City_Category  \\\n",
       "0  1000001  P00069042      F   0-17          10             A   \n",
       "3  1000001  P00085442      F   0-17          10             A   \n",
       "4  1000002  P00285442      M     55          16             C   \n",
       "5  1000003  P00193542      M  26-35          15             A   \n",
       "6  1000004  P00184942      M  46-50           7             B   \n",
       "\n",
       "  Stay_In_Current_City_Years  Marital_Status  Product_Category_1  \\\n",
       "0                          2             0.0                 3.0   \n",
       "3                          2             0.0                12.0   \n",
       "4                          4             0.0                 8.0   \n",
       "5                          3             0.0                 1.0   \n",
       "6                          2             1.0                 1.0   \n",
       "\n",
       "   Product_Category_2  Product_Category_3  Purchase  \n",
       "0             9.84216            12.66984      8370  \n",
       "3            14.00000            12.66984      1057  \n",
       "4             9.84216            12.66984      7969  \n",
       "5             2.00000            12.66984     15227  \n",
       "6             8.00000            17.00000     19215  "
      ]
     },
     "execution_count": 15,
     "metadata": {},
     "output_type": "execute_result"
    }
   ],
   "source": [
    "dataset.head()"
   ]
  },
  {
   "cell_type": "markdown",
   "metadata": {},
   "source": [
    "As can be seen, we have managed to clean the columns to removed the '+' sign from the two columns.At this stage, I will exploratory data analysis by visualising the data."
   ]
  },
  {
   "cell_type": "markdown",
   "metadata": {},
   "source": [
    "### EDA"
   ]
  },
  {
   "cell_type": "code",
   "execution_count": 16,
   "metadata": {},
   "outputs": [
    {
     "data": {
      "text/plain": [
       "<matplotlib.axes._subplots.AxesSubplot at 0x7fb31f260470>"
      ]
     },
     "execution_count": 16,
     "metadata": {},
     "output_type": "execute_result"
    },
    {
     "data": {
      "image/png": "[encoded data removed]",
      "text/plain": [
       "<Figure size 1080x432 with 2 Axes>"
      ]
     },
     "metadata": {},
     "output_type": "display_data"
    }
   ],
   "source": [
    "f, ax = plt.subplots(figsize=(15, 6))\n",
    "sns.heatmap(dataset.corr(),annot=True)"
   ]
  },
  {
   "cell_type": "markdown",
   "metadata": {},
   "source": [
    "1 - Summarize the dataset using tables and graphs that compare customers’ purchases grouped by different features."
   ]
  },
  {
   "cell_type": "markdown",
   "metadata": {},
   "source": [
    "#### 1. Purchase Vs Occupation"
   ]
  },
  {
   "cell_type": "code",
   "execution_count": 17,
   "metadata": {},
   "outputs": [
    {
     "data": {
      "text/plain": [
       "<matplotlib.axes._subplots.AxesSubplot at 0x7fb31eba2b70>"
      ]
     },
     "execution_count": 17,
     "metadata": {},
     "output_type": "execute_result"
    },
    {
     "data": {
      "image/png": "[encoded data removed]",
      "text/plain": [
       "<Figure size 1080x432 with 1 Axes>"
      ]
     },
     "metadata": {},
     "output_type": "display_data"
    }
   ],
   "source": [
    "f, ax = plt.subplots(figsize=(15, 6))\n",
    "sns.countplot(dataset.Occupation)"
   ]
  },
  {
   "cell_type": "code",
   "execution_count": 18,
   "metadata": {},
   "outputs": [
    {
     "data": {
      "text/plain": [
       "<seaborn.axisgrid.JointGrid at 0x7fb31de9aa90>"
      ]
     },
     "execution_count": 18,
     "metadata": {},
     "output_type": "execute_result"
    },
    {
     "data": {
      "image/png": "[encoded data removed]",
      "text/plain": [
       "<Figure size 432x432 with 3 Axes>"
      ]
     },
     "metadata": {},
     "output_type": "display_data"
    }
   ],
   "source": [
    "sns.jointplot(x='Occupation',y='Purchase',data=dataset, kind='hex')"
   ]
  },
  {
   "cell_type": "markdown",
   "metadata": {},
   "source": [
    "Findings :- <br>\n",
    "   <pre> 1 - The most of the purchase is done between 5000-10000.</pre>\n",
    "   <pre> 2 - Customers with occupation 0, 4 and 7 makes highest purchases </pre>\n"
   ]
  },
  {
   "cell_type": "markdown",
   "metadata": {},
   "source": [
    "#### 2 - Gender Vs Occupation"
   ]
  },
  {
   "cell_type": "code",
   "execution_count": 19,
   "metadata": {},
   "outputs": [
    {
     "data": {
      "text/plain": [
       "<matplotlib.axes._subplots.AxesSubplot at 0x7fb31b616828>"
      ]
     },
     "execution_count": 19,
     "metadata": {},
     "output_type": "execute_result"
    },
    {
     "data": {
      "image/png": "[encoded data removed]",
      "text/plain": [
       "<Figure size 1080x432 with 1 Axes>"
      ]
     },
     "metadata": {},
     "output_type": "display_data"
    }
   ],
   "source": [
    "f, ax = plt.subplots(figsize=(15, 6))\n",
    "sns.countplot(dataset.Occupation, hue=dataset.Gender)"
   ]
  },
  {
   "cell_type": "markdown",
   "metadata": {},
   "source": [
    "Findings :- <br>\n",
    "   <pre> 1 - Males are more interested in Black Friday deal </pre>"
   ]
  },
  {
   "cell_type": "code",
   "execution_count": 32,
   "metadata": {},
   "outputs": [
    {
     "data": {
      "image/png": "[encoded data removed]",
      "text/plain": [
       "<Figure size 864x360 with 1 Axes>"
      ]
     },
     "metadata": {},
     "output_type": "display_data"
    }
   ],
   "source": [
    "Occupation_pivot = \\\n",
    "dataset.pivot_table(index='Gender', values=\"Purchase\", aggfunc=np.mean)\n",
    "Occupation_pivot.plot(kind='bar', color='blue',figsize=(12,5))\n",
    "plt.xlabel(\"Gender\")\n",
    "plt.ylabel(\"Purchase\")\n",
    "plt.title(\"Gender and Purchase Analysis\")\n",
    "plt.xticks(rotation=0)\n",
    "plt.show()"
   ]
  },
  {
   "cell_type": "markdown",
   "metadata": {},
   "source": [
    "#### 3 - Age Vs Purchase"
   ]
  },
  {
   "cell_type": "code",
   "execution_count": 26,
   "metadata": {},
   "outputs": [
    {
     "data": {
      "text/plain": [
       "<matplotlib.axes._subplots.AxesSubplot at 0x7fb323fdaf98>"
      ]
     },
     "execution_count": 26,
     "metadata": {},
     "output_type": "execute_result"
    },
    {
     "data": {
      "image/png": "[encoded data removed]",
      "text/plain": [
       "<Figure size 1080x432 with 1 Axes>"
      ]
     },
     "metadata": {},
     "output_type": "display_data"
    }
   ],
   "source": [
    "f, ax = plt.subplots(figsize=(15, 6))\n",
    "sns.countplot(dataset.Age, hue=dataset.Gender)"
   ]
  },
  {
   "cell_type": "code",
   "execution_count": 27,
   "metadata": {},
   "outputs": [
    {
     "data": {
      "image/png": "[encoded data removed]",
      "text/plain": [
       "<Figure size 864x432 with 7 Axes>"
      ]
     },
     "metadata": {},
     "output_type": "display_data"
    }
   ],
   "source": [
    "g = sns.FacetGrid(dataset,col=\"Age\",col_wrap=4, size=3)\n",
    "g = g.map(sns.barplot, \"Gender\", \"Purchase\");"
   ]
  },
  {
   "cell_type": "markdown",
   "metadata": {},
   "source": [
    "Findings :- <br>\n",
    "   <pre> 1 - Overall Males are more intersted into this black friday deals regardless of age group. </pre>\n",
    "   <pre> 2 - both genders are having almost equal amount spent even the no.of females are lower compared to males. </pre>"
   ]
  },
  {
   "cell_type": "markdown",
   "metadata": {},
   "source": [
    "#### 4 - City_Category Vs Purchase"
   ]
  },
  {
   "cell_type": "code",
   "execution_count": 28,
   "metadata": {},
   "outputs": [
    {
     "data": {
      "image/png": "[encoded data removed]",
      "text/plain": [
       "<Figure size 1080x360 with 3 Axes>"
      ]
     },
     "metadata": {},
     "output_type": "display_data"
    }
   ],
   "source": [
    "g = sns.FacetGrid(dataset,col=\"City_Category\",size=5)\n",
    "g.map(sns.barplot, \"Gender\", \"Purchase\");"
   ]
  },
  {
   "cell_type": "markdown",
   "metadata": {},
   "source": [
    "Findings :- <br>\n",
    "   <pre> 1 - Purchase amount is more in city C for Males and city A for Females. </pre>\n",
    "   <pre> 2 - It will be good idea to do marketing based on above finding to boost the sales next time. </pre>"
   ]
  },
  {
   "cell_type": "markdown",
   "metadata": {},
   "source": [
    "#### 5 - City_Category Vs Purchase Vs Age"
   ]
  },
  {
   "cell_type": "code",
   "execution_count": 29,
   "metadata": {},
   "outputs": [
    {
     "data": {
      "image/png": "[encoded data removed]",
      "text/plain": [
       "<Figure size 1512x648 with 21 Axes>"
      ]
     },
     "metadata": {},
     "output_type": "display_data"
    }
   ],
   "source": [
    "g = sns.FacetGrid(dataset,col=\"Age\",row=\"City_Category\",gridspec_kws={\"wspace\":0.4}, size=3)\n",
    "g.map(sns.barplot, \"Gender\", \"Purchase\");"
   ]
  },
  {
   "cell_type": "markdown",
   "metadata": {},
   "source": [
    "Findings :- <br>\n",
    "   <pre> 1 - Males from City A spent more money during this day regardless of age group. </pre>\n",
    "   <pre> 2 - Females from City C spent more money during this day regardless of age group. </pre>\n",
    "   <pre> 3 - Males & Females from City B almost spent equal money during this day regardless of age group. </pre>\n",
    "   <pre> 4 - Females in two age groups that can be identified with higher purchase, 26-35 and 18-25 in CITY A. </pre>"
   ]
  },
  {
   "cell_type": "markdown",
   "metadata": {},
   "source": [
    "#### 6 - Marital Status Vs Purchase\n"
   ]
  },
  {
   "cell_type": "code",
   "execution_count": 30,
   "metadata": {},
   "outputs": [
    {
     "data": {
      "text/plain": [
       "<matplotlib.axes._subplots.AxesSubplot at 0x7fb321b52358>"
      ]
     },
     "execution_count": 30,
     "metadata": {},
     "output_type": "execute_result"
    },
    {
     "data": {
      "image/png": "[encoded data removed]",
      "text/plain": [
       "<Figure size 1080x432 with 1 Axes>"
      ]
     },
     "metadata": {},
     "output_type": "display_data"
    }
   ],
   "source": [
    "f, ax = plt.subplots(figsize=(15, 6))\n",
    "sns.violinplot(x='City_Category',y='Purchase',hue='Marital_Status',data=dataset)"
   ]
  },
  {
   "cell_type": "markdown",
   "metadata": {},
   "source": [
    "Findings :- <br>\n",
    "\n",
    "<pre>1 -Ananlysis of Purchase capacity as a function of Marital Status across city categories does not show a definitive trend. It would lead to a lot of assumptions and might lead to wrong conlcusions.</pre>"
   ]
  },
  {
   "cell_type": "markdown",
   "metadata": {},
   "source": [
    "#### 7. Purchase Vs Product_Category_1\n"
   ]
  },
  {
   "cell_type": "code",
   "execution_count": 35,
   "metadata": {},
   "outputs": [
    {
     "data": {
      "image/png": "[encoded data removed]",
      "text/plain": [
       "<Figure size 1008x360 with 1 Axes>"
      ]
     },
     "metadata": {},
     "output_type": "display_data"
    }
   ],
   "source": [
    "Occupation_pivot = \\\n",
    "dataset.pivot_table(index='Product_Category_1', values=\"Purchase\", aggfunc=np.mean)\n",
    "Occupation_pivot.plot(kind='bar', color='blue',figsize=(14,5))\n",
    "plt.xlabel(\"Product_Category_1\")\n",
    "plt.ylabel(\"Purchase\")\n",
    "plt.title(\"Product_Category_1 and Purchase Analysis\")\n",
    "plt.xticks(rotation=0)\n",
    "plt.show()"
   ]
  },
  {
   "cell_type": "code",
   "execution_count": 36,
   "metadata": {},
   "outputs": [
    {
     "data": {
      "image/png": "[encoded data removed]",
      "text/plain": [
       "<Figure size 1008x360 with 1 Axes>"
      ]
     },
     "metadata": {},
     "output_type": "display_data"
    }
   ],
   "source": [
    "Occupation_pivot = \\\n",
    "dataset.pivot_table(index='Product_Category_2', values=\"Purchase\", aggfunc=np.mean)\n",
    "Occupation_pivot.plot(kind='bar', color='blue',figsize=(14,5))\n",
    "plt.xlabel(\"Product_Category_2\")\n",
    "plt.ylabel(\"Purchase\")\n",
    "plt.title(\"Product_Category_2 and Purchase Analysis\")\n",
    "plt.xticks(rotation=0)\n",
    "plt.show()"
   ]
  },
  {
   "cell_type": "code",
   "execution_count": 37,
   "metadata": {},
   "outputs": [
    {
     "data": {
      "image/png": "[encoded data removed]",
      "text/plain": [
       "<Figure size 1008x360 with 1 Axes>"
      ]
     },
     "metadata": {},
     "output_type": "display_data"
    }
   ],
   "source": [
    "Occupation_pivot = \\\n",
    "dataset.pivot_table(index='Product_Category_3', values=\"Purchase\", aggfunc=np.mean)\n",
    "Occupation_pivot.plot(kind='bar', color='blue',figsize=(14,5))\n",
    "plt.xlabel(\"Product_Category_3\")\n",
    "plt.ylabel(\"Purchase\")\n",
    "plt.title(\"Product_Category_3 and Purchase Analysis\")\n",
    "plt.xticks(rotation=0)\n",
    "plt.show()"
   ]
  },
  {
   "cell_type": "markdown",
   "metadata": {},
   "source": [
    "#### 8. Purchase Vs Stay_In_Current_City_Years"
   ]
  },
  {
   "cell_type": "code",
   "execution_count": 39,
   "metadata": {},
   "outputs": [
    {
     "data": {
      "image/png": "[encoded data removed]",
      "text/plain": [
       "<Figure size 1008x360 with 1 Axes>"
      ]
     },
     "metadata": {},
     "output_type": "display_data"
    }
   ],
   "source": [
    "Occupation_pivot = \\\n",
    "dataset.pivot_table(index='Stay_In_Current_City_Years', values=\"Purchase\", aggfunc=np.mean)\n",
    "Occupation_pivot.plot(kind='bar', color='blue',figsize=(14,5))\n",
    "plt.xlabel(\"Stay_In_Current_City_Years\")\n",
    "plt.ylabel(\"Purchase\")\n",
    "plt.title(\"Stay_In_Current_City_Years and Purchase Analysis\")\n",
    "plt.xticks(rotation=0)\n",
    "plt.show()"
   ]
  },
  {
   "cell_type": "code",
   "execution_count": 56,
   "metadata": {},
   "outputs": [],
   "source": [
    "!pip install pandasql\n",
    "import pandasql as ps"
   ]
  },
  {
   "cell_type": "code",
   "execution_count": 209,
   "metadata": {},
   "outputs": [],
   "source": [
    "q1 = \"\"\"SELECT SUM(Purchase) AS TOTAL_PURCHASE FROM dataset WHERE Age='0-17' \"\"\"\n",
    "p1 = round(ps.sqldf(q1, locals())/1000000,2)\n",
    "q1 = \"\"\"SELECT SUM(Purchase) AS TOTAL_PURCHASE FROM dataset WHERE Age='55' \"\"\"\n",
    "p2 = round(ps.sqldf(q1, locals())/1000000,2)\n",
    "q3 = \"\"\"SELECT SUM(Purchase) AS TOTAL_PURCHASE FROM dataset WHERE Age='26-35' \"\"\"\n",
    "p3 = round(ps.sqldf(q1, locals())/1000000,2)\n",
    "q1 = \"\"\"SELECT SUM(Purchase) AS TOTAL_PURCHASE FROM dataset WHERE Age='46-50' \"\"\"\n",
    "p4 = round(ps.sqldf(q1, locals())/1000000,2)\n",
    "q1 = \"\"\"SELECT SUM(Purchase) AS TOTAL_PURCHASE FROM dataset WHERE Age='51-55' \"\"\"\n",
    "p5 = round(ps.sqldf(q1, locals())/1000000,2)\n",
    "q1 = \"\"\"SELECT SUM(Purchase) AS TOTAL_PURCHASE FROM dataset WHERE Age='36-45' \"\"\"\n",
    "p6 = round(ps.sqldf(q1, locals())/1000000,2)\n",
    "q1 = \"\"\"SELECT SUM(Purchase) AS TOTAL_PURCHASE FROM dataset WHERE Age='18-25' \"\"\"\n",
    "p7 = round(ps.sqldf(q1, locals())/1000000,2)"
   ]
  },
  {
   "cell_type": "code",
   "execution_count": 216,
   "metadata": {},
   "outputs": [],
   "source": [
    "purchase = pd.concat([p1, p2,p3,p4,p5,p6,p7], axis=0)\n",
    "purchase.reset_index(inplace=True)\n",
    "purchase.drop('index',inplace=True,axis=1)\n",
    "age = dataset['Age'].unique()\n",
    "df = pd.DataFrame(age,columns=['Age'])\n",
    "purchasePerAge = pd.concat([df,purchase],axis=1)"
   ]
  },
  {
   "cell_type": "code",
   "execution_count": 219,
   "metadata": {},
   "outputs": [
    {
     "data": {
      "text/html": [
       "<div>\n",
       "<style>\n",
       "    .dataframe thead tr:only-child th {\n",
       "        text-align: right;\n",
       "    }\n",
       "\n",
       "    .dataframe thead th {\n",
       "        text-align: left;\n",
       "    }\n",
       "\n",
       "    .dataframe tbody tr th {\n",
       "        vertical-align: top;\n",
       "    }\n",
       "</style>\n",
       "<table border=\"1\" class=\"dataframe\">\n",
       "  <thead>\n",
       "    <tr style=\"text-align: right;\">\n",
       "      <th></th>\n",
       "      <th>Age</th>\n",
       "      <th>TOTAL_PURCHASE</th>\n",
       "    </tr>\n",
       "  </thead>\n",
       "  <tbody>\n",
       "    <tr>\n",
       "      <th>0</th>\n",
       "      <td>0-17</td>\n",
       "      <td>132.62</td>\n",
       "    </tr>\n",
       "    <tr>\n",
       "      <th>1</th>\n",
       "      <td>55</td>\n",
       "      <td>197.60</td>\n",
       "    </tr>\n",
       "    <tr>\n",
       "      <th>2</th>\n",
       "      <td>26-35</td>\n",
       "      <td>197.60</td>\n",
       "    </tr>\n",
       "    <tr>\n",
       "      <th>3</th>\n",
       "      <td>46-50</td>\n",
       "      <td>413.39</td>\n",
       "    </tr>\n",
       "    <tr>\n",
       "      <th>4</th>\n",
       "      <td>51-55</td>\n",
       "      <td>361.90</td>\n",
       "    </tr>\n",
       "    <tr>\n",
       "      <th>5</th>\n",
       "      <td>36-45</td>\n",
       "      <td>1010.63</td>\n",
       "    </tr>\n",
       "    <tr>\n",
       "      <th>6</th>\n",
       "      <td>18-25</td>\n",
       "      <td>901.64</td>\n",
       "    </tr>\n",
       "  </tbody>\n",
       "</table>\n",
       "</div>"
      ],
      "text/plain": [
       "     Age  TOTAL_PURCHASE\n",
       "0   0-17          132.62\n",
       "1     55          197.60\n",
       "2  26-35          197.60\n",
       "3  46-50          413.39\n",
       "4  51-55          361.90\n",
       "5  36-45         1010.63\n",
       "6  18-25          901.64"
      ]
     },
     "execution_count": 219,
     "metadata": {},
     "output_type": "execute_result"
    }
   ],
   "source": [
    "purchasePerAge"
   ]
  },
  {
   "cell_type": "code",
   "execution_count": 222,
   "metadata": {},
   "outputs": [
    {
     "data": {
      "text/plain": [
       "Text(0,0.5,'Purchase in $M')"
      ]
     },
     "execution_count": 222,
     "metadata": {},
     "output_type": "execute_result"
    },
    {
     "data": {
      "image/png": "[encoded data removed]",
      "text/plain": [
       "<Figure size 1080x432 with 1 Axes>"
      ]
     },
     "metadata": {},
     "output_type": "display_data"
    }
   ],
   "source": [
    "f, ax = plt.subplots(figsize=(15, 6))\n",
    "sns.barplot(x='Age',y='TOTAL_PURCHASE',data=purchasePerAge,palette=\"Blues_d\")\n",
    "ax.set_ylabel('Purchase in $M')"
   ]
  },
  {
   "cell_type": "code",
   "execution_count": 392,
   "metadata": {},
   "outputs": [],
   "source": [
    "def getAgeGraph():\n",
    "    f, ax = plt.subplots(figsize=(15, 6))\n",
    "    sns.barplot(x='Age',y='TOTAL_PURCHASE',data=purchasePerAge,palette=\"Blues_d\")\n",
    "    ax.set_ylabel('Purchase in $M')"
   ]
  },
  {
   "cell_type": "code",
   "execution_count": null,
   "metadata": {},
   "outputs": [],
   "source": []
  },
  {
   "cell_type": "markdown",
   "metadata": {},
   "source": [
    "### FINANCIAL VALUE CALCULATION"
   ]
  },
  {
   "cell_type": "code",
   "execution_count": 29,
   "metadata": {},
   "outputs": [
    {
     "data": {
      "text/html": [
       "<div>\n",
       "<style>\n",
       "    .dataframe thead tr:only-child th {\n",
       "        text-align: right;\n",
       "    }\n",
       "\n",
       "    .dataframe thead th {\n",
       "        text-align: left;\n",
       "    }\n",
       "\n",
       "    .dataframe tbody tr th {\n",
       "        vertical-align: top;\n",
       "    }\n",
       "</style>\n",
       "<table border=\"1\" class=\"dataframe\">\n",
       "  <thead>\n",
       "    <tr style=\"text-align: right;\">\n",
       "      <th></th>\n",
       "      <th>Gender</th>\n",
       "      <th>Age</th>\n",
       "      <th>Occupation</th>\n",
       "      <th>City_Category</th>\n",
       "      <th>Stay_In_Current_City_Years</th>\n",
       "      <th>Marital_Status</th>\n",
       "      <th>Product_Category_1</th>\n",
       "      <th>Product_Category_2</th>\n",
       "      <th>Product_Category_3</th>\n",
       "      <th>Purchase</th>\n",
       "    </tr>\n",
       "  </thead>\n",
       "  <tbody>\n",
       "    <tr>\n",
       "      <th>0</th>\n",
       "      <td>F</td>\n",
       "      <td>0-17</td>\n",
       "      <td>10</td>\n",
       "      <td>A</td>\n",
       "      <td>2</td>\n",
       "      <td>0.0</td>\n",
       "      <td>3.0</td>\n",
       "      <td>9.84216</td>\n",
       "      <td>12.66984</td>\n",
       "      <td>8370</td>\n",
       "    </tr>\n",
       "    <tr>\n",
       "      <th>3</th>\n",
       "      <td>F</td>\n",
       "      <td>0-17</td>\n",
       "      <td>10</td>\n",
       "      <td>A</td>\n",
       "      <td>2</td>\n",
       "      <td>0.0</td>\n",
       "      <td>12.0</td>\n",
       "      <td>14.00000</td>\n",
       "      <td>12.66984</td>\n",
       "      <td>1057</td>\n",
       "    </tr>\n",
       "    <tr>\n",
       "      <th>4</th>\n",
       "      <td>M</td>\n",
       "      <td>55</td>\n",
       "      <td>16</td>\n",
       "      <td>C</td>\n",
       "      <td>4</td>\n",
       "      <td>0.0</td>\n",
       "      <td>8.0</td>\n",
       "      <td>9.84216</td>\n",
       "      <td>12.66984</td>\n",
       "      <td>7969</td>\n",
       "    </tr>\n",
       "    <tr>\n",
       "      <th>5</th>\n",
       "      <td>M</td>\n",
       "      <td>26-35</td>\n",
       "      <td>15</td>\n",
       "      <td>A</td>\n",
       "      <td>3</td>\n",
       "      <td>0.0</td>\n",
       "      <td>1.0</td>\n",
       "      <td>2.00000</td>\n",
       "      <td>12.66984</td>\n",
       "      <td>15227</td>\n",
       "    </tr>\n",
       "    <tr>\n",
       "      <th>6</th>\n",
       "      <td>M</td>\n",
       "      <td>46-50</td>\n",
       "      <td>7</td>\n",
       "      <td>B</td>\n",
       "      <td>2</td>\n",
       "      <td>1.0</td>\n",
       "      <td>1.0</td>\n",
       "      <td>8.00000</td>\n",
       "      <td>17.00000</td>\n",
       "      <td>19215</td>\n",
       "    </tr>\n",
       "  </tbody>\n",
       "</table>\n",
       "</div>"
      ],
      "text/plain": [
       "  Gender    Age  Occupation City_Category Stay_In_Current_City_Years  \\\n",
       "0      F   0-17          10             A                          2   \n",
       "3      F   0-17          10             A                          2   \n",
       "4      M     55          16             C                          4   \n",
       "5      M  26-35          15             A                          3   \n",
       "6      M  46-50           7             B                          2   \n",
       "\n",
       "   Marital_Status  Product_Category_1  Product_Category_2  Product_Category_3  \\\n",
       "0             0.0                 3.0             9.84216            12.66984   \n",
       "3             0.0                12.0            14.00000            12.66984   \n",
       "4             0.0                 8.0             9.84216            12.66984   \n",
       "5             0.0                 1.0             2.00000            12.66984   \n",
       "6             1.0                 1.0             8.00000            17.00000   \n",
       "\n",
       "   Purchase  \n",
       "0      8370  \n",
       "3      1057  \n",
       "4      7969  \n",
       "5     15227  \n",
       "6     19215  "
      ]
     },
     "execution_count": 29,
     "metadata": {},
     "output_type": "execute_result"
    }
   ],
   "source": [
    "dataset.head()"
   ]
  },
  {
   "cell_type": "markdown",
   "metadata": {},
   "source": [
    "Lets assume retail store “Rose” increase its customer's purchases by 10% than previous sale.\n",
    "\n",
    "<pre> 1. Lets assume Rose has only 3 stores in total, 1 for each cities\n",
    "\n"
   ]
  },
  {
   "cell_type": "code",
   "execution_count": 227,
   "metadata": {},
   "outputs": [
    {
     "data": {
      "text/plain": [
       "'Total Sale of the store : $M 5017.45'"
      ]
     },
     "execution_count": 227,
     "metadata": {},
     "output_type": "execute_result"
    }
   ],
   "source": [
    "total_sale = round(dataset['Purchase'].sum()/1000000,2)\n",
    "\"Total Sale of the store : $M \" + str(total_sale)"
   ]
  },
  {
   "cell_type": "code",
   "execution_count": 230,
   "metadata": {},
   "outputs": [
    {
     "data": {
      "text/plain": [
       "'Average Sale of the store : $M 1672.48'"
      ]
     },
     "execution_count": 230,
     "metadata": {},
     "output_type": "execute_result"
    }
   ],
   "source": [
    "avg_sale = round(total_sale/3,2)\n",
    "\"Average Sale of the store : $M \" + str(avg_sale)"
   ]
  },
  {
   "cell_type": "code",
   "execution_count": 234,
   "metadata": {},
   "outputs": [
    {
     "data": {
      "text/plain": [
       "'10 % increase in Average Sale of the store : $M 1839.73'"
      ]
     },
     "execution_count": 234,
     "metadata": {},
     "output_type": "execute_result"
    }
   ],
   "source": [
    "f1 = avg_sale * 0.1\n",
    "f2 = round(avg_sale + f1,2)\n",
    "\"10 % increase in Average Sale of the store : $M \" + str(f2)"
   ]
  },
  {
   "cell_type": "code",
   "execution_count": 235,
   "metadata": {},
   "outputs": [
    {
     "data": {
      "text/plain": [
       "'Annual impact : $M 501.75'"
      ]
     },
     "execution_count": 235,
     "metadata": {},
     "output_type": "execute_result"
    }
   ],
   "source": [
    "annual_impact = round(total_sale * 0.1,2)\n",
    "\"Annual impact : $M \" + str(annual_impact)"
   ]
  },
  {
   "cell_type": "markdown",
   "metadata": {},
   "source": [
    "### Targeted Business Initiative"
   ]
  },
  {
   "cell_type": "code",
   "execution_count": 243,
   "metadata": {},
   "outputs": [
    {
     "data": {
      "text/html": [
       "<div>\n",
       "<style>\n",
       "    .dataframe thead tr:only-child th {\n",
       "        text-align: right;\n",
       "    }\n",
       "\n",
       "    .dataframe thead th {\n",
       "        text-align: left;\n",
       "    }\n",
       "\n",
       "    .dataframe tbody tr th {\n",
       "        vertical-align: top;\n",
       "    }\n",
       "</style>\n",
       "<table border=\"1\" class=\"dataframe\">\n",
       "  <thead>\n",
       "    <tr style=\"text-align: right;\">\n",
       "      <th></th>\n",
       "      <th>Key variable</th>\n",
       "      <th>Values</th>\n",
       "    </tr>\n",
       "  </thead>\n",
       "  <tbody>\n",
       "    <tr>\n",
       "      <th>0</th>\n",
       "      <td>Total Sale ($M)</td>\n",
       "      <td>5017.45</td>\n",
       "    </tr>\n",
       "    <tr>\n",
       "      <th>1</th>\n",
       "      <td>Number of Stores</td>\n",
       "      <td>3.00</td>\n",
       "    </tr>\n",
       "    <tr>\n",
       "      <th>2</th>\n",
       "      <td>Average Store Sale ($M)</td>\n",
       "      <td>1672.48</td>\n",
       "    </tr>\n",
       "    <tr>\n",
       "      <th>3</th>\n",
       "      <td>10 % Increase in Avg Store Sale ($M)</td>\n",
       "      <td>1839.73</td>\n",
       "    </tr>\n",
       "    <tr>\n",
       "      <th>4</th>\n",
       "      <td>Annual Impact ($M)</td>\n",
       "      <td>501.75</td>\n",
       "    </tr>\n",
       "  </tbody>\n",
       "</table>\n",
       "</div>"
      ],
      "text/plain": [
       "                           Key variable   Values\n",
       "0                       Total Sale ($M)  5017.45\n",
       "1                      Number of Stores     3.00\n",
       "2               Average Store Sale ($M)  1672.48\n",
       "3  10 % Increase in Avg Store Sale ($M)  1839.73\n",
       "4                    Annual Impact ($M)   501.75"
      ]
     },
     "execution_count": 243,
     "metadata": {},
     "output_type": "execute_result"
    }
   ],
   "source": [
    "key_val = ['Total Sale ($M)','Number of Stores','Average Store Sale ($M)','10 % Increase in Avg Store Sale ($M)','Annual Impact ($M)']\n",
    "data=[total_sale,no_stores,avg_sale,f2,annual_impact]\n",
    "d = {'Key variable': key_val, 'Values': data}\n",
    "df = pd.DataFrame(data=d)\n",
    "df"
   ]
  },
  {
   "cell_type": "markdown",
   "metadata": {},
   "source": [
    "### Use cases"
   ]
  },
  {
   "cell_type": "code",
   "execution_count": 244,
   "metadata": {},
   "outputs": [
    {
     "data": {
      "text/html": [
       "<div>\n",
       "<style>\n",
       "    .dataframe thead tr:only-child th {\n",
       "        text-align: right;\n",
       "    }\n",
       "\n",
       "    .dataframe thead th {\n",
       "        text-align: left;\n",
       "    }\n",
       "\n",
       "    .dataframe tbody tr th {\n",
       "        vertical-align: top;\n",
       "    }\n",
       "</style>\n",
       "<table border=\"1\" class=\"dataframe\">\n",
       "  <thead>\n",
       "    <tr style=\"text-align: right;\">\n",
       "      <th></th>\n",
       "      <th>Gender</th>\n",
       "      <th>Age</th>\n",
       "      <th>Occupation</th>\n",
       "      <th>City_Category</th>\n",
       "      <th>Stay_In_Current_City_Years</th>\n",
       "      <th>Marital_Status</th>\n",
       "      <th>Product_Category_1</th>\n",
       "      <th>Product_Category_2</th>\n",
       "      <th>Product_Category_3</th>\n",
       "      <th>Purchase</th>\n",
       "    </tr>\n",
       "  </thead>\n",
       "  <tbody>\n",
       "    <tr>\n",
       "      <th>0</th>\n",
       "      <td>F</td>\n",
       "      <td>0-17</td>\n",
       "      <td>10</td>\n",
       "      <td>A</td>\n",
       "      <td>2</td>\n",
       "      <td>0.0</td>\n",
       "      <td>3.0</td>\n",
       "      <td>9.84216</td>\n",
       "      <td>12.66984</td>\n",
       "      <td>8370</td>\n",
       "    </tr>\n",
       "    <tr>\n",
       "      <th>3</th>\n",
       "      <td>F</td>\n",
       "      <td>0-17</td>\n",
       "      <td>10</td>\n",
       "      <td>A</td>\n",
       "      <td>2</td>\n",
       "      <td>0.0</td>\n",
       "      <td>12.0</td>\n",
       "      <td>14.00000</td>\n",
       "      <td>12.66984</td>\n",
       "      <td>1057</td>\n",
       "    </tr>\n",
       "    <tr>\n",
       "      <th>4</th>\n",
       "      <td>M</td>\n",
       "      <td>55</td>\n",
       "      <td>16</td>\n",
       "      <td>C</td>\n",
       "      <td>4</td>\n",
       "      <td>0.0</td>\n",
       "      <td>8.0</td>\n",
       "      <td>9.84216</td>\n",
       "      <td>12.66984</td>\n",
       "      <td>7969</td>\n",
       "    </tr>\n",
       "    <tr>\n",
       "      <th>5</th>\n",
       "      <td>M</td>\n",
       "      <td>26-35</td>\n",
       "      <td>15</td>\n",
       "      <td>A</td>\n",
       "      <td>3</td>\n",
       "      <td>0.0</td>\n",
       "      <td>1.0</td>\n",
       "      <td>2.00000</td>\n",
       "      <td>12.66984</td>\n",
       "      <td>15227</td>\n",
       "    </tr>\n",
       "    <tr>\n",
       "      <th>6</th>\n",
       "      <td>M</td>\n",
       "      <td>46-50</td>\n",
       "      <td>7</td>\n",
       "      <td>B</td>\n",
       "      <td>2</td>\n",
       "      <td>1.0</td>\n",
       "      <td>1.0</td>\n",
       "      <td>8.00000</td>\n",
       "      <td>17.00000</td>\n",
       "      <td>19215</td>\n",
       "    </tr>\n",
       "  </tbody>\n",
       "</table>\n",
       "</div>"
      ],
      "text/plain": [
       "  Gender    Age  Occupation City_Category Stay_In_Current_City_Years  \\\n",
       "0      F   0-17          10             A                          2   \n",
       "3      F   0-17          10             A                          2   \n",
       "4      M     55          16             C                          4   \n",
       "5      M  26-35          15             A                          3   \n",
       "6      M  46-50           7             B                          2   \n",
       "\n",
       "   Marital_Status  Product_Category_1  Product_Category_2  Product_Category_3  \\\n",
       "0             0.0                 3.0             9.84216            12.66984   \n",
       "3             0.0                12.0            14.00000            12.66984   \n",
       "4             0.0                 8.0             9.84216            12.66984   \n",
       "5             0.0                 1.0             2.00000            12.66984   \n",
       "6             1.0                 1.0             8.00000            17.00000   \n",
       "\n",
       "   Purchase  \n",
       "0      8370  \n",
       "3      1057  \n",
       "4      7969  \n",
       "5     15227  \n",
       "6     19215  "
      ]
     },
     "execution_count": 244,
     "metadata": {},
     "output_type": "execute_result"
    }
   ],
   "source": [
    "dataset.head()"
   ]
  },
  {
   "cell_type": "markdown",
   "metadata": {},
   "source": [
    "Since the purpose of finding fincial value is to identify and allocate budget for marketing, lets consider :\n",
    "<pre>1. Attract more Females by 10% -> Feature Gender </pre>\n",
    "<pre>2. Attract more Males by 10% -> Feature Gender</pre>\n",
    "<pre>3. Attract more teenegers by 10% -> Feature Age</pre>\n",
    "<pre>4. Improve customer Satisfaction by 10% -> Feature City_Category : lets say customer experience in the store </pre>\n",
    "<pre>5. Improve offer effectiveness by 10% - > Feature Stay_In_Current_City_Years: to attract old customers again </pre>\n",
    "<pre>6. Improve offers specialy for couples by 10% -> Feature Marital_Status</pre>"
   ]
  },
  {
   "cell_type": "markdown",
   "metadata": {},
   "source": [
    "10% may be too aggressive for a 9 to 12 month timeframe and you may want to amp that down to something around 3% to 5% for calculating Most likely estimate of financial value."
   ]
  },
  {
   "cell_type": "code",
   "execution_count": 457,
   "metadata": {},
   "outputs": [],
   "source": [
    "x = []\n",
    "h1 = ['Decision','Present Value ($M)','High estimate ($M)', 'Low estimate ($M)', 'Most Likely Estimate ($M)']\n",
    "d = {'Decision': h1}\n",
    "head1 = pd.DataFrame(data=d)\n",
    "q1 = \"\"\"SELECT SUM(Purchase) AS TOTAL_PURCHASE FROM dataset WHERE Gender='F' \"\"\"\n",
    "p1 = round(ps.sqldf(q1, locals())/1000000,2)\n",
    "p2 = p1 + round((p1*0.1),2)\n",
    "p3 = p1 - round((p1*0.1),2)\n",
    "p4 = p1 + round((p1*0.05),2)\n",
    "x.append('Attract more Females by 10%')\n",
    "x.append(p1.values[0][0])\n",
    "x.append(p2.values[0][0])\n",
    "x.append(p3.values[0][0])\n",
    "x.append(p4.values[0][0])"
   ]
  },
  {
   "cell_type": "code",
   "execution_count": 458,
   "metadata": {},
   "outputs": [],
   "source": [
    "decisions = pd.DataFrame([x],columns=h1)"
   ]
  },
  {
   "cell_type": "code",
   "execution_count": 459,
   "metadata": {},
   "outputs": [],
   "source": [
    "x = []\n",
    "h1 = ['Decision','Present Value ($M)','High estimate ($M)', 'Low estimate ($M)', 'Most Likely Estimate ($M)']\n",
    "d = {'Decision': h1}\n",
    "head1 = pd.DataFrame(data=d)\n",
    "q1 = \"\"\"SELECT SUM(Purchase) AS TOTAL_PURCHASE FROM dataset WHERE Gender='M' \"\"\"\n",
    "p1 = round(ps.sqldf(q1, locals())/1000000,2)\n",
    "p2 = p1 + round((p1*0.1),2)\n",
    "p3 = p1 - round((p1*0.1),2)\n",
    "p4 = p1 + round((p1*0.05),2)\n",
    "x.append('Attract more males by 10%')\n",
    "x.append(p1.values[0][0])\n",
    "x.append(p2.values[0][0])\n",
    "x.append(p3.values[0][0])\n",
    "x.append(p4.values[0][0])"
   ]
  },
  {
   "cell_type": "code",
   "execution_count": 460,
   "metadata": {},
   "outputs": [
    {
     "data": {
      "text/html": [
       "<div>\n",
       "<style>\n",
       "    .dataframe thead tr:only-child th {\n",
       "        text-align: right;\n",
       "    }\n",
       "\n",
       "    .dataframe thead th {\n",
       "        text-align: left;\n",
       "    }\n",
       "\n",
       "    .dataframe tbody tr th {\n",
       "        vertical-align: top;\n",
       "    }\n",
       "</style>\n",
       "<table border=\"1\" class=\"dataframe\">\n",
       "  <thead>\n",
       "    <tr style=\"text-align: right;\">\n",
       "      <th></th>\n",
       "      <th>Decision</th>\n",
       "      <th>Present Value ($M)</th>\n",
       "      <th>High estimate ($M)</th>\n",
       "      <th>Low estimate ($M)</th>\n",
       "      <th>Most Likely Estimate ($M)</th>\n",
       "    </tr>\n",
       "  </thead>\n",
       "  <tbody>\n",
       "    <tr>\n",
       "      <th>0</th>\n",
       "      <td>Attract more Females by 10%</td>\n",
       "      <td>1164.57</td>\n",
       "      <td>1281.03</td>\n",
       "      <td>1048.11</td>\n",
       "      <td>1222.80</td>\n",
       "    </tr>\n",
       "    <tr>\n",
       "      <th>1</th>\n",
       "      <td>Attract more males by 10%</td>\n",
       "      <td>3852.88</td>\n",
       "      <td>4238.17</td>\n",
       "      <td>3467.59</td>\n",
       "      <td>4045.52</td>\n",
       "    </tr>\n",
       "  </tbody>\n",
       "</table>\n",
       "</div>"
      ],
      "text/plain": [
       "                      Decision  Present Value ($M)  High estimate ($M)  \\\n",
       "0  Attract more Females by 10%             1164.57             1281.03   \n",
       "1    Attract more males by 10%             3852.88             4238.17   \n",
       "\n",
       "   Low estimate ($M)  Most Likely Estimate ($M)  \n",
       "0            1048.11                    1222.80  \n",
       "1            3467.59                    4045.52  "
      ]
     },
     "execution_count": 460,
     "metadata": {},
     "output_type": "execute_result"
    }
   ],
   "source": [
    "y = pd.DataFrame([x],columns=h1)\n",
    "z = decisions.append(y,ignore_index=True)\n",
    "z"
   ]
  },
  {
   "cell_type": "code",
   "execution_count": 461,
   "metadata": {},
   "outputs": [
    {
     "data": {
      "image/png": "[encoded data removed]",
      "text/plain": [
       "<Figure size 1080x432 with 1 Axes>"
      ]
     },
     "metadata": {},
     "output_type": "display_data"
    }
   ],
   "source": [
    "getAgeGraph()"
   ]
  },
  {
   "cell_type": "markdown",
   "metadata": {},
   "source": [
    "Since customers from the age 0-17 has very low purchase value, we will concentrate on these customers to rise the value on next purchase."
   ]
  },
  {
   "cell_type": "code",
   "execution_count": 462,
   "metadata": {},
   "outputs": [],
   "source": [
    "x = []\n",
    "q1 = \"\"\"SELECT SUM(Purchase) AS TOTAL_PURCHASE FROM dataset WHERE Age='0-17' \"\"\"\n",
    "p1 = round(ps.sqldf(q1, locals())/1000000,2)\n",
    "p2 = p1 + round((p1*0.1),2)\n",
    "p3 = p1 - round((p1*0.1),2)\n",
    "p4 = p1 + round((p1*0.05),2)\n",
    "x.append('Attract more teenegers by 10%')\n",
    "x.append(p1.values[0][0])\n",
    "x.append(p2.values[0][0])\n",
    "x.append(p3.values[0][0])\n",
    "x.append(p4.values[0][0])"
   ]
  },
  {
   "cell_type": "code",
   "execution_count": 463,
   "metadata": {},
   "outputs": [],
   "source": [
    "y1 = pd.DataFrame([x],columns=h1)\n",
    "z1 = z.append(y1,ignore_index=True)"
   ]
  },
  {
   "cell_type": "code",
   "execution_count": 464,
   "metadata": {},
   "outputs": [
    {
     "data": {
      "text/plain": [
       "<matplotlib.axes._subplots.AxesSubplot at 0x7f5d3b449a58>"
      ]
     },
     "execution_count": 464,
     "metadata": {},
     "output_type": "execute_result"
    },
    {
     "data": {
      "image/png": "[encoded data removed]",
      "text/plain": [
       "<Figure size 432x288 with 1 Axes>"
      ]
     },
     "metadata": {},
     "output_type": "display_data"
    }
   ],
   "source": [
    "sns.barplot(x='City_Category',y='Purchase',data=dataset,palette=\"Blues_d\")"
   ]
  },
  {
   "cell_type": "code",
   "execution_count": 465,
   "metadata": {},
   "outputs": [],
   "source": [
    "x = []\n",
    "q1 = \"\"\"SELECT SUM(Purchase) AS TOTAL_PURCHASE FROM dataset\"\"\"\n",
    "p1 = round(ps.sqldf(q1, locals())/1000000,2)\n",
    "p2 = p1 + round((p1*0.1),2)\n",
    "p3 = p1 - round((p1*0.1),2)\n",
    "p4 = p1 + round((p1*0.05),2)\n",
    "x.append('Improve customer Satisfaction by 10%')\n",
    "x.append(p1.values[0][0])\n",
    "x.append(p2.values[0][0])\n",
    "x.append(p3.values[0][0])\n",
    "x.append(p4.values[0][0])"
   ]
  },
  {
   "cell_type": "code",
   "execution_count": 466,
   "metadata": {},
   "outputs": [
    {
     "data": {
      "text/html": [
       "<div>\n",
       "<style>\n",
       "    .dataframe thead tr:only-child th {\n",
       "        text-align: right;\n",
       "    }\n",
       "\n",
       "    .dataframe thead th {\n",
       "        text-align: left;\n",
       "    }\n",
       "\n",
       "    .dataframe tbody tr th {\n",
       "        vertical-align: top;\n",
       "    }\n",
       "</style>\n",
       "<table border=\"1\" class=\"dataframe\">\n",
       "  <thead>\n",
       "    <tr style=\"text-align: right;\">\n",
       "      <th></th>\n",
       "      <th>Decision</th>\n",
       "      <th>Present Value ($M)</th>\n",
       "      <th>High estimate ($M)</th>\n",
       "      <th>Low estimate ($M)</th>\n",
       "      <th>Most Likely Estimate ($M)</th>\n",
       "    </tr>\n",
       "  </thead>\n",
       "  <tbody>\n",
       "    <tr>\n",
       "      <th>0</th>\n",
       "      <td>Attract more Females by 10%</td>\n",
       "      <td>1164.57</td>\n",
       "      <td>1281.03</td>\n",
       "      <td>1048.11</td>\n",
       "      <td>1222.80</td>\n",
       "    </tr>\n",
       "    <tr>\n",
       "      <th>1</th>\n",
       "      <td>Attract more males by 10%</td>\n",
       "      <td>3852.88</td>\n",
       "      <td>4238.17</td>\n",
       "      <td>3467.59</td>\n",
       "      <td>4045.52</td>\n",
       "    </tr>\n",
       "    <tr>\n",
       "      <th>2</th>\n",
       "      <td>Attract more teenegers by 10%</td>\n",
       "      <td>132.62</td>\n",
       "      <td>145.88</td>\n",
       "      <td>119.36</td>\n",
       "      <td>139.25</td>\n",
       "    </tr>\n",
       "    <tr>\n",
       "      <th>3</th>\n",
       "      <td>Improve customer Satisfaction by 10%</td>\n",
       "      <td>5017.45</td>\n",
       "      <td>5519.19</td>\n",
       "      <td>4515.71</td>\n",
       "      <td>5268.32</td>\n",
       "    </tr>\n",
       "  </tbody>\n",
       "</table>\n",
       "</div>"
      ],
      "text/plain": [
       "                               Decision  Present Value ($M)  \\\n",
       "0           Attract more Females by 10%             1164.57   \n",
       "1             Attract more males by 10%             3852.88   \n",
       "2         Attract more teenegers by 10%              132.62   \n",
       "3  Improve customer Satisfaction by 10%             5017.45   \n",
       "\n",
       "   High estimate ($M)  Low estimate ($M)  Most Likely Estimate ($M)  \n",
       "0             1281.03            1048.11                    1222.80  \n",
       "1             4238.17            3467.59                    4045.52  \n",
       "2              145.88             119.36                     139.25  \n",
       "3             5519.19            4515.71                    5268.32  "
      ]
     },
     "execution_count": 466,
     "metadata": {},
     "output_type": "execute_result"
    }
   ],
   "source": [
    "y2 = pd.DataFrame([x],columns=h1)\n",
    "z2 = z1.append(y2,ignore_index=True)\n",
    "z2"
   ]
  },
  {
   "cell_type": "code",
   "execution_count": 476,
   "metadata": {},
   "outputs": [],
   "source": [
    "q1 = \"\"\"SELECT SUM(Purchase) AS TOTAL_PURCHASE FROM dataset WHERE Stay_In_Current_City_Years=0\"\"\"\n",
    "p1 = round(ps.sqldf(q1, locals())/1000000,2)\n",
    "q1 = \"\"\"SELECT SUM(Purchase) AS TOTAL_PURCHASE FROM dataset WHERE Stay_In_Current_City_Years=1\"\"\"\n",
    "p2 = round(ps.sqldf(q1, locals())/1000000,2)\n",
    "q1 = \"\"\"SELECT SUM(Purchase) AS TOTAL_PURCHASE FROM dataset WHERE Stay_In_Current_City_Years=2\"\"\"\n",
    "p3 = round(ps.sqldf(q1, locals())/1000000,2)\n",
    "q1 = \"\"\"SELECT SUM(Purchase) AS TOTAL_PURCHASE FROM dataset WHERE Stay_In_Current_City_Years=3\"\"\"\n",
    "p3 = round(ps.sqldf(q1, locals())/1000000,2)\n",
    "q1 = \"\"\"SELECT SUM(Purchase) AS TOTAL_PURCHASE FROM dataset WHERE Stay_In_Current_City_Years=4\"\"\"\n",
    "p4 = round(ps.sqldf(q1, locals())/1000000,2)"
   ]
  },
  {
   "cell_type": "code",
   "execution_count": 489,
   "metadata": {},
   "outputs": [],
   "source": [
    "purchase = pd.concat([p1, p2,p3,p4], axis=0)\n",
    "purchase.reset_index(inplace=True)"
   ]
  },
  {
   "cell_type": "code",
   "execution_count": 490,
   "metadata": {},
   "outputs": [
    {
     "data": {
      "text/html": [
       "<div>\n",
       "<style>\n",
       "    .dataframe thead tr:only-child th {\n",
       "        text-align: right;\n",
       "    }\n",
       "\n",
       "    .dataframe thead th {\n",
       "        text-align: left;\n",
       "    }\n",
       "\n",
       "    .dataframe tbody tr th {\n",
       "        vertical-align: top;\n",
       "    }\n",
       "</style>\n",
       "<table border=\"1\" class=\"dataframe\">\n",
       "  <thead>\n",
       "    <tr style=\"text-align: right;\">\n",
       "      <th></th>\n",
       "      <th>TOTAL_PURCHASE</th>\n",
       "    </tr>\n",
       "  </thead>\n",
       "  <tbody>\n",
       "    <tr>\n",
       "      <th>0</th>\n",
       "      <td>672.49</td>\n",
       "    </tr>\n",
       "    <tr>\n",
       "      <th>1</th>\n",
       "      <td>739.74</td>\n",
       "    </tr>\n",
       "    <tr>\n",
       "      <th>2</th>\n",
       "      <td>605.24</td>\n",
       "    </tr>\n",
       "    <tr>\n",
       "      <th>3</th>\n",
       "      <td>706.11</td>\n",
       "    </tr>\n",
       "  </tbody>\n",
       "</table>\n",
       "</div>"
      ],
      "text/plain": [
       "   TOTAL_PURCHASE\n",
       "0          672.49\n",
       "1          739.74\n",
       "2          605.24\n",
       "3          706.11"
      ]
     },
     "execution_count": 490,
     "metadata": {},
     "output_type": "execute_result"
    }
   ],
   "source": [
    "purchase.drop('index',inplace=True,axis=1)\n",
    "purchase"
   ]
  },
  {
   "cell_type": "markdown",
   "metadata": {},
   "source": [
    "As expected newly relocated people are having less purchase value and hence it will be better to concentrate on those people."
   ]
  },
  {
   "cell_type": "code",
   "execution_count": 484,
   "metadata": {},
   "outputs": [],
   "source": [
    "x = []\n",
    "q1 = \"\"\"SELECT SUM(Purchase) AS TOTAL_PURCHASE FROM dataset WHERE Stay_In_Current_City_Years=0\"\"\"\n",
    "p1 = round(ps.sqldf(q1, locals())/1000000,2)\n",
    "p2 = p1 + round((p1*0.1),2)\n",
    "p3 = p1 - round((p1*0.1),2)\n",
    "p4 = p1 + round((p1*0.05),2)\n",
    "x.append('Improve offer effectiveness by 10%')\n",
    "x.append(p1.values[0][0])\n",
    "x.append(p2.values[0][0])\n",
    "x.append(p3.values[0][0])\n",
    "x.append(p4.values[0][0])"
   ]
  },
  {
   "cell_type": "code",
   "execution_count": 485,
   "metadata": {},
   "outputs": [
    {
     "data": {
      "text/html": [
       "<div>\n",
       "<style>\n",
       "    .dataframe thead tr:only-child th {\n",
       "        text-align: right;\n",
       "    }\n",
       "\n",
       "    .dataframe thead th {\n",
       "        text-align: left;\n",
       "    }\n",
       "\n",
       "    .dataframe tbody tr th {\n",
       "        vertical-align: top;\n",
       "    }\n",
       "</style>\n",
       "<table border=\"1\" class=\"dataframe\">\n",
       "  <thead>\n",
       "    <tr style=\"text-align: right;\">\n",
       "      <th></th>\n",
       "      <th>Decision</th>\n",
       "      <th>Present Value ($M)</th>\n",
       "      <th>High estimate ($M)</th>\n",
       "      <th>Low estimate ($M)</th>\n",
       "      <th>Most Likely Estimate ($M)</th>\n",
       "    </tr>\n",
       "  </thead>\n",
       "  <tbody>\n",
       "    <tr>\n",
       "      <th>0</th>\n",
       "      <td>Attract more Females by 10%</td>\n",
       "      <td>1164.57</td>\n",
       "      <td>1281.03</td>\n",
       "      <td>1048.11</td>\n",
       "      <td>1222.80</td>\n",
       "    </tr>\n",
       "    <tr>\n",
       "      <th>1</th>\n",
       "      <td>Attract more males by 10%</td>\n",
       "      <td>3852.88</td>\n",
       "      <td>4238.17</td>\n",
       "      <td>3467.59</td>\n",
       "      <td>4045.52</td>\n",
       "    </tr>\n",
       "    <tr>\n",
       "      <th>2</th>\n",
       "      <td>Attract more teenegers by 10%</td>\n",
       "      <td>132.62</td>\n",
       "      <td>145.88</td>\n",
       "      <td>119.36</td>\n",
       "      <td>139.25</td>\n",
       "    </tr>\n",
       "    <tr>\n",
       "      <th>3</th>\n",
       "      <td>Improve customer Satisfaction by 10%</td>\n",
       "      <td>5017.45</td>\n",
       "      <td>5519.19</td>\n",
       "      <td>4515.71</td>\n",
       "      <td>5268.32</td>\n",
       "    </tr>\n",
       "    <tr>\n",
       "      <th>4</th>\n",
       "      <td>Improve offer effectiveness by 10%</td>\n",
       "      <td>672.49</td>\n",
       "      <td>739.74</td>\n",
       "      <td>605.24</td>\n",
       "      <td>706.11</td>\n",
       "    </tr>\n",
       "  </tbody>\n",
       "</table>\n",
       "</div>"
      ],
      "text/plain": [
       "                               Decision  Present Value ($M)  \\\n",
       "0           Attract more Females by 10%             1164.57   \n",
       "1             Attract more males by 10%             3852.88   \n",
       "2         Attract more teenegers by 10%              132.62   \n",
       "3  Improve customer Satisfaction by 10%             5017.45   \n",
       "4    Improve offer effectiveness by 10%              672.49   \n",
       "\n",
       "   High estimate ($M)  Low estimate ($M)  Most Likely Estimate ($M)  \n",
       "0             1281.03            1048.11                    1222.80  \n",
       "1             4238.17            3467.59                    4045.52  \n",
       "2              145.88             119.36                     139.25  \n",
       "3             5519.19            4515.71                    5268.32  \n",
       "4              739.74             605.24                     706.11  "
      ]
     },
     "execution_count": 485,
     "metadata": {},
     "output_type": "execute_result"
    }
   ],
   "source": [
    "y3 = pd.DataFrame([x],columns=h1)\n",
    "z3 = z2.append(y3,ignore_index=True)\n",
    "z3"
   ]
  },
  {
   "cell_type": "code",
   "execution_count": 495,
   "metadata": {},
   "outputs": [],
   "source": [
    "q1 = \"\"\"SELECT SUM(Purchase) AS TOTAL_PURCHASE FROM dataset WHERE Marital_Status=0.0\"\"\"\n",
    "p1 = round(ps.sqldf(q1, locals())/1000000,2)\n",
    "q1 = \"\"\"SELECT SUM(Purchase) AS TOTAL_PURCHASE FROM dataset WHERE Marital_Status=1.0\"\"\"\n",
    "p2 = round(ps.sqldf(q1, locals())/1000000,2)"
   ]
  },
  {
   "cell_type": "code",
   "execution_count": 496,
   "metadata": {},
   "outputs": [],
   "source": [
    "purchase = pd.concat([p1, p2], axis=0)\n",
    "purchase.reset_index(inplace=True)"
   ]
  },
  {
   "cell_type": "code",
   "execution_count": 497,
   "metadata": {},
   "outputs": [
    {
     "data": {
      "text/html": [
       "<div>\n",
       "<style>\n",
       "    .dataframe thead tr:only-child th {\n",
       "        text-align: right;\n",
       "    }\n",
       "\n",
       "    .dataframe thead th {\n",
       "        text-align: left;\n",
       "    }\n",
       "\n",
       "    .dataframe tbody tr th {\n",
       "        vertical-align: top;\n",
       "    }\n",
       "</style>\n",
       "<table border=\"1\" class=\"dataframe\">\n",
       "  <thead>\n",
       "    <tr style=\"text-align: right;\">\n",
       "      <th></th>\n",
       "      <th>TOTAL_PURCHASE</th>\n",
       "    </tr>\n",
       "  </thead>\n",
       "  <tbody>\n",
       "    <tr>\n",
       "      <th>0</th>\n",
       "      <td>2966.19</td>\n",
       "    </tr>\n",
       "    <tr>\n",
       "      <th>1</th>\n",
       "      <td>2051.26</td>\n",
       "    </tr>\n",
       "  </tbody>\n",
       "</table>\n",
       "</div>"
      ],
      "text/plain": [
       "   TOTAL_PURCHASE\n",
       "0         2966.19\n",
       "1         2051.26"
      ]
     },
     "execution_count": 497,
     "metadata": {},
     "output_type": "execute_result"
    }
   ],
   "source": [
    "purchase.drop('index',inplace=True,axis=1)\n",
    "purchase"
   ]
  },
  {
   "cell_type": "markdown",
   "metadata": {},
   "source": [
    "Looks like couples are having less purchase during the day. so we will have to add some sales foe them aswell."
   ]
  },
  {
   "cell_type": "code",
   "execution_count": 498,
   "metadata": {},
   "outputs": [],
   "source": [
    "x = []\n",
    "q1 = \"\"\"SELECT SUM(Purchase) AS TOTAL_PURCHASE FROM dataset WHERE Marital_Status=1.0\"\"\"\n",
    "p1 = round(ps.sqldf(q1, locals())/1000000,2)\n",
    "p2 = p1 + round((p1*0.1),2)\n",
    "p3 = p1 - round((p1*0.1),2)\n",
    "p4 = p1 + round((p1*0.05),2)\n",
    "x.append('Improve offers specialy for couples by 10%')\n",
    "x.append(p1.values[0][0])\n",
    "x.append(p2.values[0][0])\n",
    "x.append(p3.values[0][0])\n",
    "x.append(p4.values[0][0])"
   ]
  },
  {
   "cell_type": "code",
   "execution_count": 500,
   "metadata": {},
   "outputs": [
    {
     "data": {
      "text/html": [
       "<div>\n",
       "<style>\n",
       "    .dataframe thead tr:only-child th {\n",
       "        text-align: right;\n",
       "    }\n",
       "\n",
       "    .dataframe thead th {\n",
       "        text-align: left;\n",
       "    }\n",
       "\n",
       "    .dataframe tbody tr th {\n",
       "        vertical-align: top;\n",
       "    }\n",
       "</style>\n",
       "<table border=\"1\" class=\"dataframe\">\n",
       "  <thead>\n",
       "    <tr style=\"text-align: right;\">\n",
       "      <th></th>\n",
       "      <th>Decision</th>\n",
       "      <th>Present Value ($M)</th>\n",
       "      <th>High estimate ($M)</th>\n",
       "      <th>Low estimate ($M)</th>\n",
       "      <th>Most Likely Estimate ($M)</th>\n",
       "    </tr>\n",
       "  </thead>\n",
       "  <tbody>\n",
       "    <tr>\n",
       "      <th>0</th>\n",
       "      <td>Attract more Females by 10%</td>\n",
       "      <td>1164.57</td>\n",
       "      <td>1281.03</td>\n",
       "      <td>1048.11</td>\n",
       "      <td>1222.80</td>\n",
       "    </tr>\n",
       "    <tr>\n",
       "      <th>1</th>\n",
       "      <td>Attract more males by 10%</td>\n",
       "      <td>3852.88</td>\n",
       "      <td>4238.17</td>\n",
       "      <td>3467.59</td>\n",
       "      <td>4045.52</td>\n",
       "    </tr>\n",
       "    <tr>\n",
       "      <th>2</th>\n",
       "      <td>Attract more teenegers by 10%</td>\n",
       "      <td>132.62</td>\n",
       "      <td>145.88</td>\n",
       "      <td>119.36</td>\n",
       "      <td>139.25</td>\n",
       "    </tr>\n",
       "    <tr>\n",
       "      <th>3</th>\n",
       "      <td>Improve customer Satisfaction by 10%</td>\n",
       "      <td>5017.45</td>\n",
       "      <td>5519.19</td>\n",
       "      <td>4515.71</td>\n",
       "      <td>5268.32</td>\n",
       "    </tr>\n",
       "    <tr>\n",
       "      <th>4</th>\n",
       "      <td>Improve offer effectiveness by 10%</td>\n",
       "      <td>672.49</td>\n",
       "      <td>739.74</td>\n",
       "      <td>605.24</td>\n",
       "      <td>706.11</td>\n",
       "    </tr>\n",
       "    <tr>\n",
       "      <th>5</th>\n",
       "      <td>Improve offers specialy for couples by 10%</td>\n",
       "      <td>2051.26</td>\n",
       "      <td>2256.39</td>\n",
       "      <td>1846.13</td>\n",
       "      <td>2153.82</td>\n",
       "    </tr>\n",
       "  </tbody>\n",
       "</table>\n",
       "</div>"
      ],
      "text/plain": [
       "                                     Decision  Present Value ($M)  \\\n",
       "0                 Attract more Females by 10%             1164.57   \n",
       "1                   Attract more males by 10%             3852.88   \n",
       "2               Attract more teenegers by 10%              132.62   \n",
       "3        Improve customer Satisfaction by 10%             5017.45   \n",
       "4          Improve offer effectiveness by 10%              672.49   \n",
       "5  Improve offers specialy for couples by 10%             2051.26   \n",
       "\n",
       "   High estimate ($M)  Low estimate ($M)  Most Likely Estimate ($M)  \n",
       "0             1281.03            1048.11                    1222.80  \n",
       "1             4238.17            3467.59                    4045.52  \n",
       "2              145.88             119.36                     139.25  \n",
       "3             5519.19            4515.71                    5268.32  \n",
       "4              739.74             605.24                     706.11  \n",
       "5             2256.39            1846.13                    2153.82  "
      ]
     },
     "execution_count": 500,
     "metadata": {},
     "output_type": "execute_result"
    }
   ],
   "source": [
    "y4 = pd.DataFrame([x],columns=h1)\n",
    "z4 = z3.append(y4,ignore_index=True)\n",
    "z4"
   ]
  },
  {
   "cell_type": "markdown",
   "metadata": {},
   "source": [
    "### Assess Value of Data Sources to Each Decision"
   ]
  },
  {
   "cell_type": "markdown",
   "metadata": {},
   "source": [
    "Next, we need to determine a rough order of value for each data source with respect to how important each data source is to supporting the respective decisions. We will use Harvey Balls (with a value from 0 to 4) to value each of the data sources."
   ]
  },
  {
   "cell_type": "markdown",
   "metadata": {},
   "source": [
    "Lets sat our datasources are as follows : <br>\n",
    "<pre>1. POS Transactions</pre>\n",
    "<pre>2. Other Stores</pre>\n",
    "<pre>3. Traffic</pre>\n",
    "<pre>4. Weather</pre>"
   ]
  },
  {
   "cell_type": "code",
   "execution_count": 657,
   "metadata": {},
   "outputs": [
    {
     "data": {
      "text/html": [
       "<div>\n",
       "<style>\n",
       "    .dataframe thead tr:only-child th {\n",
       "        text-align: right;\n",
       "    }\n",
       "\n",
       "    .dataframe thead th {\n",
       "        text-align: left;\n",
       "    }\n",
       "\n",
       "    .dataframe tbody tr th {\n",
       "        vertical-align: top;\n",
       "    }\n",
       "</style>\n",
       "<table border=\"1\" class=\"dataframe\">\n",
       "  <thead>\n",
       "    <tr style=\"text-align: right;\">\n",
       "      <th></th>\n",
       "      <th>Decision</th>\n",
       "      <th>Present Value ($M)</th>\n",
       "      <th>High estimate ($M)</th>\n",
       "      <th>Low estimate ($M)</th>\n",
       "      <th>Most Likely Estimate ($M)</th>\n",
       "    </tr>\n",
       "  </thead>\n",
       "  <tbody>\n",
       "    <tr>\n",
       "      <th>0</th>\n",
       "      <td>Attract more Females by 10%</td>\n",
       "      <td>1164.57</td>\n",
       "      <td>1281.03</td>\n",
       "      <td>1048.11</td>\n",
       "      <td>1222.80</td>\n",
       "    </tr>\n",
       "    <tr>\n",
       "      <th>1</th>\n",
       "      <td>Attract more males by 10%</td>\n",
       "      <td>3852.88</td>\n",
       "      <td>4238.17</td>\n",
       "      <td>3467.59</td>\n",
       "      <td>4045.52</td>\n",
       "    </tr>\n",
       "    <tr>\n",
       "      <th>2</th>\n",
       "      <td>Attract more teenegers by 10%</td>\n",
       "      <td>132.62</td>\n",
       "      <td>145.88</td>\n",
       "      <td>119.36</td>\n",
       "      <td>139.25</td>\n",
       "    </tr>\n",
       "    <tr>\n",
       "      <th>3</th>\n",
       "      <td>Improve customer Satisfaction by 10%</td>\n",
       "      <td>5017.45</td>\n",
       "      <td>5519.19</td>\n",
       "      <td>4515.71</td>\n",
       "      <td>5268.32</td>\n",
       "    </tr>\n",
       "    <tr>\n",
       "      <th>4</th>\n",
       "      <td>Improve offer effectiveness by 10%</td>\n",
       "      <td>672.49</td>\n",
       "      <td>739.74</td>\n",
       "      <td>605.24</td>\n",
       "      <td>706.11</td>\n",
       "    </tr>\n",
       "    <tr>\n",
       "      <th>5</th>\n",
       "      <td>Improve offers specialy for couples by 10%</td>\n",
       "      <td>2051.26</td>\n",
       "      <td>2256.39</td>\n",
       "      <td>1846.13</td>\n",
       "      <td>2153.82</td>\n",
       "    </tr>\n",
       "  </tbody>\n",
       "</table>\n",
       "</div>"
      ],
      "text/plain": [
       "                                     Decision  Present Value ($M)  \\\n",
       "0                 Attract more Females by 10%             1164.57   \n",
       "1                   Attract more males by 10%             3852.88   \n",
       "2               Attract more teenegers by 10%              132.62   \n",
       "3        Improve customer Satisfaction by 10%             5017.45   \n",
       "4          Improve offer effectiveness by 10%              672.49   \n",
       "5  Improve offers specialy for couples by 10%             2051.26   \n",
       "\n",
       "   High estimate ($M)  Low estimate ($M)  Most Likely Estimate ($M)  \n",
       "0             1281.03            1048.11                    1222.80  \n",
       "1             4238.17            3467.59                    4045.52  \n",
       "2              145.88             119.36                     139.25  \n",
       "3             5519.19            4515.71                    5268.32  \n",
       "4              739.74             605.24                     706.11  \n",
       "5             2256.39            1846.13                    2153.82  "
      ]
     },
     "execution_count": 657,
     "metadata": {},
     "output_type": "execute_result"
    }
   ],
   "source": [
    "z4"
   ]
  },
  {
   "cell_type": "code",
   "execution_count": 658,
   "metadata": {},
   "outputs": [],
   "source": [
    "h3 = ['Attract more Females by 10%','Attract more Males by 10%','Attract more teenegers by 10%','Improve customer Satisfaction by 10%','Improve offer effectiveness by 10%','Improve offers specialy for couples by 10%']\n",
    "h2=['Financial value','POS Transactions','Other Stores','Traffic','Weather']\n",
    "datasource1 = z4.iloc[:,4]\n",
    "data1=[datasource1[0],4,4,2,3]\n",
    "data2=[datasource1[1],4,4,2,2]\n",
    "data3=[datasource1[2],4,4,1,1]\n",
    "data4=[datasource1[3],4,4,2,1]"
   ]
  },
  {
   "cell_type": "code",
   "execution_count": 659,
   "metadata": {},
   "outputs": [],
   "source": [
    "d = {'Data Sources': h2,h3[0]:data1,h3[1]:data2,h3[2]:data3,h3[3]:data4,}\n",
    "finalData = pd.DataFrame(data=d)"
   ]
  },
  {
   "cell_type": "code",
   "execution_count": 660,
   "metadata": {},
   "outputs": [],
   "source": [
    "finalData = finalData[['Data Sources',h3[0],h3[1],h3[2],h3[3]]]"
   ]
  },
  {
   "cell_type": "code",
   "execution_count": 661,
   "metadata": {},
   "outputs": [
    {
     "data": {
      "text/html": [
       "<div>\n",
       "<style>\n",
       "    .dataframe thead tr:only-child th {\n",
       "        text-align: right;\n",
       "    }\n",
       "\n",
       "    .dataframe thead th {\n",
       "        text-align: left;\n",
       "    }\n",
       "\n",
       "    .dataframe tbody tr th {\n",
       "        vertical-align: top;\n",
       "    }\n",
       "</style>\n",
       "<table border=\"1\" class=\"dataframe\">\n",
       "  <thead>\n",
       "    <tr style=\"text-align: right;\">\n",
       "      <th></th>\n",
       "      <th>Data Sources</th>\n",
       "      <th>Attract more Females by 10%</th>\n",
       "      <th>Attract more Males by 10%</th>\n",
       "      <th>Attract more teenegers by 10%</th>\n",
       "      <th>Improve customer Satisfaction by 10%</th>\n",
       "    </tr>\n",
       "  </thead>\n",
       "  <tbody>\n",
       "    <tr>\n",
       "      <th>0</th>\n",
       "      <td>Financial value</td>\n",
       "      <td>1222.8</td>\n",
       "      <td>4045.52</td>\n",
       "      <td>139.25</td>\n",
       "      <td>5268.32</td>\n",
       "    </tr>\n",
       "    <tr>\n",
       "      <th>1</th>\n",
       "      <td>POS Transactions</td>\n",
       "      <td>4.0</td>\n",
       "      <td>4.00</td>\n",
       "      <td>4.00</td>\n",
       "      <td>4.00</td>\n",
       "    </tr>\n",
       "    <tr>\n",
       "      <th>2</th>\n",
       "      <td>Other Stores</td>\n",
       "      <td>4.0</td>\n",
       "      <td>4.00</td>\n",
       "      <td>4.00</td>\n",
       "      <td>4.00</td>\n",
       "    </tr>\n",
       "    <tr>\n",
       "      <th>3</th>\n",
       "      <td>Traffic</td>\n",
       "      <td>2.0</td>\n",
       "      <td>2.00</td>\n",
       "      <td>1.00</td>\n",
       "      <td>2.00</td>\n",
       "    </tr>\n",
       "    <tr>\n",
       "      <th>4</th>\n",
       "      <td>Weather</td>\n",
       "      <td>3.0</td>\n",
       "      <td>2.00</td>\n",
       "      <td>1.00</td>\n",
       "      <td>1.00</td>\n",
       "    </tr>\n",
       "  </tbody>\n",
       "</table>\n",
       "</div>"
      ],
      "text/plain": [
       "       Data Sources  Attract more Females by 10%  Attract more Males by 10%  \\\n",
       "0   Financial value                       1222.8                    4045.52   \n",
       "1  POS Transactions                          4.0                       4.00   \n",
       "2      Other Stores                          4.0                       4.00   \n",
       "3           Traffic                          2.0                       2.00   \n",
       "4           Weather                          3.0                       2.00   \n",
       "\n",
       "   Attract more teenegers by 10%  Improve customer Satisfaction by 10%  \n",
       "0                         139.25                               5268.32  \n",
       "1                           4.00                                  4.00  \n",
       "2                           4.00                                  4.00  \n",
       "3                           1.00                                  2.00  \n",
       "4                           1.00                                  1.00  "
      ]
     },
     "execution_count": 661,
     "metadata": {},
     "output_type": "execute_result"
    }
   ],
   "source": [
    "finalData"
   ]
  },
  {
   "cell_type": "markdown",
   "metadata": {},
   "source": [
    "X/Y*Z <br>\n",
    "Where:<br>\n",
    "X is the relative rank of the data source  the use case a column<br>\n",
    "      Y is the sum of the data source rankings for the use case in a column<br>\n",
    "Z is the value of the use case in a column<br>\n"
   ]
  },
  {
   "cell_type": "code",
   "execution_count": 662,
   "metadata": {},
   "outputs": [],
   "source": [
    "def getX(a,b):\n",
    "    xx=[]\n",
    "    xx.append('$'+str(finalData.iloc[:1,a:b].values[0][0]))\n",
    "    for i in range(4):\n",
    "        x = finalData.iloc[i+1:i+2,a:b] / finalData.iloc[1:,a:b].sum()\n",
    "        y = finalData.iloc[:1,1:2]\n",
    "        xx.append('$' +str(round(round(x.values[0][0],2) * y.values[0][0],2)))\n",
    "    return xx"
   ]
  },
  {
   "cell_type": "code",
   "execution_count": 663,
   "metadata": {},
   "outputs": [],
   "source": [
    "h3 = ['Attract more Females by 10%','Attract more Males by 10%','Attract more teenegers by 10%','Improve customer Satisfaction by 10%','Improve offer effectiveness by 10%','Improve offers specialy for couples by 10%']\n",
    "h2=['Financial value ($M)','POS Transactions','Other Stores','Traffic','Weather']\n",
    "data1=getX(1,2)\n",
    "data2=getX(2,3)\n",
    "data3=getX(3,4)\n",
    "data4=getX(4,5)"
   ]
  },
  {
   "cell_type": "code",
   "execution_count": 664,
   "metadata": {},
   "outputs": [],
   "source": [
    "d = {'Data Sources': h2,h3[0]:data1,h3[1]:data2,h3[2]:data3,h3[3]:data4,}\n",
    "finalData = pd.DataFrame(data=d)\n",
    "finalData = finalData[['Data Sources',h3[0],h3[1],h3[2],h3[3]]]"
   ]
  },
  {
   "cell_type": "code",
   "execution_count": 665,
   "metadata": {},
   "outputs": [
    {
     "data": {
      "text/html": [
       "<div>\n",
       "<style>\n",
       "    .dataframe thead tr:only-child th {\n",
       "        text-align: right;\n",
       "    }\n",
       "\n",
       "    .dataframe thead th {\n",
       "        text-align: left;\n",
       "    }\n",
       "\n",
       "    .dataframe tbody tr th {\n",
       "        vertical-align: top;\n",
       "    }\n",
       "</style>\n",
       "<table border=\"1\" class=\"dataframe\">\n",
       "  <thead>\n",
       "    <tr style=\"text-align: right;\">\n",
       "      <th></th>\n",
       "      <th>Data Sources</th>\n",
       "      <th>Attract more Females by 10%</th>\n",
       "      <th>Attract more Males by 10%</th>\n",
       "      <th>Attract more teenegers by 10%</th>\n",
       "      <th>Improve customer Satisfaction by 10%</th>\n",
       "    </tr>\n",
       "  </thead>\n",
       "  <tbody>\n",
       "    <tr>\n",
       "      <th>0</th>\n",
       "      <td>Financial value ($M)</td>\n",
       "      <td>$1222.8</td>\n",
       "      <td>$4045.52</td>\n",
       "      <td>$139.25</td>\n",
       "      <td>$5268.32</td>\n",
       "    </tr>\n",
       "    <tr>\n",
       "      <th>1</th>\n",
       "      <td>POS Transactions</td>\n",
       "      <td>$379.07</td>\n",
       "      <td>$403.52</td>\n",
       "      <td>$489.12</td>\n",
       "      <td>$440.21</td>\n",
       "    </tr>\n",
       "    <tr>\n",
       "      <th>2</th>\n",
       "      <td>Other Stores</td>\n",
       "      <td>$379.07</td>\n",
       "      <td>$403.52</td>\n",
       "      <td>$489.12</td>\n",
       "      <td>$440.21</td>\n",
       "    </tr>\n",
       "    <tr>\n",
       "      <th>3</th>\n",
       "      <td>Traffic</td>\n",
       "      <td>$183.42</td>\n",
       "      <td>$207.88</td>\n",
       "      <td>$122.28</td>\n",
       "      <td>$220.1</td>\n",
       "    </tr>\n",
       "    <tr>\n",
       "      <th>4</th>\n",
       "      <td>Weather</td>\n",
       "      <td>$281.24</td>\n",
       "      <td>$207.88</td>\n",
       "      <td>$122.28</td>\n",
       "      <td>$110.05</td>\n",
       "    </tr>\n",
       "  </tbody>\n",
       "</table>\n",
       "</div>"
      ],
      "text/plain": [
       "           Data Sources Attract more Females by 10% Attract more Males by 10%  \\\n",
       "0  Financial value ($M)                     $1222.8                  $4045.52   \n",
       "1      POS Transactions                     $379.07                   $403.52   \n",
       "2          Other Stores                     $379.07                   $403.52   \n",
       "3               Traffic                     $183.42                   $207.88   \n",
       "4               Weather                     $281.24                   $207.88   \n",
       "\n",
       "  Attract more teenegers by 10% Improve customer Satisfaction by 10%  \n",
       "0                       $139.25                             $5268.32  \n",
       "1                       $489.12                              $440.21  \n",
       "2                       $489.12                              $440.21  \n",
       "3                       $122.28                               $220.1  \n",
       "4                       $122.28                              $110.05  "
      ]
     },
     "execution_count": 665,
     "metadata": {},
     "output_type": "execute_result"
    }
   ],
   "source": [
    "finalData"
   ]
  },
  {
   "cell_type": "code",
   "execution_count": 765,
   "metadata": {},
   "outputs": [],
   "source": [
    "def getAggr(a,b):\n",
    "    sum=0\n",
    "    a1 = float(finalData.iloc[a:b,1:].values[0][0].replace('$',''))\n",
    "    a2 = float(finalData.iloc[a:b,1:].values[0][1].replace('$',''))\n",
    "    a3 = float(finalData.iloc[a:b,1:].values[0][2].replace('$',''))\n",
    "    a4 = float(finalData.iloc[a:b,1:].values[0][3].replace('$',''))\n",
    "    sum = a1+a2+a3+a4\n",
    "    return sum"
   ]
  },
  {
   "cell_type": "code",
   "execution_count": 775,
   "metadata": {},
   "outputs": [],
   "source": [
    "aggSum = ['']\n",
    "for i in range(4):\n",
    "    aggSum.append('$'+str(round(getAggr(i+1,i+2),2)))"
   ]
  },
  {
   "cell_type": "code",
   "execution_count": 776,
   "metadata": {},
   "outputs": [
    {
     "data": {
      "text/plain": [
       "['', '$1711.92', '$1711.92', '$733.68', '$721.45']"
      ]
     },
     "execution_count": 776,
     "metadata": {},
     "output_type": "execute_result"
    }
   ],
   "source": [
    "aggSum"
   ]
  },
  {
   "cell_type": "code",
   "execution_count": 778,
   "metadata": {},
   "outputs": [],
   "source": [
    "d = {'Data Sources': h2,h3[0]:data1,h3[1]:data2,h3[2]:data3,h3[3]:data4,'Value of Data across all use cases':aggSum}\n",
    "finalData = pd.DataFrame(data=d)"
   ]
  },
  {
   "cell_type": "code",
   "execution_count": 780,
   "metadata": {},
   "outputs": [],
   "source": [
    "finalData = finalData[['Data Sources',h3[0],h3[1],h3[2],h3[3],'Value of Data across all use cases']]"
   ]
  },
  {
   "cell_type": "markdown",
   "metadata": {},
   "source": [
    "### Data Source Economic Value"
   ]
  },
  {
   "cell_type": "code",
   "execution_count": 781,
   "metadata": {},
   "outputs": [
    {
     "data": {
      "text/html": [
       "<div>\n",
       "<style>\n",
       "    .dataframe thead tr:only-child th {\n",
       "        text-align: right;\n",
       "    }\n",
       "\n",
       "    .dataframe thead th {\n",
       "        text-align: left;\n",
       "    }\n",
       "\n",
       "    .dataframe tbody tr th {\n",
       "        vertical-align: top;\n",
       "    }\n",
       "</style>\n",
       "<table border=\"1\" class=\"dataframe\">\n",
       "  <thead>\n",
       "    <tr style=\"text-align: right;\">\n",
       "      <th></th>\n",
       "      <th>Data Sources</th>\n",
       "      <th>Attract more Females by 10%</th>\n",
       "      <th>Attract more Males by 10%</th>\n",
       "      <th>Attract more teenegers by 10%</th>\n",
       "      <th>Improve customer Satisfaction by 10%</th>\n",
       "      <th>Value of Data across all use cases</th>\n",
       "    </tr>\n",
       "  </thead>\n",
       "  <tbody>\n",
       "    <tr>\n",
       "      <th>0</th>\n",
       "      <td>Financial value ($M)</td>\n",
       "      <td>$1222.8</td>\n",
       "      <td>$4045.52</td>\n",
       "      <td>$139.25</td>\n",
       "      <td>$5268.32</td>\n",
       "      <td></td>\n",
       "    </tr>\n",
       "    <tr>\n",
       "      <th>1</th>\n",
       "      <td>POS Transactions</td>\n",
       "      <td>$379.07</td>\n",
       "      <td>$403.52</td>\n",
       "      <td>$489.12</td>\n",
       "      <td>$440.21</td>\n",
       "      <td>$1711.92</td>\n",
       "    </tr>\n",
       "    <tr>\n",
       "      <th>2</th>\n",
       "      <td>Other Stores</td>\n",
       "      <td>$379.07</td>\n",
       "      <td>$403.52</td>\n",
       "      <td>$489.12</td>\n",
       "      <td>$440.21</td>\n",
       "      <td>$1711.92</td>\n",
       "    </tr>\n",
       "    <tr>\n",
       "      <th>3</th>\n",
       "      <td>Traffic</td>\n",
       "      <td>$183.42</td>\n",
       "      <td>$207.88</td>\n",
       "      <td>$122.28</td>\n",
       "      <td>$220.1</td>\n",
       "      <td>$733.68</td>\n",
       "    </tr>\n",
       "    <tr>\n",
       "      <th>4</th>\n",
       "      <td>Weather</td>\n",
       "      <td>$281.24</td>\n",
       "      <td>$207.88</td>\n",
       "      <td>$122.28</td>\n",
       "      <td>$110.05</td>\n",
       "      <td>$721.45</td>\n",
       "    </tr>\n",
       "  </tbody>\n",
       "</table>\n",
       "</div>"
      ],
      "text/plain": [
       "           Data Sources Attract more Females by 10% Attract more Males by 10%  \\\n",
       "0  Financial value ($M)                     $1222.8                  $4045.52   \n",
       "1      POS Transactions                     $379.07                   $403.52   \n",
       "2          Other Stores                     $379.07                   $403.52   \n",
       "3               Traffic                     $183.42                   $207.88   \n",
       "4               Weather                     $281.24                   $207.88   \n",
       "\n",
       "  Attract more teenegers by 10% Improve customer Satisfaction by 10%  \\\n",
       "0                       $139.25                             $5268.32   \n",
       "1                       $489.12                              $440.21   \n",
       "2                       $489.12                              $440.21   \n",
       "3                       $122.28                               $220.1   \n",
       "4                       $122.28                              $110.05   \n",
       "\n",
       "  Value of Data across all use cases  \n",
       "0                                     \n",
       "1                           $1711.92  \n",
       "2                           $1711.92  \n",
       "3                            $733.68  \n",
       "4                            $721.45  "
      ]
     },
     "execution_count": 781,
     "metadata": {},
     "output_type": "execute_result"
    }
   ],
   "source": [
    "finalData"
   ]
  },
  {
   "cell_type": "code",
   "execution_count": null,
   "metadata": {},
   "outputs": [],
   "source": []
  },
  {
   "cell_type": "markdown",
   "metadata": {},
   "source": [
    "## Feature Engineering"
   ]
  },
  {
   "cell_type": "code",
   "execution_count": 40,
   "metadata": {},
   "outputs": [
    {
     "data": {
      "text/html": [
       "<div>\n",
       "<style>\n",
       "    .dataframe thead tr:only-child th {\n",
       "        text-align: right;\n",
       "    }\n",
       "\n",
       "    .dataframe thead th {\n",
       "        text-align: left;\n",
       "    }\n",
       "\n",
       "    .dataframe tbody tr th {\n",
       "        vertical-align: top;\n",
       "    }\n",
       "</style>\n",
       "<table border=\"1\" class=\"dataframe\">\n",
       "  <thead>\n",
       "    <tr style=\"text-align: right;\">\n",
       "      <th></th>\n",
       "      <th>User_ID</th>\n",
       "      <th>Product_ID</th>\n",
       "      <th>Gender</th>\n",
       "      <th>Age</th>\n",
       "      <th>Occupation</th>\n",
       "      <th>City_Category</th>\n",
       "      <th>Stay_In_Current_City_Years</th>\n",
       "      <th>Marital_Status</th>\n",
       "      <th>Product_Category_1</th>\n",
       "      <th>Product_Category_2</th>\n",
       "      <th>Product_Category_3</th>\n",
       "      <th>Purchase</th>\n",
       "    </tr>\n",
       "  </thead>\n",
       "  <tbody>\n",
       "    <tr>\n",
       "      <th>0</th>\n",
       "      <td>1000001</td>\n",
       "      <td>P00069042</td>\n",
       "      <td>F</td>\n",
       "      <td>0-17</td>\n",
       "      <td>10</td>\n",
       "      <td>A</td>\n",
       "      <td>2</td>\n",
       "      <td>0.0</td>\n",
       "      <td>3.0</td>\n",
       "      <td>9.84216</td>\n",
       "      <td>12.66984</td>\n",
       "      <td>8370</td>\n",
       "    </tr>\n",
       "    <tr>\n",
       "      <th>3</th>\n",
       "      <td>1000001</td>\n",
       "      <td>P00085442</td>\n",
       "      <td>F</td>\n",
       "      <td>0-17</td>\n",
       "      <td>10</td>\n",
       "      <td>A</td>\n",
       "      <td>2</td>\n",
       "      <td>0.0</td>\n",
       "      <td>12.0</td>\n",
       "      <td>14.00000</td>\n",
       "      <td>12.66984</td>\n",
       "      <td>1057</td>\n",
       "    </tr>\n",
       "    <tr>\n",
       "      <th>4</th>\n",
       "      <td>1000002</td>\n",
       "      <td>P00285442</td>\n",
       "      <td>M</td>\n",
       "      <td>55</td>\n",
       "      <td>16</td>\n",
       "      <td>C</td>\n",
       "      <td>4</td>\n",
       "      <td>0.0</td>\n",
       "      <td>8.0</td>\n",
       "      <td>9.84216</td>\n",
       "      <td>12.66984</td>\n",
       "      <td>7969</td>\n",
       "    </tr>\n",
       "    <tr>\n",
       "      <th>5</th>\n",
       "      <td>1000003</td>\n",
       "      <td>P00193542</td>\n",
       "      <td>M</td>\n",
       "      <td>26-35</td>\n",
       "      <td>15</td>\n",
       "      <td>A</td>\n",
       "      <td>3</td>\n",
       "      <td>0.0</td>\n",
       "      <td>1.0</td>\n",
       "      <td>2.00000</td>\n",
       "      <td>12.66984</td>\n",
       "      <td>15227</td>\n",
       "    </tr>\n",
       "    <tr>\n",
       "      <th>6</th>\n",
       "      <td>1000004</td>\n",
       "      <td>P00184942</td>\n",
       "      <td>M</td>\n",
       "      <td>46-50</td>\n",
       "      <td>7</td>\n",
       "      <td>B</td>\n",
       "      <td>2</td>\n",
       "      <td>1.0</td>\n",
       "      <td>1.0</td>\n",
       "      <td>8.00000</td>\n",
       "      <td>17.00000</td>\n",
       "      <td>19215</td>\n",
       "    </tr>\n",
       "  </tbody>\n",
       "</table>\n",
       "</div>"
      ],
      "text/plain": [
       "   User_ID Product_ID Gender    Age  Occupation City_Category  \\\n",
       "0  1000001  P00069042      F   0-17          10             A   \n",
       "3  1000001  P00085442      F   0-17          10             A   \n",
       "4  1000002  P00285442      M     55          16             C   \n",
       "5  1000003  P00193542      M  26-35          15             A   \n",
       "6  1000004  P00184942      M  46-50           7             B   \n",
       "\n",
       "  Stay_In_Current_City_Years  Marital_Status  Product_Category_1  \\\n",
       "0                          2             0.0                 3.0   \n",
       "3                          2             0.0                12.0   \n",
       "4                          4             0.0                 8.0   \n",
       "5                          3             0.0                 1.0   \n",
       "6                          2             1.0                 1.0   \n",
       "\n",
       "   Product_Category_2  Product_Category_3  Purchase  \n",
       "0             9.84216            12.66984      8370  \n",
       "3            14.00000            12.66984      1057  \n",
       "4             9.84216            12.66984      7969  \n",
       "5             2.00000            12.66984     15227  \n",
       "6             8.00000            17.00000     19215  "
      ]
     },
     "execution_count": 40,
     "metadata": {},
     "output_type": "execute_result"
    }
   ],
   "source": [
    "dataset.head()"
   ]
  },
  {
   "cell_type": "markdown",
   "metadata": {},
   "source": [
    "Converting Gender to binary"
   ]
  },
  {
   "cell_type": "code",
   "execution_count": 41,
   "metadata": {},
   "outputs": [
    {
     "data": {
      "text/plain": [
       "1    405363\n",
       "0    132191\n",
       "Name: Gender, dtype: int64"
      ]
     },
     "execution_count": 41,
     "metadata": {},
     "output_type": "execute_result"
    }
   ],
   "source": [
    "gender_dict = {'F':0, 'M':1}\n",
    "dataset['Gender'] = dataset['Gender'].apply(lambda line: gender_dict[line])\n",
    "dataset['Gender'].value_counts()"
   ]
  },
  {
   "cell_type": "markdown",
   "metadata": {},
   "source": [
    "Converting Age to numeric values"
   ]
  },
  {
   "cell_type": "code",
   "execution_count": 42,
   "metadata": {},
   "outputs": [
    {
     "data": {
      "text/plain": [
       "2    214680\n",
       "3    107497\n",
       "1     97632\n",
       "4     44524\n",
       "5     37617\n",
       "6     20900\n",
       "0     14704\n",
       "Name: Age, dtype: int64"
      ]
     },
     "execution_count": 42,
     "metadata": {},
     "output_type": "execute_result"
    }
   ],
   "source": [
    "age_dict = {'0-17':0, '18-25':1, '26-35':2, '36-45':3, '46-50':4, '51-55':5, '55':6}\n",
    "dataset['Age'] = dataset['Age'].apply(lambda line: age_dict[line])\n",
    "dataset['Age'].value_counts()"
   ]
  },
  {
   "cell_type": "markdown",
   "metadata": {},
   "source": [
    "Converting City_Category to binary"
   ]
  },
  {
   "cell_type": "code",
   "execution_count": 43,
   "metadata": {},
   "outputs": [
    {
     "data": {
      "text/plain": [
       "1    226486\n",
       "2    166437\n",
       "0    144631\n",
       "Name: City_Category, dtype: int64"
      ]
     },
     "execution_count": 43,
     "metadata": {},
     "output_type": "execute_result"
    }
   ],
   "source": [
    "city_dict = {'A':0, 'B':1, 'C':2}\n",
    "dataset['City_Category'] = dataset['City_Category'].apply(lambda line: city_dict[line])\n",
    "dataset['City_Category'].value_counts()"
   ]
  },
  {
   "cell_type": "code",
   "execution_count": 47,
   "metadata": {},
   "outputs": [
    {
     "name": "stdout",
     "output_type": "stream",
     "text": [
      "<class 'pandas.core.frame.DataFrame'>\n",
      "Int64Index: 537554 entries, 0 to 537576\n",
      "Data columns (total 16 columns):\n",
      "User_ID                         537554 non-null int64\n",
      "Product_ID                      537554 non-null object\n",
      "Gender                          537554 non-null int64\n",
      "Age                             537554 non-null int64\n",
      "Occupation                      537554 non-null int64\n",
      "City_Category                   537554 non-null int64\n",
      "Marital_Status                  537554 non-null float64\n",
      "Product_Category_1              537554 non-null float64\n",
      "Product_Category_2              537554 non-null float64\n",
      "Product_Category_3              537554 non-null float64\n",
      "Purchase                        537554 non-null int64\n",
      "Stay_In_Current_City_Years_0    537554 non-null uint8\n",
      "Stay_In_Current_City_Years_1    537554 non-null uint8\n",
      "Stay_In_Current_City_Years_2    537554 non-null uint8\n",
      "Stay_In_Current_City_Years_3    537554 non-null uint8\n",
      "Stay_In_Current_City_Years_4    537554 non-null uint8\n",
      "dtypes: float64(4), int64(6), object(1), uint8(5)\n",
      "memory usage: 71.8+ MB\n"
     ]
    }
   ],
   "source": [
    "dataset.info()"
   ]
  },
  {
   "cell_type": "markdown",
   "metadata": {},
   "source": [
    "Converting Stay_In_Current_City_Years to binary"
   ]
  },
  {
   "cell_type": "code",
   "execution_count": null,
   "metadata": {},
   "outputs": [],
   "source": [
    "from sklearn.preprocessing import LabelEncoder\n",
    "le = LabelEncoder()\n",
    "#New variable for outlet\n",
    "dataset['Stay_In_Current_City_Years'] = le.fit_transform(dataset['Stay_In_Current_City_Years'])"
   ]
  },
  {
   "cell_type": "code",
   "execution_count": 46,
   "metadata": {},
   "outputs": [
    {
     "data": {
      "text/plain": [
       "User_ID                           int64\n",
       "Product_ID                       object\n",
       "Gender                            int64\n",
       "Age                               int64\n",
       "Occupation                        int64\n",
       "City_Category                     int64\n",
       "Marital_Status                  float64\n",
       "Product_Category_1              float64\n",
       "Product_Category_2              float64\n",
       "Product_Category_3              float64\n",
       "Purchase                          int64\n",
       "Stay_In_Current_City_Years_0      uint8\n",
       "Stay_In_Current_City_Years_1      uint8\n",
       "Stay_In_Current_City_Years_2      uint8\n",
       "Stay_In_Current_City_Years_3      uint8\n",
       "Stay_In_Current_City_Years_4      uint8\n",
       "dtype: object"
      ]
     },
     "execution_count": 46,
     "metadata": {},
     "output_type": "execute_result"
    }
   ],
   "source": [
    "    \n",
    "#Dummy Variables:\n",
    "dataset = pd.get_dummies(dataset, columns=['Stay_In_Current_City_Years'])\n",
    "dataset.dtypes"
   ]
  },
  {
   "cell_type": "code",
   "execution_count": 794,
   "metadata": {},
   "outputs": [
    {
     "data": {
      "text/html": [
       "<div>\n",
       "<style>\n",
       "    .dataframe thead tr:only-child th {\n",
       "        text-align: right;\n",
       "    }\n",
       "\n",
       "    .dataframe thead th {\n",
       "        text-align: left;\n",
       "    }\n",
       "\n",
       "    .dataframe tbody tr th {\n",
       "        vertical-align: top;\n",
       "    }\n",
       "</style>\n",
       "<table border=\"1\" class=\"dataframe\">\n",
       "  <thead>\n",
       "    <tr style=\"text-align: right;\">\n",
       "      <th></th>\n",
       "      <th>Gender</th>\n",
       "      <th>Age</th>\n",
       "      <th>Occupation</th>\n",
       "      <th>City_Category</th>\n",
       "      <th>Marital_Status</th>\n",
       "      <th>Product_Category_1</th>\n",
       "      <th>Product_Category_2</th>\n",
       "      <th>Product_Category_3</th>\n",
       "      <th>Purchase</th>\n",
       "      <th>Stay_In_Current_City_Years_0</th>\n",
       "      <th>Stay_In_Current_City_Years_1</th>\n",
       "      <th>Stay_In_Current_City_Years_2</th>\n",
       "      <th>Stay_In_Current_City_Years_3</th>\n",
       "      <th>Stay_In_Current_City_Years_4</th>\n",
       "    </tr>\n",
       "  </thead>\n",
       "  <tbody>\n",
       "    <tr>\n",
       "      <th>0</th>\n",
       "      <td>0</td>\n",
       "      <td>0</td>\n",
       "      <td>10</td>\n",
       "      <td>0</td>\n",
       "      <td>0.0</td>\n",
       "      <td>3.0</td>\n",
       "      <td>9.84216</td>\n",
       "      <td>12.66984</td>\n",
       "      <td>8370</td>\n",
       "      <td>0</td>\n",
       "      <td>0</td>\n",
       "      <td>1</td>\n",
       "      <td>0</td>\n",
       "      <td>0</td>\n",
       "    </tr>\n",
       "    <tr>\n",
       "      <th>3</th>\n",
       "      <td>0</td>\n",
       "      <td>0</td>\n",
       "      <td>10</td>\n",
       "      <td>0</td>\n",
       "      <td>0.0</td>\n",
       "      <td>12.0</td>\n",
       "      <td>14.00000</td>\n",
       "      <td>12.66984</td>\n",
       "      <td>1057</td>\n",
       "      <td>0</td>\n",
       "      <td>0</td>\n",
       "      <td>1</td>\n",
       "      <td>0</td>\n",
       "      <td>0</td>\n",
       "    </tr>\n",
       "    <tr>\n",
       "      <th>4</th>\n",
       "      <td>1</td>\n",
       "      <td>6</td>\n",
       "      <td>16</td>\n",
       "      <td>2</td>\n",
       "      <td>0.0</td>\n",
       "      <td>8.0</td>\n",
       "      <td>9.84216</td>\n",
       "      <td>12.66984</td>\n",
       "      <td>7969</td>\n",
       "      <td>0</td>\n",
       "      <td>0</td>\n",
       "      <td>0</td>\n",
       "      <td>0</td>\n",
       "      <td>1</td>\n",
       "    </tr>\n",
       "    <tr>\n",
       "      <th>5</th>\n",
       "      <td>1</td>\n",
       "      <td>2</td>\n",
       "      <td>15</td>\n",
       "      <td>0</td>\n",
       "      <td>0.0</td>\n",
       "      <td>1.0</td>\n",
       "      <td>2.00000</td>\n",
       "      <td>12.66984</td>\n",
       "      <td>15227</td>\n",
       "      <td>0</td>\n",
       "      <td>0</td>\n",
       "      <td>0</td>\n",
       "      <td>1</td>\n",
       "      <td>0</td>\n",
       "    </tr>\n",
       "    <tr>\n",
       "      <th>6</th>\n",
       "      <td>1</td>\n",
       "      <td>4</td>\n",
       "      <td>7</td>\n",
       "      <td>1</td>\n",
       "      <td>1.0</td>\n",
       "      <td>1.0</td>\n",
       "      <td>8.00000</td>\n",
       "      <td>17.00000</td>\n",
       "      <td>19215</td>\n",
       "      <td>0</td>\n",
       "      <td>0</td>\n",
       "      <td>1</td>\n",
       "      <td>0</td>\n",
       "      <td>0</td>\n",
       "    </tr>\n",
       "  </tbody>\n",
       "</table>\n",
       "</div>"
      ],
      "text/plain": [
       "   Gender  Age  Occupation  City_Category  Marital_Status  Product_Category_1  \\\n",
       "0       0    0          10              0             0.0                 3.0   \n",
       "3       0    0          10              0             0.0                12.0   \n",
       "4       1    6          16              2             0.0                 8.0   \n",
       "5       1    2          15              0             0.0                 1.0   \n",
       "6       1    4           7              1             1.0                 1.0   \n",
       "\n",
       "   Product_Category_2  Product_Category_3  Purchase  \\\n",
       "0             9.84216            12.66984      8370   \n",
       "3            14.00000            12.66984      1057   \n",
       "4             9.84216            12.66984      7969   \n",
       "5             2.00000            12.66984     15227   \n",
       "6             8.00000            17.00000     19215   \n",
       "\n",
       "   Stay_In_Current_City_Years_0  Stay_In_Current_City_Years_1  \\\n",
       "0                             0                             0   \n",
       "3                             0                             0   \n",
       "4                             0                             0   \n",
       "5                             0                             0   \n",
       "6                             0                             0   \n",
       "\n",
       "   Stay_In_Current_City_Years_2  Stay_In_Current_City_Years_3  \\\n",
       "0                             1                             0   \n",
       "3                             1                             0   \n",
       "4                             0                             0   \n",
       "5                             0                             1   \n",
       "6                             1                             0   \n",
       "\n",
       "   Stay_In_Current_City_Years_4  \n",
       "0                             0  \n",
       "3                             0  \n",
       "4                             1  \n",
       "5                             0  \n",
       "6                             0  "
      ]
     },
     "execution_count": 794,
     "metadata": {},
     "output_type": "execute_result"
    }
   ],
   "source": [
    "dataset.head()"
   ]
  },
  {
   "cell_type": "markdown",
   "metadata": {},
   "source": [
    "Function to create count features"
   ]
  },
  {
   "cell_type": "code",
   "execution_count": 48,
   "metadata": {},
   "outputs": [],
   "source": [
    "# feature representing the count of each user\n",
    "def getCountVar(compute_df, count_df, var_name):\n",
    "    grouped_df = count_df.groupby(var_name)\n",
    "    count_dict = {}\n",
    "    for name, group in grouped_df:\n",
    "        count_dict[name] = group.shape[0]\n",
    "        count_list = []\n",
    "    for index, row in compute_df.iterrows():\n",
    "        name = row[var_name]\n",
    "        count_list.append(count_dict.get(name, 0))\n",
    "    return count_list"
   ]
  },
  {
   "cell_type": "markdown",
   "metadata": {},
   "source": [
    "Creating all the features:"
   ]
  },
  {
   "cell_type": "code",
   "execution_count": 50,
   "metadata": {},
   "outputs": [],
   "source": [
    "#data[“User_ID_Count”] = getCountVar(data, data, “User_ID”)\n",
    "dataset['Age_Count'] =getCountVar(dataset, dataset, 'Age')\n",
    "dataset['Occupation_Count'] =getCountVar(dataset, dataset, 'Occupation')\n",
    "dataset['Product_Category_1_Count'] =getCountVar(dataset, dataset,'Product_Category_1')\n",
    "dataset['Product_Category_2_Count'] =getCountVar(dataset, dataset, 'Product_Category_2')\n",
    "dataset['Product_Category_3_Count'] =getCountVar(dataset, dataset,'Product_Category_3')\n",
    "dataset['Product_ID_Count'] =getCountVar(dataset, dataset, 'Product_ID')"
   ]
  },
  {
   "cell_type": "code",
   "execution_count": 51,
   "metadata": {},
   "outputs": [
    {
     "name": "stdout",
     "output_type": "stream",
     "text": [
      "<class 'pandas.core.frame.DataFrame'>\n",
      "Int64Index: 537554 entries, 0 to 537576\n",
      "Data columns (total 22 columns):\n",
      "User_ID                         537554 non-null int64\n",
      "Product_ID                      537554 non-null object\n",
      "Gender                          537554 non-null int64\n",
      "Age                             537554 non-null int64\n",
      "Occupation                      537554 non-null int64\n",
      "City_Category                   537554 non-null int64\n",
      "Marital_Status                  537554 non-null float64\n",
      "Product_Category_1              537554 non-null float64\n",
      "Product_Category_2              537554 non-null float64\n",
      "Product_Category_3              537554 non-null float64\n",
      "Purchase                        537554 non-null int64\n",
      "Stay_In_Current_City_Years_0    537554 non-null uint8\n",
      "Stay_In_Current_City_Years_1    537554 non-null uint8\n",
      "Stay_In_Current_City_Years_2    537554 non-null uint8\n",
      "Stay_In_Current_City_Years_3    537554 non-null uint8\n",
      "Stay_In_Current_City_Years_4    537554 non-null uint8\n",
      "Age_Count                       537554 non-null int64\n",
      "Occupation_Count                537554 non-null int64\n",
      "Product_Category_1_Count        537554 non-null int64\n",
      "Product_Category_2_Count        537554 non-null int64\n",
      "Product_Category_3_Count        537554 non-null int64\n",
      "Product_ID_Count                537554 non-null int64\n",
      "dtypes: float64(4), int64(12), object(1), uint8(5)\n",
      "memory usage: 96.4+ MB\n"
     ]
    }
   ],
   "source": [
    "datasetset.info()"
   ]
  },
  {
   "cell_type": "code",
   "execution_count": 52,
   "metadata": {},
   "outputs": [
    {
     "data": {
      "text/html": [
       "<div>\n",
       "<style>\n",
       "    .dataframe thead tr:only-child th {\n",
       "        text-align: right;\n",
       "    }\n",
       "\n",
       "    .dataframe thead th {\n",
       "        text-align: left;\n",
       "    }\n",
       "\n",
       "    .dataframe tbody tr th {\n",
       "        vertical-align: top;\n",
       "    }\n",
       "</style>\n",
       "<table border=\"1\" class=\"dataframe\">\n",
       "  <thead>\n",
       "    <tr style=\"text-align: right;\">\n",
       "      <th></th>\n",
       "      <th>User_ID</th>\n",
       "      <th>Product_ID</th>\n",
       "      <th>Gender</th>\n",
       "      <th>Age</th>\n",
       "      <th>Occupation</th>\n",
       "      <th>City_Category</th>\n",
       "      <th>Marital_Status</th>\n",
       "      <th>Product_Category_1</th>\n",
       "      <th>Product_Category_2</th>\n",
       "      <th>Product_Category_3</th>\n",
       "      <th>...</th>\n",
       "      <th>Stay_In_Current_City_Years_1</th>\n",
       "      <th>Stay_In_Current_City_Years_2</th>\n",
       "      <th>Stay_In_Current_City_Years_3</th>\n",
       "      <th>Stay_In_Current_City_Years_4</th>\n",
       "      <th>Age_Count</th>\n",
       "      <th>Occupation_Count</th>\n",
       "      <th>Product_Category_1_Count</th>\n",
       "      <th>Product_Category_2_Count</th>\n",
       "      <th>Product_Category_3_Count</th>\n",
       "      <th>Product_ID_Count</th>\n",
       "    </tr>\n",
       "  </thead>\n",
       "  <tbody>\n",
       "    <tr>\n",
       "      <th>0</th>\n",
       "      <td>1000001</td>\n",
       "      <td>P00069042</td>\n",
       "      <td>0</td>\n",
       "      <td>0</td>\n",
       "      <td>10</td>\n",
       "      <td>0</td>\n",
       "      <td>0.0</td>\n",
       "      <td>3.0</td>\n",
       "      <td>9.84216</td>\n",
       "      <td>12.66984</td>\n",
       "      <td>...</td>\n",
       "      <td>0</td>\n",
       "      <td>1</td>\n",
       "      <td>0</td>\n",
       "      <td>0</td>\n",
       "      <td>14704</td>\n",
       "      <td>12620</td>\n",
       "      <td>19848</td>\n",
       "      <td>166979</td>\n",
       "      <td>373282</td>\n",
       "      <td>221</td>\n",
       "    </tr>\n",
       "    <tr>\n",
       "      <th>3</th>\n",
       "      <td>1000001</td>\n",
       "      <td>P00085442</td>\n",
       "      <td>0</td>\n",
       "      <td>0</td>\n",
       "      <td>10</td>\n",
       "      <td>0</td>\n",
       "      <td>0.0</td>\n",
       "      <td>12.0</td>\n",
       "      <td>14.00000</td>\n",
       "      <td>12.66984</td>\n",
       "      <td>...</td>\n",
       "      <td>0</td>\n",
       "      <td>1</td>\n",
       "      <td>0</td>\n",
       "      <td>0</td>\n",
       "      <td>14704</td>\n",
       "      <td>12620</td>\n",
       "      <td>3874</td>\n",
       "      <td>54157</td>\n",
       "      <td>373282</td>\n",
       "      <td>334</td>\n",
       "    </tr>\n",
       "    <tr>\n",
       "      <th>4</th>\n",
       "      <td>1000002</td>\n",
       "      <td>P00285442</td>\n",
       "      <td>1</td>\n",
       "      <td>6</td>\n",
       "      <td>16</td>\n",
       "      <td>2</td>\n",
       "      <td>0.0</td>\n",
       "      <td>8.0</td>\n",
       "      <td>9.84216</td>\n",
       "      <td>12.66984</td>\n",
       "      <td>...</td>\n",
       "      <td>0</td>\n",
       "      <td>0</td>\n",
       "      <td>0</td>\n",
       "      <td>1</td>\n",
       "      <td>20900</td>\n",
       "      <td>24790</td>\n",
       "      <td>112127</td>\n",
       "      <td>166979</td>\n",
       "      <td>373282</td>\n",
       "      <td>200</td>\n",
       "    </tr>\n",
       "    <tr>\n",
       "      <th>5</th>\n",
       "      <td>1000003</td>\n",
       "      <td>P00193542</td>\n",
       "      <td>1</td>\n",
       "      <td>2</td>\n",
       "      <td>15</td>\n",
       "      <td>0</td>\n",
       "      <td>0.0</td>\n",
       "      <td>1.0</td>\n",
       "      <td>2.00000</td>\n",
       "      <td>12.66984</td>\n",
       "      <td>...</td>\n",
       "      <td>0</td>\n",
       "      <td>0</td>\n",
       "      <td>1</td>\n",
       "      <td>0</td>\n",
       "      <td>214680</td>\n",
       "      <td>11812</td>\n",
       "      <td>138346</td>\n",
       "      <td>48480</td>\n",
       "      <td>373282</td>\n",
       "      <td>606</td>\n",
       "    </tr>\n",
       "    <tr>\n",
       "      <th>6</th>\n",
       "      <td>1000004</td>\n",
       "      <td>P00184942</td>\n",
       "      <td>1</td>\n",
       "      <td>4</td>\n",
       "      <td>7</td>\n",
       "      <td>1</td>\n",
       "      <td>1.0</td>\n",
       "      <td>1.0</td>\n",
       "      <td>8.00000</td>\n",
       "      <td>17.00000</td>\n",
       "      <td>...</td>\n",
       "      <td>0</td>\n",
       "      <td>1</td>\n",
       "      <td>0</td>\n",
       "      <td>0</td>\n",
       "      <td>44524</td>\n",
       "      <td>57804</td>\n",
       "      <td>138346</td>\n",
       "      <td>63053</td>\n",
       "      <td>16449</td>\n",
       "      <td>1424</td>\n",
       "    </tr>\n",
       "  </tbody>\n",
       "</table>\n",
       "<p>5 rows × 22 columns</p>\n",
       "</div>"
      ],
      "text/plain": [
       "   User_ID Product_ID  Gender  Age  Occupation  City_Category  Marital_Status  \\\n",
       "0  1000001  P00069042       0    0          10              0             0.0   \n",
       "3  1000001  P00085442       0    0          10              0             0.0   \n",
       "4  1000002  P00285442       1    6          16              2             0.0   \n",
       "5  1000003  P00193542       1    2          15              0             0.0   \n",
       "6  1000004  P00184942       1    4           7              1             1.0   \n",
       "\n",
       "   Product_Category_1  Product_Category_2  Product_Category_3  \\\n",
       "0                 3.0             9.84216            12.66984   \n",
       "3                12.0            14.00000            12.66984   \n",
       "4                 8.0             9.84216            12.66984   \n",
       "5                 1.0             2.00000            12.66984   \n",
       "6                 1.0             8.00000            17.00000   \n",
       "\n",
       "         ...         Stay_In_Current_City_Years_1  \\\n",
       "0        ...                                    0   \n",
       "3        ...                                    0   \n",
       "4        ...                                    0   \n",
       "5        ...                                    0   \n",
       "6        ...                                    0   \n",
       "\n",
       "   Stay_In_Current_City_Years_2  Stay_In_Current_City_Years_3  \\\n",
       "0                             1                             0   \n",
       "3                             1                             0   \n",
       "4                             0                             0   \n",
       "5                             0                             1   \n",
       "6                             1                             0   \n",
       "\n",
       "   Stay_In_Current_City_Years_4  Age_Count  Occupation_Count  \\\n",
       "0                             0      14704             12620   \n",
       "3                             0      14704             12620   \n",
       "4                             1      20900             24790   \n",
       "5                             0     214680             11812   \n",
       "6                             0      44524             57804   \n",
       "\n",
       "   Product_Category_1_Count  Product_Category_2_Count  \\\n",
       "0                     19848                    166979   \n",
       "3                      3874                     54157   \n",
       "4                    112127                    166979   \n",
       "5                    138346                     48480   \n",
       "6                    138346                     63053   \n",
       "\n",
       "   Product_Category_3_Count  Product_ID_Count  \n",
       "0                    373282               221  \n",
       "3                    373282               334  \n",
       "4                    373282               200  \n",
       "5                    373282               606  \n",
       "6                     16449              1424  \n",
       "\n",
       "[5 rows x 22 columns]"
      ]
     },
     "execution_count": 52,
     "metadata": {},
     "output_type": "execute_result"
    }
   ],
   "source": [
    "dataset.head()"
   ]
  },
  {
   "cell_type": "code",
   "execution_count": null,
   "metadata": {},
   "outputs": [],
   "source": []
  },
  {
   "cell_type": "markdown",
   "metadata": {},
   "source": [
    "### Model Building"
   ]
  },
  {
   "cell_type": "code",
   "execution_count": 53,
   "metadata": {},
   "outputs": [
    {
     "data": {
      "text/html": [
       "<div>\n",
       "<style>\n",
       "    .dataframe thead tr:only-child th {\n",
       "        text-align: right;\n",
       "    }\n",
       "\n",
       "    .dataframe thead th {\n",
       "        text-align: left;\n",
       "    }\n",
       "\n",
       "    .dataframe tbody tr th {\n",
       "        vertical-align: top;\n",
       "    }\n",
       "</style>\n",
       "<table border=\"1\" class=\"dataframe\">\n",
       "  <thead>\n",
       "    <tr style=\"text-align: right;\">\n",
       "      <th></th>\n",
       "      <th>User_ID</th>\n",
       "      <th>Product_ID</th>\n",
       "      <th>Gender</th>\n",
       "      <th>Age</th>\n",
       "      <th>Occupation</th>\n",
       "      <th>City_Category</th>\n",
       "      <th>Marital_Status</th>\n",
       "      <th>Product_Category_1</th>\n",
       "      <th>Product_Category_2</th>\n",
       "      <th>Product_Category_3</th>\n",
       "      <th>...</th>\n",
       "      <th>Stay_In_Current_City_Years_1</th>\n",
       "      <th>Stay_In_Current_City_Years_2</th>\n",
       "      <th>Stay_In_Current_City_Years_3</th>\n",
       "      <th>Stay_In_Current_City_Years_4</th>\n",
       "      <th>Age_Count</th>\n",
       "      <th>Occupation_Count</th>\n",
       "      <th>Product_Category_1_Count</th>\n",
       "      <th>Product_Category_2_Count</th>\n",
       "      <th>Product_Category_3_Count</th>\n",
       "      <th>Product_ID_Count</th>\n",
       "    </tr>\n",
       "  </thead>\n",
       "  <tbody>\n",
       "    <tr>\n",
       "      <th>0</th>\n",
       "      <td>1000001</td>\n",
       "      <td>P00069042</td>\n",
       "      <td>0</td>\n",
       "      <td>0</td>\n",
       "      <td>10</td>\n",
       "      <td>0</td>\n",
       "      <td>0.0</td>\n",
       "      <td>3.0</td>\n",
       "      <td>9.84216</td>\n",
       "      <td>12.66984</td>\n",
       "      <td>...</td>\n",
       "      <td>0</td>\n",
       "      <td>1</td>\n",
       "      <td>0</td>\n",
       "      <td>0</td>\n",
       "      <td>14704</td>\n",
       "      <td>12620</td>\n",
       "      <td>19848</td>\n",
       "      <td>166979</td>\n",
       "      <td>373282</td>\n",
       "      <td>221</td>\n",
       "    </tr>\n",
       "    <tr>\n",
       "      <th>3</th>\n",
       "      <td>1000001</td>\n",
       "      <td>P00085442</td>\n",
       "      <td>0</td>\n",
       "      <td>0</td>\n",
       "      <td>10</td>\n",
       "      <td>0</td>\n",
       "      <td>0.0</td>\n",
       "      <td>12.0</td>\n",
       "      <td>14.00000</td>\n",
       "      <td>12.66984</td>\n",
       "      <td>...</td>\n",
       "      <td>0</td>\n",
       "      <td>1</td>\n",
       "      <td>0</td>\n",
       "      <td>0</td>\n",
       "      <td>14704</td>\n",
       "      <td>12620</td>\n",
       "      <td>3874</td>\n",
       "      <td>54157</td>\n",
       "      <td>373282</td>\n",
       "      <td>334</td>\n",
       "    </tr>\n",
       "    <tr>\n",
       "      <th>4</th>\n",
       "      <td>1000002</td>\n",
       "      <td>P00285442</td>\n",
       "      <td>1</td>\n",
       "      <td>6</td>\n",
       "      <td>16</td>\n",
       "      <td>2</td>\n",
       "      <td>0.0</td>\n",
       "      <td>8.0</td>\n",
       "      <td>9.84216</td>\n",
       "      <td>12.66984</td>\n",
       "      <td>...</td>\n",
       "      <td>0</td>\n",
       "      <td>0</td>\n",
       "      <td>0</td>\n",
       "      <td>1</td>\n",
       "      <td>20900</td>\n",
       "      <td>24790</td>\n",
       "      <td>112127</td>\n",
       "      <td>166979</td>\n",
       "      <td>373282</td>\n",
       "      <td>200</td>\n",
       "    </tr>\n",
       "    <tr>\n",
       "      <th>5</th>\n",
       "      <td>1000003</td>\n",
       "      <td>P00193542</td>\n",
       "      <td>1</td>\n",
       "      <td>2</td>\n",
       "      <td>15</td>\n",
       "      <td>0</td>\n",
       "      <td>0.0</td>\n",
       "      <td>1.0</td>\n",
       "      <td>2.00000</td>\n",
       "      <td>12.66984</td>\n",
       "      <td>...</td>\n",
       "      <td>0</td>\n",
       "      <td>0</td>\n",
       "      <td>1</td>\n",
       "      <td>0</td>\n",
       "      <td>214680</td>\n",
       "      <td>11812</td>\n",
       "      <td>138346</td>\n",
       "      <td>48480</td>\n",
       "      <td>373282</td>\n",
       "      <td>606</td>\n",
       "    </tr>\n",
       "    <tr>\n",
       "      <th>6</th>\n",
       "      <td>1000004</td>\n",
       "      <td>P00184942</td>\n",
       "      <td>1</td>\n",
       "      <td>4</td>\n",
       "      <td>7</td>\n",
       "      <td>1</td>\n",
       "      <td>1.0</td>\n",
       "      <td>1.0</td>\n",
       "      <td>8.00000</td>\n",
       "      <td>17.00000</td>\n",
       "      <td>...</td>\n",
       "      <td>0</td>\n",
       "      <td>1</td>\n",
       "      <td>0</td>\n",
       "      <td>0</td>\n",
       "      <td>44524</td>\n",
       "      <td>57804</td>\n",
       "      <td>138346</td>\n",
       "      <td>63053</td>\n",
       "      <td>16449</td>\n",
       "      <td>1424</td>\n",
       "    </tr>\n",
       "  </tbody>\n",
       "</table>\n",
       "<p>5 rows × 22 columns</p>\n",
       "</div>"
      ],
      "text/plain": [
       "   User_ID Product_ID  Gender  Age  Occupation  City_Category  Marital_Status  \\\n",
       "0  1000001  P00069042       0    0          10              0             0.0   \n",
       "3  1000001  P00085442       0    0          10              0             0.0   \n",
       "4  1000002  P00285442       1    6          16              2             0.0   \n",
       "5  1000003  P00193542       1    2          15              0             0.0   \n",
       "6  1000004  P00184942       1    4           7              1             1.0   \n",
       "\n",
       "   Product_Category_1  Product_Category_2  Product_Category_3  \\\n",
       "0                 3.0             9.84216            12.66984   \n",
       "3                12.0            14.00000            12.66984   \n",
       "4                 8.0             9.84216            12.66984   \n",
       "5                 1.0             2.00000            12.66984   \n",
       "6                 1.0             8.00000            17.00000   \n",
       "\n",
       "         ...         Stay_In_Current_City_Years_1  \\\n",
       "0        ...                                    0   \n",
       "3        ...                                    0   \n",
       "4        ...                                    0   \n",
       "5        ...                                    0   \n",
       "6        ...                                    0   \n",
       "\n",
       "   Stay_In_Current_City_Years_2  Stay_In_Current_City_Years_3  \\\n",
       "0                             1                             0   \n",
       "3                             1                             0   \n",
       "4                             0                             0   \n",
       "5                             0                             1   \n",
       "6                             1                             0   \n",
       "\n",
       "   Stay_In_Current_City_Years_4  Age_Count  Occupation_Count  \\\n",
       "0                             0      14704             12620   \n",
       "3                             0      14704             12620   \n",
       "4                             1      20900             24790   \n",
       "5                             0     214680             11812   \n",
       "6                             0      44524             57804   \n",
       "\n",
       "   Product_Category_1_Count  Product_Category_2_Count  \\\n",
       "0                     19848                    166979   \n",
       "3                      3874                     54157   \n",
       "4                    112127                    166979   \n",
       "5                    138346                     48480   \n",
       "6                    138346                     63053   \n",
       "\n",
       "   Product_Category_3_Count  Product_ID_Count  \n",
       "0                    373282               221  \n",
       "3                    373282               334  \n",
       "4                    373282               200  \n",
       "5                    373282               606  \n",
       "6                     16449              1424  \n",
       "\n",
       "[5 rows x 22 columns]"
      ]
     },
     "execution_count": 53,
     "metadata": {},
     "output_type": "execute_result"
    }
   ],
   "source": [
    "dataset.head()"
   ]
  },
  {
   "cell_type": "code",
   "execution_count": 54,
   "metadata": {},
   "outputs": [
    {
     "data": {
      "text/plain": [
       "array([0, 2, 1])"
      ]
     },
     "execution_count": 54,
     "metadata": {},
     "output_type": "execute_result"
    }
   ],
   "source": [
    "dataset['City_Category'].unique()"
   ]
  },
  {
   "cell_type": "code",
   "execution_count": 58,
   "metadata": {},
   "outputs": [
    {
     "data": {
      "text/html": [
       "<div>\n",
       "<style>\n",
       "    .dataframe thead tr:only-child th {\n",
       "        text-align: right;\n",
       "    }\n",
       "\n",
       "    .dataframe thead th {\n",
       "        text-align: left;\n",
       "    }\n",
       "\n",
       "    .dataframe tbody tr th {\n",
       "        vertical-align: top;\n",
       "    }\n",
       "</style>\n",
       "<table border=\"1\" class=\"dataframe\">\n",
       "  <thead>\n",
       "    <tr style=\"text-align: right;\">\n",
       "      <th></th>\n",
       "      <th>User_ID</th>\n",
       "      <th>Product_ID</th>\n",
       "      <th>Gender</th>\n",
       "      <th>Age</th>\n",
       "      <th>Occupation</th>\n",
       "      <th>City_Category</th>\n",
       "      <th>Marital_Status</th>\n",
       "      <th>Product_Category_1</th>\n",
       "      <th>Product_Category_2</th>\n",
       "      <th>Product_Category_3</th>\n",
       "      <th>...</th>\n",
       "      <th>Stay_In_Current_City_Years_1</th>\n",
       "      <th>Stay_In_Current_City_Years_2</th>\n",
       "      <th>Stay_In_Current_City_Years_3</th>\n",
       "      <th>Stay_In_Current_City_Years_4</th>\n",
       "      <th>Age_Count</th>\n",
       "      <th>Occupation_Count</th>\n",
       "      <th>Product_Category_1_Count</th>\n",
       "      <th>Product_Category_2_Count</th>\n",
       "      <th>Product_Category_3_Count</th>\n",
       "      <th>Product_ID_Count</th>\n",
       "    </tr>\n",
       "  </thead>\n",
       "  <tbody>\n",
       "    <tr>\n",
       "      <th>0</th>\n",
       "      <td>1000001</td>\n",
       "      <td>P00069042</td>\n",
       "      <td>0</td>\n",
       "      <td>0</td>\n",
       "      <td>10</td>\n",
       "      <td>0</td>\n",
       "      <td>0.0</td>\n",
       "      <td>3.0</td>\n",
       "      <td>9.84216</td>\n",
       "      <td>12.66984</td>\n",
       "      <td>...</td>\n",
       "      <td>0</td>\n",
       "      <td>1</td>\n",
       "      <td>0</td>\n",
       "      <td>0</td>\n",
       "      <td>14704</td>\n",
       "      <td>12620</td>\n",
       "      <td>19848</td>\n",
       "      <td>166979</td>\n",
       "      <td>373282</td>\n",
       "      <td>221</td>\n",
       "    </tr>\n",
       "    <tr>\n",
       "      <th>1</th>\n",
       "      <td>1000001</td>\n",
       "      <td>P00085442</td>\n",
       "      <td>0</td>\n",
       "      <td>0</td>\n",
       "      <td>10</td>\n",
       "      <td>0</td>\n",
       "      <td>0.0</td>\n",
       "      <td>12.0</td>\n",
       "      <td>14.00000</td>\n",
       "      <td>12.66984</td>\n",
       "      <td>...</td>\n",
       "      <td>0</td>\n",
       "      <td>1</td>\n",
       "      <td>0</td>\n",
       "      <td>0</td>\n",
       "      <td>14704</td>\n",
       "      <td>12620</td>\n",
       "      <td>3874</td>\n",
       "      <td>54157</td>\n",
       "      <td>373282</td>\n",
       "      <td>334</td>\n",
       "    </tr>\n",
       "    <tr>\n",
       "      <th>2</th>\n",
       "      <td>1000003</td>\n",
       "      <td>P00193542</td>\n",
       "      <td>1</td>\n",
       "      <td>2</td>\n",
       "      <td>15</td>\n",
       "      <td>0</td>\n",
       "      <td>0.0</td>\n",
       "      <td>1.0</td>\n",
       "      <td>2.00000</td>\n",
       "      <td>12.66984</td>\n",
       "      <td>...</td>\n",
       "      <td>0</td>\n",
       "      <td>0</td>\n",
       "      <td>1</td>\n",
       "      <td>0</td>\n",
       "      <td>214680</td>\n",
       "      <td>11812</td>\n",
       "      <td>138346</td>\n",
       "      <td>48480</td>\n",
       "      <td>373282</td>\n",
       "      <td>606</td>\n",
       "    </tr>\n",
       "    <tr>\n",
       "      <th>3</th>\n",
       "      <td>1000005</td>\n",
       "      <td>P00274942</td>\n",
       "      <td>1</td>\n",
       "      <td>2</td>\n",
       "      <td>20</td>\n",
       "      <td>0</td>\n",
       "      <td>1.0</td>\n",
       "      <td>8.0</td>\n",
       "      <td>9.84216</td>\n",
       "      <td>12.66984</td>\n",
       "      <td>...</td>\n",
       "      <td>1</td>\n",
       "      <td>0</td>\n",
       "      <td>0</td>\n",
       "      <td>0</td>\n",
       "      <td>214680</td>\n",
       "      <td>32906</td>\n",
       "      <td>112127</td>\n",
       "      <td>166979</td>\n",
       "      <td>373282</td>\n",
       "      <td>782</td>\n",
       "    </tr>\n",
       "    <tr>\n",
       "      <th>4</th>\n",
       "      <td>1000006</td>\n",
       "      <td>P00190242</td>\n",
       "      <td>0</td>\n",
       "      <td>5</td>\n",
       "      <td>9</td>\n",
       "      <td>0</td>\n",
       "      <td>0.0</td>\n",
       "      <td>4.0</td>\n",
       "      <td>5.00000</td>\n",
       "      <td>12.66984</td>\n",
       "      <td>...</td>\n",
       "      <td>1</td>\n",
       "      <td>0</td>\n",
       "      <td>0</td>\n",
       "      <td>0</td>\n",
       "      <td>37617</td>\n",
       "      <td>6152</td>\n",
       "      <td>11567</td>\n",
       "      <td>25874</td>\n",
       "      <td>373282</td>\n",
       "      <td>187</td>\n",
       "    </tr>\n",
       "  </tbody>\n",
       "</table>\n",
       "<p>5 rows × 22 columns</p>\n",
       "</div>"
      ],
      "text/plain": [
       "   User_ID Product_ID  Gender  Age  Occupation  City_Category  Marital_Status  \\\n",
       "0  1000001  P00069042       0    0          10              0             0.0   \n",
       "1  1000001  P00085442       0    0          10              0             0.0   \n",
       "2  1000003  P00193542       1    2          15              0             0.0   \n",
       "3  1000005  P00274942       1    2          20              0             1.0   \n",
       "4  1000006  P00190242       0    5           9              0             0.0   \n",
       "\n",
       "   Product_Category_1  Product_Category_2  Product_Category_3  \\\n",
       "0                 3.0             9.84216            12.66984   \n",
       "1                12.0            14.00000            12.66984   \n",
       "2                 1.0             2.00000            12.66984   \n",
       "3                 8.0             9.84216            12.66984   \n",
       "4                 4.0             5.00000            12.66984   \n",
       "\n",
       "         ...         Stay_In_Current_City_Years_1  \\\n",
       "0        ...                                    0   \n",
       "1        ...                                    0   \n",
       "2        ...                                    0   \n",
       "3        ...                                    1   \n",
       "4        ...                                    1   \n",
       "\n",
       "   Stay_In_Current_City_Years_2  Stay_In_Current_City_Years_3  \\\n",
       "0                             1                             0   \n",
       "1                             1                             0   \n",
       "2                             0                             1   \n",
       "3                             0                             0   \n",
       "4                             0                             0   \n",
       "\n",
       "   Stay_In_Current_City_Years_4  Age_Count  Occupation_Count  \\\n",
       "0                             0      14704             12620   \n",
       "1                             0      14704             12620   \n",
       "2                             0     214680             11812   \n",
       "3                             0     214680             32906   \n",
       "4                             0      37617              6152   \n",
       "\n",
       "   Product_Category_1_Count  Product_Category_2_Count  \\\n",
       "0                     19848                    166979   \n",
       "1                      3874                     54157   \n",
       "2                    138346                     48480   \n",
       "3                    112127                    166979   \n",
       "4                     11567                     25874   \n",
       "\n",
       "   Product_Category_3_Count  Product_ID_Count  \n",
       "0                    373282               221  \n",
       "1                    373282               334  \n",
       "2                    373282               606  \n",
       "3                    373282               782  \n",
       "4                    373282               187  \n",
       "\n",
       "[5 rows x 22 columns]"
      ]
     },
     "execution_count": 58,
     "metadata": {},
     "output_type": "execute_result"
    }
   ],
   "source": [
    "q1 = \"\"\"SELECT * FROM dataset WHERE City_Category='0' \"\"\"\n",
    "city_A = ps.sqldf(q1, locals())\n",
    "city_A.head()"
   ]
  },
  {
   "cell_type": "code",
   "execution_count": 59,
   "metadata": {},
   "outputs": [
    {
     "data": {
      "text/html": [
       "<div>\n",
       "<style>\n",
       "    .dataframe thead tr:only-child th {\n",
       "        text-align: right;\n",
       "    }\n",
       "\n",
       "    .dataframe thead th {\n",
       "        text-align: left;\n",
       "    }\n",
       "\n",
       "    .dataframe tbody tr th {\n",
       "        vertical-align: top;\n",
       "    }\n",
       "</style>\n",
       "<table border=\"1\" class=\"dataframe\">\n",
       "  <thead>\n",
       "    <tr style=\"text-align: right;\">\n",
       "      <th></th>\n",
       "      <th>User_ID</th>\n",
       "      <th>Product_ID</th>\n",
       "      <th>Gender</th>\n",
       "      <th>Age</th>\n",
       "      <th>Occupation</th>\n",
       "      <th>City_Category</th>\n",
       "      <th>Marital_Status</th>\n",
       "      <th>Product_Category_1</th>\n",
       "      <th>Product_Category_2</th>\n",
       "      <th>Product_Category_3</th>\n",
       "      <th>...</th>\n",
       "      <th>Stay_In_Current_City_Years_1</th>\n",
       "      <th>Stay_In_Current_City_Years_2</th>\n",
       "      <th>Stay_In_Current_City_Years_3</th>\n",
       "      <th>Stay_In_Current_City_Years_4</th>\n",
       "      <th>Age_Count</th>\n",
       "      <th>Occupation_Count</th>\n",
       "      <th>Product_Category_1_Count</th>\n",
       "      <th>Product_Category_2_Count</th>\n",
       "      <th>Product_Category_3_Count</th>\n",
       "      <th>Product_ID_Count</th>\n",
       "    </tr>\n",
       "  </thead>\n",
       "  <tbody>\n",
       "    <tr>\n",
       "      <th>0</th>\n",
       "      <td>1000004</td>\n",
       "      <td>P00184942</td>\n",
       "      <td>1</td>\n",
       "      <td>4</td>\n",
       "      <td>7</td>\n",
       "      <td>1</td>\n",
       "      <td>1.0</td>\n",
       "      <td>1.000000</td>\n",
       "      <td>8.00000</td>\n",
       "      <td>17.00000</td>\n",
       "      <td>...</td>\n",
       "      <td>0</td>\n",
       "      <td>1</td>\n",
       "      <td>0</td>\n",
       "      <td>0</td>\n",
       "      <td>44524</td>\n",
       "      <td>57804</td>\n",
       "      <td>138346</td>\n",
       "      <td>63053</td>\n",
       "      <td>16449</td>\n",
       "      <td>1424</td>\n",
       "    </tr>\n",
       "    <tr>\n",
       "      <th>1</th>\n",
       "      <td>1000007</td>\n",
       "      <td>P00036842</td>\n",
       "      <td>1</td>\n",
       "      <td>3</td>\n",
       "      <td>1</td>\n",
       "      <td>1</td>\n",
       "      <td>1.0</td>\n",
       "      <td>1.000000</td>\n",
       "      <td>14.00000</td>\n",
       "      <td>16.00000</td>\n",
       "      <td>...</td>\n",
       "      <td>1</td>\n",
       "      <td>0</td>\n",
       "      <td>0</td>\n",
       "      <td>0</td>\n",
       "      <td>107497</td>\n",
       "      <td>45969</td>\n",
       "      <td>138346</td>\n",
       "      <td>54157</td>\n",
       "      <td>32147</td>\n",
       "      <td>865</td>\n",
       "    </tr>\n",
       "    <tr>\n",
       "      <th>2</th>\n",
       "      <td>1000010</td>\n",
       "      <td>P00085942</td>\n",
       "      <td>0</td>\n",
       "      <td>3</td>\n",
       "      <td>1</td>\n",
       "      <td>1</td>\n",
       "      <td>1.0</td>\n",
       "      <td>2.000000</td>\n",
       "      <td>9.84216</td>\n",
       "      <td>8.00000</td>\n",
       "      <td>...</td>\n",
       "      <td>0</td>\n",
       "      <td>0</td>\n",
       "      <td>0</td>\n",
       "      <td>1</td>\n",
       "      <td>107497</td>\n",
       "      <td>45969</td>\n",
       "      <td>23498</td>\n",
       "      <td>166979</td>\n",
       "      <td>12384</td>\n",
       "      <td>945</td>\n",
       "    </tr>\n",
       "    <tr>\n",
       "      <th>3</th>\n",
       "      <td>1000010</td>\n",
       "      <td>P00118742</td>\n",
       "      <td>0</td>\n",
       "      <td>3</td>\n",
       "      <td>1</td>\n",
       "      <td>1</td>\n",
       "      <td>1.0</td>\n",
       "      <td>5.295553</td>\n",
       "      <td>11.00000</td>\n",
       "      <td>12.66984</td>\n",
       "      <td>...</td>\n",
       "      <td>0</td>\n",
       "      <td>0</td>\n",
       "      <td>0</td>\n",
       "      <td>1</td>\n",
       "      <td>107497</td>\n",
       "      <td>45969</td>\n",
       "      <td>2</td>\n",
       "      <td>13944</td>\n",
       "      <td>373282</td>\n",
       "      <td>636</td>\n",
       "    </tr>\n",
       "    <tr>\n",
       "      <th>4</th>\n",
       "      <td>1000010</td>\n",
       "      <td>P00297942</td>\n",
       "      <td>0</td>\n",
       "      <td>3</td>\n",
       "      <td>1</td>\n",
       "      <td>1</td>\n",
       "      <td>1.0</td>\n",
       "      <td>8.000000</td>\n",
       "      <td>9.84216</td>\n",
       "      <td>12.66984</td>\n",
       "      <td>...</td>\n",
       "      <td>0</td>\n",
       "      <td>0</td>\n",
       "      <td>0</td>\n",
       "      <td>1</td>\n",
       "      <td>107497</td>\n",
       "      <td>45969</td>\n",
       "      <td>112127</td>\n",
       "      <td>166979</td>\n",
       "      <td>373282</td>\n",
       "      <td>178</td>\n",
       "    </tr>\n",
       "  </tbody>\n",
       "</table>\n",
       "<p>5 rows × 22 columns</p>\n",
       "</div>"
      ],
      "text/plain": [
       "   User_ID Product_ID  Gender  Age  Occupation  City_Category  Marital_Status  \\\n",
       "0  1000004  P00184942       1    4           7              1             1.0   \n",
       "1  1000007  P00036842       1    3           1              1             1.0   \n",
       "2  1000010  P00085942       0    3           1              1             1.0   \n",
       "3  1000010  P00118742       0    3           1              1             1.0   \n",
       "4  1000010  P00297942       0    3           1              1             1.0   \n",
       "\n",
       "   Product_Category_1  Product_Category_2  Product_Category_3  \\\n",
       "0            1.000000             8.00000            17.00000   \n",
       "1            1.000000            14.00000            16.00000   \n",
       "2            2.000000             9.84216             8.00000   \n",
       "3            5.295553            11.00000            12.66984   \n",
       "4            8.000000             9.84216            12.66984   \n",
       "\n",
       "         ...         Stay_In_Current_City_Years_1  \\\n",
       "0        ...                                    0   \n",
       "1        ...                                    1   \n",
       "2        ...                                    0   \n",
       "3        ...                                    0   \n",
       "4        ...                                    0   \n",
       "\n",
       "   Stay_In_Current_City_Years_2  Stay_In_Current_City_Years_3  \\\n",
       "0                             1                             0   \n",
       "1                             0                             0   \n",
       "2                             0                             0   \n",
       "3                             0                             0   \n",
       "4                             0                             0   \n",
       "\n",
       "   Stay_In_Current_City_Years_4  Age_Count  Occupation_Count  \\\n",
       "0                             0      44524             57804   \n",
       "1                             0     107497             45969   \n",
       "2                             1     107497             45969   \n",
       "3                             1     107497             45969   \n",
       "4                             1     107497             45969   \n",
       "\n",
       "   Product_Category_1_Count  Product_Category_2_Count  \\\n",
       "0                    138346                     63053   \n",
       "1                    138346                     54157   \n",
       "2                     23498                    166979   \n",
       "3                         2                     13944   \n",
       "4                    112127                    166979   \n",
       "\n",
       "   Product_Category_3_Count  Product_ID_Count  \n",
       "0                     16449              1424  \n",
       "1                     32147               865  \n",
       "2                     12384               945  \n",
       "3                    373282               636  \n",
       "4                    373282               178  \n",
       "\n",
       "[5 rows x 22 columns]"
      ]
     },
     "execution_count": 59,
     "metadata": {},
     "output_type": "execute_result"
    }
   ],
   "source": [
    "q1 = \"\"\"SELECT * FROM dataset WHERE City_Category='1' \"\"\"\n",
    "city_B = ps.sqldf(q1, locals())\n",
    "city_B.head()"
   ]
  },
  {
   "cell_type": "code",
   "execution_count": 60,
   "metadata": {},
   "outputs": [
    {
     "data": {
      "text/html": [
       "<div>\n",
       "<style>\n",
       "    .dataframe thead tr:only-child th {\n",
       "        text-align: right;\n",
       "    }\n",
       "\n",
       "    .dataframe thead th {\n",
       "        text-align: left;\n",
       "    }\n",
       "\n",
       "    .dataframe tbody tr th {\n",
       "        vertical-align: top;\n",
       "    }\n",
       "</style>\n",
       "<table border=\"1\" class=\"dataframe\">\n",
       "  <thead>\n",
       "    <tr style=\"text-align: right;\">\n",
       "      <th></th>\n",
       "      <th>User_ID</th>\n",
       "      <th>Product_ID</th>\n",
       "      <th>Gender</th>\n",
       "      <th>Age</th>\n",
       "      <th>Occupation</th>\n",
       "      <th>City_Category</th>\n",
       "      <th>Marital_Status</th>\n",
       "      <th>Product_Category_1</th>\n",
       "      <th>Product_Category_2</th>\n",
       "      <th>Product_Category_3</th>\n",
       "      <th>...</th>\n",
       "      <th>Stay_In_Current_City_Years_1</th>\n",
       "      <th>Stay_In_Current_City_Years_2</th>\n",
       "      <th>Stay_In_Current_City_Years_3</th>\n",
       "      <th>Stay_In_Current_City_Years_4</th>\n",
       "      <th>Age_Count</th>\n",
       "      <th>Occupation_Count</th>\n",
       "      <th>Product_Category_1_Count</th>\n",
       "      <th>Product_Category_2_Count</th>\n",
       "      <th>Product_Category_3_Count</th>\n",
       "      <th>Product_ID_Count</th>\n",
       "    </tr>\n",
       "  </thead>\n",
       "  <tbody>\n",
       "    <tr>\n",
       "      <th>0</th>\n",
       "      <td>1000002</td>\n",
       "      <td>P00285442</td>\n",
       "      <td>1</td>\n",
       "      <td>6</td>\n",
       "      <td>16</td>\n",
       "      <td>2</td>\n",
       "      <td>0.0</td>\n",
       "      <td>8.0</td>\n",
       "      <td>9.84216</td>\n",
       "      <td>12.66984</td>\n",
       "      <td>...</td>\n",
       "      <td>0</td>\n",
       "      <td>0</td>\n",
       "      <td>0</td>\n",
       "      <td>1</td>\n",
       "      <td>20900</td>\n",
       "      <td>24790</td>\n",
       "      <td>112127</td>\n",
       "      <td>166979</td>\n",
       "      <td>373282</td>\n",
       "      <td>200</td>\n",
       "    </tr>\n",
       "    <tr>\n",
       "      <th>1</th>\n",
       "      <td>1000008</td>\n",
       "      <td>P00249542</td>\n",
       "      <td>1</td>\n",
       "      <td>2</td>\n",
       "      <td>12</td>\n",
       "      <td>2</td>\n",
       "      <td>1.0</td>\n",
       "      <td>1.0</td>\n",
       "      <td>5.00000</td>\n",
       "      <td>15.00000</td>\n",
       "      <td>...</td>\n",
       "      <td>0</td>\n",
       "      <td>0</td>\n",
       "      <td>0</td>\n",
       "      <td>1</td>\n",
       "      <td>214680</td>\n",
       "      <td>30421</td>\n",
       "      <td>138346</td>\n",
       "      <td>25874</td>\n",
       "      <td>27611</td>\n",
       "      <td>778</td>\n",
       "    </tr>\n",
       "    <tr>\n",
       "      <th>2</th>\n",
       "      <td>1000008</td>\n",
       "      <td>P00220442</td>\n",
       "      <td>1</td>\n",
       "      <td>2</td>\n",
       "      <td>12</td>\n",
       "      <td>2</td>\n",
       "      <td>1.0</td>\n",
       "      <td>5.0</td>\n",
       "      <td>14.00000</td>\n",
       "      <td>12.66984</td>\n",
       "      <td>...</td>\n",
       "      <td>0</td>\n",
       "      <td>0</td>\n",
       "      <td>0</td>\n",
       "      <td>1</td>\n",
       "      <td>214680</td>\n",
       "      <td>30421</td>\n",
       "      <td>148583</td>\n",
       "      <td>54157</td>\n",
       "      <td>373282</td>\n",
       "      <td>1253</td>\n",
       "    </tr>\n",
       "    <tr>\n",
       "      <th>3</th>\n",
       "      <td>1000008</td>\n",
       "      <td>P00156442</td>\n",
       "      <td>1</td>\n",
       "      <td>2</td>\n",
       "      <td>12</td>\n",
       "      <td>2</td>\n",
       "      <td>1.0</td>\n",
       "      <td>8.0</td>\n",
       "      <td>9.84216</td>\n",
       "      <td>12.66984</td>\n",
       "      <td>...</td>\n",
       "      <td>0</td>\n",
       "      <td>0</td>\n",
       "      <td>0</td>\n",
       "      <td>1</td>\n",
       "      <td>214680</td>\n",
       "      <td>30421</td>\n",
       "      <td>112127</td>\n",
       "      <td>166979</td>\n",
       "      <td>373282</td>\n",
       "      <td>820</td>\n",
       "    </tr>\n",
       "    <tr>\n",
       "      <th>4</th>\n",
       "      <td>1000008</td>\n",
       "      <td>P00213742</td>\n",
       "      <td>1</td>\n",
       "      <td>2</td>\n",
       "      <td>12</td>\n",
       "      <td>2</td>\n",
       "      <td>1.0</td>\n",
       "      <td>8.0</td>\n",
       "      <td>9.84216</td>\n",
       "      <td>12.66984</td>\n",
       "      <td>...</td>\n",
       "      <td>0</td>\n",
       "      <td>0</td>\n",
       "      <td>0</td>\n",
       "      <td>1</td>\n",
       "      <td>214680</td>\n",
       "      <td>30421</td>\n",
       "      <td>112127</td>\n",
       "      <td>166979</td>\n",
       "      <td>373282</td>\n",
       "      <td>350</td>\n",
       "    </tr>\n",
       "  </tbody>\n",
       "</table>\n",
       "<p>5 rows × 22 columns</p>\n",
       "</div>"
      ],
      "text/plain": [
       "   User_ID Product_ID  Gender  Age  Occupation  City_Category  Marital_Status  \\\n",
       "0  1000002  P00285442       1    6          16              2             0.0   \n",
       "1  1000008  P00249542       1    2          12              2             1.0   \n",
       "2  1000008  P00220442       1    2          12              2             1.0   \n",
       "3  1000008  P00156442       1    2          12              2             1.0   \n",
       "4  1000008  P00213742       1    2          12              2             1.0   \n",
       "\n",
       "   Product_Category_1  Product_Category_2  Product_Category_3  \\\n",
       "0                 8.0             9.84216            12.66984   \n",
       "1                 1.0             5.00000            15.00000   \n",
       "2                 5.0            14.00000            12.66984   \n",
       "3                 8.0             9.84216            12.66984   \n",
       "4                 8.0             9.84216            12.66984   \n",
       "\n",
       "         ...         Stay_In_Current_City_Years_1  \\\n",
       "0        ...                                    0   \n",
       "1        ...                                    0   \n",
       "2        ...                                    0   \n",
       "3        ...                                    0   \n",
       "4        ...                                    0   \n",
       "\n",
       "   Stay_In_Current_City_Years_2  Stay_In_Current_City_Years_3  \\\n",
       "0                             0                             0   \n",
       "1                             0                             0   \n",
       "2                             0                             0   \n",
       "3                             0                             0   \n",
       "4                             0                             0   \n",
       "\n",
       "   Stay_In_Current_City_Years_4  Age_Count  Occupation_Count  \\\n",
       "0                             1      20900             24790   \n",
       "1                             1     214680             30421   \n",
       "2                             1     214680             30421   \n",
       "3                             1     214680             30421   \n",
       "4                             1     214680             30421   \n",
       "\n",
       "   Product_Category_1_Count  Product_Category_2_Count  \\\n",
       "0                    112127                    166979   \n",
       "1                    138346                     25874   \n",
       "2                    148583                     54157   \n",
       "3                    112127                    166979   \n",
       "4                    112127                    166979   \n",
       "\n",
       "   Product_Category_3_Count  Product_ID_Count  \n",
       "0                    373282               200  \n",
       "1                     27611               778  \n",
       "2                    373282              1253  \n",
       "3                    373282               820  \n",
       "4                    373282               350  \n",
       "\n",
       "[5 rows x 22 columns]"
      ]
     },
     "execution_count": 60,
     "metadata": {},
     "output_type": "execute_result"
    }
   ],
   "source": [
    "q1 = \"\"\"SELECT * FROM dataset WHERE City_Category='2' \"\"\"\n",
    "city_C = ps.sqldf(q1, locals())\n",
    "city_C.head()"
   ]
  },
  {
   "cell_type": "code",
   "execution_count": 92,
   "metadata": {},
   "outputs": [],
   "source": [
    "from sklearn.model_selection import train_test_split\n",
    "from sklearn.ensemble import RandomForestRegressor\n",
    "from sklearn.metrics import mean_absolute_error"
   ]
  },
  {
   "cell_type": "code",
   "execution_count": 93,
   "metadata": {},
   "outputs": [],
   "source": [
    "def splitData(X,y):\n",
    "    X_train, X_test, y_train, y_test = train_test_split(X, y, test_size = 0.2, random_state = 0)\n",
    "    return X_train, X_test, y_train, y_test"
   ]
  },
  {
   "cell_type": "code",
   "execution_count": 94,
   "metadata": {},
   "outputs": [],
   "source": [
    "def makeData(data):\n",
    "    X= data.drop(['Purchase','Product_ID','User_ID'],axis=1)\n",
    "    y= data.Purchase\n",
    "    \n",
    "    return X,y"
   ]
  },
  {
   "cell_type": "markdown",
   "metadata": {},
   "source": [
    "### Prediction Model For City A"
   ]
  },
  {
   "cell_type": "code",
   "execution_count": 95,
   "metadata": {},
   "outputs": [
    {
     "data": {
      "text/html": [
       "<div>\n",
       "<style>\n",
       "    .dataframe thead tr:only-child th {\n",
       "        text-align: right;\n",
       "    }\n",
       "\n",
       "    .dataframe thead th {\n",
       "        text-align: left;\n",
       "    }\n",
       "\n",
       "    .dataframe tbody tr th {\n",
       "        vertical-align: top;\n",
       "    }\n",
       "</style>\n",
       "<table border=\"1\" class=\"dataframe\">\n",
       "  <thead>\n",
       "    <tr style=\"text-align: right;\">\n",
       "      <th></th>\n",
       "      <th>Gender</th>\n",
       "      <th>Age</th>\n",
       "      <th>Occupation</th>\n",
       "      <th>City_Category</th>\n",
       "      <th>Marital_Status</th>\n",
       "      <th>Product_Category_1</th>\n",
       "      <th>Product_Category_2</th>\n",
       "      <th>Product_Category_3</th>\n",
       "      <th>Stay_In_Current_City_Years_0</th>\n",
       "      <th>Stay_In_Current_City_Years_1</th>\n",
       "      <th>Stay_In_Current_City_Years_2</th>\n",
       "      <th>Stay_In_Current_City_Years_3</th>\n",
       "      <th>Stay_In_Current_City_Years_4</th>\n",
       "      <th>Age_Count</th>\n",
       "      <th>Occupation_Count</th>\n",
       "      <th>Product_Category_1_Count</th>\n",
       "      <th>Product_Category_2_Count</th>\n",
       "      <th>Product_Category_3_Count</th>\n",
       "      <th>Product_ID_Count</th>\n",
       "    </tr>\n",
       "  </thead>\n",
       "  <tbody>\n",
       "    <tr>\n",
       "      <th>133515</th>\n",
       "      <td>1</td>\n",
       "      <td>2</td>\n",
       "      <td>1</td>\n",
       "      <td>0</td>\n",
       "      <td>0.0</td>\n",
       "      <td>5.0</td>\n",
       "      <td>9.84216</td>\n",
       "      <td>12.66984</td>\n",
       "      <td>0</td>\n",
       "      <td>0</td>\n",
       "      <td>0</td>\n",
       "      <td>0</td>\n",
       "      <td>1</td>\n",
       "      <td>214680</td>\n",
       "      <td>45969</td>\n",
       "      <td>148583</td>\n",
       "      <td>166979</td>\n",
       "      <td>373282</td>\n",
       "      <td>388</td>\n",
       "    </tr>\n",
       "    <tr>\n",
       "      <th>93461</th>\n",
       "      <td>1</td>\n",
       "      <td>2</td>\n",
       "      <td>4</td>\n",
       "      <td>0</td>\n",
       "      <td>1.0</td>\n",
       "      <td>5.0</td>\n",
       "      <td>8.00000</td>\n",
       "      <td>12.66984</td>\n",
       "      <td>0</td>\n",
       "      <td>0</td>\n",
       "      <td>0</td>\n",
       "      <td>1</td>\n",
       "      <td>0</td>\n",
       "      <td>214680</td>\n",
       "      <td>70862</td>\n",
       "      <td>148583</td>\n",
       "      <td>63053</td>\n",
       "      <td>373282</td>\n",
       "      <td>260</td>\n",
       "    </tr>\n",
       "    <tr>\n",
       "      <th>132447</th>\n",
       "      <td>1</td>\n",
       "      <td>6</td>\n",
       "      <td>17</td>\n",
       "      <td>0</td>\n",
       "      <td>1.0</td>\n",
       "      <td>8.0</td>\n",
       "      <td>9.84216</td>\n",
       "      <td>12.66984</td>\n",
       "      <td>0</td>\n",
       "      <td>0</td>\n",
       "      <td>0</td>\n",
       "      <td>0</td>\n",
       "      <td>1</td>\n",
       "      <td>20900</td>\n",
       "      <td>39087</td>\n",
       "      <td>112127</td>\n",
       "      <td>166979</td>\n",
       "      <td>373282</td>\n",
       "      <td>36</td>\n",
       "    </tr>\n",
       "    <tr>\n",
       "      <th>44146</th>\n",
       "      <td>1</td>\n",
       "      <td>3</td>\n",
       "      <td>7</td>\n",
       "      <td>0</td>\n",
       "      <td>1.0</td>\n",
       "      <td>1.0</td>\n",
       "      <td>15.00000</td>\n",
       "      <td>16.00000</td>\n",
       "      <td>0</td>\n",
       "      <td>0</td>\n",
       "      <td>0</td>\n",
       "      <td>1</td>\n",
       "      <td>0</td>\n",
       "      <td>107497</td>\n",
       "      <td>57804</td>\n",
       "      <td>138346</td>\n",
       "      <td>37316</td>\n",
       "      <td>32147</td>\n",
       "      <td>1162</td>\n",
       "    </tr>\n",
       "    <tr>\n",
       "      <th>121599</th>\n",
       "      <td>1</td>\n",
       "      <td>2</td>\n",
       "      <td>0</td>\n",
       "      <td>0</td>\n",
       "      <td>0.0</td>\n",
       "      <td>1.0</td>\n",
       "      <td>13.00000</td>\n",
       "      <td>16.00000</td>\n",
       "      <td>0</td>\n",
       "      <td>0</td>\n",
       "      <td>0</td>\n",
       "      <td>1</td>\n",
       "      <td>0</td>\n",
       "      <td>214680</td>\n",
       "      <td>68120</td>\n",
       "      <td>138346</td>\n",
       "      <td>10369</td>\n",
       "      <td>32147</td>\n",
       "      <td>199</td>\n",
       "    </tr>\n",
       "  </tbody>\n",
       "</table>\n",
       "</div>"
      ],
      "text/plain": [
       "        Gender  Age  Occupation  City_Category  Marital_Status  \\\n",
       "133515       1    2           1              0             0.0   \n",
       "93461        1    2           4              0             1.0   \n",
       "132447       1    6          17              0             1.0   \n",
       "44146        1    3           7              0             1.0   \n",
       "121599       1    2           0              0             0.0   \n",
       "\n",
       "        Product_Category_1  Product_Category_2  Product_Category_3  \\\n",
       "133515                 5.0             9.84216            12.66984   \n",
       "93461                  5.0             8.00000            12.66984   \n",
       "132447                 8.0             9.84216            12.66984   \n",
       "44146                  1.0            15.00000            16.00000   \n",
       "121599                 1.0            13.00000            16.00000   \n",
       "\n",
       "        Stay_In_Current_City_Years_0  Stay_In_Current_City_Years_1  \\\n",
       "133515                             0                             0   \n",
       "93461                              0                             0   \n",
       "132447                             0                             0   \n",
       "44146                              0                             0   \n",
       "121599                             0                             0   \n",
       "\n",
       "        Stay_In_Current_City_Years_2  Stay_In_Current_City_Years_3  \\\n",
       "133515                             0                             0   \n",
       "93461                              0                             1   \n",
       "132447                             0                             0   \n",
       "44146                              0                             1   \n",
       "121599                             0                             1   \n",
       "\n",
       "        Stay_In_Current_City_Years_4  Age_Count  Occupation_Count  \\\n",
       "133515                             1     214680             45969   \n",
       "93461                              0     214680             70862   \n",
       "132447                             1      20900             39087   \n",
       "44146                              0     107497             57804   \n",
       "121599                             0     214680             68120   \n",
       "\n",
       "        Product_Category_1_Count  Product_Category_2_Count  \\\n",
       "133515                    148583                    166979   \n",
       "93461                     148583                     63053   \n",
       "132447                    112127                    166979   \n",
       "44146                     138346                     37316   \n",
       "121599                    138346                     10369   \n",
       "\n",
       "        Product_Category_3_Count  Product_ID_Count  \n",
       "133515                    373282               388  \n",
       "93461                     373282               260  \n",
       "132447                    373282                36  \n",
       "44146                      32147              1162  \n",
       "121599                     32147               199  "
      ]
     },
     "execution_count": 95,
     "metadata": {},
     "output_type": "execute_result"
    }
   ],
   "source": [
    "X, y = makeData(city_A)\n",
    "X_train, X_test, y_train, y_test = splitData(X,y)\n",
    "X_train.head()"
   ]
  },
  {
   "cell_type": "code",
   "execution_count": 96,
   "metadata": {},
   "outputs": [
    {
     "data": {
      "text/html": [
       "<div>\n",
       "<style>\n",
       "    .dataframe thead tr:only-child th {\n",
       "        text-align: right;\n",
       "    }\n",
       "\n",
       "    .dataframe thead th {\n",
       "        text-align: left;\n",
       "    }\n",
       "\n",
       "    .dataframe tbody tr th {\n",
       "        vertical-align: top;\n",
       "    }\n",
       "</style>\n",
       "<table border=\"1\" class=\"dataframe\">\n",
       "  <thead>\n",
       "    <tr style=\"text-align: right;\">\n",
       "      <th></th>\n",
       "      <th>Gender</th>\n",
       "      <th>Age</th>\n",
       "      <th>Occupation</th>\n",
       "      <th>City_Category</th>\n",
       "      <th>Marital_Status</th>\n",
       "      <th>Product_Category_1</th>\n",
       "      <th>Product_Category_2</th>\n",
       "      <th>Product_Category_3</th>\n",
       "      <th>Stay_In_Current_City_Years_0</th>\n",
       "      <th>Stay_In_Current_City_Years_1</th>\n",
       "      <th>Stay_In_Current_City_Years_2</th>\n",
       "      <th>Stay_In_Current_City_Years_3</th>\n",
       "      <th>Stay_In_Current_City_Years_4</th>\n",
       "      <th>Age_Count</th>\n",
       "      <th>Occupation_Count</th>\n",
       "      <th>Product_Category_1_Count</th>\n",
       "      <th>Product_Category_2_Count</th>\n",
       "      <th>Product_Category_3_Count</th>\n",
       "      <th>Product_ID_Count</th>\n",
       "    </tr>\n",
       "  </thead>\n",
       "  <tbody>\n",
       "    <tr>\n",
       "      <th>144500</th>\n",
       "      <td>0</td>\n",
       "      <td>2</td>\n",
       "      <td>1</td>\n",
       "      <td>0</td>\n",
       "      <td>0.0</td>\n",
       "      <td>1.0</td>\n",
       "      <td>2.00000</td>\n",
       "      <td>5.00000</td>\n",
       "      <td>0</td>\n",
       "      <td>0</td>\n",
       "      <td>0</td>\n",
       "      <td>1</td>\n",
       "      <td>0</td>\n",
       "      <td>214680</td>\n",
       "      <td>45969</td>\n",
       "      <td>138346</td>\n",
       "      <td>48480</td>\n",
       "      <td>16378</td>\n",
       "      <td>744</td>\n",
       "    </tr>\n",
       "    <tr>\n",
       "      <th>54762</th>\n",
       "      <td>0</td>\n",
       "      <td>2</td>\n",
       "      <td>0</td>\n",
       "      <td>0</td>\n",
       "      <td>1.0</td>\n",
       "      <td>5.0</td>\n",
       "      <td>9.84216</td>\n",
       "      <td>12.66984</td>\n",
       "      <td>0</td>\n",
       "      <td>1</td>\n",
       "      <td>0</td>\n",
       "      <td>0</td>\n",
       "      <td>0</td>\n",
       "      <td>214680</td>\n",
       "      <td>68120</td>\n",
       "      <td>148583</td>\n",
       "      <td>166979</td>\n",
       "      <td>373282</td>\n",
       "      <td>460</td>\n",
       "    </tr>\n",
       "    <tr>\n",
       "      <th>131608</th>\n",
       "      <td>0</td>\n",
       "      <td>1</td>\n",
       "      <td>4</td>\n",
       "      <td>0</td>\n",
       "      <td>0.0</td>\n",
       "      <td>3.0</td>\n",
       "      <td>5.00000</td>\n",
       "      <td>12.66984</td>\n",
       "      <td>0</td>\n",
       "      <td>0</td>\n",
       "      <td>1</td>\n",
       "      <td>0</td>\n",
       "      <td>0</td>\n",
       "      <td>97632</td>\n",
       "      <td>70862</td>\n",
       "      <td>19848</td>\n",
       "      <td>25874</td>\n",
       "      <td>373282</td>\n",
       "      <td>250</td>\n",
       "    </tr>\n",
       "    <tr>\n",
       "      <th>7072</th>\n",
       "      <td>1</td>\n",
       "      <td>2</td>\n",
       "      <td>4</td>\n",
       "      <td>0</td>\n",
       "      <td>1.0</td>\n",
       "      <td>5.0</td>\n",
       "      <td>9.84216</td>\n",
       "      <td>12.66984</td>\n",
       "      <td>0</td>\n",
       "      <td>0</td>\n",
       "      <td>1</td>\n",
       "      <td>0</td>\n",
       "      <td>0</td>\n",
       "      <td>214680</td>\n",
       "      <td>70862</td>\n",
       "      <td>148583</td>\n",
       "      <td>166979</td>\n",
       "      <td>373282</td>\n",
       "      <td>122</td>\n",
       "    </tr>\n",
       "    <tr>\n",
       "      <th>82569</th>\n",
       "      <td>1</td>\n",
       "      <td>1</td>\n",
       "      <td>12</td>\n",
       "      <td>0</td>\n",
       "      <td>1.0</td>\n",
       "      <td>1.0</td>\n",
       "      <td>5.00000</td>\n",
       "      <td>12.00000</td>\n",
       "      <td>0</td>\n",
       "      <td>1</td>\n",
       "      <td>0</td>\n",
       "      <td>0</td>\n",
       "      <td>0</td>\n",
       "      <td>97632</td>\n",
       "      <td>30421</td>\n",
       "      <td>138346</td>\n",
       "      <td>25874</td>\n",
       "      <td>9094</td>\n",
       "      <td>747</td>\n",
       "    </tr>\n",
       "  </tbody>\n",
       "</table>\n",
       "</div>"
      ],
      "text/plain": [
       "        Gender  Age  Occupation  City_Category  Marital_Status  \\\n",
       "144500       0    2           1              0             0.0   \n",
       "54762        0    2           0              0             1.0   \n",
       "131608       0    1           4              0             0.0   \n",
       "7072         1    2           4              0             1.0   \n",
       "82569        1    1          12              0             1.0   \n",
       "\n",
       "        Product_Category_1  Product_Category_2  Product_Category_3  \\\n",
       "144500                 1.0             2.00000             5.00000   \n",
       "54762                  5.0             9.84216            12.66984   \n",
       "131608                 3.0             5.00000            12.66984   \n",
       "7072                   5.0             9.84216            12.66984   \n",
       "82569                  1.0             5.00000            12.00000   \n",
       "\n",
       "        Stay_In_Current_City_Years_0  Stay_In_Current_City_Years_1  \\\n",
       "144500                             0                             0   \n",
       "54762                              0                             1   \n",
       "131608                             0                             0   \n",
       "7072                               0                             0   \n",
       "82569                              0                             1   \n",
       "\n",
       "        Stay_In_Current_City_Years_2  Stay_In_Current_City_Years_3  \\\n",
       "144500                             0                             1   \n",
       "54762                              0                             0   \n",
       "131608                             1                             0   \n",
       "7072                               1                             0   \n",
       "82569                              0                             0   \n",
       "\n",
       "        Stay_In_Current_City_Years_4  Age_Count  Occupation_Count  \\\n",
       "144500                             0     214680             45969   \n",
       "54762                              0     214680             68120   \n",
       "131608                             0      97632             70862   \n",
       "7072                               0     214680             70862   \n",
       "82569                              0      97632             30421   \n",
       "\n",
       "        Product_Category_1_Count  Product_Category_2_Count  \\\n",
       "144500                    138346                     48480   \n",
       "54762                     148583                    166979   \n",
       "131608                     19848                     25874   \n",
       "7072                      148583                    166979   \n",
       "82569                     138346                     25874   \n",
       "\n",
       "        Product_Category_3_Count  Product_ID_Count  \n",
       "144500                     16378               744  \n",
       "54762                     373282               460  \n",
       "131608                    373282               250  \n",
       "7072                      373282               122  \n",
       "82569                       9094               747  "
      ]
     },
     "execution_count": 96,
     "metadata": {},
     "output_type": "execute_result"
    }
   ],
   "source": [
    "X_test.head()"
   ]
  },
  {
   "cell_type": "code",
   "execution_count": 97,
   "metadata": {},
   "outputs": [
    {
     "data": {
      "text/plain": [
       "133515     5375\n",
       "93461      7021\n",
       "132447     5859\n",
       "44146     18956\n",
       "121599    11933\n",
       "Name: Purchase, dtype: int64"
      ]
     },
     "execution_count": 97,
     "metadata": {},
     "output_type": "execute_result"
    }
   ],
   "source": [
    "y_train.head()"
   ]
  },
  {
   "cell_type": "code",
   "execution_count": 98,
   "metadata": {},
   "outputs": [
    {
     "data": {
      "text/plain": [
       "144500     7887\n",
       "54762      7011\n",
       "131608    13701\n",
       "7072       3585\n",
       "82569     19679\n",
       "Name: Purchase, dtype: int64"
      ]
     },
     "execution_count": 98,
     "metadata": {},
     "output_type": "execute_result"
    }
   ],
   "source": [
    "y_test.head()"
   ]
  },
  {
   "cell_type": "code",
   "execution_count": 99,
   "metadata": {},
   "outputs": [],
   "source": [
    "# compare MAE with differing values of max_leaf_nodes\n",
    "def get_mae(max_leaf_nodes, X_train, X_test, y_train, y_test):\n",
    "    model = RandomForestRegressor(max_leaf_nodes=max_leaf_nodes, random_state=0)\n",
    "    model.fit(X_train, y_train)\n",
    "    y_pred = model.predict(X_test)\n",
    "    mae = mean_absolute_error(y_test,y_pred)\n",
    "    return(mae)"
   ]
  },
  {
   "cell_type": "code",
   "execution_count": 100,
   "metadata": {},
   "outputs": [
    {
     "name": "stdout",
     "output_type": "stream",
     "text": [
      "Max leaf nodes: 5  \t\t Mean Absolute Error:  2685\n",
      "Max leaf nodes: 50  \t\t Mean Absolute Error:  2156\n",
      "Max leaf nodes: 100  \t\t Mean Absolute Error:  2125\n",
      "Max leaf nodes: 300  \t\t Mean Absolute Error:  2081\n",
      "Max leaf nodes: 500  \t\t Mean Absolute Error:  2068\n",
      "Max leaf nodes: 700  \t\t Mean Absolute Error:  2062\n",
      "Max leaf nodes: 800  \t\t Mean Absolute Error:  2060\n",
      "Max leaf nodes: 850  \t\t Mean Absolute Error:  2059\n"
     ]
    }
   ],
   "source": [
    "for max_leaf_nodes in [5, 50, 100, 300, 500, 700, 800, 850]:\n",
    "    my_mae = get_mae(max_leaf_nodes, X_train, X_test, y_train, y_test)\n",
    "    print(\"Max leaf nodes: %d  \\t\\t Mean Absolute Error:  %d\" %(max_leaf_nodes, my_mae))"
   ]
  },
  {
   "cell_type": "markdown",
   "metadata": {},
   "source": [
    "Fitting the model with the best number of n_estimators, to avoid underfitting and overfitting.\n"
   ]
  },
  {
   "cell_type": "code",
   "execution_count": 113,
   "metadata": {},
   "outputs": [
    {
     "data": {
      "text/plain": [
       "RandomForestRegressor(bootstrap=True, criterion='mse', max_depth=None,\n",
       "           max_features='auto', max_leaf_nodes=None,\n",
       "           min_impurity_decrease=0.0, min_impurity_split=None,\n",
       "           min_samples_leaf=1, min_samples_split=2,\n",
       "           min_weight_fraction_leaf=0.0, n_estimators=700, n_jobs=None,\n",
       "           oob_score=False, random_state=0, verbose=0, warm_start=True)"
      ]
     },
     "execution_count": 113,
     "metadata": {},
     "output_type": "execute_result"
    }
   ],
   "source": [
    "regressor = RandomForestRegressor(n_estimators=700, random_state=0,warm_start=True)\n",
    "regressor.fit(X_train, y_train)"
   ]
  },
  {
   "cell_type": "code",
   "execution_count": 114,
   "metadata": {},
   "outputs": [],
   "source": [
    "y_pred = regressor.predict(X_test)"
   ]
  },
  {
   "cell_type": "markdown",
   "metadata": {},
   "source": [
    "Lets us see what our prdicted results look like."
   ]
  },
  {
   "cell_type": "code",
   "execution_count": 115,
   "metadata": {},
   "outputs": [
    {
     "data": {
      "text/plain": [
       "array([11499.42154762,  6386.37916667, 11656.13543707, ...,\n",
       "        8133.74785714,  6588.34830952, 12271.14942857])"
      ]
     },
     "execution_count": 115,
     "metadata": {},
     "output_type": "execute_result"
    }
   ],
   "source": [
    "y_pred"
   ]
  },
  {
   "cell_type": "code",
   "execution_count": 116,
   "metadata": {},
   "outputs": [
    {
     "data": {
      "text/plain": [
       "Index(['Gender', 'Age', 'Occupation', 'City_Category', 'Marital_Status',\n",
       "       'Product_Category_1', 'Product_Category_2', 'Product_Category_3',\n",
       "       'Stay_In_Current_City_Years_0', 'Stay_In_Current_City_Years_1',\n",
       "       'Stay_In_Current_City_Years_2', 'Stay_In_Current_City_Years_3',\n",
       "       'Stay_In_Current_City_Years_4', 'Age_Count', 'Occupation_Count',\n",
       "       'Product_Category_1_Count', 'Product_Category_2_Count',\n",
       "       'Product_Category_3_Count', 'Product_ID_Count'],\n",
       "      dtype='object')"
      ]
     },
     "execution_count": 116,
     "metadata": {},
     "output_type": "execute_result"
    }
   ],
   "source": [
    "predictors = X_train.columns\n",
    "predictors"
   ]
  },
  {
   "cell_type": "code",
   "execution_count": 118,
   "metadata": {},
   "outputs": [
    {
     "data": {
      "text/plain": [
       "array([0.01484976, 0.02259564, 0.04349905, 0.        , 0.01859336,\n",
       "       0.4038719 , 0.01288783, 0.01007023, 0.0103562 , 0.01385111,\n",
       "       0.01144737, 0.01155781, 0.01022988, 0.02077144, 0.04339676,\n",
       "       0.20842774, 0.01292827, 0.00934212, 0.12132351])"
      ]
     },
     "execution_count": 118,
     "metadata": {},
     "output_type": "execute_result"
    }
   ],
   "source": [
    "regressor.feature_importances_"
   ]
  },
  {
   "cell_type": "code",
   "execution_count": 124,
   "metadata": {},
   "outputs": [
    {
     "data": {
      "text/plain": [
       "<matplotlib.axes._subplots.AxesSubplot at 0x7fb31ae55160>"
      ]
     },
     "execution_count": 124,
     "metadata": {},
     "output_type": "execute_result"
    },
    {
     "data": {
      "image/png": "[encoded data removed]",
      "text/plain": [
       "<Figure size 864x288 with 1 Axes>"
      ]
     },
     "metadata": {},
     "output_type": "display_data"
    }
   ],
   "source": [
    "coef1 = pd.Series(regressor.feature_importances_, predictors).sort_values()\n",
    "coef1.plot(kind='bar', title='Feature Importance',figsize=(12, 4))"
   ]
  },
  {
   "cell_type": "markdown",
   "metadata": {},
   "source": [
    "### Prediction Model For City B"
   ]
  },
  {
   "cell_type": "code",
   "execution_count": 125,
   "metadata": {},
   "outputs": [
    {
     "data": {
      "text/html": [
       "<div>\n",
       "<style>\n",
       "    .dataframe thead tr:only-child th {\n",
       "        text-align: right;\n",
       "    }\n",
       "\n",
       "    .dataframe thead th {\n",
       "        text-align: left;\n",
       "    }\n",
       "\n",
       "    .dataframe tbody tr th {\n",
       "        vertical-align: top;\n",
       "    }\n",
       "</style>\n",
       "<table border=\"1\" class=\"dataframe\">\n",
       "  <thead>\n",
       "    <tr style=\"text-align: right;\">\n",
       "      <th></th>\n",
       "      <th>Gender</th>\n",
       "      <th>Age</th>\n",
       "      <th>Occupation</th>\n",
       "      <th>City_Category</th>\n",
       "      <th>Marital_Status</th>\n",
       "      <th>Product_Category_1</th>\n",
       "      <th>Product_Category_2</th>\n",
       "      <th>Product_Category_3</th>\n",
       "      <th>Stay_In_Current_City_Years_0</th>\n",
       "      <th>Stay_In_Current_City_Years_1</th>\n",
       "      <th>Stay_In_Current_City_Years_2</th>\n",
       "      <th>Stay_In_Current_City_Years_3</th>\n",
       "      <th>Stay_In_Current_City_Years_4</th>\n",
       "      <th>Age_Count</th>\n",
       "      <th>Occupation_Count</th>\n",
       "      <th>Product_Category_1_Count</th>\n",
       "      <th>Product_Category_2_Count</th>\n",
       "      <th>Product_Category_3_Count</th>\n",
       "      <th>Product_ID_Count</th>\n",
       "    </tr>\n",
       "  </thead>\n",
       "  <tbody>\n",
       "    <tr>\n",
       "      <th>144817</th>\n",
       "      <td>1</td>\n",
       "      <td>2</td>\n",
       "      <td>5</td>\n",
       "      <td>1</td>\n",
       "      <td>0.0</td>\n",
       "      <td>1.0</td>\n",
       "      <td>11.00000</td>\n",
       "      <td>12.66984</td>\n",
       "      <td>0</td>\n",
       "      <td>0</td>\n",
       "      <td>1</td>\n",
       "      <td>0</td>\n",
       "      <td>0</td>\n",
       "      <td>214680</td>\n",
       "      <td>11985</td>\n",
       "      <td>138346</td>\n",
       "      <td>13944</td>\n",
       "      <td>373282</td>\n",
       "      <td>926</td>\n",
       "    </tr>\n",
       "    <tr>\n",
       "      <th>149637</th>\n",
       "      <td>1</td>\n",
       "      <td>2</td>\n",
       "      <td>17</td>\n",
       "      <td>1</td>\n",
       "      <td>0.0</td>\n",
       "      <td>5.0</td>\n",
       "      <td>8.00000</td>\n",
       "      <td>12.66984</td>\n",
       "      <td>0</td>\n",
       "      <td>1</td>\n",
       "      <td>0</td>\n",
       "      <td>0</td>\n",
       "      <td>0</td>\n",
       "      <td>214680</td>\n",
       "      <td>39087</td>\n",
       "      <td>148583</td>\n",
       "      <td>63053</td>\n",
       "      <td>373282</td>\n",
       "      <td>414</td>\n",
       "    </tr>\n",
       "    <tr>\n",
       "      <th>49625</th>\n",
       "      <td>1</td>\n",
       "      <td>2</td>\n",
       "      <td>7</td>\n",
       "      <td>1</td>\n",
       "      <td>0.0</td>\n",
       "      <td>8.0</td>\n",
       "      <td>9.84216</td>\n",
       "      <td>12.66984</td>\n",
       "      <td>0</td>\n",
       "      <td>0</td>\n",
       "      <td>0</td>\n",
       "      <td>1</td>\n",
       "      <td>0</td>\n",
       "      <td>214680</td>\n",
       "      <td>57804</td>\n",
       "      <td>112127</td>\n",
       "      <td>166979</td>\n",
       "      <td>373282</td>\n",
       "      <td>782</td>\n",
       "    </tr>\n",
       "    <tr>\n",
       "      <th>97144</th>\n",
       "      <td>1</td>\n",
       "      <td>2</td>\n",
       "      <td>12</td>\n",
       "      <td>1</td>\n",
       "      <td>0.0</td>\n",
       "      <td>8.0</td>\n",
       "      <td>9.84216</td>\n",
       "      <td>12.66984</td>\n",
       "      <td>0</td>\n",
       "      <td>1</td>\n",
       "      <td>0</td>\n",
       "      <td>0</td>\n",
       "      <td>0</td>\n",
       "      <td>214680</td>\n",
       "      <td>30421</td>\n",
       "      <td>112127</td>\n",
       "      <td>166979</td>\n",
       "      <td>373282</td>\n",
       "      <td>207</td>\n",
       "    </tr>\n",
       "    <tr>\n",
       "      <th>146117</th>\n",
       "      <td>0</td>\n",
       "      <td>1</td>\n",
       "      <td>4</td>\n",
       "      <td>1</td>\n",
       "      <td>1.0</td>\n",
       "      <td>8.0</td>\n",
       "      <td>9.84216</td>\n",
       "      <td>12.66984</td>\n",
       "      <td>0</td>\n",
       "      <td>1</td>\n",
       "      <td>0</td>\n",
       "      <td>0</td>\n",
       "      <td>0</td>\n",
       "      <td>97632</td>\n",
       "      <td>70862</td>\n",
       "      <td>112127</td>\n",
       "      <td>166979</td>\n",
       "      <td>373282</td>\n",
       "      <td>87</td>\n",
       "    </tr>\n",
       "  </tbody>\n",
       "</table>\n",
       "</div>"
      ],
      "text/plain": [
       "        Gender  Age  Occupation  City_Category  Marital_Status  \\\n",
       "144817       1    2           5              1             0.0   \n",
       "149637       1    2          17              1             0.0   \n",
       "49625        1    2           7              1             0.0   \n",
       "97144        1    2          12              1             0.0   \n",
       "146117       0    1           4              1             1.0   \n",
       "\n",
       "        Product_Category_1  Product_Category_2  Product_Category_3  \\\n",
       "144817                 1.0            11.00000            12.66984   \n",
       "149637                 5.0             8.00000            12.66984   \n",
       "49625                  8.0             9.84216            12.66984   \n",
       "97144                  8.0             9.84216            12.66984   \n",
       "146117                 8.0             9.84216            12.66984   \n",
       "\n",
       "        Stay_In_Current_City_Years_0  Stay_In_Current_City_Years_1  \\\n",
       "144817                             0                             0   \n",
       "149637                             0                             1   \n",
       "49625                              0                             0   \n",
       "97144                              0                             1   \n",
       "146117                             0                             1   \n",
       "\n",
       "        Stay_In_Current_City_Years_2  Stay_In_Current_City_Years_3  \\\n",
       "144817                             1                             0   \n",
       "149637                             0                             0   \n",
       "49625                              0                             1   \n",
       "97144                              0                             0   \n",
       "146117                             0                             0   \n",
       "\n",
       "        Stay_In_Current_City_Years_4  Age_Count  Occupation_Count  \\\n",
       "144817                             0     214680             11985   \n",
       "149637                             0     214680             39087   \n",
       "49625                              0     214680             57804   \n",
       "97144                              0     214680             30421   \n",
       "146117                             0      97632             70862   \n",
       "\n",
       "        Product_Category_1_Count  Product_Category_2_Count  \\\n",
       "144817                    138346                     13944   \n",
       "149637                    148583                     63053   \n",
       "49625                     112127                    166979   \n",
       "97144                     112127                    166979   \n",
       "146117                    112127                    166979   \n",
       "\n",
       "        Product_Category_3_Count  Product_ID_Count  \n",
       "144817                    373282               926  \n",
       "149637                    373282               414  \n",
       "49625                     373282               782  \n",
       "97144                     373282               207  \n",
       "146117                    373282                87  "
      ]
     },
     "execution_count": 125,
     "metadata": {},
     "output_type": "execute_result"
    }
   ],
   "source": [
    "X, y = makeData(city_B)\n",
    "X_train, X_test, y_train, y_test = splitData(X,y)\n",
    "X_train.head()"
   ]
  },
  {
   "cell_type": "code",
   "execution_count": 126,
   "metadata": {},
   "outputs": [
    {
     "name": "stdout",
     "output_type": "stream",
     "text": [
      "Max leaf nodes: 5  \t\t Mean Absolute Error:  2776\n",
      "Max leaf nodes: 50  \t\t Mean Absolute Error:  2104\n",
      "Max leaf nodes: 100  \t\t Mean Absolute Error:  2075\n",
      "Max leaf nodes: 300  \t\t Mean Absolute Error:  2035\n",
      "Max leaf nodes: 500  \t\t Mean Absolute Error:  2023\n",
      "Max leaf nodes: 700  \t\t Mean Absolute Error:  2019\n",
      "Max leaf nodes: 800  \t\t Mean Absolute Error:  2017\n",
      "Max leaf nodes: 850  \t\t Mean Absolute Error:  2016\n"
     ]
    }
   ],
   "source": [
    "for max_leaf_nodes in [5, 50, 100, 300, 500, 700, 800, 850]:\n",
    "    my_mae = get_mae(max_leaf_nodes, X_train, X_test, y_train, y_test)\n",
    "    print(\"Max leaf nodes: %d  \\t\\t Mean Absolute Error:  %d\" %(max_leaf_nodes, my_mae))"
   ]
  },
  {
   "cell_type": "code",
   "execution_count": 127,
   "metadata": {},
   "outputs": [
    {
     "data": {
      "text/plain": [
       "RandomForestRegressor(bootstrap=True, criterion='mse', max_depth=None,\n",
       "           max_features='auto', max_leaf_nodes=None,\n",
       "           min_impurity_decrease=0.0, min_impurity_split=None,\n",
       "           min_samples_leaf=1, min_samples_split=2,\n",
       "           min_weight_fraction_leaf=0.0, n_estimators=700, n_jobs=None,\n",
       "           oob_score=False, random_state=0, verbose=0, warm_start=True)"
      ]
     },
     "execution_count": 127,
     "metadata": {},
     "output_type": "execute_result"
    }
   ],
   "source": [
    "regressor = RandomForestRegressor(n_estimators=700, random_state=0,warm_start=True)\n",
    "regressor.fit(X_train, y_train)"
   ]
  },
  {
   "cell_type": "code",
   "execution_count": 128,
   "metadata": {},
   "outputs": [],
   "source": [
    "y_pred = regressor.predict(X_test)"
   ]
  },
  {
   "cell_type": "code",
   "execution_count": 129,
   "metadata": {},
   "outputs": [
    {
     "data": {
      "text/plain": [
       "array([ 1463.33802721, 14271.93047619,  5365.49780952, ...,\n",
       "       13279.07154762,  5961.94173129,  7285.61833333])"
      ]
     },
     "execution_count": 129,
     "metadata": {},
     "output_type": "execute_result"
    }
   ],
   "source": [
    "y_pred"
   ]
  },
  {
   "cell_type": "code",
   "execution_count": 131,
   "metadata": {},
   "outputs": [
    {
     "data": {
      "text/plain": [
       "array([0.01462502, 0.02241332, 0.04294584, 0.        , 0.0181897 ,\n",
       "       0.43464879, 0.01075672, 0.00910962, 0.00920511, 0.01280351,\n",
       "       0.01120365, 0.01093865, 0.01014157, 0.02102713, 0.04327432,\n",
       "       0.20238854, 0.01020174, 0.007657  , 0.10846977])"
      ]
     },
     "execution_count": 131,
     "metadata": {},
     "output_type": "execute_result"
    }
   ],
   "source": [
    "regressor.feature_importances_"
   ]
  },
  {
   "cell_type": "code",
   "execution_count": 130,
   "metadata": {},
   "outputs": [
    {
     "data": {
      "text/plain": [
       "<matplotlib.axes._subplots.AxesSubplot at 0x7fb32615c6d8>"
      ]
     },
     "execution_count": 130,
     "metadata": {},
     "output_type": "execute_result"
    },
    {
     "data": {
      "image/png": "[encoded data removed]",
      "text/plain": [
       "<Figure size 864x288 with 1 Axes>"
      ]
     },
     "metadata": {},
     "output_type": "display_data"
    }
   ],
   "source": [
    "coef1 = pd.Series(regressor.feature_importances_, predictors).sort_values()\n",
    "coef1.plot(kind='bar', title='Feature Importance',figsize=(12, 4))"
   ]
  },
  {
   "cell_type": "markdown",
   "metadata": {},
   "source": [
    "### Prediction Model For City B"
   ]
  },
  {
   "cell_type": "code",
   "execution_count": 132,
   "metadata": {},
   "outputs": [
    {
     "data": {
      "text/html": [
       "<div>\n",
       "<style>\n",
       "    .dataframe thead tr:only-child th {\n",
       "        text-align: right;\n",
       "    }\n",
       "\n",
       "    .dataframe thead th {\n",
       "        text-align: left;\n",
       "    }\n",
       "\n",
       "    .dataframe tbody tr th {\n",
       "        vertical-align: top;\n",
       "    }\n",
       "</style>\n",
       "<table border=\"1\" class=\"dataframe\">\n",
       "  <thead>\n",
       "    <tr style=\"text-align: right;\">\n",
       "      <th></th>\n",
       "      <th>Gender</th>\n",
       "      <th>Age</th>\n",
       "      <th>Occupation</th>\n",
       "      <th>City_Category</th>\n",
       "      <th>Marital_Status</th>\n",
       "      <th>Product_Category_1</th>\n",
       "      <th>Product_Category_2</th>\n",
       "      <th>Product_Category_3</th>\n",
       "      <th>Stay_In_Current_City_Years_0</th>\n",
       "      <th>Stay_In_Current_City_Years_1</th>\n",
       "      <th>Stay_In_Current_City_Years_2</th>\n",
       "      <th>Stay_In_Current_City_Years_3</th>\n",
       "      <th>Stay_In_Current_City_Years_4</th>\n",
       "      <th>Age_Count</th>\n",
       "      <th>Occupation_Count</th>\n",
       "      <th>Product_Category_1_Count</th>\n",
       "      <th>Product_Category_2_Count</th>\n",
       "      <th>Product_Category_3_Count</th>\n",
       "      <th>Product_ID_Count</th>\n",
       "    </tr>\n",
       "  </thead>\n",
       "  <tbody>\n",
       "    <tr>\n",
       "      <th>16340</th>\n",
       "      <td>0</td>\n",
       "      <td>1</td>\n",
       "      <td>3</td>\n",
       "      <td>2</td>\n",
       "      <td>0.0</td>\n",
       "      <td>11.0</td>\n",
       "      <td>16.00000</td>\n",
       "      <td>12.66984</td>\n",
       "      <td>1</td>\n",
       "      <td>0</td>\n",
       "      <td>0</td>\n",
       "      <td>0</td>\n",
       "      <td>0</td>\n",
       "      <td>97632</td>\n",
       "      <td>17366</td>\n",
       "      <td>23960</td>\n",
       "      <td>42600</td>\n",
       "      <td>373282</td>\n",
       "      <td>389</td>\n",
       "    </tr>\n",
       "    <tr>\n",
       "      <th>2447</th>\n",
       "      <td>1</td>\n",
       "      <td>2</td>\n",
       "      <td>5</td>\n",
       "      <td>2</td>\n",
       "      <td>0.0</td>\n",
       "      <td>5.0</td>\n",
       "      <td>14.00000</td>\n",
       "      <td>12.66984</td>\n",
       "      <td>0</td>\n",
       "      <td>1</td>\n",
       "      <td>0</td>\n",
       "      <td>0</td>\n",
       "      <td>0</td>\n",
       "      <td>214680</td>\n",
       "      <td>11985</td>\n",
       "      <td>148583</td>\n",
       "      <td>54157</td>\n",
       "      <td>373282</td>\n",
       "      <td>319</td>\n",
       "    </tr>\n",
       "    <tr>\n",
       "      <th>120715</th>\n",
       "      <td>0</td>\n",
       "      <td>2</td>\n",
       "      <td>1</td>\n",
       "      <td>2</td>\n",
       "      <td>0.0</td>\n",
       "      <td>1.0</td>\n",
       "      <td>8.00000</td>\n",
       "      <td>17.00000</td>\n",
       "      <td>0</td>\n",
       "      <td>0</td>\n",
       "      <td>0</td>\n",
       "      <td>1</td>\n",
       "      <td>0</td>\n",
       "      <td>214680</td>\n",
       "      <td>45969</td>\n",
       "      <td>138346</td>\n",
       "      <td>63053</td>\n",
       "      <td>16449</td>\n",
       "      <td>303</td>\n",
       "    </tr>\n",
       "    <tr>\n",
       "      <th>155107</th>\n",
       "      <td>1</td>\n",
       "      <td>2</td>\n",
       "      <td>7</td>\n",
       "      <td>2</td>\n",
       "      <td>0.0</td>\n",
       "      <td>5.0</td>\n",
       "      <td>14.00000</td>\n",
       "      <td>12.66984</td>\n",
       "      <td>0</td>\n",
       "      <td>0</td>\n",
       "      <td>0</td>\n",
       "      <td>0</td>\n",
       "      <td>1</td>\n",
       "      <td>214680</td>\n",
       "      <td>57804</td>\n",
       "      <td>148583</td>\n",
       "      <td>54157</td>\n",
       "      <td>373282</td>\n",
       "      <td>670</td>\n",
       "    </tr>\n",
       "    <tr>\n",
       "      <th>142292</th>\n",
       "      <td>1</td>\n",
       "      <td>2</td>\n",
       "      <td>17</td>\n",
       "      <td>2</td>\n",
       "      <td>1.0</td>\n",
       "      <td>11.0</td>\n",
       "      <td>9.84216</td>\n",
       "      <td>12.66984</td>\n",
       "      <td>0</td>\n",
       "      <td>1</td>\n",
       "      <td>0</td>\n",
       "      <td>0</td>\n",
       "      <td>0</td>\n",
       "      <td>214680</td>\n",
       "      <td>39087</td>\n",
       "      <td>23960</td>\n",
       "      <td>166979</td>\n",
       "      <td>373282</td>\n",
       "      <td>178</td>\n",
       "    </tr>\n",
       "  </tbody>\n",
       "</table>\n",
       "</div>"
      ],
      "text/plain": [
       "        Gender  Age  Occupation  City_Category  Marital_Status  \\\n",
       "16340        0    1           3              2             0.0   \n",
       "2447         1    2           5              2             0.0   \n",
       "120715       0    2           1              2             0.0   \n",
       "155107       1    2           7              2             0.0   \n",
       "142292       1    2          17              2             1.0   \n",
       "\n",
       "        Product_Category_1  Product_Category_2  Product_Category_3  \\\n",
       "16340                 11.0            16.00000            12.66984   \n",
       "2447                   5.0            14.00000            12.66984   \n",
       "120715                 1.0             8.00000            17.00000   \n",
       "155107                 5.0            14.00000            12.66984   \n",
       "142292                11.0             9.84216            12.66984   \n",
       "\n",
       "        Stay_In_Current_City_Years_0  Stay_In_Current_City_Years_1  \\\n",
       "16340                              1                             0   \n",
       "2447                               0                             1   \n",
       "120715                             0                             0   \n",
       "155107                             0                             0   \n",
       "142292                             0                             1   \n",
       "\n",
       "        Stay_In_Current_City_Years_2  Stay_In_Current_City_Years_3  \\\n",
       "16340                              0                             0   \n",
       "2447                               0                             0   \n",
       "120715                             0                             1   \n",
       "155107                             0                             0   \n",
       "142292                             0                             0   \n",
       "\n",
       "        Stay_In_Current_City_Years_4  Age_Count  Occupation_Count  \\\n",
       "16340                              0      97632             17366   \n",
       "2447                               0     214680             11985   \n",
       "120715                             0     214680             45969   \n",
       "155107                             1     214680             57804   \n",
       "142292                             0     214680             39087   \n",
       "\n",
       "        Product_Category_1_Count  Product_Category_2_Count  \\\n",
       "16340                      23960                     42600   \n",
       "2447                      148583                     54157   \n",
       "120715                    138346                     63053   \n",
       "155107                    148583                     54157   \n",
       "142292                     23960                    166979   \n",
       "\n",
       "        Product_Category_3_Count  Product_ID_Count  \n",
       "16340                     373282               389  \n",
       "2447                      373282               319  \n",
       "120715                     16449               303  \n",
       "155107                    373282               670  \n",
       "142292                    373282               178  "
      ]
     },
     "execution_count": 132,
     "metadata": {},
     "output_type": "execute_result"
    }
   ],
   "source": [
    "X, y = makeData(city_C)\n",
    "X_train, X_test, y_train, y_test = splitData(X,y)\n",
    "X_train.head()"
   ]
  },
  {
   "cell_type": "code",
   "execution_count": 133,
   "metadata": {},
   "outputs": [
    {
     "name": "stdout",
     "output_type": "stream",
     "text": [
      "Max leaf nodes: 5  \t\t Mean Absolute Error:  2787\n",
      "Max leaf nodes: 50  \t\t Mean Absolute Error:  2110\n",
      "Max leaf nodes: 100  \t\t Mean Absolute Error:  2086\n",
      "Max leaf nodes: 300  \t\t Mean Absolute Error:  2063\n",
      "Max leaf nodes: 500  \t\t Mean Absolute Error:  2055\n",
      "Max leaf nodes: 700  \t\t Mean Absolute Error:  2052\n",
      "Max leaf nodes: 800  \t\t Mean Absolute Error:  2051\n",
      "Max leaf nodes: 850  \t\t Mean Absolute Error:  2051\n"
     ]
    }
   ],
   "source": [
    "for max_leaf_nodes in [5, 50, 100, 300, 500, 700, 800, 850]:\n",
    "    my_mae = get_mae(max_leaf_nodes, X_train, X_test, y_train, y_test)\n",
    "    print(\"Max leaf nodes: %d  \\t\\t Mean Absolute Error:  %d\" %(max_leaf_nodes, my_mae))"
   ]
  },
  {
   "cell_type": "code",
   "execution_count": 134,
   "metadata": {},
   "outputs": [
    {
     "data": {
      "text/plain": [
       "RandomForestRegressor(bootstrap=True, criterion='mse', max_depth=None,\n",
       "           max_features='auto', max_leaf_nodes=None,\n",
       "           min_impurity_decrease=0.0, min_impurity_split=None,\n",
       "           min_samples_leaf=1, min_samples_split=2,\n",
       "           min_weight_fraction_leaf=0.0, n_estimators=700, n_jobs=None,\n",
       "           oob_score=False, random_state=0, verbose=0, warm_start=True)"
      ]
     },
     "execution_count": 134,
     "metadata": {},
     "output_type": "execute_result"
    }
   ],
   "source": [
    "regressor = RandomForestRegressor(n_estimators=700, random_state=0,warm_start=True)\n",
    "regressor.fit(X_train, y_train)"
   ]
  },
  {
   "cell_type": "code",
   "execution_count": 135,
   "metadata": {},
   "outputs": [],
   "source": [
    "y_pred = regressor.predict(X_test)"
   ]
  },
  {
   "cell_type": "code",
   "execution_count": 136,
   "metadata": {},
   "outputs": [
    {
     "data": {
      "text/plain": [
       "array([15856.56850057,  6506.6562517 , 16744.56220408, ...,\n",
       "       12836.14019048, 18108.09175   ,  5752.62133673])"
      ]
     },
     "execution_count": 136,
     "metadata": {},
     "output_type": "execute_result"
    }
   ],
   "source": [
    "y_pred"
   ]
  },
  {
   "cell_type": "code",
   "execution_count": 137,
   "metadata": {},
   "outputs": [
    {
     "data": {
      "text/plain": [
       "array([0.01320435, 0.02321424, 0.04130505, 0.        , 0.01738276,\n",
       "       0.46108345, 0.0095779 , 0.00872337, 0.00927233, 0.01216168,\n",
       "       0.01066245, 0.01039297, 0.00978685, 0.02195333, 0.04054317,\n",
       "       0.19934863, 0.01055217, 0.00657239, 0.09426291])"
      ]
     },
     "execution_count": 137,
     "metadata": {},
     "output_type": "execute_result"
    }
   ],
   "source": [
    "regressor.feature_importances_"
   ]
  },
  {
   "cell_type": "code",
   "execution_count": 140,
   "metadata": {},
   "outputs": [
    {
     "data": {
      "text/plain": [
       "<matplotlib.axes._subplots.AxesSubplot at 0x7fb3257659b0>"
      ]
     },
     "execution_count": 140,
     "metadata": {},
     "output_type": "execute_result"
    },
    {
     "data": {
      "image/png": "[encoded data removed]",
      "text/plain": [
       "<Figure size 864x288 with 1 Axes>"
      ]
     },
     "metadata": {},
     "output_type": "display_data"
    }
   ],
   "source": [
    "coef1 = pd.Series(regressor.feature_importances_, predictors).sort_values()\n",
    "coef1.plot(kind='bar', title='Feature Importance',figsize=(12, 4))"
   ]
  },
  {
   "cell_type": "markdown",
   "metadata": {},
   "source": [
    "### Performance Mesure"
   ]
  },
  {
   "cell_type": "code",
   "execution_count": 141,
   "metadata": {},
   "outputs": [
    {
     "name": "stdout",
     "output_type": "stream",
     "text": [
      "Accuracy Score of Random Forests on train set 93.14732657231282\n"
     ]
    }
   ],
   "source": [
    "print(\"Accuracy Score of Random Forests on train set\",regressor.score(X_train,y_train)*100)"
   ]
  },
  {
   "cell_type": "code",
   "execution_count": 143,
   "metadata": {},
   "outputs": [
    {
     "name": "stdout",
     "output_type": "stream",
     "text": [
      "Accuracy Score of Random Forests on test set 67.96261908563856\n"
     ]
    }
   ],
   "source": [
    "print(\"Accuracy Score of Random Forests on test set\",regressor.score(X_test,y_test)*100)"
   ]
  },
  {
   "cell_type": "code",
   "execution_count": 153,
   "metadata": {},
   "outputs": [
    {
     "name": "stdout",
     "output_type": "stream",
     "text": [
      "Mean Absolute Error : 2140.128588281578\n"
     ]
    }
   ],
   "source": [
    "print(\"Mean Absolute Error : \" + str(mean_absolute_error(y_test,y_pred)))"
   ]
  },
  {
   "cell_type": "code",
   "execution_count": 149,
   "metadata": {},
   "outputs": [],
   "source": [
    "from sklearn.metrics import mean_squared_error"
   ]
  },
  {
   "cell_type": "code",
   "execution_count": 152,
   "metadata": {},
   "outputs": [
    {
     "name": "stdout",
     "output_type": "stream",
     "text": [
      "RMSE : 2902\n"
     ]
    }
   ],
   "source": [
    "print(\"RMSE : %.4g\" % np.sqrt(mean_squared_error(y_test,y_pred)))"
   ]
  },
  {
   "cell_type": "code",
   "execution_count": null,
   "metadata": {},
   "outputs": [],
   "source": []
  }
 ],
 "metadata": {
  "kernelspec": {
   "display_name": "Python 3",
   "language": "python",
   "name": "python3"
  },
  "language_info": {
   "codemirror_mode": {
    "name": "ipython",
    "version": 3
   },
   "file_extension": ".py",
   "mimetype": "text/x-python",
   "name": "python",
   "nbconvert_exporter": "python",
   "pygments_lexer": "ipython3",
   "version": "3.6.4"
  }
 },
 "nbformat": 4,
 "nbformat_minor": 2
}
